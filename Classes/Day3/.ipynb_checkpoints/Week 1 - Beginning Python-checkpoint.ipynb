{
 "cells": [
  {
   "cell_type": "markdown",
   "metadata": {},
   "source": [
    "# <center> Week 1 - Beginning Python and the Jupyter Notebook</center>"
   ]
  },
  {
   "cell_type": "markdown",
   "metadata": {},
   "source": [
    "This is the Jupyter notebook (formerly known as the IPython notebook).\n",
    "\n",
    "A notebook is just a beautiful interface on top of the Python programming language.\n",
    "\n",
    "You can add text or code here. Let's begin by working on some text."
   ]
  },
  {
   "cell_type": "markdown",
   "metadata": {},
   "source": [
    "---"
   ]
  },
  {
   "cell_type": "markdown",
   "metadata": {
    "run_control": {
     "frozen": false,
     "read_only": false
    }
   },
   "source": [
    "**Double click and edit me!**\n",
    "\n",
    "Try editing this cell with whatever text you like."
   ]
  },
  {
   "cell_type": "markdown",
   "metadata": {},
   "source": [
    "---"
   ]
  },
  {
   "cell_type": "markdown",
   "metadata": {},
   "source": [
    "### Double click me to see source!\n",
    "\n",
    "Actually, the text in the text cells is not interpret as just text, but as `Markdown`.\n",
    "\n",
    "`Markdown` has some pretty neat shortcuts for everyday things like **bold**, *italic*, `code`, \n",
    "\n",
    "+ bullet lists,\n",
    "\n",
    "> quotes,\n",
    "\n",
    "and much more. I make lecture slides using `Markdown`. \n",
    "\n",
    "\n",
    "You can learn more about Markdown [here](https://github.com/adam-p/markdown-here/wiki/Markdown-Cheatsheet), but you are not required to learn about Markdown for this course! I just thought it would be cool."
   ]
  },
  {
   "cell_type": "markdown",
   "metadata": {},
   "source": [
    "---"
   ]
  },
  {
   "cell_type": "markdown",
   "metadata": {},
   "source": [
    "# Shortcuts\n",
    "\n",
    "Here are some shortcuts to make your life easier. Try 'em all now.\n",
    "\n",
    "+ Esc+H: Help window with all the shortcuts\n",
    "\n",
    "+ Esc+A: New cell Above\n",
    "\n",
    "+ Esc+B: New cell Below\n",
    "\n",
    "+ Esc+D+D: Delete cell\n",
    "\n",
    "+ Esc+Z: Undo delete cell (only works once!)\n"
   ]
  },
  {
   "cell_type": "code",
   "execution_count": null,
   "metadata": {
    "collapsed": true
   },
   "outputs": [],
   "source": []
  },
  {
   "cell_type": "markdown",
   "metadata": {},
   "source": [
    "---"
   ]
  },
  {
   "cell_type": "markdown",
   "metadata": {},
   "source": [
    "# Your first program"
   ]
  },
  {
   "cell_type": "markdown",
   "metadata": {},
   "source": [
    "Time to do some programming. Click to the next cell and press `Shift + D`."
   ]
  },
  {
   "cell_type": "code",
   "execution_count": null,
   "metadata": {
    "collapsed": false
   },
   "outputs": [],
   "source": [
    "print(\"Look, mom! Today we learned Python in class!\")"
   ]
  },
  {
   "cell_type": "markdown",
   "metadata": {},
   "source": [
    "The text that appears below the cell is the output of the Python code. "
   ]
  },
  {
   "cell_type": "markdown",
   "metadata": {},
   "source": [
    "---"
   ]
  },
  {
   "cell_type": "markdown",
   "metadata": {},
   "source": [
    "# Basics"
   ]
  },
  {
   "cell_type": "markdown",
   "metadata": {},
   "source": [
    "Let's start by using Python as a hugely glorified calculator. Guess what the next snippet does."
   ]
  },
  {
   "cell_type": "code",
   "execution_count": null,
   "metadata": {
    "collapsed": false
   },
   "outputs": [],
   "source": [
    "# By the way, this is a comment. Python ignores everything to the right of a hashtag symbol.\n",
    "a = 1\n",
    "b = 1\n",
    "c = a + b\n",
    "print(c)"
   ]
  },
  {
   "cell_type": "markdown",
   "metadata": {},
   "source": [
    "Neat. Try it yourself in the next cell. Using + - * / for the four basic operations, compute anything you'd like. Also try tacking a comment somewhere."
   ]
  },
  {
   "cell_type": "code",
   "execution_count": null,
   "metadata": {
    "collapsed": true
   },
   "outputs": [],
   "source": []
  },
  {
   "cell_type": "markdown",
   "metadata": {},
   "source": [
    "Now give Python a challenge and compute $2^{5000}$. We use double asterisks to mean exponentiation."
   ]
  },
  {
   "cell_type": "code",
   "execution_count": null,
   "metadata": {
    "collapsed": false
   },
   "outputs": [],
   "source": []
  },
  {
   "cell_type": "markdown",
   "metadata": {},
   "source": [
    "# Functions"
   ]
  },
  {
   "cell_type": "markdown",
   "metadata": {},
   "source": [
    "Functions allow you to perform the same operation many times without copying-and-pasting everything, and they also make your code tidy and readable. When your code gets long and repetitive, try breaking it into small functions."
   ]
  },
  {
   "cell_type": "markdown",
   "metadata": {},
   "source": [
    "Here's a function that takes a number `x` and multiplies it by 2."
   ]
  },
  {
   "cell_type": "code",
   "execution_count": null,
   "metadata": {
    "collapsed": true
   },
   "outputs": [],
   "source": [
    "def double(x):\n",
    "    return 2*x"
   ]
  },
  {
   "cell_type": "markdown",
   "metadata": {},
   "source": [
    "Let's parse this:\n",
    "\n",
    "+ The `def` at the beginning says \"I'm about the **def**ine a function\"\n",
    "\n",
    "\n",
    "+ The name of my function will be `double`\n",
    "\n",
    "\n",
    "+ This function takes an *argument* that I will call `x`\n",
    "\n",
    "\n",
    "+ The colon is there to just make your life miserable. You will forget to write it. \n",
    "\n",
    "\n",
    "+ Then there's the body of the function. If your function spans multiple lines, all lines from the `def` all the way to the `return` must be indented by a TAB or by four spaces.\n",
    "\n",
    "\n",
    "+ Finally, the `return` in the end specifies the output."
   ]
  },
  {
   "cell_type": "markdown",
   "metadata": {},
   "source": [
    "Three ways to use your function."
   ]
  },
  {
   "cell_type": "code",
   "execution_count": null,
   "metadata": {
    "collapsed": false
   },
   "outputs": [],
   "source": [
    "# Directly put a number there\n",
    "double(5)"
   ]
  },
  {
   "cell_type": "code",
   "execution_count": null,
   "metadata": {
    "collapsed": false
   },
   "outputs": [],
   "source": [
    "# Use equals to mean \"replace instances of x with the value of a\"\n",
    "a = 5\n",
    "double(x = a)"
   ]
  },
  {
   "cell_type": "code",
   "execution_count": null,
   "metadata": {
    "collapsed": false
   },
   "outputs": [],
   "source": [
    "# Don't even use equals.\n",
    "a = 5\n",
    "double(a) "
   ]
  },
  {
   "cell_type": "markdown",
   "metadata": {},
   "source": [
    "### Now, break it!\n",
    "\n",
    "There's a lot of little things that can go wrong when writing code. Be prepared. In fact, go there and break the code. For example, try erasing the colon and redefining the function. What happens? Can you find some other way to break it?"
   ]
  },
  {
   "cell_type": "markdown",
   "metadata": {},
   "source": [
    "---"
   ]
  },
  {
   "cell_type": "markdown",
   "metadata": {},
   "source": [
    "# NumPy library"
   ]
  },
  {
   "cell_type": "markdown",
   "metadata": {},
   "source": [
    "I'm going to skip a lot of Python and head directly to using the tools we need for this course."
   ]
  },
  {
   "cell_type": "markdown",
   "metadata": {},
   "source": [
    "Raw Python, by itself, doesn't have everything we need. \n",
    "\n",
    "We want something will a lot of *num*erical capabilities, so we'll import the **numpy** (Numeric Python) library."
   ]
  },
  {
   "cell_type": "code",
   "execution_count": null,
   "metadata": {
    "collapsed": true
   },
   "outputs": [],
   "source": [
    "import numpy"
   ]
  },
  {
   "cell_type": "markdown",
   "metadata": {},
   "source": [
    "Now we can use the tools in the numpy library. For example, to use the square root function, we just have to type "
   ]
  },
  {
   "cell_type": "code",
   "execution_count": null,
   "metadata": {
    "collapsed": false
   },
   "outputs": [],
   "source": [
    "numpy.sqrt(100)  # Don't forget the prefix!"
   ]
  },
  {
   "cell_type": "markdown",
   "metadata": {},
   "source": [
    "You can check which function there are by typing numpy. and then TAB"
   ]
  },
  {
   "cell_type": "code",
   "execution_count": null,
   "metadata": {
    "collapsed": true
   },
   "outputs": [],
   "source": [
    "numpy.    # Try pressing TAB after the dot"
   ]
  },
  {
   "cell_type": "markdown",
   "metadata": {},
   "source": [
    "If we're going to use just a few functions, we can import them directly as "
   ]
  },
  {
   "cell_type": "code",
   "execution_count": null,
   "metadata": {
    "collapsed": true
   },
   "outputs": [],
   "source": [
    "from numpy import sqrt"
   ]
  },
  {
   "cell_type": "code",
   "execution_count": null,
   "metadata": {
    "collapsed": false
   },
   "outputs": [],
   "source": [
    "sqrt(10)  # No need for the prefix this time!"
   ]
  },
  {
   "cell_type": "markdown",
   "metadata": {},
   "source": [
    "Finally, `numpy` has smaller libraries (also called sub-modules) within itself. For us, the most important one will be the `random` module, that generates random numbers."
   ]
  },
  {
   "cell_type": "code",
   "execution_count": null,
   "metadata": {
    "collapsed": true
   },
   "outputs": [],
   "source": [
    "from numpy.random import uniform  # Generates numbers between 0 and 1"
   ]
  },
  {
   "cell_type": "code",
   "execution_count": null,
   "metadata": {
    "collapsed": false
   },
   "outputs": [],
   "source": [
    "# This says: generate 100 (size) numbers from 0 (low) to 1 (high)\n",
    "uniform(low = 0, high = 1, size = 10)  "
   ]
  },
  {
   "cell_type": "markdown",
   "metadata": {},
   "source": [
    "If this is going over your head, don't worry. Next week we'll review this."
   ]
  },
  {
   "cell_type": "markdown",
   "metadata": {},
   "source": [
    "---"
   ]
  },
  {
   "cell_type": "markdown",
   "metadata": {},
   "source": [
    "# $\\LaTeX$"
   ]
  },
  {
   "cell_type": "markdown",
   "metadata": {},
   "source": [
    "<font size = 2>Note: This is experimental. I'd appreciate hearing your comments about this</font>"
   ]
  },
  {
   "cell_type": "markdown",
   "metadata": {},
   "source": [
    "You can create fancy mathematical formulas by embedding Latex in Markdown cells. Click on the cells below to see the source."
   ]
  },
  {
   "cell_type": "markdown",
   "metadata": {},
   "source": [
    "Here's the $\\Omega$ that we used to define the sample space"
   ]
  },
  {
   "cell_type": "markdown",
   "metadata": {},
   "source": [
    "I can easily write fractions using $\\frac{1}{2}$"
   ]
  },
  {
   "cell_type": "markdown",
   "metadata": {},
   "source": [
    "Here's how to write superscripts $A^{c}$ and subscripts $A_{1}$."
   ]
  },
  {
   "cell_type": "markdown",
   "metadata": {},
   "source": [
    "Here's a bunch of greek letters: $\\alpha$, $\\beta$, $\\delta$, $\\Delta$, $\\gamma$, $\\Gamma$."
   ]
  },
  {
   "cell_type": "markdown",
   "metadata": {},
   "source": [
    "**I'd like you to try to use LaTeX in your homeworks, so there will be bonus points for those of you who do.**"
   ]
  }
 ],
 "metadata": {
  "kernelspec": {
   "display_name": "Python 3",
   "language": "python",
   "name": "python3"
  },
  "language_info": {
   "codemirror_mode": {
    "name": "ipython",
    "version": 3
   },
   "file_extension": ".py",
   "mimetype": "text/x-python",
   "name": "python",
   "nbconvert_exporter": "python",
   "pygments_lexer": "ipython3",
   "version": "3.5.2"
  }
 },
 "nbformat": 4,
 "nbformat_minor": 0
}
