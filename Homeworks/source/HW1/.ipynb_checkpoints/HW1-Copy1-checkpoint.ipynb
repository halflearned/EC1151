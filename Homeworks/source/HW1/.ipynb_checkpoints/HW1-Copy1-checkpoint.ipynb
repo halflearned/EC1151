{
 "cells": [
  {
   "cell_type": "markdown",
   "metadata": {
    "nbgrader": {
     "grade": false,
     "locked": false,
     "solution": false
    }
   },
   "source": [
    "**Student name and BC username:**"
   ]
  },
  {
   "cell_type": "markdown",
   "metadata": {
    "nbgrader": {
     "grade": false,
     "locked": false,
     "solution": false
    }
   },
   "source": []
  },
  {
   "cell_type": "markdown",
   "metadata": {},
   "source": [
    "**Other contributors (up to 2) and BC username**"
   ]
  },
  {
   "cell_type": "markdown",
   "metadata": {},
   "source": []
  },
  {
   "cell_type": "markdown",
   "metadata": {},
   "source": [
    "# <font face = \"times\"><center>  EC1151 - Homework 1 (Due Sep 9th, 3PM) "
   ]
  },
  {
   "cell_type": "markdown",
   "metadata": {},
   "source": [
    "<font face=\"times\">\n",
    "# Instructions\n",
    "\n",
    "+ You must fill out this Jupyter notebook and return it by e-mail to baisihad@bc.edu\n",
    "\n",
    "+ Double click on the cells to edit them\n",
    "\n",
    "+ For questions that need mathematical notation, try to use $\\LaTeX$ if you can.\n",
    "\n",
    "+ Sometimes, below a question that requires an answer there will be a cell with several `assert` statements. If you can run that cell without generating error, your answer has been validated and you are guaranteed the points.\n",
    "\n",
    "+ This assignment will be graded out of 110 points, because of the extra 10 points for $\\LaTeX$ at the bottom. However, your maximum recorded grade will be capped at 100.\n",
    "\n",
    "+ If you're stuck, try posting a question in the Piazza forum. Active contributors will be rewarded.\n",
    "\n",
    "+ Finally, this is <b>experimental</b>. I'd love to hear what you think about this homework format. You can e-mail me with your thoughts, or (preferrably) post in the Piazza forum (possibly anonymously)."
   ]
  },
  {
   "cell_type": "markdown",
   "metadata": {},
   "source": [
    "# <font face = \"times\">Theory "
   ]
  },
  {
   "cell_type": "markdown",
   "metadata": {
    "nbgrader": {
     "grade": false,
     "grade_id": "q1_a",
     "locked": false,
     "solution": false
    }
   },
   "source": [
    "## <font face = \"Times\"> Q1: Sampling (20 points)</font>\n",
    "\n",
    "Remember to explain your reasoning, even for the question of mathematical content.\n",
    "\n",
    "<font face = \"Times\">**Q1A)** In how many ways can we *sample from* 10 entrees and 10 deserts? (That is, how many different meals can we make?) "
   ]
  },
  {
   "cell_type": "markdown",
   "metadata": {
    "nbgrader": {
     "grade": true,
     "grade_id": "q1_a_sol",
     "locked": false,
     "points": 4,
     "solution": true
    }
   },
   "source": [
    "\"\"\" Double-click on this text, erase it and write your own answer \"\"\" "
   ]
  },
  {
   "cell_type": "markdown",
   "metadata": {
    "nbgrader": {
     "grade": false,
     "grade_id": "car_permutation",
     "locked": false,
     "points": 1,
     "solution": false
    }
   },
   "source": [
    "<font face = \"Times\">**Q1B)** If we pick two meals out of three entrees, we can make three different courses. For example, out of {chicken, beef, fish} we can choose {chicken, beef}, {chicken, fish}, {beef, fish}.\n",
    "\n",
    "If we pick five meals out of ten entrees, how many different courses can we make?\n",
    "\n",
    "Hint: How many choices do you have for the first meal? How many choices are left for the second meal?"
   ]
  },
  {
   "cell_type": "markdown",
   "metadata": {
    "collapsed": true,
    "nbgrader": {
     "grade": true,
     "grade_id": "q1_b_sol",
     "locked": false,
     "points": 4,
     "solution": true
    },
    "run_control": {
     "frozen": false,
     "read_only": false
    }
   },
   "source": [
    "\"\"\" Double-click on this text, erase it and write your own answer as a number \"\"\" "
   ]
  },
  {
   "cell_type": "markdown",
   "metadata": {
    "nbgrader": {
     "grade": false,
     "grade_id": "q1_c",
     "locked": false,
     "solution": false
    }
   },
   "source": [
    "<font face = \"times\">**Q1C)** A `bit` is a binary digit: it can be 0 or 1. A `byte` is a collection of `8` bits. For example, 10101010 is a `byte`, and so is 00011100. How many distinct bytes can we create out of 8 `bits`?\n",
    "\n",
    "Hint: A `nibble` is a collection of `4` bytes, like 1011 or 1111 or 0001. There are `16` different possible nibbles."
   ]
  },
  {
   "cell_type": "markdown",
   "metadata": {
    "nbgrader": {
     "grade": true,
     "grade_id": "q1_c_sol",
     "locked": false,
     "points": 6,
     "solution": true
    }
   },
   "source": [
    "\"\"\" Double-click on this text, erase it and write your own answer \"\"\" "
   ]
  },
  {
   "cell_type": "markdown",
   "metadata": {
    "nbgrader": {
     "grade": false,
     "grade_id": "q1_d",
     "locked": false,
     "solution": false
    }
   },
   "source": [
    "<font face = \"times\">**Q1D)** A *palindrome* is a sequence of characters that reads the same way forwards and backwards. Boring examples include \"race car\" and \"taco cat\". For a less boring example see Demetri Martin's \"[Dammit I'm mad](http://fuckyeahdemetrimartin.tumblr.com/post/1382923819/simonfm-dammit-im-mad-a-poem-that-is-a)\" poem. \n",
    "\n",
    "Is a word with 2 letters more likely to be a palindrome than a word with 3 letters in it?\n"
   ]
  },
  {
   "cell_type": "markdown",
   "metadata": {
    "nbgrader": {
     "grade": true,
     "grade_id": "q1_d_sol",
     "locked": false,
     "points": 6,
     "solution": true
    }
   },
   "source": [
    "\"\"\" Double-click on this text, erase it and write your own answer \"\"\" "
   ]
  },
  {
   "cell_type": "markdown",
   "metadata": {},
   "source": [
    "<font face = \"times\">**Q1E)** [No points - Extra] This is the famous [Boy of Girl Paradox](https://en.wikipedia.org/wiki/Boy_or_Girl_paradox).\n",
    "\n",
    "+ Mr. Jones has two children. The older child is a girl. What is the probability that both children are girls?\n",
    "+ Mr. Smith has two children. At least one of them is a boy. What is the probability that both children are boys?\n",
    "\n",
    "Try thinking what answers you'd give before reading the article. "
   ]
  },
  {
   "cell_type": "code",
   "execution_count": null,
   "metadata": {
    "collapsed": true,
    "nbgrader": {
     "grade": false,
     "grade_id": "q1_e_sol",
     "locked": false,
     "solution": false
    },
    "run_control": {
     "frozen": false,
     "read_only": false
    }
   },
   "outputs": [],
   "source": [
    "\"\"\" YOUR ANSWER HERE \"\"\""
   ]
  },
  {
   "cell_type": "markdown",
   "metadata": {},
   "source": [
    "## Q2 - Coin flipping experiment (30 points)"
   ]
  },
  {
   "cell_type": "markdown",
   "metadata": {
    "nbgrader": {
     "grade": false,
     "grade_id": "q2_a",
     "locked": false,
     "solution": false
    }
   },
   "source": [
    "<font face = \"times\"><b>Q2A)</b> If you toss a coin three times, what is the probability of getting 2 heads and 1 tail? Explain your reasoning."
   ]
  },
  {
   "cell_type": "markdown",
   "metadata": {
    "nbgrader": {
     "grade": true,
     "grade_id": "q2_a_sol",
     "locked": false,
     "points": 10,
     "solution": true
    }
   },
   "source": [
    "\"\"\" Double-click on this text, erase it and write your own answer \"\"\" "
   ]
  },
  {
   "cell_type": "markdown",
   "metadata": {
    "nbgrader": {
     "grade": false,
     "grade_id": "q2_b",
     "locked": false,
     "solution": false
    }
   },
   "source": [
    "<font face = \"times\">**Q2B)** For the next experiment, we'll repeatedly toss three coins. We'll call a *success* if the event of getting \"exactly two heads and one tail\" is true. For example, `HTH` is a *sucess*, and so is `HHT`; however `TTT` is a failure.\n",
    "\n",
    "Repeat the following experiment **10** times.\n",
    "\n",
    "+ Get three coins and toss them. Record if you got a *sucess* or not.\n",
    "\n",
    "Compute the ratio of *successes* over total experiments. (i.e., if you had 3 *successes*, you should answer $\\frac{3}{10} = 0.3$)."
   ]
  },
  {
   "cell_type": "markdown",
   "metadata": {},
   "source": [
    "\"\"\" Double-click on this text, erase it and write your own answer \"\"\" "
   ]
  },
  {
   "cell_type": "markdown",
   "metadata": {},
   "source": [
    "<font face = \"times\">\n",
    "Perform the previous experiment an additional 15 times. Compute the ratio of *successes* over total experiments. What is the ratio of successes over total repetitions (now 25)?"
   ]
  },
  {
   "cell_type": "markdown",
   "metadata": {},
   "source": [
    "\"\"\" Double-click on this text, erase it and write your own answer \"\"\" "
   ]
  },
  {
   "cell_type": "markdown",
   "metadata": {},
   "source": [
    "<font face = \"times\">\n",
    "\n",
    "Perform the previous experiment an additional 25 times (or more!).\n",
    "Compute the ratio of *successes* over total experiments. What is the ratio of successes over total repetitions (now at least 50)?"
   ]
  },
  {
   "cell_type": "markdown",
   "metadata": {
    "collapsed": true,
    "run_control": {
     "frozen": false,
     "read_only": false
    }
   },
   "source": [
    "\"\"\" Double-click on this text, erase it and write your own answer \"\"\" "
   ]
  },
  {
   "cell_type": "markdown",
   "metadata": {},
   "source": [
    "<font face = \"times\">**Q2C)** What do you observe about the numbers you found in question b? Try to relate them to your answer in question a.\n",
    "\n",
    "In particular, if you continued repeating your experiment trillions of times, what is the approximate ratio of \"successes / total repetitions\" that you would have gotten?"
   ]
  },
  {
   "cell_type": "markdown",
   "metadata": {
    "collapsed": true,
    "nbgrader": {
     "grade": true,
     "grade_id": "q2_b_sol",
     "locked": false,
     "points": 20,
     "solution": true
    },
    "run_control": {
     "frozen": false,
     "read_only": false
    }
   },
   "source": [
    "\"\"\" Double-click on this text, erase it and write your own answer \"\"\" "
   ]
  },
  {
   "cell_type": "markdown",
   "metadata": {},
   "source": [
    "#  Programming Practice"
   ]
  },
  {
   "cell_type": "markdown",
   "metadata": {},
   "source": [
    "## Q1 - Printing (5 points)"
   ]
  },
  {
   "cell_type": "markdown",
   "metadata": {},
   "source": [
    "Use the `print` function to print out the message \"Hello World!\""
   ]
  },
  {
   "cell_type": "code",
   "execution_count": 3,
   "metadata": {
    "collapsed": false,
    "nbgrader": {
     "grade": true,
     "grade_id": "print1",
     "locked": false,
     "points": 5,
     "solution": true
    },
    "run_control": {
     "frozen": false,
     "read_only": false
    }
   },
   "outputs": [
    {
     "data": {
      "text/plain": [
       "' Erase this cell and fill it with your code.'"
      ]
     },
     "execution_count": 3,
     "metadata": {},
     "output_type": "execute_result"
    }
   ],
   "source": [
    "\"\"\" Erase this cell and fill it with your code.\"\"\""
   ]
  },
  {
   "cell_type": "markdown",
   "metadata": {
    "nbgrader": {
     "grade": false,
     "grade_id": "print2",
     "locked": false,
     "points": 20,
     "solution": false
    }
   },
   "source": [
    "## Q2 - Functions (20 points)"
   ]
  },
  {
   "cell_type": "raw",
   "metadata": {},
   "source": [
    "Define a function `two_power(x)` that takes a number `x` and outputs $2^x$."
   ]
  },
  {
   "cell_type": "code",
   "execution_count": 8,
   "metadata": {
    "collapsed": false,
    "nbgrader": {
     "grade": false,
     "grade_id": "two_to_the_power_of",
     "locked": false,
     "points": 10,
     "solution": true
    },
    "run_control": {
     "frozen": false,
     "read_only": false
    }
   },
   "outputs": [],
   "source": [
    "def two_power(x):\n",
    "    ### BEGIN SOLUTION\n",
    "    return 2**x\n",
    "    ### END SOLUTION"
   ]
  },
  {
   "cell_type": "code",
   "execution_count": 6,
   "metadata": {
    "collapsed": true,
    "run_control": {
     "frozen": false,
     "read_only": false
    }
   },
   "outputs": [],
   "source": [
    "two_power  = lambda x: 2*x"
   ]
  },
  {
   "cell_type": "code",
   "execution_count": 7,
   "metadata": {
    "collapsed": false,
    "nbgrader": {
     "grade": true,
     "grade_id": "two_to_the_power_of_tests",
     "locked": true,
     "points": 10,
     "solution": false
    },
    "run_control": {
     "frozen": false,
     "read_only": false
    }
   },
   "outputs": [],
   "source": [
    "from numpy.random import randint\n",
    "assert two_power(10) == 20\n",
    "assert two_power(0) == 0\n",
    "assert two_power(r) == 2*r"
   ]
  },
  {
   "cell_type": "markdown",
   "metadata": {},
   "source": [
    "Define a function `reciprocal` that takes the number `x` and outputs $1/x$. (I promise not to use it for x = 0)"
   ]
  },
  {
   "cell_type": "code",
   "execution_count": 10,
   "metadata": {
    "collapsed": false,
    "nbgrader": {
     "grade": false,
     "grade_id": "reciprocal",
     "locked": false,
     "points": 10,
     "solution": true
    },
    "run_control": {
     "frozen": false,
     "read_only": false
    }
   },
   "outputs": [],
   "source": [
    "def reciprocal(x):\n",
    "    ### BEGIN SOLUTION\n",
    "    return 1/x\n",
    "    ### END SOLUTION"
   ]
  },
  {
   "cell_type": "code",
   "execution_count": 12,
   "metadata": {
    "collapsed": true,
    "nbgrader": {
     "grade": true,
     "grade_id": "reciprocal_tests",
     "locked": true,
     "points": 10,
     "solution": false
    },
    "run_control": {
     "frozen": false,
     "read_only": false
    }
   },
   "outputs": [],
   "source": [
    "r = randint(10, 100)\n",
    "assert reciprocal(1) == 1\n",
    "assert reciprocal(10) == 0.1\n",
    "assert reciprocal(r) == 1/r"
   ]
  },
  {
   "cell_type": "markdown",
   "metadata": {},
   "source": [
    "## Q2 - Numpy (25 points)"
   ]
  },
  {
   "cell_type": "markdown",
   "metadata": {},
   "source": [
    "Create a variable `x` containing 100 randomly-generated numbers, uniformly distributed between 0 and 1."
   ]
  },
  {
   "cell_type": "code",
   "execution_count": 5,
   "metadata": {
    "collapsed": false,
    "nbgrader": {
     "grade": true,
     "grade_id": "random",
     "locked": false,
     "points": 25,
     "solution": true
    },
    "run_control": {
     "frozen": false,
     "read_only": false
    }
   },
   "outputs": [
    {
     "data": {
      "text/plain": [
       "' Erase this cell and fill it with your code.'"
      ]
     },
     "execution_count": 5,
     "metadata": {},
     "output_type": "execute_result"
    }
   ],
   "source": [
    "\"\"\" Your code here \"\"\""
   ]
  },
  {
   "cell_type": "markdown",
   "metadata": {
    "nbgrader": {
     "grade": false,
     "locked": false,
     "solution": false
    }
   },
   "source": [
    "[Extra - Zero points] Use the `numpy` function `mean` to take the mean of the 100 numbers, and store that in the variable `x_mean`."
   ]
  },
  {
   "cell_type": "code",
   "execution_count": 12,
   "metadata": {
    "collapsed": false,
    "nbgrader": {
     "grade": true,
     "grade_id": "mean",
     "locked": false,
     "points": 0,
     "solution": true
    },
    "run_control": {
     "frozen": false,
     "read_only": false
    }
   },
   "outputs": [],
   "source": [
    "from numpy import mean\n",
    "\"\"\" Your code here \"\"\""
   ]
  },
  {
   "cell_type": "markdown",
   "metadata": {},
   "source": [
    "# Extra (10 points)"
   ]
  },
  {
   "cell_type": "markdown",
   "metadata": {
    "nbgrader": {
     "grade": false,
     "locked": false,
     "solution": false
    }
   },
   "source": [
    "## Writing in $\\LaTeX$\n",
    "\n",
    "Reproduce the following using $\\LaTeX$ code\n",
    "\n",
    "<img src = \"hw1_latex.png\", width = 500>"
   ]
  },
  {
   "cell_type": "markdown",
   "metadata": {
    "nbgrader": {
     "grade": true,
     "grade_id": "l1",
     "locked": false,
     "points": 2,
     "solution": true
    }
   },
   "source": [
    "\"\"\"Write your latex code for (a) here\"\""
   ]
  },
  {
   "cell_type": "markdown",
   "metadata": {
    "nbgrader": {
     "grade": true,
     "grade_id": "l2",
     "locked": false,
     "points": 2,
     "solution": true
    }
   },
   "source": [
    "\"\"\"Write your latex code for (b) here\"\""
   ]
  },
  {
   "cell_type": "markdown",
   "metadata": {
    "nbgrader": {
     "grade": true,
     "grade_id": "l3",
     "locked": false,
     "points": 2,
     "solution": true
    }
   },
   "source": [
    "\"\"\"Write your latex code for (c) here\"\""
   ]
  },
  {
   "cell_type": "markdown",
   "metadata": {
    "nbgrader": {
     "grade": true,
     "grade_id": "l4",
     "locked": false,
     "points": 2,
     "solution": true
    }
   },
   "source": [
    "\"\"\"Write your latex code for (d) here\"\""
   ]
  },
  {
   "cell_type": "markdown",
   "metadata": {
    "nbgrader": {
     "grade": true,
     "grade_id": "l5",
     "locked": false,
     "points": 2,
     "solution": true
    }
   },
   "source": [
    "\"\"\"Write your latex code for (e) here\"\""
   ]
  },
  {
   "cell_type": "markdown",
   "metadata": {},
   "source": [
    "Remember to enclose $\\LaTeX$ code in single or double dollar signs, as in \\$\\\\LaTeX\\$."
   ]
  }
 ],
 "metadata": {
  "celltoolbar": "Create Assignment",
  "kernelspec": {
   "display_name": "Python 3",
   "language": "python",
   "name": "python3"
  },
  "language_info": {
   "codemirror_mode": {
    "name": "ipython",
    "version": 3
   },
   "file_extension": ".py",
   "mimetype": "text/x-python",
   "name": "python",
   "nbconvert_exporter": "python",
   "pygments_lexer": "ipython3",
   "version": "3.5.2"
  }
 },
 "nbformat": 4,
 "nbformat_minor": 0
}
