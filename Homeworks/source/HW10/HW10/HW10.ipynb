{
 "cells": [
  {
   "cell_type": "markdown",
   "metadata": {
    "run_control": {
     "frozen": false,
     "read_only": false
    }
   },
   "source": [
    "# HW10 - Programming - Due April 12th (Wed)"
   ]
  },
  {
   "cell_type": "markdown",
   "metadata": {},
   "source": [
    "### Q0 Importing packages"
   ]
  },
  {
   "cell_type": "markdown",
   "metadata": {},
   "source": [
    "Begin by importing `numpy` and `scipy.stats` with the usual aliases. "
   ]
  },
  {
   "cell_type": "code",
   "execution_count": null,
   "metadata": {
    "collapsed": true
   },
   "outputs": [],
   "source": []
  },
  {
   "cell_type": "markdown",
   "metadata": {},
   "source": [
    "In case you'd like to do the *optional* plotting exercises below, I'll go ahead an import the package `matplotlib.pyplot` with the alias `plt` for you. This is a *very* powerful package full of interesting capabilities. If you're at all interested in data visualization, it's definitely worth checking out the <a href=\"http://matplotlib.org/users/pyplot_tutorial.html\">beginner tutorials</a> online.\n",
    "\n",
    "The second line that begins with \"%\" is not Python per se. Rather, it's a command to the Jupyter Notebook instructing it to plot inside the Notebook, as opposed to opening a new window. "
   ]
  },
  {
   "cell_type": "code",
   "execution_count": 1,
   "metadata": {
    "collapsed": true
   },
   "outputs": [],
   "source": [
    "import matplotlib.pyplot as plt\n",
    "%matplotlib inline"
   ]
  },
  {
   "cell_type": "markdown",
   "metadata": {},
   "source": [
    "### Q1 Understanding randomness via simulations "
   ]
  },
  {
   "cell_type": "markdown",
   "metadata": {},
   "source": [
    "> <b>Remark</b> In the question below, I draw from the Exponential distribution parametrized with $\\beta$. This is done via the code:\n",
    "\n",
    ">> `dist = ss.expon(scale = beta)`\n",
    "\n",
    ">> `...`\n",
    "\n",
    ">> `dist.rvs(n)`\n",
    "\n",
    "> Random draws generated using the code above will have expectation $\\beta$ and variance $\\beta^2$."
   ]
  },
  {
   "cell_type": "markdown",
   "metadata": {},
   "source": [
    "1) Explain what the code below does. In particular, make sure to explain what the variables `xs`, `beta_mom` and `beta_moms` are. Also: why do we get a different `beta_mom` at every iteration of the loop?"
   ]
  },
  {
   "cell_type": "code",
   "execution_count": 6,
   "metadata": {
    "collapsed": false
   },
   "outputs": [],
   "source": [
    "total_simulations = 10000\n",
    "beta = 5\n",
    "n = 10\n",
    "beta_moms = []\n",
    "dist = ss.expon(scale = beta)\n",
    "for i in range(1000):\n",
    "    xs = dist.rvs(n)\n",
    "    beta_mom = np.mean(xs)\n",
    "    beta_moms = beta_moms + [beta_mom]"
   ]
  },
  {
   "cell_type": "markdown",
   "metadata": {},
   "source": [
    "YOUR ANSWER HERE"
   ]
  },
  {
   "cell_type": "markdown",
   "metadata": {},
   "source": [
    "2) The code below produces a histogram of `beta_moms`. The optional argument `normed = True` ensures that the whole area of the histogram is 1, so we can think of it as a rough approximation of the probability distribution of `beta_moms`."
   ]
  },
  {
   "cell_type": "code",
   "execution_count": null,
   "metadata": {
    "collapsed": false
   },
   "outputs": [],
   "source": [
    "plt.hist(beta_moms, normed = True, bins = 20);"
   ]
  },
  {
   "cell_type": "markdown",
   "metadata": {},
   "source": [
    "Change the value of `n` in the code you explained in part 1, re-run that cell, and then re-plot the histogram. Test out really small and large values of `n`. Explain what happens to the shape of the distribution for these different values of `n`, mentioning the Central Limit Theorem and Law of Large Numbers in your answer.\n",
    "\n",
    "<b>Remark</b> If both `n` and `total_simulations` are large numbers, your code might take a long time to run!"
   ]
  },
  {
   "cell_type": "code",
   "execution_count": null,
   "metadata": {
    "collapsed": true
   },
   "outputs": [],
   "source": []
  },
  {
   "cell_type": "markdown",
   "metadata": {},
   "source": [
    "### Q2 [Optional - Not for credit]\n",
    "\n",
    "Read the documentation <a href=\"http://matplotlib.org/users/pyplot_tutorial.html\">beginner tutorials</a> and modify the code above so that the final version includes as many of these bells and whistles as you can:\n",
    "\n",
    "+ The color of the histogram is orange\n",
    "+ The histogram uses 50 bins, instead of the default 10\n",
    "+ The title says \"Distribution of beta_mom\"\n",
    "+ The horizontal label says \"Value of beta_mom\"\n",
    "+ The vertical label says \"Probability\"\n",
    "\n",
    "The final result could look like this, althought you're free to play around with the specifications if you like doing this sort of thing."
   ]
  },
  {
   "cell_type": "markdown",
   "metadata": {},
   "source": [
    "<img src=\"hist1.png\">"
   ]
  },
  {
   "cell_type": "markdown",
   "metadata": {},
   "source": [
    "...and if you have *way* too much time in your hands, figure this one out."
   ]
  },
  {
   "cell_type": "markdown",
   "metadata": {},
   "source": [
    "<img src=\"hist2.png\">"
   ]
  },
  {
   "cell_type": "markdown",
   "metadata": {},
   "source": [
    "How close to this can you get? Have fun!"
   ]
  }
 ],
 "metadata": {
  "anaconda-cloud": {},
  "kernelspec": {
   "display_name": "Python [default]",
   "language": "python",
   "name": "python3"
  },
  "language_info": {
   "codemirror_mode": {
    "name": "ipython",
    "version": 3
   },
   "file_extension": ".py",
   "mimetype": "text/x-python",
   "name": "python",
   "nbconvert_exporter": "python",
   "pygments_lexer": "ipython3",
   "version": "3.5.2"
  }
 },
 "nbformat": 4,
 "nbformat_minor": 0
}
