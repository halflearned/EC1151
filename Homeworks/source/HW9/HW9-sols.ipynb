{
 "cells": [
  {
   "cell_type": "code",
   "execution_count": 118,
   "metadata": {
    "collapsed": true
   },
   "outputs": [],
   "source": [
    "import numpy as np\n",
    "import scipy.stats as ss\n",
    "import pandas as pd\n",
    "import matplotlib.pyplot as plt\n",
    "%matplotlib inline"
   ]
  },
  {
   "cell_type": "markdown",
   "metadata": {},
   "source": [
    "### More on Transformations"
   ]
  },
  {
   "cell_type": "markdown",
   "metadata": {
    "run_control": {
     "frozen": false,
     "read_only": false
    }
   },
   "source": [
    "**Q1)** Find the CDF and PDF of the random variable $Z$ below."
   ]
  },
  {
   "cell_type": "markdown",
   "metadata": {},
   "source": [
    "<font size = 1>Writing out all the $\\LaTeX$ will probably take a long time. If you want you can just write down the answer without the derivation. Just make sure you understand it yourself!</font>"
   ]
  },
  {
   "cell_type": "markdown",
   "metadata": {},
   "source": [
    "a) $X \\sim Expo(1)$ and $Z = e^{-X}$"
   ]
  },
  {
   "cell_type": "markdown",
   "metadata": {},
   "source": []
  },
  {
   "cell_type": "markdown",
   "metadata": {},
   "source": [
    "b) $X \\sim Unif[0,1]$ and $Z = U^2$"
   ]
  },
  {
   "cell_type": "markdown",
   "metadata": {},
   "source": []
  },
  {
   "cell_type": "markdown",
   "metadata": {},
   "source": [
    "c) $X \\sim Binom(3, \\frac{1}{2})$ and $Z = sin(X)$."
   ]
  },
  {
   "cell_type": "markdown",
   "metadata": {},
   "source": []
  },
  {
   "cell_type": "markdown",
   "metadata": {},
   "source": [
    "d) $X \\sim N(0,1)$ and $Z = X^2$  "
   ]
  },
  {
   "cell_type": "markdown",
   "metadata": {},
   "source": []
  },
  {
   "cell_type": "markdown",
   "metadata": {},
   "source": [
    "The last one is the most important: the resulting distribution is the **$\\chi^2$ distribution**!"
   ]
  },
  {
   "cell_type": "markdown",
   "metadata": {},
   "source": [
    "---"
   ]
  },
  {
   "cell_type": "markdown",
   "metadata": {},
   "source": [
    "## Conditional Expectation given Events"
   ]
  },
  {
   "cell_type": "markdown",
   "metadata": {},
   "source": [
    "**Q2)** Imagine that next week I begin my lecture with this.\n",
    "\n",
    "> \"I'm a little depressed, guys. I'm almost 29 years old, and I'm a Brazilian male. Wikipedia says that the life expectancy of Brazilian males is about 72 years. So if I'm an average Brazilian, I have lived 40% of my life already!\"\n",
    "\n",
    "Your task in this exercise is to cheer me up a little.\n",
    "\n",
    "a) Let's model Brazilian male lives as $X \\sim Exponential(\\lambda)$. What is the appropriate $\\lambda$, according to the data above?"
   ]
  },
  {
   "cell_type": "markdown",
   "metadata": {},
   "source": []
  },
  {
   "cell_type": "markdown",
   "metadata": {},
   "source": [
    "b) What is the probability that a random Brazilian male will live at least 72 years?"
   ]
  },
  {
   "cell_type": "code",
   "execution_count": 12,
   "metadata": {
    "collapsed": false
   },
   "outputs": [
    {
     "data": {
      "text/plain": [
       "0.36787944117144233"
      ]
     },
     "execution_count": 12,
     "metadata": {},
     "output_type": "execute_result"
    }
   ],
   "source": [
    "1 - ss.expon(scale = 72).cdf(72)"
   ]
  },
  {
   "cell_type": "markdown",
   "metadata": {},
   "source": [
    "c) What is the CDF of a Brazilian male lifespan, *conditioning on* him having already lived 29 years? (i.e., what is the probability that a random Brazilian male *that has already lived to age 29* will live *at most* $x$ years?)"
   ]
  },
  {
   "cell_type": "code",
   "execution_count": 16,
   "metadata": {
    "collapsed": false
   },
   "outputs": [
    {
     "data": {
      "text/plain": [
       "0.55033823215164912"
      ]
     },
     "execution_count": 16,
     "metadata": {},
     "output_type": "execute_result"
    }
   ],
   "source": [
    "1 - ss.expon(scale = 72).cdf(72 - 29)"
   ]
  },
  {
   "cell_type": "markdown",
   "metadata": {},
   "source": [
    "d) Use your answer to $c$ to find the conditional probability *density* given $X \\geq 29$."
   ]
  },
  {
   "cell_type": "markdown",
   "metadata": {},
   "source": []
  },
  {
   "cell_type": "markdown",
   "metadata": {},
   "source": [
    "d) To compute my *conditional* life expectancy we'd have to compute the following integral:\n",
    "\n",
    "$$E[X \\  | \\  X \\geq 29] = \\int_{29}^{\\infty} x \\ f_{X|X\\geq 29}(x) \\ dx$$"
   ]
  },
  {
   "cell_type": "markdown",
   "metadata": {},
   "source": [
    "where $f_{X|X\\geq 29}$ is the PDF you found in part d. But integrals are so hard! Let's find out the answer by simulation instead.\n",
    "\n",
    "+ Draw 10000 numbers from $Exponential(\\lambda)$\n",
    "\n",
    "+ Discard all numbers that are smaller than 29.\n",
    "\n",
    "+ Take the mean of the remaning numbers.\n",
    "\n",
    "The number you get is a Monte-Carlo approximation of the integral above. That's my life expectancy. (Note: as you'll see, the number you'll find is a bit too optimistic. That's because lifespans are not very well-modelled by the Exponential distribution.)"
   ]
  },
  {
   "cell_type": "markdown",
   "metadata": {},
   "source": []
  },
  {
   "cell_type": "markdown",
   "metadata": {},
   "source": [
    "---"
   ]
  },
  {
   "cell_type": "markdown",
   "metadata": {},
   "source": [
    "**Q3)** In your next summer internship, you're working as a research assistant for a professor who studies Crime Economics. For her next paper the professor interested in knowing how often a random person gets arrested in the last 10 years, on average, in Boston. So if $X$ is the number of times anyone gets arrested, then you're looking for $E[X]$.\n",
    "\n",
    "You're given anonymized police records for Boston containing an ID and the number of times each person has been arrested. However, people who have never been arrested do not show up in these records. In statistical parlance, your data has **selection bias**."
   ]
  },
  {
   "cell_type": "markdown",
   "metadata": {},
   "source": [
    "a) Suppose that $X \\sim Poisson(\\lambda)$. Then I claim that:\n",
    "\n",
    "$$P( \\ X = k \\ | \\ X \\geq 1 \\ ) = \\frac{e^{-\\lambda} \\lambda^{k}}{(1 - e^{-\\lambda})k!} \\qquad \\text{ for } \\ k  = 1,2,\\cdots $$\n",
    "\n",
    "Prove my claim."
   ]
  },
  {
   "cell_type": "markdown",
   "metadata": {},
   "source": []
  },
  {
   "cell_type": "markdown",
   "metadata": {},
   "source": [
    "b) If we knew $\\lambda$, we could find the conditional expeectation of $X$ *given that a person has been arrested before*, by computing\n",
    "\n",
    "$$E[\\ X \\ | \\ X \\geq 1 \\ ] = \\sum_{k = 1}^{\\infty} k \\cdot P( \\ X = k \\ | \\ X \\geq 1 \\ )$$"
   ]
  },
  {
   "cell_type": "markdown",
   "metadata": {},
   "source": [
    "But infinite sums are hard! So let's again let ourselves be lazy and appeal to Python."
   ]
  },
  {
   "cell_type": "markdown",
   "metadata": {},
   "source": [
    "+ Take any given $\\lambda$, say $\\lambda = 3$.\n",
    "\n",
    "+ Draw 10000 numbers from $Poisson(\\lambda)$\n",
    "\n",
    "+ Keep only draws that are 1 or greater.\n",
    "\n",
    "+ Take the mean of the numbers you kept.\n"
   ]
  },
  {
   "cell_type": "markdown",
   "metadata": {},
   "source": [
    "c) Let's use a toy data set. Suppose `x` below contains the number of times each person in the record has been arrested. "
   ]
  },
  {
   "cell_type": "code",
   "execution_count": null,
   "metadata": {
    "collapsed": true,
    "run_control": {
     "frozen": true,
     "read_only": true
    }
   },
   "outputs": [],
   "source": [
    "x = np.array([1, 5, 2, 1, 1, 3, 1, 1, 1, 1, 1, 3, 1, 1, 1, 1, 3, 1, 1, 1, 1, 2, 2,\n",
    "       2, 1, 1, 2, 2, 3, 2, 2, 1, 1, 4, 1, 1, 3, 1, 2, 1, 1, 3, 2, 3, 1, 2,\n",
    "       2, 3, 1, 2, 3, 2, 1, 2, 1, 1, 1, 1, 2, 1, 1, 2, 2, 1, 2, 2])"
   ]
  },
  {
   "cell_type": "markdown",
   "metadata": {},
   "source": [
    "Assume that these data came from $Poisson(\\lambda)$, but observations equal to \"0\" were discarded. Guess the value of $\\lambda$ that is most likely to have generated the data above."
   ]
  },
  {
   "cell_type": "markdown",
   "metadata": {},
   "source": []
  },
  {
   "cell_type": "markdown",
   "metadata": {},
   "source": [
    "**Note** What you're doing in part \"c\" is finding the **Maximum Likelihood Estimator** (MLE) of $\\lambda$. I.e., the \"most likely value of $\\lambda$ to have generated the data\". Of course, there are more principled methods to find the MLE than the guess-and-verify process above. We'll talk about them soon!"
   ]
  },
  {
   "cell_type": "markdown",
   "metadata": {},
   "source": [
    "---"
   ]
  },
  {
   "cell_type": "markdown",
   "metadata": {},
   "source": [
    "## Conditional Expectation given outcome of other rvs & Covariance"
   ]
  },
  {
   "cell_type": "markdown",
   "metadata": {},
   "source": [
    "Consider the *joint probability* given in the table below."
   ]
  },
  {
   "cell_type": "markdown",
   "metadata": {},
   "source": [
    "<img src=\"table.png\" width = 250>"
   ]
  },
  {
   "cell_type": "markdown",
   "metadata": {},
   "source": [
    "a) What is $P(Y = 2 | X = 2)$?"
   ]
  },
  {
   "cell_type": "markdown",
   "metadata": {},
   "source": []
  },
  {
   "cell_type": "markdown",
   "metadata": {},
   "source": [
    "b) What is E[Y| X = 1]?"
   ]
  },
  {
   "cell_type": "markdown",
   "metadata": {},
   "source": []
  },
  {
   "cell_type": "markdown",
   "metadata": {},
   "source": [
    "c) What is $E[Y | X \\geq 2]$?"
   ]
  },
  {
   "cell_type": "markdown",
   "metadata": {},
   "source": []
  },
  {
   "cell_type": "markdown",
   "metadata": {},
   "source": [
    "d) What is Cov(X,Y)?"
   ]
  },
  {
   "cell_type": "markdown",
   "metadata": {},
   "source": []
  },
  {
   "cell_type": "markdown",
   "metadata": {},
   "source": [
    "e) What is Corr(X,Y)?"
   ]
  },
  {
   "cell_type": "markdown",
   "metadata": {},
   "source": []
  },
  {
   "cell_type": "markdown",
   "metadata": {},
   "source": [
    "---"
   ]
  },
  {
   "cell_type": "markdown",
   "metadata": {},
   "source": [
    "## Extra [15 points]"
   ]
  },
  {
   "cell_type": "markdown",
   "metadata": {},
   "source": [
    "The file `data.csv` contains monthly data on unemployment and inflation in the United States since 1948."
   ]
  },
  {
   "cell_type": "code",
   "execution_count": 265,
   "metadata": {
    "collapsed": false
   },
   "outputs": [
    {
     "data": {
      "text/html": [
       "<div>\n",
       "<table border=\"1\" class=\"dataframe\">\n",
       "  <thead>\n",
       "    <tr style=\"text-align: right;\">\n",
       "      <th></th>\n",
       "      <th>unemp</th>\n",
       "      <th>inflation</th>\n",
       "    </tr>\n",
       "    <tr>\n",
       "      <th>date</th>\n",
       "      <th></th>\n",
       "      <th></th>\n",
       "    </tr>\n",
       "  </thead>\n",
       "  <tbody>\n",
       "    <tr>\n",
       "      <th>1948-01-01</th>\n",
       "      <td>3.4</td>\n",
       "      <td>13.76103</td>\n",
       "    </tr>\n",
       "    <tr>\n",
       "      <th>1948-02-01</th>\n",
       "      <td>3.8</td>\n",
       "      <td>-0.50686</td>\n",
       "    </tr>\n",
       "    <tr>\n",
       "      <th>1948-03-01</th>\n",
       "      <td>4.0</td>\n",
       "      <td>-8.64960</td>\n",
       "    </tr>\n",
       "    <tr>\n",
       "      <th>1948-04-01</th>\n",
       "      <td>3.9</td>\n",
       "      <td>16.23017</td>\n",
       "    </tr>\n",
       "  </tbody>\n",
       "</table>\n",
       "</div>"
      ],
      "text/plain": [
       "            unemp  inflation\n",
       "date                        \n",
       "1948-01-01    3.4   13.76103\n",
       "1948-02-01    3.8   -0.50686\n",
       "1948-03-01    4.0   -8.64960\n",
       "1948-04-01    3.9   16.23017"
      ]
     },
     "execution_count": 265,
     "metadata": {},
     "output_type": "execute_result"
    }
   ],
   "source": [
    "import pandas as pd\n",
    "data = pd.read_csv(\"data.csv\", index_col = \"date\")\n",
    "data.head(4)"
   ]
  },
  {
   "cell_type": "markdown",
   "metadata": {},
   "source": [
    "Your challenge this week is to follow the instructions in Day27 and produce one or more estimates of $E[ \\ Inflation \\ | \\ Unemploment \\ ]$. As a final result you should produce a scatterplot of the two variables, and include your estimate of the conditional mean. You don't need to copy all of the graphs below, just one of them will suffice for full points (but I'll be happy to help you during the office hours if you want to do all of them!).\n",
    " \n",
    "\n",
    "#### 1) Discretizing\n",
    "\n",
    "One way of doing this is to round unemployment to the nearest integer, thus making it a discrete variable (this process is called \"discretizing\"). Then you can compute the conditional mean of inflation at each integer level of unemployment. The result should look like this."
   ]
  },
  {
   "cell_type": "markdown",
   "metadata": {},
   "source": [
    "<img src=\"extra1.png\" width = 600>"
   ]
  },
  {
   "cell_type": "markdown",
   "metadata": {},
   "source": [
    "### 2) Linear Regression"
   ]
  },
  {
   "cell_type": "markdown",
   "metadata": {},
   "source": [
    "Another way to do it is to assume that $E[Y|X=x]$ is a *linear* function of $x$, as in:\n",
    "\n",
    "$$g(x) = E[Y|X = x] = a + bx$$\n",
    "\n",
    "Then you \"just\" have to find the proper $a, b$."
   ]
  },
  {
   "cell_type": "markdown",
   "metadata": {},
   "source": [
    "<img src=\"extra2.png\" width = 600>\n"
   ]
  },
  {
   "cell_type": "markdown",
   "metadata": {},
   "source": [
    "### 3) K-Nearest Neighbors Regression"
   ]
  },
  {
   "cell_type": "markdown",
   "metadata": {},
   "source": [
    "One very common tool for nonparametric regression is *K-Nearest Neighbors*. Essentially, whenever we want to know $g(5) = E[Y|X=5]$ (say), we just look at the $K$ values of $X$ closest to $5$ in our data, and take the mean of the values of $Y$ associated with those points. The machine learning library `scikit-learn` (or `sklearn`) has a canned routine that you can use, if you like. For $K = 20$, the result looks like this."
   ]
  },
  {
   "cell_type": "markdown",
   "metadata": {},
   "source": [
    "<img src=\"extra3.png\" width = 600>"
   ]
  },
  {
   "cell_type": "markdown",
   "metadata": {},
   "source": [
    "### 4) Any other way"
   ]
  },
  {
   "cell_type": "markdown",
   "metadata": {},
   "source": [
    "Feel free to explore the world of regression for inspiration, or come up with your own algorithm. Good luck!"
   ]
  },
  {
   "cell_type": "code",
   "execution_count": 257,
   "metadata": {
    "collapsed": false
   },
   "outputs": [],
   "source": [
    "import sklearn.linear_model as skl\n",
    "import sklearn.neighbors as skn\n",
    "import sklearn.svm as skv"
   ]
  },
  {
   "cell_type": "code",
   "execution_count": 258,
   "metadata": {
    "collapsed": false
   },
   "outputs": [
    {
     "data": {
      "image/png": "[encoded data removed]",
      "text/plain": [
       "<matplotlib.figure.Figure at 0x11daf7e10>"
      ]
     },
     "metadata": {},
     "output_type": "display_data"
    }
   ],
   "source": [
    "data1 = data.copy()\n",
    "data1[\"unemp\"] = data1[\"unemp\"].round(0)\n",
    "EYx_discretized = data1.groupby(\"unemp\")[\"inflation\"].mean()\n",
    "\n",
    "fig, ax = plt.subplots(1, figsize = (8, 4))\n",
    "ax.scatter(data1[\"unemp\"], data1[\"inflation\"])\n",
    "ax.plot(EYx_discretized, color = \"red\", linewidth = 6)\n",
    "ax.set_title(\"$E[Y|X]$ after discretizing X\", fontsize = 16)\n",
    "ax.set_xlabel(\"Unemployment (discretized)\")\n",
    "ax.set_ylabel(\"Inflation\")\n",
    "ax.set_xlim((1.5, 11))\n",
    "fig.savefig(\"extra1\")"
   ]
  },
  {
   "cell_type": "markdown",
   "metadata": {},
   "source": [
    "Via Linear Regression"
   ]
  },
  {
   "cell_type": "code",
   "execution_count": 261,
   "metadata": {
    "collapsed": false
   },
   "outputs": [
    {
     "name": "stderr",
     "output_type": "stream",
     "text": [
      "/Users/vitorhadad/anaconda/lib/python3.5/site-packages/ipykernel/__main__.py:3: FutureWarning: reshape is deprecated and will raise in a subsequent release. Please use .values.reshape(...) instead\n",
      "  app.launch_new_instance()\n"
     ]
    },
    {
     "data": {
      "image/png": "[encoded data removed]",
      "text/plain": [
       "<matplotlib.figure.Figure at 0x11a734940>"
      ]
     },
     "metadata": {},
     "output_type": "display_data"
    }
   ],
   "source": [
    "x_grid = np.linspace(2, 11).reshape(-1, 1)\n",
    "ols = skl.LinearRegression()\n",
    "ols.fit(data[\"unemp\"].reshape(-1, 1), data[\"inflation\"].reshape(-1,1))\n",
    "EYx_ols = ols.predict(x_grid)\n",
    "\n",
    "fig, ax = plt.subplots(1, figsize = (8, 4))\n",
    "ax.scatter(data[\"unemp\"], data[\"inflation\"], label = \"Data\")\n",
    "ax.plot(x_grid, EYx_ols, color = \"red\", linewidth = 5, label = \"Estimate\")\n",
    "ax.set_xlim((1.5, 11.5))\n",
    "ax.legend()\n",
    "ax.set_xlabel(\"Unemployment\")\n",
    "ax.set_ylabel(\"Inflation\")\n",
    "ax.set_title(\"$E[Y|X]$ by Linear Regression\", fontsize =16 )\n",
    "fig.savefig(\"extra2\")"
   ]
  },
  {
   "cell_type": "markdown",
   "metadata": {},
   "source": [
    "Using Nearest Neighbor Regression"
   ]
  },
  {
   "cell_type": "code",
   "execution_count": 262,
   "metadata": {
    "collapsed": false
   },
   "outputs": [
    {
     "name": "stderr",
     "output_type": "stream",
     "text": [
      "/Users/vitorhadad/anaconda/lib/python3.5/site-packages/ipykernel/__main__.py:2: FutureWarning: reshape is deprecated and will raise in a subsequent release. Please use .values.reshape(...) instead\n",
      "  from ipykernel import kernelapp as app\n"
     ]
    }
   ],
   "source": [
    "knn = skn.KNeighborsRegressor(n_neighbors = 20)\n",
    "knn.fit(data[\"unemp\"].reshape(-1, 1), data[\"inflation\"].reshape(-1,1))\n",
    "EYx_knn = knn.predict(x_grid)"
   ]
  },
  {
   "cell_type": "code",
   "execution_count": 263,
   "metadata": {
    "collapsed": false
   },
   "outputs": [
    {
     "data": {
      "image/png": "[encoded data removed]",
      "text/plain": [
       "<matplotlib.figure.Figure at 0x11da31780>"
      ]
     },
     "metadata": {},
     "output_type": "display_data"
    }
   ],
   "source": [
    "fig, ax = plt.subplots(1, figsize = (8, 4))\n",
    "ax.scatter(data[\"unemp\"], data[\"inflation\"], label = \"Data\")\n",
    "ax.plot(x_grid, EYx_knn, color = \"red\", linewidth = 5, label = \"Estimate\")\n",
    "ax.set_xlim((1.5, 11.5))\n",
    "ax.legend()\n",
    "ax.set_xlabel(\"Unemployment\")\n",
    "ax.set_ylabel(\"Inflation\")\n",
    "ax.set_title(\"$E[Y|X]$ by K-Nearest Neighbors\", fontsize =16 )\n",
    "fig.savefig(\"extra3\")"
   ]
  }
 ],
 "metadata": {
  "anaconda-cloud": {},
  "kernelspec": {
   "display_name": "Python [default]",
   "language": "python",
   "name": "python3"
  },
  "language_info": {
   "codemirror_mode": {
    "name": "ipython",
    "version": 3
   },
   "file_extension": ".py",
   "mimetype": "text/x-python",
   "name": "python",
   "nbconvert_exporter": "python",
   "pygments_lexer": "ipython3",
   "version": "3.5.2"
  }
 },
 "nbformat": 4,
 "nbformat_minor": 0
}
