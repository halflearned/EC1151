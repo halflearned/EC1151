{
 "cells": [
  {
   "cell_type": "markdown",
   "metadata": {},
   "source": [
    "**Student name and BC username**"
   ]
  },
  {
   "cell_type": "markdown",
   "metadata": {},
   "source": [
    "NAME HERE"
   ]
  },
  {
   "cell_type": "markdown",
   "metadata": {},
   "source": [
    "BC USERNAME HERE"
   ]
  },
  {
   "cell_type": "markdown",
   "metadata": {},
   "source": [
    "**Collaborators names and BC usernames (max 2 collaborators)**"
   ]
  },
  {
   "cell_type": "markdown",
   "metadata": {},
   "source": [
    "+ NAME 1 \n",
    "\n",
    "+ NAME 2"
   ]
  },
  {
   "cell_type": "markdown",
   "metadata": {},
   "source": [
    "# <font face = \"times\"><center>  EC1151 - Homework 7 - Due Oct 28th, 3PM</font> "
   ]
  },
  {
   "cell_type": "markdown",
   "metadata": {},
   "source": [
    "<font face=\"times\">\n",
    "# Instructions\n",
    "<br>\n",
    "\n",
    "+ You must fill out this Jupyter notebook and return it by e-mail to baisihad@bc.edu\n",
    "\n",
    "+ Double click on the cells to edit them\n",
    "\n",
    "+ For questions that need mathematical notation, try to use $\\LaTeX$ if you can.\n",
    "\n",
    "+ Sometimes, below a question that requires an answer there will be a cell with several `assert` statements. If you can run that cell without generating error, your answer has been validated and you are guaranteed the points.\n",
    "\n",
    "+ If you're stuck, try posting a question in the Piazza forum. Active contributors will be rewarded.\n",
    "\n",
    "+ Finally, this is <b>experimental</b>. I'd love to hear what you think about this homework format. You can e-mail me with your thoughts, or (preferrably) post in the Piazza forum (possibly anonymously to your peers).\n"
   ]
  },
  {
   "cell_type": "markdown",
   "metadata": {},
   "source": [
    "---"
   ]
  },
  {
   "cell_type": "markdown",
   "metadata": {},
   "source": [
    "### Remark\n",
    "\n",
    "In previous homeworks had a neat distinction between theory and computation, but now we have reached a point where it would be very hard to calculate the answers \"by hand\". Starting from this homework, feel free to use any means you find convenient to get to the final answer, unless instructed otherwise. However, remember to justify your steps so that I can give you partial credit."
   ]
  },
  {
   "cell_type": "markdown",
   "metadata": {},
   "source": [
    "---"
   ]
  },
  {
   "cell_type": "markdown",
   "metadata": {},
   "source": [
    "## Basic concepts [10 points]"
   ]
  },
  {
   "cell_type": "markdown",
   "metadata": {},
   "source": [
    "**Q0)** Explain the following concepts in your own words. I will grade these generously, so just make sure that your answer is useful for yourself.\n",
    "\n",
    "\n",
    "a) p-value"
   ]
  },
  {
   "cell_type": "markdown",
   "metadata": {
    "nbgrader": {
     "grade": true,
     "grade_id": "q0a",
     "locked": false,
     "points": 2,
     "solution": true
    }
   },
   "source": []
  },
  {
   "cell_type": "markdown",
   "metadata": {},
   "source": [
    "b) Significance level"
   ]
  },
  {
   "cell_type": "markdown",
   "metadata": {
    "nbgrader": {
     "grade": true,
     "grade_id": "q0b",
     "locked": false,
     "points": 2,
     "solution": true
    }
   },
   "source": []
  },
  {
   "cell_type": "markdown",
   "metadata": {},
   "source": [
    "c) Rejection region"
   ]
  },
  {
   "cell_type": "markdown",
   "metadata": {
    "nbgrader": {
     "grade": true,
     "grade_id": "q0c",
     "locked": false,
     "points": 2,
     "solution": true
    }
   },
   "source": []
  },
  {
   "cell_type": "markdown",
   "metadata": {},
   "source": [
    "d) Reject the null hypothesis"
   ]
  },
  {
   "cell_type": "markdown",
   "metadata": {
    "nbgrader": {
     "grade": true,
     "grade_id": "q0d",
     "locked": false,
     "points": 2,
     "solution": true
    }
   },
   "source": []
  },
  {
   "cell_type": "markdown",
   "metadata": {},
   "source": [
    "e) Type 1 and Type 2 errors"
   ]
  },
  {
   "cell_type": "markdown",
   "metadata": {
    "nbgrader": {
     "grade": true,
     "grade_id": "q0e",
     "locked": false,
     "points": 2,
     "solution": true
    }
   },
   "source": []
  },
  {
   "cell_type": "markdown",
   "metadata": {},
   "source": [
    "---"
   ]
  },
  {
   "cell_type": "markdown",
   "metadata": {},
   "source": [
    "## Coin tosses [30 points]"
   ]
  },
  {
   "cell_type": "markdown",
   "metadata": {},
   "source": [
    "**Q1)** A coin is tossed 10 times, landing on Heads 9 out of 10 times. We will test the hypothesis\n",
    "\n",
    "$$H_0: p = \\frac{1}{2}$$\n",
    "against\n",
    "$$H_1: p \\neq \\frac{1}{2}$$\n",
    "\n"
   ]
  },
  {
   "cell_type": "markdown",
   "metadata": {},
   "source": [
    "a) Explain why an estimator for $p$ is $\\hat{p} = 9/10$."
   ]
  },
  {
   "cell_type": "markdown",
   "metadata": {
    "nbgrader": {
     "grade": true,
     "grade_id": "q1a",
     "locked": false,
     "points": 5,
     "solution": true
    }
   },
   "source": []
  },
  {
   "cell_type": "markdown",
   "metadata": {},
   "source": [
    "b) Assume that $H_0$ is true. What is the probability of getting $\\hat{p} \\geq .9$?"
   ]
  },
  {
   "cell_type": "code",
   "execution_count": 11,
   "metadata": {
    "collapsed": false,
    "nbgrader": {
     "grade": true,
     "grade_id": "q1b",
     "locked": false,
     "points": 5,
     "solution": true
    }
   },
   "outputs": [
    {
     "data": {
      "text/plain": [
       "0.0107421875"
      ]
     },
     "execution_count": 11,
     "metadata": {},
     "output_type": "execute_result"
    }
   ],
   "source": [
    "p_hyp = .5\n",
    "1-ss.binom(10, p_hyp).cdf(8)"
   ]
  },
  {
   "cell_type": "markdown",
   "metadata": {},
   "source": [
    "c) Because this is a two-tailed test, we want to guard ourselves against extremes on both sides of $p$. So compute what is the probability of getting $\\hat{p} \\leq .1$."
   ]
  },
  {
   "cell_type": "markdown",
   "metadata": {
    "nbgrader": {
     "grade": true,
     "grade_id": "q1c",
     "locked": false,
     "points": 5,
     "solution": true
    }
   },
   "source": []
  },
  {
   "cell_type": "markdown",
   "metadata": {},
   "source": [
    "d) What is the p-value for this test?"
   ]
  },
  {
   "cell_type": "markdown",
   "metadata": {
    "nbgrader": {
     "grade": true,
     "grade_id": "q1d",
     "locked": false,
     "points": 5,
     "solution": true
    }
   },
   "source": []
  },
  {
   "cell_type": "markdown",
   "metadata": {},
   "source": [
    "e) At a significance level of $\\alpha = .05$, do we reject $H_0$?"
   ]
  },
  {
   "cell_type": "markdown",
   "metadata": {
    "nbgrader": {
     "grade": true,
     "grade_id": "q1e",
     "locked": false,
     "points": 5,
     "solution": true
    }
   },
   "source": []
  },
  {
   "cell_type": "markdown",
   "metadata": {},
   "source": [
    "f) At a significance level $\\alpha = 0.01$, do we reject $H_0$?"
   ]
  },
  {
   "cell_type": "markdown",
   "metadata": {
    "nbgrader": {
     "grade": true,
     "grade_id": "q1f",
     "locked": false,
     "points": 5,
     "solution": true
    }
   },
   "source": []
  },
  {
   "cell_type": "markdown",
   "metadata": {},
   "source": [
    "## Politics [20 points]"
   ]
  },
  {
   "cell_type": "markdown",
   "metadata": {},
   "source": [
    "**Q2)** Imagine that in a poll of 1000 registered voters, 521 said they'd vote for Donald Trump. We'd like to know the following: do we already have enough evidence to say that *at least 50% of the voters prefer Donald Trump over any other candidate*?\n",
    "\n",
    "a) Formalize this as a hypothesis testing problem with significance level of $\\alpha = 0.1$, and answer the question posed above. "
   ]
  },
  {
   "cell_type": "code",
   "execution_count": null,
   "metadata": {
    "collapsed": true
   },
   "outputs": [],
   "source": []
  },
  {
   "cell_type": "markdown",
   "metadata": {
    "nbgrader": {
     "grade": false,
     "grade_id": "q1b",
     "locked": false,
     "points": 5,
     "solution": false
    }
   },
   "source": [
    "b) Does your answer change when $\\alpha = 0.05$?"
   ]
  },
  {
   "cell_type": "markdown",
   "metadata": {
    "nbgrader": {
     "grade": true,
     "grade_id": "q2b",
     "locked": false,
     "points": 5,
     "solution": true
    }
   },
   "source": []
  },
  {
   "cell_type": "markdown",
   "metadata": {
    "nbgrader": {
     "grade": false,
     "grade_id": "q1c",
     "locked": false,
     "points": 10,
     "solution": false
    }
   },
   "source": [
    "c) Suppose that $\\alpha = 0.01$. Then how many voters would have to answer they are voting for Donald Trump before you believe that there is enough evidence that at least 50% of the voters prefer him over any other candidate?\n",
    "\n",
    "[Remark] The easiest way to solve this is by simulation and guessing. However, you can solve this without simulation using inverse of the CDF, denoted by $F^{-1}$. This is most commonly called the *quantile function*, but other names such as the *inverse CDF function*,  *percentile function*, and *percent point function* are also known in the literature. Python uses the last one, so you can compute, say $F^{-1}(.5)$ for the $Binomial(7, .4)$ distribution by typing:\n",
    "\n",
    "```python\n",
    "import scipy.stats as ss\n",
    "ss.binom(7, .4).ppf(.5) \n",
    "```"
   ]
  },
  {
   "cell_type": "markdown",
   "metadata": {
    "nbgrader": {
     "grade": true,
     "grade_id": "q2c",
     "locked": false,
     "points": 8,
     "solution": true
    }
   },
   "source": []
  },
  {
   "cell_type": "markdown",
   "metadata": {},
   "source": [
    "----"
   ]
  },
  {
   "cell_type": "markdown",
   "metadata": {},
   "source": [
    "## Two-sample test with normal distribution [40 points]"
   ]
  },
  {
   "cell_type": "markdown",
   "metadata": {},
   "source": [
    "**Q3)** Before we get to the actual testing in the next question, let's do some warm-up exercises."
   ]
  },
  {
   "cell_type": "markdown",
   "metadata": {},
   "source": [
    "a) If $X \\sim Normal(\\mu_x, \\sigma_x^2)$ and $Y \\sim Normal(\\mu_y, \\sigma_y^2)$, what are the probability distributions of $X + Y$ and $X - Y$? \n",
    "\n",
    "**Remark** The sum of Normally distributed random variables is again Normal. This property is called *sum-stability*. So we know, for example, that $X + Y$ is Normal. But with what parameters? And can we say the same of $X - Y$?"
   ]
  },
  {
   "cell_type": "code",
   "execution_count": 14,
   "metadata": {
    "collapsed": false,
    "run_control": {
     "frozen": false,
     "read_only": false
    }
   },
   "outputs": [
    {
     "data": {
      "image/png": "[encoded data removed]",
      "text/plain": [
       "<matplotlib.figure.Figure at 0x10aa67828>"
      ]
     },
     "metadata": {},
     "output_type": "display_data"
    }
   ],
   "source": [
    "import scipy.stats as ss\n",
    "import matplotlib.pyplot as plt\n",
    "import numpy as np\n",
    "%matplotlib inline\n",
    "\n",
    "X = ss.norm(1, 1).rvs(100000)\n",
    "Y = ss.norm(2, 2).rvs(100000)\n",
    "plt.hist(X - Y, bins = 100);"
   ]
  },
  {
   "cell_type": "code",
   "execution_count": 15,
   "metadata": {
    "collapsed": false,
    "run_control": {
     "frozen": false,
     "read_only": false
    }
   },
   "outputs": [
    {
     "data": {
      "text/plain": [
       "(-1.0034428160260616, 4.9930272320956011)"
      ]
     },
     "execution_count": 15,
     "metadata": {},
     "output_type": "execute_result"
    }
   ],
   "source": [
    "np.mean(X - Y), np.var(X - Y)"
   ]
  },
  {
   "cell_type": "markdown",
   "metadata": {
    "nbgrader": {
     "grade": true,
     "grade_id": "q3a",
     "locked": false,
     "points": 10,
     "solution": true
    }
   },
   "source": []
  },
  {
   "cell_type": "markdown",
   "metadata": {},
   "source": [
    "b) Now suppose that: \n",
    "\n",
    "+ $X_1,\\cdots,X_n$ are samples from some distribution with $E[X_i] = \\mu_x$ and $Var[X_i] = \\sigma_x^2$\n",
    "\n",
    "\n",
    "+ $Y_1,\\cdots,Y_m$ are samples from some (potentially different) distribution with $E[Y_i] = \\mu_y$ and $Var[Y_i] = \\sigma_y^2$\n",
    "\n",
    "+ Let $Z = \\frac{1}{n}\\sum_i X_i$ and $W = \\frac{1}{m}\\sum_i Y_i$. Assume $n$ is reasonably large. \n",
    "\n",
    "What are the probability distributions of $Z + W$ and $Z - W$?"
   ]
  },
  {
   "cell_type": "markdown",
   "metadata": {
    "nbgrader": {
     "grade": true,
     "grade_id": "q3b",
     "locked": false,
     "points": 5,
     "solution": true
    }
   },
   "source": []
  },
  {
   "cell_type": "markdown",
   "metadata": {},
   "source": [
    "---"
   ]
  },
  {
   "cell_type": "markdown",
   "metadata": {},
   "source": [
    "**Q4)** A company advertises that their product *Snake Oil 9000* can increase IQ temporarily by 5 points. To prove their claim, they gather 40 patients, divide them into a *treatment group*, which has 15 people in it, and a *control group* with the remaining 25. \n",
    "\n",
    "The treatment group is given *Snake Oil* and averages 105 in an IQ test. The control group is given a placebo and average 101 in an IQ test.\n",
    "\n",
    "Suppose that it is known that the standard deviation of IQ in the control group is $\\sigma_c = 6$ and the standard deviation of IQ in the treatment group is $\\sigma_t = 5$."
   ]
  },
  {
   "cell_type": "markdown",
   "metadata": {},
   "source": [
    "a) Let $\\hat{\\mu}_t$ and $\\hat{\\mu}_c$ denote the \"sample average of IQ\" (not *individual IQ*) in the treatment and control groups, respectively. \n",
    "\n",
    "Using the CLT: what are the approximate probability distributions of $\\hat{\\mu}_t$ and $\\hat{\\mu}_c$ in terms of $\\mu_t = E[\\hat{\\mu}_t]$, $\\mu_c = E[\\hat{\\mu}_c]$, $\\sigma_t$, and $\\sigma_c$?"
   ]
  },
  {
   "cell_type": "markdown",
   "metadata": {
    "nbgrader": {
     "grade": true,
     "grade_id": "q4a",
     "locked": false,
     "points": 5,
     "solution": true
    }
   },
   "source": []
  },
  {
   "cell_type": "markdown",
   "metadata": {},
   "source": [
    "b) Using what you discovered in the last question, compute the probability distribution of $\\hat{D} = \\hat{\\mu}_t - \\hat{\\mu}_c$."
   ]
  },
  {
   "cell_type": "markdown",
   "metadata": {
    "nbgrader": {
     "grade": true,
     "grade_id": "q4b",
     "locked": false,
     "points": 5,
     "solution": true
    }
   },
   "source": []
  },
  {
   "cell_type": "markdown",
   "metadata": {},
   "source": [
    "c) Let $\\delta = E[D]$. Test the hypothesis $H_0: \\delta \\leq 0$ against the hypothesis $H_0: \\delta \\geq 0$ with significance level $\\alpha = 0.01$."
   ]
  },
  {
   "cell_type": "code",
   "execution_count": 9,
   "metadata": {
    "collapsed": false,
    "nbgrader": {
     "grade": true,
     "grade_id": "q4c",
     "locked": false,
     "points": 10,
     "solution": true
    }
   },
   "outputs": [
    {
     "data": {
      "text/plain": [
       "4.5400894382349524"
      ]
     },
     "execution_count": 9,
     "metadata": {},
     "output_type": "execute_result"
    }
   ],
   "source": [
    "import scipy.stats as ss\n",
    "import numpy as np\n",
    "sigma = np.sqrt(36/25 + 25/15)\n",
    "delta_hyp = 0\n",
    "ss.norm(delta_hyp, sigma).ppf(0.995)"
   ]
  },
  {
   "cell_type": "markdown",
   "metadata": {},
   "source": [
    "d) What is the rejection region for this test?"
   ]
  },
  {
   "cell_type": "markdown",
   "metadata": {
    "nbgrader": {
     "grade": true,
     "grade_id": "q4d",
     "locked": false,
     "points": 5,
     "solution": true
    }
   },
   "source": []
  }
 ],
 "metadata": {
  "anaconda-cloud": {},
  "kernelspec": {
   "display_name": "Python [default]",
   "language": "python",
   "name": "python3"
  },
  "language_info": {
   "codemirror_mode": {
    "name": "ipython",
    "version": 3
   },
   "file_extension": ".py",
   "mimetype": "text/x-python",
   "name": "python",
   "nbconvert_exporter": "python",
   "pygments_lexer": "ipython3",
   "version": "3.5.2"
  }
 },
 "nbformat": 4,
 "nbformat_minor": 0
}
