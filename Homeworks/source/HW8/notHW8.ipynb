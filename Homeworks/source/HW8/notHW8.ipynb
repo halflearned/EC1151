{
 "cells": [
  {
   "cell_type": "markdown",
   "metadata": {
    "run_control": {
     "frozen": false,
     "read_only": false
    }
   },
   "source": [
    "## **Power of a test**"
   ]
  },
  {
   "cell_type": "markdown",
   "metadata": {},
   "source": [
    "**Q1)** Let $X \\sim Binomial(5, p)$. We want to test $H_0 : p \\leq \\frac{1}{2}$ versus $H_1: p > \\frac{1}{2}$. However, instead of following the procedure we learned in class, we decide to go with something simpler:\n",
    "\n",
    "<center>We will only reject the null hypothesis if all five coins land on Heads.\n"
   ]
  },
  {
   "cell_type": "markdown",
   "metadata": {},
   "source": [
    "a) What is the rejection region for this test? (The rejection region, $R$, is the set of outcomes of $X$ for which we reject $H_0$)."
   ]
  },
  {
   "cell_type": "markdown",
   "metadata": {},
   "source": [
    "**Solution** The rejection region is the set $R = \\{5\\}$, since that's the only outcome that leads to rejecting the null."
   ]
  },
  {
   "cell_type": "markdown",
   "metadata": {},
   "source": [
    "b) Find the probabilities that X falls in the rejection region $R$ when $p = 0, .1, .2, .3, ..., .9, 1$. "
   ]
  },
  {
   "cell_type": "code",
   "execution_count": 1,
   "metadata": {
    "collapsed": false
   },
   "outputs": [
    {
     "ename": "NameError",
     "evalue": "name 'np' is not defined",
     "output_type": "error",
     "traceback": [
      "\u001b[0;31m---------------------------------------------------------------------------\u001b[0m",
      "\u001b[0;31mNameError\u001b[0m                                 Traceback (most recent call last)",
      "\u001b[0;32m<ipython-input-1-cddd06a69497>\u001b[0m in \u001b[0;36m<module>\u001b[0;34m()\u001b[0m\n\u001b[1;32m      2\u001b[0m     \u001b[0;32mreturn\u001b[0m \u001b[0mss\u001b[0m\u001b[0;34m.\u001b[0m\u001b[0mbinom\u001b[0m\u001b[0;34m(\u001b[0m\u001b[0;36m5\u001b[0m\u001b[0;34m,\u001b[0m \u001b[0mps\u001b[0m\u001b[0;34m)\u001b[0m\u001b[0;34m.\u001b[0m\u001b[0mpmf\u001b[0m\u001b[0;34m(\u001b[0m\u001b[0;36m5\u001b[0m\u001b[0;34m)\u001b[0m\u001b[0;34m\u001b[0m\u001b[0m\n\u001b[1;32m      3\u001b[0m \u001b[0;34m\u001b[0m\u001b[0m\n\u001b[0;32m----> 4\u001b[0;31m \u001b[0mps\u001b[0m \u001b[0;34m=\u001b[0m \u001b[0mnp\u001b[0m\u001b[0;34m.\u001b[0m\u001b[0marray\u001b[0m\u001b[0;34m(\u001b[0m\u001b[0;34m[\u001b[0m\u001b[0;36m0\u001b[0m\u001b[0;34m,\u001b[0m \u001b[0;36m.1\u001b[0m\u001b[0;34m,\u001b[0m \u001b[0;36m.2\u001b[0m\u001b[0;34m,\u001b[0m \u001b[0;36m.3\u001b[0m\u001b[0;34m,\u001b[0m \u001b[0;36m.4\u001b[0m\u001b[0;34m,\u001b[0m \u001b[0;36m.5\u001b[0m\u001b[0;34m,\u001b[0m \u001b[0;36m.6\u001b[0m\u001b[0;34m,\u001b[0m \u001b[0;36m.7\u001b[0m\u001b[0;34m,\u001b[0m \u001b[0;36m.8\u001b[0m\u001b[0;34m,\u001b[0m \u001b[0;36m.9\u001b[0m\u001b[0;34m,\u001b[0m \u001b[0;36m1\u001b[0m\u001b[0;34m]\u001b[0m\u001b[0;34m)\u001b[0m\u001b[0;34m\u001b[0m\u001b[0m\n\u001b[0m\u001b[1;32m      5\u001b[0m \u001b[0mprob_X_in_R\u001b[0m \u001b[0;34m=\u001b[0m \u001b[0mpower1\u001b[0m\u001b[0;34m(\u001b[0m\u001b[0mps\u001b[0m\u001b[0;34m)\u001b[0m\u001b[0;34m\u001b[0m\u001b[0m\n",
      "\u001b[0;31mNameError\u001b[0m: name 'np' is not defined"
     ]
    }
   ],
   "source": [
    "def power1(ps):\n",
    "    return ss.binom(5, ps).pmf(5)\n",
    "\n",
    "ps = np.array([0, .1, .2, .3, .4, .5, .6, .7, .8, .9, 1])\n",
    "prob_X_in_R = power1(ps)"
   ]
  },
  {
   "cell_type": "code",
   "execution_count": 2,
   "metadata": {
    "collapsed": false
   },
   "outputs": [
    {
     "ename": "SyntaxError",
     "evalue": "invalid syntax (<ipython-input-2-e7f99f2d4a76>, line 1)",
     "output_type": "error",
     "traceback": [
      "\u001b[0;36m  File \u001b[0;32m\"<ipython-input-2-e7f99f2d4a76>\"\u001b[0;36m, line \u001b[0;32m1\u001b[0m\n\u001b[0;31m    c) **[Extra +5 points]** The function you found above is called the **power function**. It maps a parameter (in this case $p$) to the probability that the outcome will fall in the rejection region. For a better visual effect, try plotting this function. You should be able to reproduce this figure.\u001b[0m\n\u001b[0m     ^\u001b[0m\n\u001b[0;31mSyntaxError\u001b[0m\u001b[0;31m:\u001b[0m invalid syntax\n"
     ]
    }
   ],
   "source": [
    "c) **[Extra +5 points]** The function you found above is called the **power function**. It maps a parameter (in this case $p$) to the probability that the outcome will fall in the rejection region. For a better visual effect, try plotting this function. You should be able to reproduce this figure.\n",
    "\n",
    "<img src=\"power1.png\">"
   ]
  },
  {
   "cell_type": "code",
   "execution_count": 3,
   "metadata": {
    "collapsed": false
   },
   "outputs": [
    {
     "ename": "NameError",
     "evalue": "name 'plt' is not defined",
     "output_type": "error",
     "traceback": [
      "\u001b[0;31m---------------------------------------------------------------------------\u001b[0m",
      "\u001b[0;31mNameError\u001b[0m                                 Traceback (most recent call last)",
      "\u001b[0;32m<ipython-input-3-50445a6c8e8b>\u001b[0m in \u001b[0;36m<module>\u001b[0;34m()\u001b[0m\n\u001b[0;32m----> 1\u001b[0;31m \u001b[0mfig\u001b[0m\u001b[0;34m,\u001b[0m \u001b[0max\u001b[0m \u001b[0;34m=\u001b[0m \u001b[0mplt\u001b[0m\u001b[0;34m.\u001b[0m\u001b[0msubplots\u001b[0m\u001b[0;34m(\u001b[0m\u001b[0;36m1\u001b[0m\u001b[0;34m)\u001b[0m\u001b[0;34m\u001b[0m\u001b[0m\n\u001b[0m\u001b[1;32m      2\u001b[0m \u001b[0max\u001b[0m\u001b[0;34m.\u001b[0m\u001b[0mplot\u001b[0m\u001b[0;34m(\u001b[0m\u001b[0mps\u001b[0m\u001b[0;34m,\u001b[0m \u001b[0mprob_X_in_R\u001b[0m\u001b[0;34m)\u001b[0m\u001b[0;34m\u001b[0m\u001b[0m\n\u001b[1;32m      3\u001b[0m \u001b[0max\u001b[0m\u001b[0;34m.\u001b[0m\u001b[0mset_xlabel\u001b[0m\u001b[0;34m(\u001b[0m\u001b[0;34m\"Values of $p$\"\u001b[0m\u001b[0;34m,\u001b[0m \u001b[0mfontsize\u001b[0m \u001b[0;34m=\u001b[0m \u001b[0;36m15\u001b[0m\u001b[0;34m)\u001b[0m\u001b[0;34m\u001b[0m\u001b[0m\n\u001b[1;32m      4\u001b[0m \u001b[0max\u001b[0m\u001b[0;34m.\u001b[0m\u001b[0mset_ylabel\u001b[0m\u001b[0;34m(\u001b[0m\u001b[0;34m\"Prob(X in R)\"\u001b[0m\u001b[0;34m,\u001b[0m \u001b[0mfontsize\u001b[0m \u001b[0;34m=\u001b[0m \u001b[0;36m15\u001b[0m\u001b[0;34m)\u001b[0m\u001b[0;34m\u001b[0m\u001b[0m\n\u001b[1;32m      5\u001b[0m \u001b[0max\u001b[0m\u001b[0;34m.\u001b[0m\u001b[0mset_title\u001b[0m\u001b[0;34m(\u001b[0m\u001b[0;34m\"Power(p)\"\u001b[0m\u001b[0;34m,\u001b[0m \u001b[0mfontsize\u001b[0m \u001b[0;34m=\u001b[0m \u001b[0;36m20\u001b[0m\u001b[0;34m)\u001b[0m\u001b[0;34m\u001b[0m\u001b[0m\n",
      "\u001b[0;31mNameError\u001b[0m: name 'plt' is not defined"
     ]
    }
   ],
   "source": [
    "fig, ax = plt.subplots(1)\n",
    "ax.plot(ps, prob_X_in_R)\n",
    "ax.set_xlabel(\"Values of $p$\", fontsize = 15)\n",
    "ax.set_ylabel(\"Prob(X in R)\", fontsize = 15)\n",
    "ax.set_title(\"Power(p)\", fontsize = 20)\n",
    "fig.savefig(\"power1\")"
   ]
  },
  {
   "cell_type": "code",
   "execution_count": null,
   "metadata": {
    "collapsed": true
   },
   "outputs": [],
   "source": [
    "d) How does the power function relate to the probability of Type 1 and Type 2 errors? Recall that\n",
    "+ Type 1 errors occur when $H_0$ is true but $X$ falls in the rejection region\n",
    "+ Type 2 errors occur when $H_0$ is false but $X$ falls outside the rejection region"
   ]
  },
  {
   "cell_type": "code",
   "execution_count": 4,
   "metadata": {
    "collapsed": false
   },
   "outputs": [
    {
     "ename": "SyntaxError",
     "evalue": "invalid syntax (<ipython-input-4-695934729c83>, line 1)",
     "output_type": "error",
     "traceback": [
      "\u001b[0;36m  File \u001b[0;32m\"<ipython-input-4-695934729c83>\"\u001b[0;36m, line \u001b[0;32m1\u001b[0m\n\u001b[0;31m    **Q2)** The setup is the same as the previous exercise. $X \\sim Binomial(5, p)$, and we still want to test $H_0 : p \\leq \\frac{1}{2}$ versus $H_1: p > \\frac{1}{2}$. However, this time our rejection method is the following.\u001b[0m\n\u001b[0m     ^\u001b[0m\n\u001b[0;31mSyntaxError\u001b[0m\u001b[0;31m:\u001b[0m invalid syntax\n"
     ]
    }
   ],
   "source": [
    "**Q2)** The setup is the same as the previous exercise. $X \\sim Binomial(5, p)$, and we still want to test $H_0 : p \\leq \\frac{1}{2}$ versus $H_1: p > \\frac{1}{2}$. However, this time our rejection method is the following.\n",
    "\n",
    "<center>We will reject the null hypothesis if at least 3 coins land on Heads.\n"
   ]
  },
  {
   "cell_type": "code",
   "execution_count": 5,
   "metadata": {
    "collapsed": false
   },
   "outputs": [
    {
     "ename": "SyntaxError",
     "evalue": "invalid syntax (<ipython-input-5-55294a83003a>, line 2)",
     "output_type": "error",
     "traceback": [
      "\u001b[0;36m  File \u001b[0;32m\"<ipython-input-5-55294a83003a>\"\u001b[0;36m, line \u001b[0;32m2\u001b[0m\n\u001b[0;31m    a) What is the rejection region for this test?\u001b[0m\n\u001b[0m     ^\u001b[0m\n\u001b[0;31mSyntaxError\u001b[0m\u001b[0;31m:\u001b[0m invalid syntax\n"
     ]
    }
   ],
   "source": [
    "\n",
    "a) What is the rejection region for this test? \n"
   ]
  },
  {
   "cell_type": "code",
   "execution_count": 6,
   "metadata": {
    "collapsed": false
   },
   "outputs": [
    {
     "ename": "SyntaxError",
     "evalue": "invalid syntax (<ipython-input-6-1f51f62c734d>, line 1)",
     "output_type": "error",
     "traceback": [
      "\u001b[0;36m  File \u001b[0;32m\"<ipython-input-6-1f51f62c734d>\"\u001b[0;36m, line \u001b[0;32m1\u001b[0m\n\u001b[0;31m    **Solution** $R = \\{3,4,5\\}$\u001b[0m\n\u001b[0m     ^\u001b[0m\n\u001b[0;31mSyntaxError\u001b[0m\u001b[0;31m:\u001b[0m invalid syntax\n"
     ]
    }
   ],
   "source": [
    "**Solution** $R = \\{3,4,5\\}$"
   ]
  },
  {
   "cell_type": "code",
   "execution_count": 7,
   "metadata": {
    "collapsed": false
   },
   "outputs": [
    {
     "ename": "SyntaxError",
     "evalue": "invalid syntax (<ipython-input-7-917e3314fb99>, line 1)",
     "output_type": "error",
     "traceback": [
      "\u001b[0;36m  File \u001b[0;32m\"<ipython-input-7-917e3314fb99>\"\u001b[0;36m, line \u001b[0;32m1\u001b[0m\n\u001b[0;31m    b) Find the probabilities that X falls in the rejection region $R$ when $p = 0,.1, .2, .3, ..., .9,1$.\u001b[0m\n\u001b[0m     ^\u001b[0m\n\u001b[0;31mSyntaxError\u001b[0m\u001b[0;31m:\u001b[0m invalid syntax\n"
     ]
    }
   ],
   "source": [
    "b) Find the probabilities that X falls in the rejection region $R$ when $p = 0,.1, .2, .3, ..., .9,1$. "
   ]
  },
  {
   "cell_type": "markdown",
   "metadata": {},
   "source": [
    "def power2(ps):\n",
    "    return 1 - ss.binom(5, ps).cdf(2)\n",
    "\n",
    "ps = np.array([0, .1, .2, .3, .4, .5, .6, .7, .8, .9, 1])\n",
    "prob_X_in_R2 = power2(ps)"
   ]
  },
  {
   "cell_type": "code",
   "execution_count": 8,
   "metadata": {
    "collapsed": false
   },
   "outputs": [
    {
     "ename": "SyntaxError",
     "evalue": "invalid syntax (<ipython-input-8-f1370abd443d>, line 1)",
     "output_type": "error",
     "traceback": [
      "\u001b[0;36m  File \u001b[0;32m\"<ipython-input-8-f1370abd443d>\"\u001b[0;36m, line \u001b[0;32m1\u001b[0m\n\u001b[0;31m    c) **[Extra +5 points]** Plot the result you found above. You should get the following picture.\u001b[0m\n\u001b[0m     ^\u001b[0m\n\u001b[0;31mSyntaxError\u001b[0m\u001b[0;31m:\u001b[0m invalid syntax\n"
     ]
    }
   ],
   "source": [
    "c) **[Extra +5 points]** Plot the result you found above. You should get the following picture.\n",
    "\n",
    "<img src=\"power2.png\">"
   ]
  },
  {
   "cell_type": "code",
   "execution_count": 9,
   "metadata": {
    "collapsed": false
   },
   "outputs": [
    {
     "ename": "NameError",
     "evalue": "name 'plt' is not defined",
     "output_type": "error",
     "traceback": [
      "\u001b[0;31m---------------------------------------------------------------------------\u001b[0m",
      "\u001b[0;31mNameError\u001b[0m                                 Traceback (most recent call last)",
      "\u001b[0;32m<ipython-input-9-b078eec7aa03>\u001b[0m in \u001b[0;36m<module>\u001b[0;34m()\u001b[0m\n\u001b[0;32m----> 1\u001b[0;31m \u001b[0mfig\u001b[0m\u001b[0;34m,\u001b[0m \u001b[0max\u001b[0m \u001b[0;34m=\u001b[0m \u001b[0mplt\u001b[0m\u001b[0;34m.\u001b[0m\u001b[0msubplots\u001b[0m\u001b[0;34m(\u001b[0m\u001b[0;36m1\u001b[0m\u001b[0;34m)\u001b[0m\u001b[0;34m\u001b[0m\u001b[0m\n\u001b[0m\u001b[1;32m      2\u001b[0m \u001b[0max\u001b[0m\u001b[0;34m.\u001b[0m\u001b[0mplot\u001b[0m\u001b[0;34m(\u001b[0m\u001b[0mps\u001b[0m\u001b[0;34m,\u001b[0m \u001b[0mprob_X_in_R2\u001b[0m\u001b[0;34m)\u001b[0m\u001b[0;34m\u001b[0m\u001b[0m\n\u001b[1;32m      3\u001b[0m \u001b[0max\u001b[0m\u001b[0;34m.\u001b[0m\u001b[0mset_xlabel\u001b[0m\u001b[0;34m(\u001b[0m\u001b[0;34m\"Values of $p$\"\u001b[0m\u001b[0;34m,\u001b[0m \u001b[0mfontsize\u001b[0m \u001b[0;34m=\u001b[0m \u001b[0;36m15\u001b[0m\u001b[0;34m)\u001b[0m\u001b[0;34m\u001b[0m\u001b[0m\n\u001b[1;32m      4\u001b[0m \u001b[0max\u001b[0m\u001b[0;34m.\u001b[0m\u001b[0mset_ylabel\u001b[0m\u001b[0;34m(\u001b[0m\u001b[0;34m\"Prob(X in R)\"\u001b[0m\u001b[0;34m,\u001b[0m \u001b[0mfontsize\u001b[0m \u001b[0;34m=\u001b[0m \u001b[0;36m15\u001b[0m\u001b[0;34m)\u001b[0m\u001b[0;34m\u001b[0m\u001b[0m\n\u001b[1;32m      5\u001b[0m \u001b[0max\u001b[0m\u001b[0;34m.\u001b[0m\u001b[0mset_title\u001b[0m\u001b[0;34m(\u001b[0m\u001b[0;34m\"Power(p)\"\u001b[0m\u001b[0;34m,\u001b[0m \u001b[0mfontsize\u001b[0m \u001b[0;34m=\u001b[0m \u001b[0;36m20\u001b[0m\u001b[0;34m)\u001b[0m\u001b[0;34m\u001b[0m\u001b[0m\n",
      "\u001b[0;31mNameError\u001b[0m: name 'plt' is not defined"
     ]
    }
   ],
   "source": [
    "fig, ax = plt.subplots(1)\n",
    "ax.plot(ps, prob_X_in_R2)\n",
    "ax.set_xlabel(\"Values of $p$\", fontsize = 15)\n",
    "ax.set_ylabel(\"Prob(X in R)\", fontsize = 15)\n",
    "ax.set_title(\"Power(p)\", fontsize = 20)\n",
    "fig.savefig(\"power2\")"
   ]
  },
  {
   "cell_type": "code",
   "execution_count": 10,
   "metadata": {
    "collapsed": false
   },
   "outputs": [
    {
     "name": "stdout",
     "output_type": "stream",
     "text": [
      "Object `why` not found.\n"
     ]
    }
   ],
   "source": [
    "d) How do the two power functions you found compare? In particular: which one is better when $H_0$ is true, and which one is better when $H_1$ is true, and why?"
   ]
  },
  {
   "cell_type": "code",
   "execution_count": null,
   "metadata": {
    "collapsed": true
   },
   "outputs": [],
   "source": [
    "d) How do the two power functions you found compare? In particular: which one is better when $H_0$ is true, and which one is better when $H_1$ is true, and why"
   ]
  },
  {
   "cell_type": "code",
   "execution_count": 11,
   "metadata": {
    "collapsed": false
   },
   "outputs": [
    {
     "ename": "SyntaxError",
     "evalue": "invalid syntax (<ipython-input-11-6a5feb2f7a6f>, line 1)",
     "output_type": "error",
     "traceback": [
      "\u001b[0;36m  File \u001b[0;32m\"<ipython-input-11-6a5feb2f7a6f>\"\u001b[0;36m, line \u001b[0;32m1\u001b[0m\n\u001b[0;31m    **Q3)** This time, we will see what is the effect of an increase in $n$ on the the power function. Let $X \\sim Binomial(500, p)$, and we still want to test $H_0 : p \\leq \\frac{1}{2}$ versus $H_1: p > \\frac{1}{2}$. However, this time our rejection method is the following.\u001b[0m\n\u001b[0m     ^\u001b[0m\n\u001b[0;31mSyntaxError\u001b[0m\u001b[0;31m:\u001b[0m invalid syntax\n"
     ]
    }
   ],
   "source": [
    "**Q3)** This time, we will see what is the effect of an increase in $n$ on the the power function. Let $X \\sim Binomial(500, p)$, and we still want to test $H_0 : p \\leq \\frac{1}{2}$ versus $H_1: p > \\frac{1}{2}$. However, this time our rejection method is the following.\n",
    "\n",
    "<center>We will reject the null hypothesis if at least 300 coins land on Heads.\n",
    "\n",
    "<br>\n",
    "This is, as you can see, a scaled-up version of the previous exercise."
   ]
  },
  {
   "cell_type": "code",
   "execution_count": 12,
   "metadata": {
    "collapsed": false
   },
   "outputs": [
    {
     "ename": "SyntaxError",
     "evalue": "invalid syntax (<ipython-input-12-737b1eb7dced>, line 3)",
     "output_type": "error",
     "traceback": [
      "\u001b[0;36m  File \u001b[0;32m\"<ipython-input-12-737b1eb7dced>\"\u001b[0;36m, line \u001b[0;32m3\u001b[0m\n\u001b[0;31m    b) Find the probabilities that X falls in the rejection region $R$ when $p = 0,.1, .2, .3, ..., .9,1$.\u001b[0m\n\u001b[0m     ^\u001b[0m\n\u001b[0;31mSyntaxError\u001b[0m\u001b[0;31m:\u001b[0m invalid syntax\n"
     ]
    }
   ],
   "source": [
    "a) What is the rejection region for this test?\n",
    "\n",
    "b) Find the probabilities that X falls in the rejection region $R$ when $p = 0,.1, .2, .3, ..., .9,1$. \n",
    "\n",
    "c) Plot the power function. You should reproduce the following figure.\n",
    "\n",
    "<img src=\"power3.png\">\n",
    "\n",
    "def power3(ps):\n",
    "    return 1 - ss.binom(500, ps).cdf(299)\n",
    "\n",
    "ps = np.array([0, .1, .2, .3, .4, .5, .6, .7, .8, .9, 1])\n",
    "prob_X_in_R3 = power3(ps)\n",
    "\n",
    "fig, ax = plt.subplots(1)\n",
    "ax.plot(ps, prob_X_in_R3)\n",
    "ax.set_xlabel(\"Values of $p$\", fontsize = 15)\n",
    "ax.set_ylabel(\"Prob(X in R)\", fontsize = 15)\n",
    "ax.set_title(\"Power(p)\", fontsize = 20)\n",
    "fig.savefig(\"power3\")"
   ]
  },
  {
   "cell_type": "code",
   "execution_count": 13,
   "metadata": {
    "collapsed": false
   },
   "outputs": [
    {
     "name": "stdout",
     "output_type": "stream",
     "text": [
      "Object `other` not found.\n"
     ]
    }
   ],
   "source": [
    "d) How does the power function of this exercise compare to the one in the previous exercise? Is one test always better than the other?"
   ]
  },
  {
   "cell_type": "code",
   "execution_count": null,
   "metadata": {
    "collapsed": true
   },
   "outputs": [],
   "source": [
    "d) How does the power function of this exercise compare to the one in the previous exercise? Is one test always better than the other"
   ]
  },
  {
   "cell_type": "markdown",
   "metadata": {},
   "source": [
    "### São Paulo Traffic\n",
    "\n",
    "**Q1)** A survey conducted in São Paulo found that, in the ten-year period 2005-2014, there had been an average of 15 traffic accidents per year in the neighborhood of Tatuapé. However, starting Jan 1st, 2015, new traffic regulations were put in place, and in that year there were only 12 accidents. The mayor wants to claim that the new regulations have decreased the number of accidents. But have they?\n",
    "\n",
    "You may assume that that traffic accidents follow a Poisson distribution, and that everything else remained the same (that is, *if* there has been any change in the average number of accidents, then that change was caused by the regulations and nothing else). \n",
    "\n",
    "a ) Formalize the problem by stating what are the hypotheses associated with a **one-tailed** test.\n",
    "\n",
    "b) Let's try to compute the p-values associated with this test using the CLT. What is the approximate distribution of $\\lambda$\n",
    "\n",
    "n = 10  # Because the sample size is 10 years\n",
    "x_sims = ss.poisson(15).rvs((500000, n))\n",
    "lambdahat_sims = np.mean(x_sims, 1)\n",
    "pvalue = np.mean(lambdahat_sims <= 12)\n",
    "print(pvalue)\n",
    "\n",
    "pvalue = ss.norm(15, np.sqrt(15/10)).cdf(12)  # lambdahat ~ Normal(lambda, lambda/n) \n",
    "print(pvalue)"
   ]
  },
  {
   "cell_type": "code",
   "execution_count": null,
   "metadata": {
    "collapsed": true
   },
   "outputs": [],
   "source": []
  }
 ],
 "metadata": {
  "anaconda-cloud": {},
  "kernelspec": {
   "display_name": "Python [default]",
   "language": "python",
   "name": "python3"
  },
  "language_info": {
   "codemirror_mode": {
    "name": "ipython",
    "version": 3
   },
   "file_extension": ".py",
   "mimetype": "text/x-python",
   "name": "python",
   "nbconvert_exporter": "python",
   "pygments_lexer": "ipython3",
   "version": "3.5.2"
  }
 },
 "nbformat": 4,
 "nbformat_minor": 0
}
