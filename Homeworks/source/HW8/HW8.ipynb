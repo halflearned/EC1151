{
 "cells": [
  {
   "cell_type": "markdown",
   "metadata": {
    "run_control": {
     "frozen": false,
     "read_only": false
    }
   },
   "source": [
    "**Student name and BC username**"
   ]
  },
  {
   "cell_type": "markdown",
   "metadata": {},
   "source": [
    "NAME HERE"
   ]
  },
  {
   "cell_type": "markdown",
   "metadata": {},
   "source": [
    "BC USERNAME HERE"
   ]
  },
  {
   "cell_type": "markdown",
   "metadata": {},
   "source": [
    "**Collaborators names and BC usernames (max 2 collaborators)**"
   ]
  },
  {
   "cell_type": "markdown",
   "metadata": {},
   "source": [
    "+ NAME 1 \n",
    "\n",
    "+ NAME 2"
   ]
  },
  {
   "cell_type": "markdown",
   "metadata": {},
   "source": [
    "# <font face = \"times\"><center>  EC1151 - Homework 8 - Due Nov 4th, 3PM</font> "
   ]
  },
  {
   "cell_type": "markdown",
   "metadata": {},
   "source": [
    "<font face=\"times\">\n",
    "# Instructions\n",
    "<br>\n",
    "\n",
    "+ You must fill out this Jupyter notebook and return it by e-mail to baisihad@bc.edu\n",
    "\n",
    "+ Double click on the cells to edit them\n",
    "\n",
    "+ For questions that need mathematical notation, try to use $\\LaTeX$ if you can.\n",
    "\n",
    "+ Sometimes, below a question that requires an answer there will be a cell with several `assert` statements. If you can run that cell without generating error, your answer has been validated and you are guaranteed the points.\n",
    "\n",
    "+ If you're stuck, try posting a question in the Piazza forum. Active contributors will be rewarded.\n",
    "\n",
    "+ Finally, this is <b>experimental</b>. I'd love to hear what you think about this homework format. You can e-mail me with your thoughts, or (preferrably) post in the Piazza forum (possibly anonymously to your peers).\n"
   ]
  },
  {
   "cell_type": "markdown",
   "metadata": {},
   "source": [
    "---"
   ]
  },
  {
   "cell_type": "markdown",
   "metadata": {},
   "source": [
    "I'll import all the libraries you may need ahead."
   ]
  },
  {
   "cell_type": "code",
   "execution_count": 42,
   "metadata": {
    "collapsed": true,
    "run_control": {
     "frozen": false,
     "read_only": false
    }
   },
   "outputs": [],
   "source": [
    "import numpy as np\n",
    "import scipy.stats as ss\n",
    "import matplotlib.pyplot as plt\n",
    "%matplotlib inline"
   ]
  },
  {
   "cell_type": "markdown",
   "metadata": {},
   "source": [
    "---"
   ]
  },
  {
   "cell_type": "markdown",
   "metadata": {},
   "source": [
    "## Basic concepts [5 points]"
   ]
  },
  {
   "cell_type": "markdown",
   "metadata": {},
   "source": [
    "**Q1)** Check whether the following statements are True or False, and explain why. \n",
    "\n",
    "a) If the total area of our rejection region is $\\alpha$%, then the probability of a Type 1 error is also $\\alpha$%."
   ]
  },
  {
   "cell_type": "markdown",
   "metadata": {
    "nbgrader": {
     "grade": true,
     "grade_id": "q1a",
     "locked": false,
     "points": 1,
     "solution": true
    }
   },
   "source": []
  },
  {
   "cell_type": "markdown",
   "metadata": {},
   "source": [
    "b) Suppose we want to estimate the true mean $\\mu$ given our data. Since it could be anywhere on the real line, we say it is random. A *95% confidence interval* is the region where the true but random $\\mu$ falls 95% of the time."
   ]
  },
  {
   "cell_type": "markdown",
   "metadata": {
    "nbgrader": {
     "grade": true,
     "grade_id": "q1b",
     "locked": false,
     "points": 2,
     "solution": true
    }
   },
   "source": []
  },
  {
   "cell_type": "markdown",
   "metadata": {},
   "source": [
    "c) When testing a hypothesis, if the *p-value* is higher than our *significance level*, we say that the null hypothesis is true."
   ]
  },
  {
   "cell_type": "markdown",
   "metadata": {
    "nbgrader": {
     "grade": true,
     "grade_id": "q1c",
     "locked": false,
     "points": 1,
     "solution": true
    }
   },
   "source": []
  },
  {
   "cell_type": "markdown",
   "metadata": {},
   "source": [
    "d) Confidence intervals get wider as the significance level $\\alpha$ decreases."
   ]
  },
  {
   "cell_type": "markdown",
   "metadata": {
    "nbgrader": {
     "grade": true,
     "grade_id": "q1d",
     "locked": false,
     "points": 1,
     "solution": true
    }
   },
   "source": []
  },
  {
   "cell_type": "markdown",
   "metadata": {},
   "source": [
    "---"
   ]
  },
  {
   "cell_type": "markdown",
   "metadata": {},
   "source": [
    "## Variable transformations [15 points]"
   ]
  },
  {
   "cell_type": "markdown",
   "metadata": {},
   "source": [
    "**Q2)** Prove this fact from the lecture slides:\n",
    "\n",
    "$$X \\sim Uniform(0,1) \\qquad \\implies \\qquad Z = -\\log(X) \\sim Exponential(1)$$"
   ]
  },
  {
   "cell_type": "markdown",
   "metadata": {},
   "source": [
    "Recall that, if $X \\sim Uniform(0,1)$\n",
    "\n",
    "$$F_X(x) = \\begin{cases}0 \\quad \\text{if  } \\ x < 0 \\\\\n",
    "x \\quad \\text{if  } \\ 0 \\leq x < 1 \\\\\n",
    "1 \\quad \\text{if  } \\ 1 \\leq x \n",
    "\\end{cases}$$\n",
    "\n",
    "$$f_X(x) = \\begin{cases}\n",
    "1 \\quad \\text{if  } \\ 0 \\leq x < 1 \\\\\n",
    "0 \\quad \\text{otherwise} \n",
    "\\end{cases}$$\n",
    "\n",
    "\n",
    "While if $Z \\sim Exponential(1)$, then\n",
    "\n",
    "$$F_Z(z) = 1 - e^{-z}$$\n",
    "\n",
    "$$f_Z(z) = e^{-z}$$"
   ]
  },
  {
   "cell_type": "markdown",
   "metadata": {
    "nbgrader": {
     "grade": true,
     "grade_id": "q2",
     "locked": false,
     "points": 15,
     "solution": true
    }
   },
   "source": [
    "---"
   ]
  },
  {
   "cell_type": "markdown",
   "metadata": {},
   "source": [
    "## Trump + CLT [20 points]"
   ]
  },
  {
   "cell_type": "markdown",
   "metadata": {},
   "source": [
    "**Q3)** Imagine that in a poll of 1000 registered voters, 521 said they'd vote for Donald Trump, so the estimate of the fraction of pro-Trump voters is $\\hat{p} = 0.521$. Let's test\n",
    "\n",
    "$$H_0: p = .5 \\qquad \\qquad H_1: p \\neq .5$$\n",
    "\n",
    "at a significance level $\\alpha = .05$. \n",
    "\n",
    "When answering the following questions, assume throughout that $H_0$ is true.\n",
    "\n",
    "a) Denote each survey answer by $X_i$. What is the distribution of each $X_i$ under $H_0$?"
   ]
  },
  {
   "cell_type": "markdown",
   "metadata": {
    "nbgrader": {
     "grade": true,
     "grade_id": "q3a",
     "locked": false,
     "points": 4,
     "solution": true
    }
   },
   "source": []
  },
  {
   "cell_type": "markdown",
   "metadata": {},
   "source": [
    "b) What are the values of $E[X_i]$ and $Var[X_i]$, assuming $H_0$ is true?"
   ]
  },
  {
   "cell_type": "markdown",
   "metadata": {
    "nbgrader": {
     "grade": true,
     "grade_id": "q3b",
     "locked": false,
     "points": 4,
     "solution": true
    }
   },
   "source": []
  },
  {
   "cell_type": "markdown",
   "metadata": {},
   "source": [
    "c) *According to the Central Limit Theorem*, we have that\n",
    "\n",
    "$$\\hat{p} \\sim Normal(?, ?)$$\n",
    "\n",
    "Answer what are the values of \"?\"."
   ]
  },
  {
   "cell_type": "markdown",
   "metadata": {
    "nbgrader": {
     "grade": true,
     "grade_id": "q3c",
     "locked": false,
     "points": 4,
     "solution": true
    }
   },
   "source": []
  },
  {
   "cell_type": "markdown",
   "metadata": {},
   "source": [
    "d) At $\\alpha = 0.1$, what are the rejection regions associated with $H_0$?"
   ]
  },
  {
   "cell_type": "markdown",
   "metadata": {
    "nbgrader": {
     "grade": true,
     "grade_id": "q3d",
     "locked": false,
     "points": 4,
     "solution": true
    }
   },
   "source": []
  },
  {
   "cell_type": "markdown",
   "metadata": {},
   "source": [
    "e) Find a 90% confidence interval around the estimate $\\hat{p}$ using the CLT."
   ]
  },
  {
   "cell_type": "markdown",
   "metadata": {
    "collapsed": true,
    "nbgrader": {
     "grade": true,
     "grade_id": "q3e",
     "locked": false,
     "points": 4,
     "solution": true
    },
    "run_control": {
     "frozen": false,
     "read_only": false
    }
   },
   "source": []
  },
  {
   "cell_type": "markdown",
   "metadata": {},
   "source": [
    "---"
   ]
  },
  {
   "cell_type": "markdown",
   "metadata": {},
   "source": [
    "## \"Z-tests\" (Normal with known mean) [20 points]"
   ]
  },
  {
   "cell_type": "markdown",
   "metadata": {},
   "source": [
    "**Q4)** The length of a certain machined part is supposed to be 10 centimeters. In fact, due to imperfections in the manufacturing process, the actual length is a random variable. The standard deviation is due to inherent factors in the process, which remain fairly stable over time. From historical data, the standard deviation is known with a high degree of accuracy to be $\\sigma = 0.3$. The mean $\\mu$, on the other hand, may be set by adjusting various parameters in the process and hence may change to an unknown value fairly frequently. Suppose that a sample of 100 parts has mean $\\hat{\\mu} = 10.1$. We are interested in testing \n",
    "\n",
    "$$H_0: \\mu = 10 \\qquad H_1: \\mu \\neq 10$$"
   ]
  },
  {
   "cell_type": "markdown",
   "metadata": {},
   "source": [
    "a) Begin by computing the \"Z-statistic\":\n",
    "\n",
    "$$\\hat{z} = \\frac{\\hat{\\mu} - \\mu_{hyp}}{\\sqrt{\\frac{\\sigma^2}{n}}}$$"
   ]
  },
  {
   "cell_type": "markdown",
   "metadata": {
    "nbgrader": {
     "grade": true,
     "grade_id": "q4a",
     "locked": false,
     "points": 4,
     "solution": true
    }
   },
   "source": []
  },
  {
   "cell_type": "markdown",
   "metadata": {},
   "source": [
    "b) Use the CLT and what you learned about normalization to give the approximate distribution of $\\hat{Z}$, assuming $H_0$."
   ]
  },
  {
   "cell_type": "markdown",
   "metadata": {
    "nbgrader": {
     "grade": true,
     "grade_id": "q4b",
     "locked": false,
     "points": 4,
     "solution": true
    }
   },
   "source": []
  },
  {
   "cell_type": "markdown",
   "metadata": {},
   "source": [
    "c) Use the distribution of $\\hat{Z}$ to find the appropriate width for a 95% confidence interval."
   ]
  },
  {
   "cell_type": "markdown",
   "metadata": {
    "nbgrader": {
     "grade": true,
     "grade_id": "q4c",
     "locked": false,
     "points": 4,
     "solution": true
    }
   },
   "source": []
  },
  {
   "cell_type": "markdown",
   "metadata": {},
   "source": [
    "d) What is the 95% confidence interval around the estimate $\\hat{z} = 10.1$? "
   ]
  },
  {
   "cell_type": "markdown",
   "metadata": {
    "nbgrader": {
     "grade": true,
     "grade_id": "q4d",
     "locked": false,
     "points": 4,
     "solution": true
    }
   },
   "source": []
  },
  {
   "cell_type": "markdown",
   "metadata": {},
   "source": [
    "e) Would you reject $H_0$ based on your test?"
   ]
  },
  {
   "cell_type": "markdown",
   "metadata": {
    "nbgrader": {
     "grade": true,
     "grade_id": "q4e",
     "locked": false,
     "points": 4,
     "solution": true
    }
   },
   "source": [
    "---"
   ]
  },
  {
   "cell_type": "markdown",
   "metadata": {},
   "source": [
    "## \"t-tests\" (Normal with unknown mean) [20 points]"
   ]
  },
  {
   "cell_type": "markdown",
   "metadata": {},
   "source": [
    "**Q5)** The setup is the same as above, except that we will relax the assumption that we know $\\sigma$."
   ]
  },
  {
   "cell_type": "markdown",
   "metadata": {},
   "source": [
    "We will work with the **t-statistic**."
   ]
  },
  {
   "cell_type": "markdown",
   "metadata": {},
   "source": [
    "$$\\hat{T} = \\frac{\\hat{\\mu} - \\mu_{hyp}}{\\sqrt{\\frac{\\hat{\\sigma}^2}{n}}} \\sim t_{n-1}$$\n",
    "\n",
    "Under $H_0$, the distribution of $\\hat{T}$ is the **Student-t distribution with n-1 *degrees of freedom***. We cannot use the Normal distribution because we are not using the true variance $\\sigma^2$, but and estimate of it. This introduces some unwanted randomness, and ends up polluting the distribution.\n",
    "\n",
    "\n",
    "In Python, you can query anything about this distribution using the object\n",
    "\n",
    "```python\n",
    "ss.t(df = n - 1)  #  \"n\" is sample size, and df stands for \"degrees of freedom\".\n",
    "```\n",
    "Examples:\n",
    "```python\n",
    "ss.t(df = 99).cdf(2)  # Value of F(2), where F is cdf, assuming sample size is n = 100\n",
    "ss.t(df = 49).pdf(0)  # Value of f(2), where f is pdf, assuming sample size is n = 50\n",
    "ss.t(df = 99).ppf(.025)  # Value of F^{-1}(alpha/2), with n = 100 and alpha = 5%\n",
    "```\n",
    "\n",
    "\n",
    "\n",
    "\n",
    "\n",
    "Remark: The expression **degrees of freedom** carries little meaning. Whenever you encounter it in the context of hypothesis testing, just think of it as something like \"adjusted sample size\"."
   ]
  },
  {
   "cell_type": "markdown",
   "metadata": {},
   "source": [
    "a) Compute the value of $\\hat{t}$ assuming that you have estimates $\\hat{\\mu} = 10.1$ and $\\hat{\\sigma} = 0.35$."
   ]
  },
  {
   "cell_type": "code",
   "execution_count": null,
   "metadata": {
    "collapsed": true,
    "nbgrader": {
     "grade": true,
     "grade_id": "q5a",
     "locked": false,
     "points": 5,
     "solution": true
    },
    "run_control": {
     "frozen": false,
     "read_only": false
    }
   },
   "outputs": [],
   "source": []
  },
  {
   "cell_type": "markdown",
   "metadata": {},
   "source": [
    "b) Use the Student-t distribution, as above, to find the rejection regions for $\\alpha = 0.1$."
   ]
  },
  {
   "cell_type": "code",
   "execution_count": 102,
   "metadata": {
    "collapsed": false,
    "nbgrader": {
     "grade": true,
     "grade_id": "q5b",
     "locked": false,
     "points": 5,
     "solution": true
    },
    "run_control": {
     "frozen": false,
     "read_only": false
    }
   },
   "outputs": [],
   "source": []
  },
  {
   "cell_type": "markdown",
   "metadata": {},
   "source": [
    "c) Does $\\hat{t}$ fall inside or outside the rejection region? Given this information, should we reject $H_0$ at $\\alpha = 0.1$?"
   ]
  },
  {
   "cell_type": "markdown",
   "metadata": {
    "nbgrader": {
     "grade": true,
     "grade_id": "q5c",
     "locked": false,
     "points": 5,
     "solution": true
    }
   },
   "source": []
  },
  {
   "cell_type": "markdown",
   "metadata": {},
   "source": [
    "d) Suppose that you forgot all about the Student-t distribution, treated $\\hat{\\sigma}$ as if it were the true $\\sigma$ and used $Normal(0,1)$ instead of $t_{n-1}$. Would your rejection region have been much different? How does your answer change when $n$ is very small versus $n$ very large? (See more about this in the last section of the homework)."
   ]
  },
  {
   "cell_type": "markdown",
   "metadata": {
    "nbgrader": {
     "grade": true,
     "grade_id": "q5d",
     "locked": false,
     "points": 5,
     "solution": true
    }
   },
   "source": []
  },
  {
   "cell_type": "markdown",
   "metadata": {},
   "source": [
    "\n",
    "\n",
    "---"
   ]
  },
  {
   "cell_type": "markdown",
   "metadata": {},
   "source": [
    "## **$\\chi^2$ tests** [20 points]"
   ]
  },
  {
   "cell_type": "markdown",
   "metadata": {},
   "source": [
    "**Q6)** Recall that a **$\\chi^2$ test** is a test where the statistic of interest follows a $\\chi^2$ distribution. \n",
    "\n",
    "Let's suppose that given $n = 50$ observations, we have computed $\\hat{\\sigma}^2 = 7$. We would like to test:\n",
    "\n",
    "$$H_0: \\sigma^2 \\leq 6 \\qquad H_1: \\sigma^2 > 6$$"
   ]
  },
  {
   "cell_type": "markdown",
   "metadata": {},
   "source": [
    "It turns out that the $\\chi^2$-statistic, denoted by $\\hat{W}$ below, follows a $\\chi^2_{n-1}$ distribution under the null hypothesis. (this is read as \"chi-squared with n-1 degrees of freedom\"). \n",
    "$$$$"
   ]
  },
  {
   "cell_type": "markdown",
   "metadata": {
    "collapsed": true,
    "run_control": {
     "frozen": false,
     "read_only": false
    }
   },
   "source": [
    "$$\\hat{W} = \\frac{n}{\\sigma^2}\\hat{\\sigma}^2 \\sim \\chi^2_{n-1}$$"
   ]
  },
  {
   "cell_type": "markdown",
   "metadata": {},
   "source": [
    "Just like in the $t$-distribution case above, querying anything about this distribution is easy.\n",
    "\n",
    "```python\n",
    "ss.chi2(df = n - 1)  #  \"n\" is sample size, and df stands for \"degrees of freedom\".\n",
    "```\n",
    "Examples:\n",
    "```python\n",
    "ss.chi2(df = 99).cdf(2)  # Value of F(2), where F is cdf, assuming sample size is n = 100\n",
    "ss.chi2(df = 49).pdf(0)  # Value of f(2), where f is pdf, assuming sample size is n = 50\n",
    "ss.chi2(df = 99).ppf(.9)  # Value of F^{-1}(1 - alpha), with n = 100 and alpha = 10%\n",
    "```\n"
   ]
  },
  {
   "cell_type": "markdown",
   "metadata": {},
   "source": [
    "a) Compute the value of the $\\chi^2$ statistic $\\hat{w}$ given the information in the problem."
   ]
  },
  {
   "cell_type": "code",
   "execution_count": null,
   "metadata": {
    "collapsed": true,
    "nbgrader": {
     "grade": true,
     "grade_id": "q6a",
     "locked": false,
     "points": 5,
     "solution": true
    },
    "run_control": {
     "frozen": false,
     "read_only": false
    }
   },
   "outputs": [],
   "source": []
  },
  {
   "cell_type": "markdown",
   "metadata": {},
   "source": [
    "b) Compute the rejection region for the $\\chi^2_{n-1}$ distribution at the $\\alpha = 0.1$ level. (Note this is a one-tailed test)."
   ]
  },
  {
   "cell_type": "code",
   "execution_count": null,
   "metadata": {
    "collapsed": true,
    "nbgrader": {
     "grade": true,
     "grade_id": "q6b",
     "locked": false,
     "points": 5,
     "solution": true
    },
    "run_control": {
     "frozen": false,
     "read_only": false
    }
   },
   "outputs": [],
   "source": []
  },
  {
   "cell_type": "markdown",
   "metadata": {},
   "source": [
    "c) Does $\\hat{w}$ fall inside or outside the rejection region? Do you reject $H_0$ based on this answer?"
   ]
  },
  {
   "cell_type": "markdown",
   "metadata": {
    "nbgrader": {
     "grade": true,
     "grade_id": "q6c",
     "locked": false,
     "points": 5,
     "solution": true
    }
   },
   "source": []
  },
  {
   "cell_type": "markdown",
   "metadata": {},
   "source": [
    "d) Would your answer to part \"c\" change if $n$ were $500$ instead? Give an intuitive explanation for why or why not."
   ]
  },
  {
   "cell_type": "markdown",
   "metadata": {
    "nbgrader": {
     "grade": true,
     "grade_id": "q6d",
     "locked": false,
     "points": 5,
     "solution": true
    }
   },
   "source": []
  },
  {
   "cell_type": "markdown",
   "metadata": {},
   "source": [
    "---"
   ]
  },
  {
   "cell_type": "markdown",
   "metadata": {},
   "source": [
    "# Extra (15 points)"
   ]
  },
  {
   "cell_type": "markdown",
   "metadata": {},
   "source": [
    "**Q7)** If you wanted to plot the pdf of the $Normal(0,1)$, for example, you could do the following.\n",
    "\n",
    "```python\n",
    "x = np.linspace(start = -4, stop = 4, num = 1000) # 1000 equally-spaced pts in [-4, 4]\n",
    "fx = ss.norm(0,1).pdf(x)  # computes the pdf at the 1000 pts above\n",
    "fig, ax = plt.subplots(1)  # creates a plotting window\n",
    "ax.plot(x, fx)  # plots it\n",
    "```\n",
    "\n",
    "This should be the result.\n",
    "\n",
    "<img src=\"norm.png\">"
   ]
  },
  {
   "cell_type": "markdown",
   "metadata": {},
   "source": [
    "Your challenge is to look into the plotting library `matplotlib` <a href=\"http://matplotlib.org/index.html\">documentation</a>, or gather any other resources you may find, and reproduce the following figure to the best of your ability."
   ]
  },
  {
   "cell_type": "markdown",
   "metadata": {},
   "source": [
    "<img src=\"norm_t.png\">"
   ]
  },
  {
   "cell_type": "markdown",
   "metadata": {},
   "source": [
    "**Remark** This should show you that the $t_{n}$ distribution converges to the $Normal(0, 1)$ distribution as $n$ grows large."
   ]
  },
  {
   "cell_type": "code",
   "execution_count": null,
   "metadata": {
    "collapsed": true,
    "nbgrader": {
     "grade": true,
     "grade_id": "q7",
     "locked": false,
     "points": 15,
     "solution": true
    },
    "run_control": {
     "frozen": true,
     "read_only": true
    }
   },
   "outputs": [],
   "source": []
  }
 ],
 "metadata": {
  "anaconda-cloud": {},
  "celltoolbar": "Create Assignment",
  "kernelspec": {
   "display_name": "Python [default]",
   "language": "python",
   "name": "python3"
  },
  "language_info": {
   "codemirror_mode": {
    "name": "ipython",
    "version": 3
   },
   "file_extension": ".py",
   "mimetype": "text/x-python",
   "name": "python",
   "nbconvert_exporter": "python",
   "pygments_lexer": "ipython3",
   "version": "3.5.2"
  }
 },
 "nbformat": 4,
 "nbformat_minor": 0
}
