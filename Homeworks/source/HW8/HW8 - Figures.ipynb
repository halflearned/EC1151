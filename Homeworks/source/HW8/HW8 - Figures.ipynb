{
 "cells": [
  {
   "cell_type": "code",
   "execution_count": 6,
   "metadata": {
    "collapsed": true,
    "run_control": {
     "frozen": false,
     "read_only": false
    }
   },
   "outputs": [],
   "source": [
    "import numpy as np\n",
    "import scipy.stats as ss\n",
    "import pandas as pd"
   ]
  },
  {
   "cell_type": "code",
   "execution_count": 43,
   "metadata": {
    "collapsed": true
   },
   "outputs": [],
   "source": [
    "dfs = [1,2,3,4,5,10,20]\n",
    "ps = np.linspace(1, 20, 9)"
   ]
  },
  {
   "cell_type": "code",
   "execution_count": 44,
   "metadata": {
    "collapsed": true
   },
   "outputs": [],
   "source": [
    "table = np.zeros((len(dfs), len(ps)))"
   ]
  },
  {
   "cell_type": "code",
   "execution_count": 45,
   "metadata": {
    "collapsed": false
   },
   "outputs": [],
   "source": [
    "for i in range(len(dfs)):\n",
    "    for j in range(len(ps)):\n",
    "        table[i,j] = ss.chi2(df = dfs[i]).cdf(ps[j]).round(4)"
   ]
  },
  {
   "cell_type": "code",
   "execution_count": 49,
   "metadata": {
    "collapsed": false
   },
   "outputs": [],
   "source": [
    "ss.norm?"
   ]
  },
  {
   "cell_type": "code",
   "execution_count": 46,
   "metadata": {
    "collapsed": false
   },
   "outputs": [
    {
     "data": {
      "text/html": [
       "<div>\n",
       "<table border=\"1\" class=\"dataframe\">\n",
       "  <thead>\n",
       "    <tr style=\"text-align: right;\">\n",
       "      <th></th>\n",
       "      <th>0</th>\n",
       "      <th>1</th>\n",
       "      <th>2</th>\n",
       "      <th>3</th>\n",
       "      <th>4</th>\n",
       "      <th>5</th>\n",
       "      <th>6</th>\n",
       "      <th>7</th>\n",
       "      <th>8</th>\n",
       "    </tr>\n",
       "  </thead>\n",
       "  <tbody>\n",
       "    <tr>\n",
       "      <th>0</th>\n",
       "      <td>0.6827</td>\n",
       "      <td>0.9338</td>\n",
       "      <td>0.9835</td>\n",
       "      <td>0.9956</td>\n",
       "      <td>0.9988</td>\n",
       "      <td>0.9997</td>\n",
       "      <td>0.9999</td>\n",
       "      <td>1.0000</td>\n",
       "      <td>1.0000</td>\n",
       "    </tr>\n",
       "    <tr>\n",
       "      <th>1</th>\n",
       "      <td>0.3935</td>\n",
       "      <td>0.8150</td>\n",
       "      <td>0.9436</td>\n",
       "      <td>0.9828</td>\n",
       "      <td>0.9948</td>\n",
       "      <td>0.9984</td>\n",
       "      <td>0.9995</td>\n",
       "      <td>0.9999</td>\n",
       "      <td>1.0000</td>\n",
       "    </tr>\n",
       "    <tr>\n",
       "      <th>2</th>\n",
       "      <td>0.1987</td>\n",
       "      <td>0.6627</td>\n",
       "      <td>0.8756</td>\n",
       "      <td>0.9565</td>\n",
       "      <td>0.9852</td>\n",
       "      <td>0.9951</td>\n",
       "      <td>0.9984</td>\n",
       "      <td>0.9995</td>\n",
       "      <td>0.9998</td>\n",
       "    </tr>\n",
       "    <tr>\n",
       "      <th>3</th>\n",
       "      <td>0.0902</td>\n",
       "      <td>0.5029</td>\n",
       "      <td>0.7814</td>\n",
       "      <td>0.9129</td>\n",
       "      <td>0.9672</td>\n",
       "      <td>0.9881</td>\n",
       "      <td>0.9958</td>\n",
       "      <td>0.9985</td>\n",
       "      <td>0.9995</td>\n",
       "    </tr>\n",
       "    <tr>\n",
       "      <th>4</th>\n",
       "      <td>0.0374</td>\n",
       "      <td>0.3576</td>\n",
       "      <td>0.6687</td>\n",
       "      <td>0.8505</td>\n",
       "      <td>0.9378</td>\n",
       "      <td>0.9754</td>\n",
       "      <td>0.9907</td>\n",
       "      <td>0.9965</td>\n",
       "      <td>0.9988</td>\n",
       "    </tr>\n",
       "    <tr>\n",
       "      <th>5</th>\n",
       "      <td>0.0002</td>\n",
       "      <td>0.0288</td>\n",
       "      <td>0.1642</td>\n",
       "      <td>0.3834</td>\n",
       "      <td>0.6022</td>\n",
       "      <td>0.7693</td>\n",
       "      <td>0.8768</td>\n",
       "      <td>0.9384</td>\n",
       "      <td>0.9707</td>\n",
       "    </tr>\n",
       "    <tr>\n",
       "      <th>6</th>\n",
       "      <td>0.0000</td>\n",
       "      <td>0.0000</td>\n",
       "      <td>0.0008</td>\n",
       "      <td>0.0090</td>\n",
       "      <td>0.0418</td>\n",
       "      <td>0.1173</td>\n",
       "      <td>0.2381</td>\n",
       "      <td>0.3879</td>\n",
       "      <td>0.5421</td>\n",
       "    </tr>\n",
       "  </tbody>\n",
       "</table>\n",
       "</div>"
      ],
      "text/plain": [
       "        0       1       2       3       4       5       6       7       8\n",
       "0  0.6827  0.9338  0.9835  0.9956  0.9988  0.9997  0.9999  1.0000  1.0000\n",
       "1  0.3935  0.8150  0.9436  0.9828  0.9948  0.9984  0.9995  0.9999  1.0000\n",
       "2  0.1987  0.6627  0.8756  0.9565  0.9852  0.9951  0.9984  0.9995  0.9998\n",
       "3  0.0902  0.5029  0.7814  0.9129  0.9672  0.9881  0.9958  0.9985  0.9995\n",
       "4  0.0374  0.3576  0.6687  0.8505  0.9378  0.9754  0.9907  0.9965  0.9988\n",
       "5  0.0002  0.0288  0.1642  0.3834  0.6022  0.7693  0.8768  0.9384  0.9707\n",
       "6  0.0000  0.0000  0.0008  0.0090  0.0418  0.1173  0.2381  0.3879  0.5421"
      ]
     },
     "execution_count": 46,
     "metadata": {},
     "output_type": "execute_result"
    }
   ],
   "source": [
    "pd.DataFrame(table)"
   ]
  },
  {
   "cell_type": "code",
   "execution_count": null,
   "metadata": {
    "collapsed": true
   },
   "outputs": [],
   "source": []
  },
  {
   "cell_type": "code",
   "execution_count": null,
   "metadata": {
    "collapsed": true
   },
   "outputs": [],
   "source": []
  }
 ],
 "metadata": {
  "anaconda-cloud": {},
  "kernelspec": {
   "display_name": "Python [default]",
   "language": "python",
   "name": "python3"
  },
  "language_info": {
   "codemirror_mode": {
    "name": "ipython",
    "version": 3
   },
   "file_extension": ".py",
   "mimetype": "text/x-python",
   "name": "python",
   "nbconvert_exporter": "python",
   "pygments_lexer": "ipython3",
   "version": "3.5.2"
  }
 },
 "nbformat": 4,
 "nbformat_minor": 0
}
