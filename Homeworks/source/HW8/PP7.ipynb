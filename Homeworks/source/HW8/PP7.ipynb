{
 "cells": [
  {
   "cell_type": "markdown",
   "metadata": {
    "run_control": {
     "frozen": false,
     "read_only": false
    }
   },
   "source": [
    "# <center> Programming Practice 7"
   ]
  },
  {
   "cell_type": "markdown",
   "metadata": {},
   "source": [
    "## Querying probabilities"
   ]
  },
  {
   "cell_type": "markdown",
   "metadata": {},
   "source": [
    "In Python, querying probabilities of continuous distributions in Python is pretty much the same as doing so for discrete distributions. All you have to do is to change the line where you initialize the distribution, replacing it by the appropriate one.\n",
    "\n",
    "PRO TIP! This exercise will walk you through the most common distributions, but you should always consult the <a href=\"https://docs.scipy.org/doc/scipy/reference/stats.html\">documentation</a> before using the new distribution, to make sure you are initializing it correctly. "
   ]
  },
  {
   "cell_type": "markdown",
   "metadata": {},
   "source": [
    "<b>About the Normal</b>\n",
    "\n",
    "When using the Normal distribution, you should pass the mean and the *standard deviation*, not the variance. For example, even though we write $X \\sim Normal(1, 4)$ [mean 1, *variance* 4], in Python you must initialize `norm` as\n",
    "\n",
    "```python\n",
    "dist = ss.norm(1, 2)      # Mean 0, **standard deviation** 2\n",
    "```\n",
    "<font size=1>By the way, if you use Python you don't have to go through the steps of defining $Z = aX + b$ etc like you did in Q3 of the theory part!"
   ]
  },
  {
   "cell_type": "markdown",
   "metadata": {},
   "source": [
    "<b>About the Chi-squared and Student t</b>\n",
    "\n",
    "The parameter that governs these two distributions is called the \"degrees of freedom\".\n",
    "\n",
    "```python\n",
    "dist = ss.chi2(df = 3)  # Chi-squared with 3 'degrees of freedom'\n",
    "dist = ss.t(df = 7)     # Student-t with 7 'degrees of freedom'\n",
    "```"
   ]
  },
  {
   "cell_type": "markdown",
   "metadata": {},
   "source": [
    "---"
   ]
  },
  {
   "cell_type": "markdown",
   "metadata": {},
   "source": [
    "## Dropping bombs"
   ]
  },
  {
   "cell_type": "markdown",
   "metadata": {},
   "source": [
    "An airplane is supposed to depart from its origin, fly East on a straight line, and then drop a bomb at a certain target located 20 miles away. However, the accuracy of the bomber is not perfect, so the position of the bomb attack can be represented by the random variable $X \\sim Normal(20, 1)$ -- that is, a Normally distributed rv with mean $20$ and *variance* $1$.\n",
    "\n",
    "<img src=\"airplane.png\" height = 300>"
   ]
  },
  {
   "cell_type": "markdown",
   "metadata": {},
   "source": [
    "Q1) Using the object `norm`, find out the probability that the bomb lands within 1km from its target, i.e., $P(19 \\leq X \\leq 21)$."
   ]
  },
  {
   "cell_type": "code",
   "execution_count": null,
   "metadata": {
    "collapsed": true,
    "run_control": {
     "frozen": false,
     "read_only": false
    }
   },
   "outputs": [],
   "source": []
  },
  {
   "cell_type": "markdown",
   "metadata": {},
   "source": [
    "Q2) Let $D$ be the a random variable representing the *squared distance* from the target, i.e., $D = (X - 20)^2$. Find out $P(D \\leq 2)$.\n",
    "\n",
    "<b>Hint</b> Recall that if you square a standard Normal random variable, the result is a Chi-squared random variable with one degree of freedom."
   ]
  },
  {
   "cell_type": "code",
   "execution_count": null,
   "metadata": {
    "collapsed": true,
    "run_control": {
     "frozen": false,
     "read_only": false
    }
   },
   "outputs": [],
   "source": []
  },
  {
   "cell_type": "markdown",
   "metadata": {},
   "source": [
    "Q3) Now let's make the problem just slightly more realistic by putting the target on a two-dimensional plane. This time, the target is at coordinate $(20,20)$, and both the $X$ and $Y$ coordinates are Normally distributed: $X, Y \\sim Normal(20, 2)$ and they are *independent*. \n"
   ]
  },
  {
   "cell_type": "markdown",
   "metadata": {},
   "source": [
    "<img src=\"airplane2.png\">"
   ]
  },
  {
   "cell_type": "markdown",
   "metadata": {},
   "source": [
    "Find out the probability that that bomb lands inside a box of side 2km by 2km, centered at the target, like below.\n"
   ]
  },
  {
   "cell_type": "markdown",
   "metadata": {},
   "source": [
    "<img src=\"airplane3.png\">"
   ]
  },
  {
   "cell_type": "code",
   "execution_count": null,
   "metadata": {
    "collapsed": true,
    "run_control": {
     "frozen": false,
     "read_only": false
    }
   },
   "outputs": [],
   "source": []
  },
  {
   "cell_type": "markdown",
   "metadata": {},
   "source": [
    "Q4) Find out the probability that that bomb lands inside *circle* of radius 1km, centered at the target, like below.\n",
    "\n",
    "<b>Hint</b> The distance between the target and the bomb landing is given by $D = (X -20)^2 + (Y - 20)^2$."
   ]
  },
  {
   "cell_type": "markdown",
   "metadata": {},
   "source": [
    "<img src=\"airplane4.png\">"
   ]
  },
  {
   "cell_type": "code",
   "execution_count": null,
   "metadata": {
    "collapsed": true,
    "run_control": {
     "frozen": false,
     "read_only": false
    }
   },
   "outputs": [],
   "source": []
  }
 ],
 "metadata": {
  "anaconda-cloud": {},
  "kernelspec": {
   "display_name": "Python [default]",
   "language": "python",
   "name": "python3"
  },
  "language_info": {
   "codemirror_mode": {
    "name": "ipython",
    "version": 3
   },
   "file_extension": ".py",
   "mimetype": "text/x-python",
   "name": "python",
   "nbconvert_exporter": "python",
   "pygments_lexer": "ipython3",
   "version": "3.5.2"
  }
 },
 "nbformat": 4,
 "nbformat_minor": 0
}
