{
 "cells": [
  {
   "cell_type": "markdown",
   "metadata": {},
   "source": [
    "# <centeR> Lesson 7 and HW6 <br><br> Limit Theorems + Distribution of the sample mean </centeR>"
   ]
  },
  {
   "cell_type": "markdown",
   "metadata": {},
   "source": [
    "<hr>"
   ]
  },
  {
   "cell_type": "markdown",
   "metadata": {},
   "source": [
    "Note: This notebook is **ungraded** and will not be part of your final grade, but there are a few questions marked with the **<font color = \"darkgreen\">IMPORTANT</font>** token. Make sure you understand their answers thoroughly, because they are new material. The other questions are also important, but I consider them review. I'll circulate solutions to important questions after class.\n",
    "\n",
    "Everything here is testable in the midterm. Have fun!"
   ]
  },
  {
   "cell_type": "markdown",
   "metadata": {},
   "source": [
    "<hr>"
   ]
  },
  {
   "cell_type": "markdown",
   "metadata": {
    "run_control": {
     "frozen": false,
     "read_only": false
    }
   },
   "source": [
    "#### From last class\n",
    "\n",
    "Suppose $X_i$ are random variables for $X_1, X_2, \\cdots, X_n$. For example, maybe each $X_i$ is the roll of a die.\n",
    "\n",
    "+ If $Z = X_1$, then $Z$ is a random variable. The distribution is the same as $X_1$.\n",
    "\n",
    "+ If $Z = X_1 + X_2$ then $Z$ is a random variable. The distribution is *not* the same as $X_1$ or $X_2$.\n",
    "\n",
    "+ If $Z = X_1 + X_2 + \\cdots + X_n$  then $Z$ is a random variable. The distribution is *not* the same as any of the $X_i$'s.\n",
    "\n",
    "+ If $Z = \\frac{1}{n}(X_1 + X_2 + \\cdots + X_n)$  then $Z$ is still a random variable. The distribution is *not* the same as any of the $X_i$'s.\n",
    "\n",
    "\n",
    "#### In this class\n",
    "\n",
    "The question you're suppose to answer in this Lesson + HW combo is: **what is the distribution of $Z = \\frac{1}{n}\\sum_i X_i$?**"
   ]
  },
  {
   "cell_type": "markdown",
   "metadata": {},
   "source": [
    "<hr>"
   ]
  },
  {
   "cell_type": "markdown",
   "metadata": {},
   "source": [
    "## <center> Distribution of the sample mean"
   ]
  },
  {
   "cell_type": "markdown",
   "metadata": {},
   "source": [
    "### 1) Sample mean of a Normally-distributed rv"
   ]
  },
  {
   "cell_type": "markdown",
   "metadata": {},
   "source": [
    "Do the following 1000 times. The number 1000 here is the **number of simulations**.\n",
    "\n",
    "+ Draw 10 numbers from the $Normal(2, 4)$ distribution. The number 10 here is the **sample size**.\n",
    "+ Compute the mean of the numbers you drew.\n",
    "\n",
    "In the end, you should have 1000 sample means, one for each simulation."
   ]
  },
  {
   "cell_type": "code",
   "execution_count": 26,
   "metadata": {
    "collapsed": false,
    "run_control": {
     "frozen": false,
     "read_only": false
    }
   },
   "outputs": [
    {
     "ename": "KeyboardInterrupt",
     "evalue": "",
     "output_type": "error",
     "traceback": [
      "\u001b[0;31m---------------------------------------------------------------------------\u001b[0m",
      "\u001b[0;31mKeyboardInterrupt\u001b[0m                         Traceback (most recent call last)",
      "\u001b[0;32m<ipython-input-26-9cb31af3441a>\u001b[0m in \u001b[0;36m<module>\u001b[0;34m()\u001b[0m\n\u001b[1;32m      1\u001b[0m \u001b[0;32mfrom\u001b[0m \u001b[0mscipy\u001b[0m\u001b[0;34m.\u001b[0m\u001b[0mstats\u001b[0m \u001b[0;32mimport\u001b[0m \u001b[0mnorm\u001b[0m \u001b[0;31m# Note norm uses the mean and *standard deviation*, not variance!\u001b[0m\u001b[0;34m\u001b[0m\u001b[0m\n\u001b[1;32m      2\u001b[0m \u001b[0;32mfrom\u001b[0m \u001b[0mnumpy\u001b[0m \u001b[0;32mimport\u001b[0m \u001b[0msqrt\u001b[0m\u001b[0;34m,\u001b[0m \u001b[0mmean\u001b[0m\u001b[0;34m\u001b[0m\u001b[0m\n\u001b[0;32m----> 3\u001b[0;31m \u001b[0mX\u001b[0m \u001b[0;34m=\u001b[0m \u001b[0mnorm\u001b[0m\u001b[0;34m(\u001b[0m\u001b[0;36m2\u001b[0m\u001b[0;34m,\u001b[0m \u001b[0;36m2\u001b[0m\u001b[0;34m)\u001b[0m\u001b[0;34m.\u001b[0m\u001b[0mrvs\u001b[0m\u001b[0;34m(\u001b[0m\u001b[0msize\u001b[0m \u001b[0;34m=\u001b[0m \u001b[0;34m(\u001b[0m\u001b[0;36m1000\u001b[0m\u001b[0;34m,\u001b[0m \u001b[0;36m500000\u001b[0m\u001b[0;34m)\u001b[0m\u001b[0;34m)\u001b[0m\u001b[0;34m\u001b[0m\u001b[0m\n\u001b[0m\u001b[1;32m      4\u001b[0m \u001b[0mZ\u001b[0m \u001b[0;34m=\u001b[0m \u001b[0mmean\u001b[0m\u001b[0;34m(\u001b[0m\u001b[0mX\u001b[0m\u001b[0;34m,\u001b[0m \u001b[0maxis\u001b[0m \u001b[0;34m=\u001b[0m \u001b[0;36m1\u001b[0m\u001b[0;34m)\u001b[0m\u001b[0;34m\u001b[0m\u001b[0m\n",
      "\u001b[0;32m/Users/vitorhadad/anaconda/lib/python3.5/site-packages/scipy/stats/_distn_infrastructure.py\u001b[0m in \u001b[0;36mrvs\u001b[0;34m(self, size, random_state)\u001b[0m\n\u001b[1;32m    465\u001b[0m         \u001b[0mkwds\u001b[0m\u001b[0;34m.\u001b[0m\u001b[0mupdate\u001b[0m\u001b[0;34m(\u001b[0m\u001b[0;34m{\u001b[0m\u001b[0;34m'size'\u001b[0m\u001b[0;34m:\u001b[0m \u001b[0msize\u001b[0m\u001b[0;34m,\u001b[0m \u001b[0;34m'random_state'\u001b[0m\u001b[0;34m:\u001b[0m \u001b[0mrandom_state\u001b[0m\u001b[0;34m}\u001b[0m\u001b[0;34m)\u001b[0m\u001b[0;34m\u001b[0m\u001b[0m\n\u001b[1;32m    466\u001b[0m         \u001b[0;32mreturn\u001b[0m \u001b[0mself\u001b[0m\u001b[0;34m.\u001b[0m\u001b[0mdist\u001b[0m\u001b[0;34m.\u001b[0m\u001b[0mrvs\u001b[0m\u001b[0;34m(\u001b[0m\u001b[0;34m*\u001b[0m\u001b[0mself\u001b[0m\u001b[0;34m.\u001b[0m\u001b[0margs\u001b[0m\u001b[0;34m,\u001b[0m \u001b[0;34m**\u001b[0m\u001b[0mkwds\u001b[0m\u001b[0;34m)\u001b[0m\u001b[0;34m\u001b[0m\u001b[0m\n\u001b[0;32m--> 467\u001b[0;31m \u001b[0;34m\u001b[0m\u001b[0m\n\u001b[0m\u001b[1;32m    468\u001b[0m     \u001b[0;32mdef\u001b[0m \u001b[0msf\u001b[0m\u001b[0;34m(\u001b[0m\u001b[0mself\u001b[0m\u001b[0;34m,\u001b[0m \u001b[0mx\u001b[0m\u001b[0;34m)\u001b[0m\u001b[0;34m:\u001b[0m\u001b[0;34m\u001b[0m\u001b[0m\n\u001b[1;32m    469\u001b[0m         \u001b[0;32mreturn\u001b[0m \u001b[0mself\u001b[0m\u001b[0;34m.\u001b[0m\u001b[0mdist\u001b[0m\u001b[0;34m.\u001b[0m\u001b[0msf\u001b[0m\u001b[0;34m(\u001b[0m\u001b[0mx\u001b[0m\u001b[0;34m,\u001b[0m \u001b[0;34m*\u001b[0m\u001b[0mself\u001b[0m\u001b[0;34m.\u001b[0m\u001b[0margs\u001b[0m\u001b[0;34m,\u001b[0m \u001b[0;34m**\u001b[0m\u001b[0mself\u001b[0m\u001b[0;34m.\u001b[0m\u001b[0mkwds\u001b[0m\u001b[0;34m)\u001b[0m\u001b[0;34m\u001b[0m\u001b[0m\n",
      "\u001b[0;32m/Users/vitorhadad/anaconda/lib/python3.5/site-packages/scipy/stats/_distn_infrastructure.py\u001b[0m in \u001b[0;36mrvs\u001b[0;34m(self, *args, **kwds)\u001b[0m\n\u001b[1;32m    869\u001b[0m         \u001b[0;32mreturn\u001b[0m \u001b[0mcond\u001b[0m\u001b[0;34m\u001b[0m\u001b[0m\n\u001b[1;32m    870\u001b[0m \u001b[0;34m\u001b[0m\u001b[0m\n\u001b[0;32m--> 871\u001b[0;31m     \u001b[0;32mdef\u001b[0m \u001b[0m_support_mask\u001b[0m\u001b[0;34m(\u001b[0m\u001b[0mself\u001b[0m\u001b[0;34m,\u001b[0m \u001b[0mx\u001b[0m\u001b[0;34m)\u001b[0m\u001b[0;34m:\u001b[0m\u001b[0;34m\u001b[0m\u001b[0m\n\u001b[0m\u001b[1;32m    872\u001b[0m         \u001b[0;32mreturn\u001b[0m \u001b[0;34m(\u001b[0m\u001b[0mself\u001b[0m\u001b[0;34m.\u001b[0m\u001b[0ma\u001b[0m \u001b[0;34m<=\u001b[0m \u001b[0mx\u001b[0m\u001b[0;34m)\u001b[0m \u001b[0;34m&\u001b[0m \u001b[0;34m(\u001b[0m\u001b[0mx\u001b[0m \u001b[0;34m<=\u001b[0m \u001b[0mself\u001b[0m\u001b[0;34m.\u001b[0m\u001b[0mb\u001b[0m\u001b[0;34m)\u001b[0m\u001b[0;34m\u001b[0m\u001b[0m\n\u001b[1;32m    873\u001b[0m \u001b[0;34m\u001b[0m\u001b[0m\n",
      "\u001b[0;32m/Users/vitorhadad/anaconda/lib/python3.5/site-packages/scipy/stats/_continuous_distns.py\u001b[0m in \u001b[0;36m_rvs\u001b[0;34m(self)\u001b[0m\n\u001b[1;32m    126\u001b[0m     \u001b[0;32mdef\u001b[0m \u001b[0m_rvs\u001b[0m\u001b[0;34m(\u001b[0m\u001b[0mself\u001b[0m\u001b[0;34m)\u001b[0m\u001b[0;34m:\u001b[0m\u001b[0;34m\u001b[0m\u001b[0m\n\u001b[1;32m    127\u001b[0m         \u001b[0;32mreturn\u001b[0m \u001b[0mself\u001b[0m\u001b[0;34m.\u001b[0m\u001b[0m_random_state\u001b[0m\u001b[0;34m.\u001b[0m\u001b[0mstandard_normal\u001b[0m\u001b[0;34m(\u001b[0m\u001b[0mself\u001b[0m\u001b[0;34m.\u001b[0m\u001b[0m_size\u001b[0m\u001b[0;34m)\u001b[0m\u001b[0;34m\u001b[0m\u001b[0m\n\u001b[0;32m--> 128\u001b[0;31m \u001b[0;34m\u001b[0m\u001b[0m\n\u001b[0m\u001b[1;32m    129\u001b[0m     \u001b[0;32mdef\u001b[0m \u001b[0m_pdf\u001b[0m\u001b[0;34m(\u001b[0m\u001b[0mself\u001b[0m\u001b[0;34m,\u001b[0m \u001b[0mx\u001b[0m\u001b[0;34m)\u001b[0m\u001b[0;34m:\u001b[0m\u001b[0;34m\u001b[0m\u001b[0m\n\u001b[1;32m    130\u001b[0m         \u001b[0;32mreturn\u001b[0m \u001b[0m_norm_pdf\u001b[0m\u001b[0;34m(\u001b[0m\u001b[0mx\u001b[0m\u001b[0;34m)\u001b[0m\u001b[0;34m\u001b[0m\u001b[0m\n",
      "\u001b[0;31mKeyboardInterrupt\u001b[0m: "
     ]
    }
   ],
   "source": [
    "from scipy.stats import norm # Note norm uses the mean and *standard deviation*, not variance!\n",
    "from numpy import sqrt, mean\n",
    "X = norm(2, 2).rvs(size = (1000, 500000))\n",
    "Z = mean(X, axis = 1)"
   ]
  },
  {
   "cell_type": "markdown",
   "metadata": {},
   "source": [
    "Now, plot a normalized histogram of the sample means."
   ]
  },
  {
   "cell_type": "code",
   "execution_count": 25,
   "metadata": {
    "collapsed": false,
    "run_control": {
     "frozen": false,
     "read_only": false
    }
   },
   "outputs": [
    {
     "data": {
      "image/png": "[encoded data removed]",
      "text/plain": [
       "<matplotlib.figure.Figure at 0x114ea8438>"
      ]
     },
     "metadata": {},
     "output_type": "display_data"
    }
   ],
   "source": [
    "from matplotlib.pyplot import hist\n",
    "%matplotlib inline\n",
    "hist(Z, normed = True, bins = 50);"
   ]
  },
  {
   "cell_type": "markdown",
   "metadata": {},
   "source": [
    "Discuss:\n",
    " \n",
    "+ What kind of process are we simulating here?\n",
    " \n",
    "+ What does the distribution of the sample mean look like? \n",
    "\n",
    "+ Where is the mean of the distribution of your sample means?\n",
    "\n",
    "+ Instead of a **sample size** of 10, what if the **sample size** were 100? How about 20000? How about $\\infty$?\n",
    "\n",
    "+ What's the intuition behind these changes?\n",
    "\n",
    "+ ** How does this relate to the Law of Large Numbers?**"
   ]
  },
  {
   "cell_type": "markdown",
   "metadata": {},
   "source": [
    "---"
   ]
  },
  {
   "cell_type": "markdown",
   "metadata": {},
   "source": [
    "### 2) Sample mean of a Exponentially-distributed rv"
   ]
  },
  {
   "cell_type": "markdown",
   "metadata": {},
   "source": [
    "Redo the exercise above, but instead of $Normal$, draw from the $Exponential(\\lambda = 5)$.\n",
    "\n",
    "Do the following 1000 times:\n",
    "\n",
    "+ Sample 10 numbers from the $Exponential(\\lambda = 5)$ (recall in Python that means `scale = 1/5`)\n",
    "\n",
    "+ Compute their sample mean\n",
    "\n",
    "Then plot a histogram of all sample means."
   ]
  },
  {
   "cell_type": "code",
   "execution_count": 34,
   "metadata": {
    "collapsed": false,
    "run_control": {
     "frozen": false,
     "read_only": false
    }
   },
   "outputs": [
    {
     "data": {
      "image/png": "[encoded data removed]",
      "text/plain": [
       "<matplotlib.figure.Figure at 0x111848320>"
      ]
     },
     "metadata": {},
     "output_type": "display_data"
    }
   ],
   "source": [
    "from scipy.stats import expon\n",
    "X = expon(scale = 1/5).rvs(size = (1000, 25000))\n",
    "Z = mean(X, axis = 1)\n",
    "hist(Z, normed = True, bins = 50);"
   ]
  },
  {
   "cell_type": "markdown",
   "metadata": {},
   "source": [
    "Discuss:\n",
    "\n",
    "+ What does the distribution look like when the number of draws per sample increases?\n",
    "\n",
    "+ What is the mean of that distribution?\n",
    "\n",
    "+ How does the variance change as the number of draws per sample increases?\n",
    "\n",
    "+ **How does this related to the Central Limit Theorem?**"
   ]
  },
  {
   "cell_type": "markdown",
   "metadata": {},
   "source": [
    "---"
   ]
  },
  {
   "cell_type": "markdown",
   "metadata": {},
   "source": [
    "### Sample mean of a ???-distributed rv"
   ]
  },
  {
   "cell_type": "markdown",
   "metadata": {},
   "source": [
    "Last one! \n",
    "\n",
    "Same thing, but now instead of computing the mean of a random variable $X \\sim Exponential(5)$, let's compute the approximate probability of $P(X < \\frac{1}{8})$.\n",
    "\n",
    "I've done most of the work for you. Your job is to interpret what I'm doing."
   ]
  },
  {
   "cell_type": "code",
   "execution_count": 4,
   "metadata": {
    "collapsed": false,
    "run_control": {
     "frozen": false,
     "read_only": false
    }
   },
   "outputs": [
    {
     "ename": "NameError",
     "evalue": "name 'Z' is not defined",
     "output_type": "error",
     "traceback": [
      "\u001b[0;31m---------------------------------------------------------------------------\u001b[0m",
      "\u001b[0;31mNameError\u001b[0m                                 Traceback (most recent call last)",
      "\u001b[0;32m<ipython-input-4-8739de0597ed>\u001b[0m in \u001b[0;36m<module>\u001b[0;34m()\u001b[0m\n\u001b[1;32m      4\u001b[0m \u001b[0mX\u001b[0m \u001b[0;34m=\u001b[0m \u001b[0mexpon\u001b[0m\u001b[0;34m(\u001b[0m\u001b[0mscale\u001b[0m \u001b[0;34m=\u001b[0m \u001b[0;36m1\u001b[0m\u001b[0;34m/\u001b[0m\u001b[0;36m5\u001b[0m\u001b[0;34m)\u001b[0m\u001b[0;34m.\u001b[0m\u001b[0mrvs\u001b[0m\u001b[0;34m(\u001b[0m\u001b[0;34m(\u001b[0m\u001b[0mn_simulations\u001b[0m\u001b[0;34m,\u001b[0m \u001b[0msample_size\u001b[0m\u001b[0;34m)\u001b[0m\u001b[0;34m)\u001b[0m \u001b[0;31m# 2\u001b[0m\u001b[0;34m\u001b[0m\u001b[0m\n\u001b[1;32m      5\u001b[0m \u001b[0mY\u001b[0m \u001b[0;34m=\u001b[0m \u001b[0mX\u001b[0m \u001b[0;34m<\u001b[0m \u001b[0;36m1\u001b[0m\u001b[0;34m/\u001b[0m\u001b[0;36m8\u001b[0m                                              \u001b[0;31m# 3\u001b[0m\u001b[0;34m\u001b[0m\u001b[0m\n\u001b[0;32m----> 6\u001b[0;31m \u001b[0mZ\u001b[0m \u001b[0;34m=\u001b[0m \u001b[0mmean\u001b[0m\u001b[0;34m(\u001b[0m\u001b[0mZ\u001b[0m\u001b[0;34m,\u001b[0m \u001b[0maxis\u001b[0m \u001b[0;34m=\u001b[0m \u001b[0;36m1\u001b[0m\u001b[0;34m)\u001b[0m                                    \u001b[0;31m# 4\u001b[0m\u001b[0;34m\u001b[0m\u001b[0m\n\u001b[0m",
      "\u001b[0;31mNameError\u001b[0m: name 'Z' is not defined"
     ]
    }
   ],
   "source": [
    "n_simulations = 5000\n",
    "sample_size = 100\n",
    "true_prob = expon(scale = 1/5).cdf(1/8)                  # 1\n",
    "X = expon(scale = 1/5).rvs((n_simulations, sample_size)) # 2\n",
    "Y = X < 1/8                                              # 3\n",
    "Z = mean(Z, axis = 1)                                    # 4"
   ]
  },
  {
   "cell_type": "markdown",
   "metadata": {},
   "source": [
    "What's going on at each line?\n",
    "\n",
    "+ #1: \n",
    "+ #2: \n",
    "+ #3: (Important: What is Y distributed as?!)\n",
    "+ #4: (What is Z?)"
   ]
  },
  {
   "cell_type": "markdown",
   "metadata": {},
   "source": [
    "Discuss before uncommenting the next cell:\n",
    "\n",
    "+ What will this histogram look like?\n",
    "\n",
    "+ What will be the center of mass of the histogram?\n",
    "\n",
    "+ What would happen if you increased the `sample_size`?"
   ]
  },
  {
   "cell_type": "code",
   "execution_count": 6,
   "metadata": {
    "collapsed": false,
    "run_control": {
     "frozen": false,
     "read_only": false
    }
   },
   "outputs": [],
   "source": [
    "# hist(Z, bins = 100);"
   ]
  },
  {
   "cell_type": "markdown",
   "metadata": {},
   "source": [
    "Discuss before uncommenting the next cell:\n",
    "\n",
    "+ If I told you that the $P(X < 1/8) = 0.45$, would you believe me?\n",
    "+ If I told you that the $P(X < 1/8) = 0.1$, would you believe me?\n",
    "+ If I told you that the $P(X < 1/8) = 0.9$, would you believe me?\n",
    "\n",
    "...Why not?"
   ]
  },
  {
   "cell_type": "code",
   "execution_count": 5,
   "metadata": {
    "collapsed": false,
    "run_control": {
     "frozen": false,
     "read_only": false
    }
   },
   "outputs": [],
   "source": [
    "# print(true_prob)"
   ]
  },
  {
   "cell_type": "markdown",
   "metadata": {},
   "source": [
    "---"
   ]
  },
  {
   "cell_type": "markdown",
   "metadata": {},
   "source": [
    "### Recap:\n",
    "\n",
    "+ Law of Large Numbers (LLN): the fact that the sample mean converges in probability to the theoretical mean\n",
    "\n",
    "+ Central limit theorem: the fact that the sample means have a normal distribution*, regardless of the distribution you started with, so long as the distribution.\n",
    "\n",
    "\n",
    "(Actually the CLT talks about <i>sums</i>, not averages. However averages are just sums scaled by $\\frac{1}{n}$, so the argument still follows. We'll make an important distinction precise after the midterm)"
   ]
  },
  {
   "cell_type": "markdown",
   "metadata": {},
   "source": [
    "---"
   ]
  },
  {
   "cell_type": "markdown",
   "metadata": {},
   "source": [
    "### Properties of the mean"
   ]
  },
  {
   "cell_type": "markdown",
   "metadata": {},
   "source": [
    "*Hint for Q1-Q3* In HW5 you proved that if $Z \\sim binomial(n,p)$, then $E[Z] = np$. This formula **does not** work for any other distribution, but your solution should look similar to HW5Q1 nevertheless.\n",
    "\n",
    "**Q1)** Prove that if $Z = X_1 + \\cdots + X_n$, and each $X_i \\sim Exponential(\\lambda)$, then $E[Z] = \\frac{n}{\\lambda}$"
   ]
  },
  {
   "cell_type": "markdown",
   "metadata": {},
   "source": []
  },
  {
   "cell_type": "markdown",
   "metadata": {},
   "source": [
    "**Q2)** Prove that if $Z = X_1 + \\cdots + X_n$, and each $X_i \\sim Geometric(p)$, then $E[Z] = \\frac{n}{p}$"
   ]
  },
  {
   "cell_type": "markdown",
   "metadata": {},
   "source": []
  },
  {
   "cell_type": "markdown",
   "metadata": {},
   "source": [
    "**Q3)** Prove that if $Z = X_1 + \\cdots + X_n$, and each $X_i \\sim Gamma(\\alpha, \\beta)$, then $E[Z] = n\\frac{\\alpha}{\\beta}$"
   ]
  },
  {
   "cell_type": "markdown",
   "metadata": {},
   "source": []
  },
  {
   "cell_type": "markdown",
   "metadata": {},
   "source": [
    "**Q4)** [*Centering*] Suppose $Z = X - c$ for some number $c$, with $X \\sim Normal(3, 4)$. If you know $E[Z] = 0$, then what is $c$?"
   ]
  },
  {
   "cell_type": "markdown",
   "metadata": {},
   "source": []
  },
  {
   "cell_type": "markdown",
   "metadata": {},
   "source": [
    "**Q5) <font color = \"darkgreen\">IMPORTANT</font>**  [Mean of sample mean] If $Z = \\frac{1}{n}\\sum_i X_i$, what is $E[Z]$ in terms of $E[X_1]$?"
   ]
  },
  {
   "cell_type": "markdown",
   "metadata": {},
   "source": []
  },
  {
   "cell_type": "markdown",
   "metadata": {},
   "source": [
    "---"
   ]
  },
  {
   "cell_type": "markdown",
   "metadata": {},
   "source": [
    "### Properties of the variance"
   ]
  },
  {
   "cell_type": "markdown",
   "metadata": {},
   "source": [
    "You're now well-versed in the *linearity* property of expectations, that allows you to say:\n",
    "<br><br>\n",
    "<center>If $Z = aX + bY$, then $E[Z] = aE[X] + bE[Y] + c$</center>\n",
    "\n",
    "Unfortunately, this doesn't work if $Z$ suffers any other transformation. Q6-Q9 will help you see this. Then, in Q9,"
   ]
  },
  {
   "cell_type": "markdown",
   "metadata": {},
   "source": [
    "**Q6)** Suppose that $X \\sim Binomial(3, \\frac{1}{2})$, and $g(x) = x^2$. \n",
    "\n",
    "+ a) What is $E[g(X)]$? \n",
    "\n",
    "+ b) What $g(E[X])$?"
   ]
  },
  {
   "cell_type": "markdown",
   "metadata": {},
   "source": []
  },
  {
   "cell_type": "markdown",
   "metadata": {},
   "source": [
    "**Q7)** Suppose that $X \\sim DiscreteUniform(1,6)$ (i.e., a die roll), and $g(x) = \\sqrt{x}$.\n",
    "\n",
    "+ a) What is $E[g(X)]$? \n",
    "\n",
    "+ b) What $g(E[X])$?"
   ]
  },
  {
   "cell_type": "markdown",
   "metadata": {},
   "source": [
    "**Q9)** In general, is it true that $E[g(X)] = g(E[X])$? Bonus: for what kind of functions is this true? (Hint: HW5Q1a)"
   ]
  },
  {
   "cell_type": "markdown",
   "metadata": {},
   "source": []
  },
  {
   "cell_type": "markdown",
   "metadata": {},
   "source": [
    "**Q10)** Prove that for any random variable $X$ with finite second moments, the following is true:\n",
    "\n",
    "<center>$E[(X - c)^2] = E[X^2] - 2cE[X] + c^2$</center>\n",
    "\n",
    "Then use this to prove this alternative formula for the variance:\n",
    "<br><br>\n",
    "<center>$Var(X) = E[X^2] - E[X]^2$</center>"
   ]
  },
  {
   "cell_type": "markdown",
   "metadata": {},
   "source": []
  },
  {
   "cell_type": "markdown",
   "metadata": {},
   "source": [
    "**Q11) <font color = \"darkgreen\"></font>** [*Standardizing*] Prove that\n",
    "\n",
    "<center>$Var[aX + b] = a^2Var(X)$. </center>\n",
    "\n",
    "Then answer:\n",
    "\n",
    "<center>If $Var(X) = \\sigma^2$ and $Var(aX) = 1$, what is $a$? (The inverse of...?)</center>"
   ]
  },
  {
   "cell_type": "markdown",
   "metadata": {},
   "source": []
  },
  {
   "cell_type": "markdown",
   "metadata": {},
   "source": [
    "**Q12) <font color = \"darkgreen\">IMPORTANT</font>** Let's see one last property of the variance before going back to the discussion about the CLT. \n",
    "\n",
    "In general, it is **not** true that if $Z = X + Y$, then $Var(Z) = Var(X) + Var(Y)$. However, this is true when the variables are *independent*. We'll get back to why later, but for now here's a neat way to commit this to memory. \n",
    "\n",
    "I hope you remember that the symbol for independence was \"$\\perp$\", and that was the same as the symbol for \"perpendicular\". I hope you also remember Pythagoras' theorem, that says that if two sides of a triangle are *perpendicular* ($\\perp$!!!) then their lengths follow this rule:"
   ]
  },
  {
   "cell_type": "markdown",
   "metadata": {},
   "source": [
    "<img src=\"pythagoras.png\" width = 200>"
   ]
  },
  {
   "cell_type": "markdown",
   "metadata": {},
   "source": [
    "Well, the variances work similarly: they also do some *squaring*, and if $X$ and $Y$ are *independent* ($\\perp$!!!), then their variances follow a simple rule. "
   ]
  },
  {
   "cell_type": "markdown",
   "metadata": {},
   "source": [
    "<img src=\"vars.png\" width = 200>"
   ]
  },
  {
   "cell_type": "markdown",
   "metadata": {},
   "source": [
    "...and it turns out that the formula for the case where triangles' sides are not perpendicular is also similar to the formula for the sum of variances in the dependent case, as we'll see later. Coincidence? Definitely not, but a discussion of the reason for this falls outside the scope of our course.\n",
    "\n",
    "Anyway, use the formula above to say and your answer to `Q11` to answer:\n",
    "\n",
    "<center>If $Z = \\frac{1}{n}\\sum_i X_i$, then what is $Var(Z)$ in terms of $Var(X_1)$?\n"
   ]
  },
  {
   "cell_type": "markdown",
   "metadata": {},
   "source": []
  },
  {
   "cell_type": "markdown",
   "metadata": {},
   "source": [
    "---"
   ]
  },
  {
   "cell_type": "markdown",
   "metadata": {},
   "source": [
    "**Q13) <font color = \"darkgreen\">IMPORTANT</font>** Your answers to `Q5` and `Q12` are the *mean and variance of the sample mean*. Put them together with what you learned about the Central Limit Theorem to complete this sentence:\n",
    "\n",
    "> If $X_i$ are independent draws from a distribution with mean $E[X_i] = \\mu$ and finite variance $Var(X_i) = \\sigma^2$, then the sample mean $Z = \\frac{1}{n}\\sum_i X_i$ converges in distribution to a(n) \\____(a)\\____-distributed random variable with mean \\____(b)\\____ and variance \\____(c)\\____."
   ]
  },
  {
   "cell_type": "markdown",
   "metadata": {},
   "source": []
  }
 ],
 "metadata": {
  "anaconda-cloud": {},
  "kernelspec": {
   "display_name": "Python [default]",
   "language": "python",
   "name": "python3"
  },
  "language_info": {
   "codemirror_mode": {
    "name": "ipython",
    "version": 3
   },
   "file_extension": ".py",
   "mimetype": "text/x-python",
   "name": "python",
   "nbconvert_exporter": "python",
   "pygments_lexer": "ipython3",
   "version": "3.5.2"
  }
 },
 "nbformat": 4,
 "nbformat_minor": 0
}
