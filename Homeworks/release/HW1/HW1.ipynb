{
 "cells": [
  {
   "cell_type": "markdown",
   "metadata": {},
   "source": [
    "**Student name and BC username**"
   ]
  },
  {
   "cell_type": "markdown",
   "metadata": {},
   "source": [
    "NAME HERE"
   ]
  },
  {
   "cell_type": "markdown",
   "metadata": {},
   "source": [
    "**Collaborators names and BC usernames (max 2 collaborators)**"
   ]
  },
  {
   "cell_type": "markdown",
   "metadata": {},
   "source": [
    "+ NAME 1 \n",
    "\n",
    "+ NAME 2"
   ]
  },
  {
   "cell_type": "markdown",
   "metadata": {},
   "source": [
    "---"
   ]
  },
  {
   "cell_type": "markdown",
   "metadata": {
    "run_control": {
     "frozen": false,
     "read_only": false
    }
   },
   "source": [
    "# <font face = \"times\"><center>  EC1151 - Homework 1 (Due Sep 9th, 3PM) "
   ]
  },
  {
   "cell_type": "markdown",
   "metadata": {},
   "source": [
    "<font face=\"times\">\n",
    "# Instructions\n",
    "\n",
    "+ You must fill out this Jupyter notebook and return it by e-mail to baisihad@bc.edu\n",
    "\n",
    "+ Double click on the cells to edit them\n",
    "\n",
    "+ For questions that need mathematical notation, try to use $\\LaTeX$ if you can.\n",
    "\n",
    "+ Sometimes, below a question that requires an answer there will be a cell with several `assert` statements. If you can run that cell without generating error, your answer has been validated and you are guaranteed the points.\n",
    "\n",
    "+ This assignment will be graded out of 110 points, because of the extra 10 points for $\\LaTeX$ at the bottom. However, your maximum recorded grade will be capped at 100.\n",
    "\n",
    "+ If you're stuck, try posting a question in the Piazza forum. Active contributors will be rewarded.\n",
    "\n",
    "+ Finally, this is <b>experimental</b>. I'd love to hear what you think about this homework format. You can e-mail me with your thoughts, or (preferrably) post in the Piazza forum (possibly anonymously)."
   ]
  },
  {
   "cell_type": "markdown",
   "metadata": {},
   "source": [
    "---"
   ]
  },
  {
   "cell_type": "markdown",
   "metadata": {},
   "source": [
    "# <font face = \"times\">Theory "
   ]
  },
  {
   "cell_type": "markdown",
   "metadata": {},
   "source": [
    "## <font face = \"Times\"> Q1: Sampling (35 points)</font>\n",
    "\n",
    "Remember to explain your reasoning, even for the question of mathematical content.\n",
    "\n",
    "<font face = \"Times\">**Q1A)** In how many ways can we *sample from* 10 entrees and 10 deserts? (That is, how many different meals can we make?) "
   ]
  },
  {
   "cell_type": "markdown",
   "metadata": {
    "deletable": false,
    "nbgrader": {
     "checksum": "2d1ca77bbc1017d6118aad95b0f3753a",
     "grade": true,
     "grade_id": "q1a",
     "locked": false,
     "points": 5,
     "solution": true
    }
   },
   "source": [
    "YOUR ANSWER HERE"
   ]
  },
  {
   "cell_type": "markdown",
   "metadata": {},
   "source": [
    "<font face = \"Times\">**Q1B)** If we pick two meals out of three entrees, we can make three different courses. For example, out of {chicken, beef, fish} we can choose {chicken, beef}, {chicken, fish}, {beef, fish}.\n",
    "\n",
    "If we pick five meals out of ten entrees, how many different courses can we make?\n",
    "\n",
    "Hint: How many choices do you have for the first meal? How many choices are left for the second meal?"
   ]
  },
  {
   "cell_type": "markdown",
   "metadata": {
    "deletable": false,
    "nbgrader": {
     "checksum": "d4c74f619c59832260cadae9daeb7732",
     "grade": true,
     "grade_id": "q1b",
     "locked": false,
     "points": 10,
     "solution": true
    }
   },
   "source": [
    "YOUR ANSWER HERE"
   ]
  },
  {
   "cell_type": "markdown",
   "metadata": {},
   "source": [
    "<font face = \"times\">**Q1C)** A `bit` is a binary digit: it can be 0 or 1. A `byte` is a collection of `8` bits. For example, 10101010 is a `byte`, and so is 00011100. How many distinct bytes can we create out of 8 `bits`?\n",
    "\n",
    "Hint: A `nibble` is a collection of `4` bytes, like 1011 or 1111 or 0001. There are `16` different possible nibbles."
   ]
  },
  {
   "cell_type": "markdown",
   "metadata": {
    "deletable": false,
    "nbgrader": {
     "checksum": "ef4e247bdcceaad99281abe83198197d",
     "grade": true,
     "grade_id": "q1c",
     "locked": false,
     "points": 10,
     "solution": true
    }
   },
   "source": [
    "YOUR ANSWER HERE"
   ]
  },
  {
   "cell_type": "markdown",
   "metadata": {},
   "source": [
    "<font face = \"times\">**Q1D)** A *palindrome* is a sequence of characters that reads the same way forwards and backwards. Boring examples include \"race car\" and \"taco cat\". For a less boring example see Demetri Martin's \"[Dammit I'm mad](http://fuckyeahdemetrimartin.tumblr.com/post/1382923819/simonfm-dammit-im-mad-a-poem-that-is-a)\" poem. \n",
    "\n",
    "Is a word with 2 letters more likely to be a palindrome than a word with 3 letters in it?"
   ]
  },
  {
   "cell_type": "markdown",
   "metadata": {
    "deletable": false,
    "nbgrader": {
     "checksum": "a6c4c17b0016e7345d6413d3c4fb91ad",
     "grade": true,
     "grade_id": "q1d",
     "locked": false,
     "points": 10,
     "solution": true
    }
   },
   "source": [
    "YOUR ANSWER HERE"
   ]
  },
  {
   "cell_type": "markdown",
   "metadata": {},
   "source": [
    "<font face = \"times\">**Q1E)** [No points - Extra] This is the famous [Boy of Girl Paradox](https://en.wikipedia.org/wiki/Boy_or_Girl_paradox).\n",
    "\n",
    "+ Mr. Jones has two children. The older child is a girl. What is the probability that both children are girls?\n",
    "+ Mr. Smith has two children. At least one of them is a boy. What is the probability that both children are boys?\n",
    "\n",
    "Try thinking what answers you'd give before reading the article. "
   ]
  },
  {
   "cell_type": "markdown",
   "metadata": {
    "nbgrader": {
     "grade": false,
     "locked": false,
     "points": 1,
     "solution": false
    }
   },
   "source": [
    "YOUR ANSWER HERE"
   ]
  },
  {
   "cell_type": "markdown",
   "metadata": {},
   "source": [
    "## Q2 - Coin flipping experiment (30 points)"
   ]
  },
  {
   "cell_type": "markdown",
   "metadata": {},
   "source": [
    "<font face = \"times\"><b>Q2A)</b> If you toss a coin three times, what is the probability of getting 2 heads and 1 tail? Explain your reasoning."
   ]
  },
  {
   "cell_type": "markdown",
   "metadata": {
    "deletable": false,
    "nbgrader": {
     "checksum": "07407f84053588b4ca55d3d02e9b1e85",
     "grade": true,
     "grade_id": "q2a",
     "locked": false,
     "points": 10,
     "solution": true
    }
   },
   "source": [
    "YOUR ANSWER HERE"
   ]
  },
  {
   "cell_type": "markdown",
   "metadata": {},
   "source": [
    "<font face = \"times\">**Q2B)** For the next experiment, we'll repeatedly toss three coins. We'll call a *success* if the event of getting \"exactly two heads and one tail\" is true. For example, `HTH` is a *sucess*, and so is `HHT`; however `TTT` is a failure.\n",
    "\n",
    "Repeat the following experiment **10** times.\n",
    "\n",
    "+ Get three coins and toss them. Record if you got a *sucess* or not.\n",
    "\n",
    "Compute the ratio of *successes* over total experiments. (i.e., if you had 3 *successes*, you should answer $\\frac{3}{10} = 0.3$)."
   ]
  },
  {
   "cell_type": "markdown",
   "metadata": {
    "deletable": false,
    "nbgrader": {
     "checksum": "3f3a09d13502467efd3833649f8b4526",
     "grade": true,
     "grade_id": "q2b1",
     "locked": false,
     "points": 5,
     "solution": true
    }
   },
   "source": [
    "YOUR ANSWER HERE"
   ]
  },
  {
   "cell_type": "markdown",
   "metadata": {},
   "source": [
    "<font face = \"times\">\n",
    "Perform the previous experiment an additional 15 times. Compute the ratio of *successes* over total experiments. What is the ratio of successes over total repetitions (now 25)?"
   ]
  },
  {
   "cell_type": "markdown",
   "metadata": {
    "deletable": false,
    "nbgrader": {
     "checksum": "d21416c4e03d7d6d66b4186dec75ac28",
     "grade": true,
     "grade_id": "q2b2",
     "locked": false,
     "points": 2,
     "solution": true
    }
   },
   "source": [
    "YOUR ANSWER HERE"
   ]
  },
  {
   "cell_type": "markdown",
   "metadata": {},
   "source": [
    "<font face = \"times\">\n",
    "\n",
    "Perform the previous experiment an additional 25 times (or more!).\n",
    "Compute the ratio of *successes* over total experiments. What is the ratio of successes over total repetitions (now at least 50)?"
   ]
  },
  {
   "cell_type": "markdown",
   "metadata": {
    "deletable": false,
    "nbgrader": {
     "checksum": "c657c74179be553bdc6a711fee0db005",
     "grade": true,
     "grade_id": "q2b3",
     "locked": false,
     "points": 3,
     "solution": true
    }
   },
   "source": [
    "YOUR ANSWER HERE"
   ]
  },
  {
   "cell_type": "markdown",
   "metadata": {},
   "source": [
    "<font face = \"times\">**Q2C)** What do you observe about the numbers you found in part b? Try to relate them to your answer in question a.\n",
    "\n",
    "In particular, if you continued repeating your experiment trillions of times, what is the approximate ratio of \"successes / total repetitions\" that you would have gotten?"
   ]
  },
  {
   "cell_type": "markdown",
   "metadata": {
    "deletable": false,
    "nbgrader": {
     "checksum": "0ae2ca13bf25dd4de99cedb4548b7cf7",
     "grade": true,
     "grade_id": "q2c",
     "locked": false,
     "points": 10,
     "solution": true
    }
   },
   "source": [
    "YOUR ANSWER HERE"
   ]
  },
  {
   "cell_type": "markdown",
   "metadata": {},
   "source": [
    "---"
   ]
  },
  {
   "cell_type": "markdown",
   "metadata": {},
   "source": [
    "<font face=\"times\">\n",
    "#  Programming Practice"
   ]
  },
  {
   "cell_type": "markdown",
   "metadata": {},
   "source": [
    "<font face=\"times\">\n",
    "## Printing (5 points)"
   ]
  },
  {
   "cell_type": "markdown",
   "metadata": {},
   "source": [
    "<font face=\"times\">\n",
    "**Q3)** Use the `print` function to print out the message \"Hello World!\""
   ]
  },
  {
   "cell_type": "code",
   "execution_count": null,
   "metadata": {
    "collapsed": true,
    "deletable": false,
    "nbgrader": {
     "checksum": "0a1b245a94ffabd100482bf0884cf378",
     "grade": true,
     "grade_id": "q3",
     "locked": false,
     "points": 5,
     "solution": true
    }
   },
   "outputs": [],
   "source": [
    "# YOUR CODE HERE\n",
    "raise NotImplementedError()"
   ]
  },
  {
   "cell_type": "markdown",
   "metadata": {},
   "source": [
    "<font face=\"times\">\n",
    "## Functions (20 points)"
   ]
  },
  {
   "cell_type": "markdown",
   "metadata": {},
   "source": [
    "<font face=\"times\">\n",
    "**Q4)** Define a function `triple(x)` that takes `x` and outputs three times `x`."
   ]
  },
  {
   "cell_type": "code",
   "execution_count": null,
   "metadata": {
    "collapsed": true,
    "deletable": false,
    "nbgrader": {
     "checksum": "f5136a45b5d24d69f1d1aca914b82fc4",
     "grade": false,
     "grade_id": "q4",
     "locked": false,
     "solution": true
    }
   },
   "outputs": [],
   "source": [
    "def triple(x):\n",
    "    # YOUR CODE HERE\n",
    "    raise NotImplementedError()"
   ]
  },
  {
   "cell_type": "code",
   "execution_count": null,
   "metadata": {
    "collapsed": true,
    "deletable": false,
    "nbgrader": {
     "checksum": "b30da555c4ec47378521535707780845",
     "grade": true,
     "grade_id": "q4t",
     "locked": true,
     "points": 5,
     "solution": false
    }
   },
   "outputs": [],
   "source": [
    "assert two_power(0) == 1\n",
    "assert two_power(1) == 2\n",
    "assert two_power(4) == 16\n",
    "assert two_power(10) == 1024"
   ]
  },
  {
   "cell_type": "markdown",
   "metadata": {},
   "source": [
    "<font face=\"times\">\n",
    "**Q5)** Define a function `two_power(x)` that takes a number `x` and outputs $2^x$ (i.e., two to the power of `x`)"
   ]
  },
  {
   "cell_type": "code",
   "execution_count": null,
   "metadata": {
    "collapsed": true,
    "deletable": false,
    "nbgrader": {
     "checksum": "a1f569084efab8fc95ec4962a145f1e8",
     "grade": false,
     "grade_id": "q5",
     "locked": false,
     "points": 5,
     "solution": true
    }
   },
   "outputs": [],
   "source": [
    "def two_power(x):\n",
    "    # YOUR CODE HERE\n",
    "    raise NotImplementedError()"
   ]
  },
  {
   "cell_type": "code",
   "execution_count": null,
   "metadata": {
    "collapsed": true,
    "deletable": false,
    "nbgrader": {
     "checksum": "f2c035c1980fc5dc87619786df14f195",
     "grade": true,
     "grade_id": "q5t",
     "locked": true,
     "points": 5,
     "solution": false
    }
   },
   "outputs": [],
   "source": [
    "assert two_power(0) == 1\n",
    "assert two_power(1) == 2\n",
    "assert two_power(4) == 16\n",
    "assert two_power(10) == 1024"
   ]
  },
  {
   "cell_type": "markdown",
   "metadata": {},
   "source": [
    "<font face=\"times\">\n",
    "**Q6)** Define a function `summation(x, y)` that takes two arguments: `x` and `y`, and then outputs their sum."
   ]
  },
  {
   "cell_type": "code",
   "execution_count": null,
   "metadata": {
    "collapsed": true,
    "deletable": false,
    "nbgrader": {
     "checksum": "24222190c5acac3c7adf763d1ee98ad3",
     "grade": false,
     "grade_id": "q6",
     "locked": false,
     "solution": true
    }
   },
   "outputs": [],
   "source": [
    "def summation(x, y):\n",
    "    # YOUR CODE HERE\n",
    "    raise NotImplementedError()"
   ]
  },
  {
   "cell_type": "code",
   "execution_count": null,
   "metadata": {
    "collapsed": true,
    "deletable": false,
    "nbgrader": {
     "checksum": "6a023aa2c79b8703ebc2273d790e394d",
     "grade": true,
     "grade_id": "q6t",
     "locked": true,
     "points": 5,
     "solution": false
    }
   },
   "outputs": [],
   "source": [
    "assert summation(1, 1) == 2\n",
    "assert summation(1, 2) == 3\n",
    "assert summation(3, 1.5) == 4.5\n",
    "assert summation(60, 60) == 120"
   ]
  },
  {
   "cell_type": "markdown",
   "metadata": {},
   "source": [
    "<font face=\"times\">\n",
    "**Q7)** Define a function `constant_five()` that takes *no* arguments and always outputs the number $5$."
   ]
  },
  {
   "cell_type": "code",
   "execution_count": null,
   "metadata": {
    "collapsed": true,
    "deletable": false,
    "nbgrader": {
     "checksum": "7b9e4b88f9bcb9a8d408e3766a3b7eef",
     "grade": false,
     "grade_id": "q7",
     "locked": false,
     "solution": true
    }
   },
   "outputs": [],
   "source": [
    "def constant_five():\n",
    "    # YOUR CODE HERE\n",
    "    raise NotImplementedError()"
   ]
  },
  {
   "cell_type": "code",
   "execution_count": null,
   "metadata": {
    "collapsed": true,
    "deletable": false,
    "nbgrader": {
     "checksum": "03f5bee50d8e297807aba70828f43205",
     "grade": true,
     "grade_id": "q7t",
     "locked": true,
     "points": 5,
     "solution": false
    }
   },
   "outputs": [],
   "source": [
    "assert constant_five() == 5"
   ]
  },
  {
   "cell_type": "markdown",
   "metadata": {},
   "source": [
    "<font face=\"times\">\n",
    "## Numpy (10 points)"
   ]
  },
  {
   "cell_type": "markdown",
   "metadata": {},
   "source": [
    "<font face=\"times\">\n",
    "**Q8)** Suppose you want to compute the sine, cosine and tangent of a number. You know that the `numpy` library has functions called `cos`, and `sin` and `tan` that would fit your needs. How can you import those functions *in a way that you wouldn't need to write `numpy.` as a prefix*?"
   ]
  },
  {
   "cell_type": "code",
   "execution_count": null,
   "metadata": {
    "collapsed": false,
    "deletable": false,
    "nbgrader": {
     "checksum": "743e71f74270f011dd6e959a15bc2662",
     "grade": false,
     "grade_id": "q8",
     "locked": false,
     "solution": true
    }
   },
   "outputs": [],
   "source": [
    "# YOUR CODE HERE\n",
    "raise NotImplementedError()"
   ]
  },
  {
   "cell_type": "code",
   "execution_count": null,
   "metadata": {
    "collapsed": false,
    "deletable": false,
    "nbgrader": {
     "checksum": "cc448c4d790f27500331352dea1f1b1c",
     "grade": true,
     "grade_id": "q8t",
     "locked": true,
     "points": 10,
     "solution": false
    }
   },
   "outputs": [],
   "source": [
    "# Note that we're not using the prefix numpy. here!\n",
    "assert cos(0) == 1\n",
    "assert sin(0) == 0\n",
    "assert tan(0) == 0"
   ]
  },
  {
   "cell_type": "markdown",
   "metadata": {},
   "source": [
    "# $\\LaTeX$ (10 points)"
   ]
  },
  {
   "cell_type": "markdown",
   "metadata": {},
   "source": [
    "<font face=\"times\">\n",
    "**Q9)** Reproduce the following using $\\LaTeX$ code\n",
    "\n",
    "<img src = \"hw1_latex.png\", width = 500>"
   ]
  },
  {
   "cell_type": "markdown",
   "metadata": {},
   "source": [
    "Part a (exponent)"
   ]
  },
  {
   "cell_type": "markdown",
   "metadata": {
    "deletable": false,
    "nbgrader": {
     "checksum": "43554cecfd6e0b6229ad0a413b8fb9d2",
     "grade": true,
     "grade_id": "q9a",
     "locked": false,
     "points": 2.5,
     "solution": true
    }
   },
   "source": [
    "YOUR ANSWER HERE"
   ]
  },
  {
   "cell_type": "markdown",
   "metadata": {},
   "source": [
    "Part b (fraction)"
   ]
  },
  {
   "cell_type": "markdown",
   "metadata": {
    "deletable": false,
    "nbgrader": {
     "checksum": "ea8ff35d642d31f8ab51e2b0d07d60e8",
     "grade": true,
     "grade_id": "q9b",
     "locked": false,
     "points": 2.5,
     "solution": true
    }
   },
   "source": [
    "YOUR ANSWER HERE"
   ]
  },
  {
   "cell_type": "markdown",
   "metadata": {},
   "source": [
    "Part c (Greek letter capital Omega)"
   ]
  },
  {
   "cell_type": "markdown",
   "metadata": {
    "deletable": false,
    "nbgrader": {
     "checksum": "7f9773271a6690a74e881291490b75fc",
     "grade": true,
     "grade_id": "q9c",
     "locked": false,
     "points": 2.5,
     "solution": true
    }
   },
   "source": [
    "YOUR ANSWER HERE"
   ]
  },
  {
   "cell_type": "markdown",
   "metadata": {},
   "source": [
    "Part d (Greek letter capital Gamma)"
   ]
  },
  {
   "cell_type": "markdown",
   "metadata": {
    "deletable": false,
    "nbgrader": {
     "checksum": "5e12ee68a082b345ba0fa9ab60d8cdbb",
     "grade": true,
     "grade_id": "q9d",
     "locked": false,
     "points": 2.5,
     "solution": true
    }
   },
   "source": [
    "YOUR ANSWER HERE"
   ]
  }
 ],
 "metadata": {
  "kernelspec": {
   "display_name": "Python 3",
   "language": "python",
   "name": "python3"
  },
  "language_info": {
   "codemirror_mode": {
    "name": "ipython",
    "version": 3
   },
   "file_extension": ".py",
   "mimetype": "text/x-python",
   "name": "python",
   "nbconvert_exporter": "python",
   "pygments_lexer": "ipython3",
   "version": "3.5.2"
  }
 },
 "nbformat": 4,
 "nbformat_minor": 0
}
