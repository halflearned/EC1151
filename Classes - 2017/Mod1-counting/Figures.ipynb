{
 "cells": [
  {
   "cell_type": "code",
   "execution_count": 1,
   "metadata": {
    "collapsed": true,
    "run_control": {
     "frozen": false,
     "read_only": false
    }
   },
   "outputs": [],
   "source": [
    "import numpy as np\n",
    "import itertools as it"
   ]
  },
  {
   "cell_type": "code",
   "execution_count": 32,
   "metadata": {
    "collapsed": true
   },
   "outputs": [],
   "source": [
    "types = [\"&#9830;\",\"&#9831;\",\"&#9829;\",\"&#9828\"]\n",
    "cards = [\"A\"]"
   ]
  },
  {
   "cell_type": "code",
   "execution_count": 52,
   "metadata": {
    "collapsed": false
   },
   "outputs": [
    {
     "name": "stdout",
     "output_type": "stream",
     "text": [
      "(3,&#9830;)&nbsp;\t(3,&#9831;)&nbsp;\t(3,&#9829;)&nbsp;\t(3,&#9828)&nbsp;\t<br>\n"
     ]
    }
   ],
   "source": [
    "for k, ts in enumerate(it.permutations(types, 1)):\n",
    "    for t in ts:\n",
    "        print(\"(3,%s)\" % t, end = \"\")\n",
    "    print(\"&nbsp;\", end = \"\\t\")\n",
    "    if (k+1) % 4 == 0 and k > 0:\n",
    "        print(\"<br>\")"
   ]
  },
  {
   "cell_type": "code",
   "execution_count": 56,
   "metadata": {
    "collapsed": false
   },
   "outputs": [
    {
     "name": "stdout",
     "output_type": "stream",
     "text": [
      "(A,&#9830;)(A,&#9831;)&nbsp;\t(A,&#9830;)(A,&#9829;)&nbsp;\t<br>\n",
      "(A,&#9830;)(A,&#9828)&nbsp;\t(A,&#9831;)(A,&#9829;)&nbsp;\t<br>\n",
      "(A,&#9831;)(A,&#9828)&nbsp;\t(A,&#9829;)(A,&#9828)&nbsp;\t<br>\n"
     ]
    }
   ],
   "source": [
    "for k, ts in enumerate(it.combinations(types, 2)):\n",
    "    for t in ts:\n",
    "        print(\"(A,%s)\" % t, end = \"\")\n",
    "    print(\"&nbsp;\", end = \"\\t\")\n",
    "    if (k+1) % 2 == 0 and k > 0:\n",
    "        print(\"<br>\")"
   ]
  },
  {
   "cell_type": "code",
   "execution_count": 59,
   "metadata": {
    "collapsed": false
   },
   "outputs": [
    {
     "name": "stdout",
     "output_type": "stream",
     "text": [
      "&#9858; &#9860; &#9860; &#9858; &#9860; &#9860; &#9857; &#9856; &#9858; &#9859; &#9861; &#9858; &#9861; &#9860; &#9859; &#9859; &#9858; &#9858; &#9859; &#9860; &#9860; &#9858; &#9861; &#9859; &#9860; "
     ]
    }
   ],
   "source": [
    "dice = [\"&#9856;\", \"&#9857;\", \"&#9858;\", \"&#9859;\", \"&#9860;\", \"&#9861;\"]\n",
    "for _ in range(25):\n",
    "    print(np.random.choice(dice), end = \" \")"
   ]
  },
  {
   "cell_type": "code",
   "execution_count": null,
   "metadata": {
    "collapsed": true
   },
   "outputs": [],
   "source": []
  }
 ],
 "metadata": {
  "anaconda-cloud": {},
  "kernelspec": {
   "display_name": "Python [default]",
   "language": "python",
   "name": "python3"
  },
  "language_info": {
   "codemirror_mode": {
    "name": "ipython",
    "version": 3
   },
   "file_extension": ".py",
   "mimetype": "text/x-python",
   "name": "python",
   "nbconvert_exporter": "python",
   "pygments_lexer": "ipython3",
   "version": "3.5.2"
  }
 },
 "nbformat": 4,
 "nbformat_minor": 0
}
