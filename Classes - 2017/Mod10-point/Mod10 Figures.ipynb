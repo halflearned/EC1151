{
 "cells": [
  {
   "cell_type": "code",
   "execution_count": 29,
   "metadata": {
    "collapsed": false,
    "run_control": {
     "frozen": false,
     "read_only": false
    }
   },
   "outputs": [],
   "source": [
    "import scipy.stats as ss\n",
    "import numpy as np\n",
    "import matplotlib.pyplot as plt\n",
    "import seaborn as sns\n",
    "import pandas as pd\n",
    "pd.set_option('display.max_rows', 8)\n",
    "sns.set_style(\"white\")\n",
    "%matplotlib inline"
   ]
  },
  {
   "cell_type": "code",
   "execution_count": 123,
   "metadata": {
    "collapsed": false,
    "run_control": {
     "frozen": false,
     "read_only": false
    }
   },
   "outputs": [
    {
     "data": {
      "text/plain": [
       "(array([ 4.94725738,  0.43825033,  1.8456933 ,  0.39232086,  1.81155663]),\n",
       " 1.8870156999496595,\n",
       " 0.52966101694915257)"
      ]
     },
     "execution_count": 123,
     "metadata": {},
     "output_type": "execute_result"
    }
   ],
   "source": [
    "X = ss.expon(scale = 2).rvs(5)\n",
    "X, X.mean(), 5/np.round(X, 2).sum()"
   ]
  },
  {
   "cell_type": "markdown",
   "metadata": {},
   "source": [
    "|  Meaning\t| Estimator\t| 2 \t|3  \t|4  \t|\n",
    "|:-:\t|:-:\t|:-:\t|:-:\t|:-:\t|\n",
    "| Mean \t|  | 4 | 3 | 2| 1 | 1| 1| 1|1|0\n",
    "| Number of faces on Die B \t| 3 | 3 | 2 | 2| 2 | 2| 2| 2|1|1"
   ]
  },
  {
   "cell_type": "code",
   "execution_count": 48,
   "metadata": {
    "collapsed": false,
    "run_control": {
     "frozen": false,
     "read_only": false
    }
   },
   "outputs": [
    {
     "data": {
      "text/html": [
       "<div>\n",
       "<table border=\"1\" class=\"dataframe\">\n",
       "  <thead>\n",
       "    <tr style=\"text-align: right;\">\n",
       "      <th></th>\n",
       "      <th>Value of X</th>\n",
       "    </tr>\n",
       "  </thead>\n",
       "  <tbody>\n",
       "    <tr>\n",
       "      <th>Mr 1</th>\n",
       "      <td>6.04</td>\n",
       "    </tr>\n",
       "    <tr>\n",
       "      <th>Mr 2</th>\n",
       "      <td>0.43</td>\n",
       "    </tr>\n",
       "    <tr>\n",
       "      <th>Mr 3</th>\n",
       "      <td>0.81</td>\n",
       "    </tr>\n",
       "    <tr>\n",
       "      <th>Mr 4</th>\n",
       "      <td>1.75</td>\n",
       "    </tr>\n",
       "    <tr>\n",
       "      <th>...</th>\n",
       "      <td>...</td>\n",
       "    </tr>\n",
       "    <tr>\n",
       "      <th>Ms 97</th>\n",
       "      <td>0.66</td>\n",
       "    </tr>\n",
       "    <tr>\n",
       "      <th>Mr 98</th>\n",
       "      <td>0.56</td>\n",
       "    </tr>\n",
       "    <tr>\n",
       "      <th>Ms 99</th>\n",
       "      <td>0.40</td>\n",
       "    </tr>\n",
       "    <tr>\n",
       "      <th>Ms 100</th>\n",
       "      <td>2.76</td>\n",
       "    </tr>\n",
       "  </tbody>\n",
       "</table>\n",
       "<p>100 rows × 1 columns</p>\n",
       "</div>"
      ],
      "text/plain": [
       "        Value of X\n",
       "Mr 1          6.04\n",
       "Mr 2          0.43\n",
       "Mr 3          0.81\n",
       "Mr 4          1.75\n",
       "...            ...\n",
       "Ms 97         0.66\n",
       "Mr 98         0.56\n",
       "Ms 99         0.40\n",
       "Ms 100        2.76\n",
       "\n",
       "[100 rows x 1 columns]"
      ]
     },
     "execution_count": 48,
     "metadata": {},
     "output_type": "execute_result"
    }
   ],
   "source": [
    "X = ss.expon(scale = 2).rvs(100)\n",
    "idx = [np.random.choice([\"Mr \", \"Ms \"]) + str(i) for i in range(1,101)]\n",
    "data = np.round(X, 2)\n",
    "pd.DataFrame(index = idx, data = data, columns = [\"Value of X\"])"
   ]
  },
  {
   "cell_type": "code",
   "execution_count": 54,
   "metadata": {
    "collapsed": false,
    "run_control": {
     "frozen": false,
     "read_only": false
    }
   },
   "outputs": [
    {
     "data": {
      "text/html": [
       "<div>\n",
       "<table border=\"1\" class=\"dataframe\">\n",
       "  <thead>\n",
       "    <tr style=\"text-align: right;\">\n",
       "      <th></th>\n",
       "      <th>Miss 1</th>\n",
       "      <th>Miss 2</th>\n",
       "      <th>Miss 3</th>\n",
       "      <th>Mister 4</th>\n",
       "    </tr>\n",
       "  </thead>\n",
       "  <tbody>\n",
       "    <tr>\n",
       "      <th>Value of X</th>\n",
       "      <td>1.5</td>\n",
       "      <td>2.1</td>\n",
       "      <td>2.9</td>\n",
       "      <td>3.5</td>\n",
       "    </tr>\n",
       "  </tbody>\n",
       "</table>\n",
       "</div>"
      ],
      "text/plain": [
       "            Miss 1  Miss 2  Miss 3  Mister 4\n",
       "Value of X     1.5     2.1     2.9       3.5"
      ]
     },
     "execution_count": 54,
     "metadata": {},
     "output_type": "execute_result"
    }
   ],
   "source": [
    "X = [1.5, 2.1, 2.9, 3.5]\n",
    "idx = [\"Miss 1\", \"Miss 2\", \"Miss 3\", \"Mister 4\"]\n",
    "data = np.round(X, 2)\n",
    "pd.DataFrame(index = idx, data = data, columns = [\"Value of X\"]).T"
   ]
  },
  {
   "cell_type": "code",
   "execution_count": 59,
   "metadata": {
    "collapsed": false,
    "run_control": {
     "frozen": false,
     "read_only": false
    }
   },
   "outputs": [
    {
     "data": {
      "text/html": [
       "<div>\n",
       "<table border=\"1\" class=\"dataframe\">\n",
       "  <thead>\n",
       "    <tr style=\"text-align: right;\">\n",
       "      <th></th>\n",
       "      <th>$X_1$</th>\n",
       "      <th>$X_2$</th>\n",
       "      <th>$X_3$</th>\n",
       "      <th>$X_4$</th>\n",
       "    </tr>\n",
       "  </thead>\n",
       "  <tbody>\n",
       "    <tr>\n",
       "      <th>Value of X</th>\n",
       "      <td>1.6</td>\n",
       "      <td>2.2</td>\n",
       "      <td>2.9</td>\n",
       "      <td>3.45</td>\n",
       "    </tr>\n",
       "  </tbody>\n",
       "</table>\n",
       "</div>"
      ],
      "text/plain": [
       "            $X_1$  $X_2$  $X_3$  $X_4$\n",
       "Value of X    1.6    2.2    2.9   3.45"
      ]
     },
     "execution_count": 59,
     "metadata": {},
     "output_type": "execute_result"
    }
   ],
   "source": [
    "X = [1.6, 2.2, 2.9, 3.45]\n",
    "idx = [\"$X_1$\", \"$X_2$\", \"$X_3$\", \"$X_4$\"]\n",
    "data = np.round(X, 2)\n",
    "pd.DataFrame(index = idx, data = data, columns = [\"Value of X\"]).T"
   ]
  },
  {
   "cell_type": "code",
   "execution_count": 57,
   "metadata": {
    "collapsed": false,
    "run_control": {
     "frozen": false,
     "read_only": false
    },
    "scrolled": false
   },
   "outputs": [
    {
     "data": {
      "image/png": "[encoded data removed]",
      "text/plain": [
       "<matplotlib.figure.Figure at 0x10d9ee550>"
      ]
     },
     "metadata": {},
     "output_type": "display_data"
    }
   ],
   "source": [
    "n = 50\n",
    "fig, axs = plt.subplots(1, 2, figsize = (10, 5))\n",
    "fig.subplots_adjust(wspace = .3, top = .8)\n",
    "x = range(13)\n",
    "P = poisson(3).pmf(x)\n",
    "\n",
    "axs[0].scatter(x, P)\n",
    "axs[0].vlines(x, 0, P)\n",
    "axs[0].set_ylim([0, .25])\n",
    "axs[0].set_xlim([-1, 13])\n",
    "\n",
    "r = 3\n",
    "z = np.linspace(2.7, 3.3, 100)\n",
    "Z = norm(r, r/n).pdf(z)\n",
    "axs[1].plot(z, Z, label = \"$\\lambda = %d$\" % r)\n",
    "axs[0].set_title(\"Original distribution with $\\lambda = 3$\", fontsize = 20)\n",
    "axs[1].set_title(\"Sampling distribution for $\\lambda = 3$\", fontsize = 20)\n",
    "sns.despine()\n",
    "\n",
    "axs[0].set_xlabel(\"$X_1$\", fontsize = 20)\n",
    "axs[1].set_xlabel(\"$[X_1 + \\cdots + X_n]/n$\", fontsize = 20)\n",
    "fig.savefig(\"original_sampling1\")"
   ]
  },
  {
   "cell_type": "code",
   "execution_count": 58,
   "metadata": {
    "collapsed": false,
    "run_control": {
     "frozen": false,
     "read_only": false
    }
   },
   "outputs": [
    {
     "data": {
      "image/png": "[encoded data removed]",
      "text/plain": [
       "<matplotlib.figure.Figure at 0x10d9d6278>"
      ]
     },
     "metadata": {},
     "output_type": "display_data"
    }
   ],
   "source": [
    "n = 50\n",
    "fig, axs = plt.subplots(1, 2, figsize = (10, 5))\n",
    "fig.subplots_adjust(wspace = .3, top = .8)\n",
    "x = range(13)\n",
    "P = poisson(3).pmf(x)\n",
    "\n",
    "axs[0].scatter(x, P)\n",
    "axs[0].vlines(x, 0, P)\n",
    "axs[0].set_ylim([0, .25])\n",
    "axs[0].set_xlim([-1, 13])\n",
    "\n",
    "for r in range(2,5):\n",
    "    z = np.linspace(1.5, 4.5, 100)\n",
    "    Z = norm(r, r/n).pdf(z)\n",
    "    axs[1].plot(z, Z, label = \"$\\lambda = %d$\" % r)\n",
    "axs[1].legend(loc=\"best\", fontsize = 15)\n",
    "\n",
    "\n",
    "axs[0].set_title(\"Original distribution with $\\lambda = 3$\", fontsize = 20)\n",
    "axs[1].set_title(\"Sampling distributions\", fontsize = 20)\n",
    "sns.despine()\n",
    "\n",
    "axs[0].set_xlabel(\"$X_1$\", fontsize = 20)\n",
    "axs[1].set_xlabel(\"$[X_1 + \\cdots + X_n]/n$\", fontsize = 20)\n",
    "fig.savefig(\"original_sampling2\")"
   ]
  },
  {
   "cell_type": "code",
   "execution_count": 151,
   "metadata": {
    "collapsed": false,
    "run_control": {
     "frozen": false,
     "read_only": false
    }
   },
   "outputs": [],
   "source": [
    "from numpy import mean\n",
    "from scipy.stats import poisson\n",
    "from matplotlib.pyplot import hist\n",
    "%matplotlib inline\n",
    "\n",
    "n_sims = 200000    # number of simulations\n",
    "sample_size = 10  # n\n",
    "lambda_hyp = 5    # your boss's hypothetical lambda\n",
    "\n",
    "# Make a table of X~Poisson(5) of shape (n_sim, sample_size)\n",
    "X = poisson(lambda_hyp).rvs((n_sims, sample_size))\n",
    "lambda_hat = mean(X, axis = 1) # Take mean of each row"
   ]
  },
  {
   "cell_type": "code",
   "execution_count": 152,
   "metadata": {
    "collapsed": false,
    "run_control": {
     "frozen": false,
     "read_only": false
    }
   },
   "outputs": [
    {
     "name": "stdout",
     "output_type": "stream",
     "text": [
      "0.0005\n"
     ]
    }
   ],
   "source": [
    "from numpy import mean\n",
    "\n",
    "is_smaller = lambda_hat < 2.9\n",
    "frac_smaller = mean(is_smaller)\n",
    "print(frac_smaller)"
   ]
  },
  {
   "cell_type": "code",
   "execution_count": 153,
   "metadata": {
    "collapsed": false,
    "run_control": {
     "frozen": false,
     "read_only": false
    }
   },
   "outputs": [
    {
     "data": {
      "image/png": "[encoded data removed]",
      "text/plain": [
       "<matplotlib.figure.Figure at 0x11ac45ac8>"
      ]
     },
     "metadata": {},
     "output_type": "display_data"
    }
   ],
   "source": [
    "fig, ax = plt.subplots(1)\n",
    "ax.hist(lambda_hat, bins = 100);\n",
    "ax.set_title(\"Histogram of simulated $\\hat{\\lambda}$\", fontsize = 20)\n",
    "fig.savefig(\"lambda_hat_sims\")"
   ]
  },
  {
   "cell_type": "code",
   "execution_count": 2,
   "metadata": {
    "collapsed": false,
    "run_control": {
     "frozen": false,
     "read_only": false
    }
   },
   "outputs": [],
   "source": [
    "import numpy as np\n",
    "import scipy.stats as ss"
   ]
  },
  {
   "cell_type": "code",
   "execution_count": 9,
   "metadata": {
    "collapsed": false,
    "run_control": {
     "frozen": false,
     "read_only": false
    }
   },
   "outputs": [
    {
     "data": {
      "text/plain": [
       "9"
      ]
     },
     "execution_count": 9,
     "metadata": {},
     "output_type": "execute_result"
    }
   ],
   "source": [
    "c = np.array([1, 0, 0, 1, 1, 0, 0, 1, 0, 1, 0, 1, 0, 1, 0, 0, 0, 1, 1, 0])\n",
    "len(c[c == 1])"
   ]
  },
  {
   "cell_type": "markdown",
   "metadata": {},
   "source": [
    "$$X_i \\sim Bernoulli(p)$$"
   ]
  },
  {
   "cell_type": "markdown",
   "metadata": {},
   "source": [
    "$$E[X_i] = (1-p)\\cdot 0 + 1\\cdot p = p$$"
   ]
  },
  {
   "cell_type": "markdown",
   "metadata": {},
   "source": [
    "$$ \\frac{11}{10}\\cdot 0 + \\frac{9}{10}\\cdot 1 = \\frac{9}{10}$$"
   ]
  },
  {
   "cell_type": "markdown",
   "metadata": {},
   "source": [
    "$$p_{MOM} = \\frac{9}{10}$$"
   ]
  },
  {
   "cell_type": "code",
   "execution_count": 26,
   "metadata": {
    "collapsed": false,
    "run_control": {
     "frozen": false,
     "read_only": false
    }
   },
   "outputs": [
    {
     "data": {
      "text/plain": [
       "array([[ 8.7 ,  8.69,  9.25,  7.33,  6.92],\n",
       "       [ 6.66,  8.65,  6.11,  5.27,  7.62]])"
      ]
     },
     "execution_count": 26,
     "metadata": {},
     "output_type": "execute_result"
    }
   ],
   "source": [
    "u = ss.uniform(5, 5).rvs(10).round(2).reshape(2, -1)\n",
    "u"
   ]
  },
  {
   "cell_type": "code",
   "execution_count": 27,
   "metadata": {
    "collapsed": false,
    "run_control": {
     "frozen": false,
     "read_only": false
    }
   },
   "outputs": [
    {
     "data": {
      "text/plain": [
       "array([[ 8.7 ,  8.69,  9.25,  7.33,  6.92],\n",
       "       [ 6.66,  8.65,  6.11,  5.27,  7.62]])"
      ]
     },
     "execution_count": 27,
     "metadata": {},
     "output_type": "execute_result"
    }
   ],
   "source": [
    "u"
   ]
  },
  {
   "cell_type": "code",
   "execution_count": 28,
   "metadata": {
    "collapsed": false,
    "run_control": {
     "frozen": false,
     "read_only": false
    }
   },
   "outputs": [
    {
     "data": {
      "text/plain": [
       "7.5200000000000005"
      ]
     },
     "execution_count": 28,
     "metadata": {},
     "output_type": "execute_result"
    }
   ],
   "source": [
    "np.mean(u)"
   ]
  },
  {
   "cell_type": "code",
   "execution_count": 32,
   "metadata": {
    "collapsed": false,
    "run_control": {
     "frozen": false,
     "read_only": false
    }
   },
   "outputs": [
    {
     "data": {
      "text/plain": [
       "1.52"
      ]
     },
     "execution_count": 32,
     "metadata": {},
     "output_type": "execute_result"
    }
   ],
   "source": [
    "np.var(u).round(2)"
   ]
  },
  {
   "cell_type": "markdown",
   "metadata": {},
   "source": [
    "$$E[X_i] = \\frac{a+b}{2} \\qquad Var[X_i] = \\frac{(a-b)^2}{12} \\qquad X_i \\sim Uniform[a,b]$$"
   ]
  },
  {
   "cell_type": "markdown",
   "metadata": {},
   "source": [
    "$$\\frac{1}{p} = 3.5 \\qquad \\implies \\qquad p_{MOM} = \\frac{1}{3.5} = \\frac{2}{7}$$"
   ]
  },
  {
   "cell_type": "code",
   "execution_count": 1,
   "metadata": {
    "collapsed": true,
    "run_control": {
     "frozen": false,
     "read_only": false
    }
   },
   "outputs": [],
   "source": [
    "\n",
    "\"\"\"\n",
    "===============\n",
    "Rain simulation\n",
    "===============\n",
    "\n",
    "Simulates rain drops on a surface by animating the scale and opacity\n",
    "of 50 scatter points.\n",
    "\n",
    "Author: Nicolas P. Rougier\n",
    "\"\"\"\n",
    "import numpy as np\n",
    "import matplotlib.pyplot as plt\n",
    "from matplotlib.animation import FuncAnimation\n",
    "import scipy.stats as ss\n",
    "%matplotlib inline"
   ]
  },
  {
   "cell_type": "code",
   "execution_count": 51,
   "metadata": {
    "collapsed": false,
    "run_control": {
     "frozen": false,
     "read_only": false
    }
   },
   "outputs": [
    {
     "data": {
      "image/png": "[encoded data removed]",
      "text/plain": [
       "<matplotlib.figure.Figure at 0x105731a90>"
      ]
     },
     "metadata": {},
     "output_type": "display_data"
    }
   ],
   "source": [
    "# Create new Figure and an Axes which fills it.\n",
    "n_drops = 300\n",
    "n = 100\n",
    "\n",
    "fig = plt.figure(figsize=(7, 7))\n",
    "ax = fig.add_axes([0, 0, 1, 1], frameon=False)\n",
    "ax.set_xlim(0, 10), ax.set_xticks([])\n",
    "ax.set_ylim(-1, 1.2), ax.set_yticks([])\n",
    "\n",
    "ax.set_title(\"Values of $\\\\beta_{MOM}$ when $n = %d$\" % n, fontsize = 30)\n",
    "ax.hlines(0, -100, 100)\n",
    "ax.vlines(5, -.1, .1)\n",
    "ax.vlines(0, -.1, .1)\n",
    "#ax.vlines(1, -.1, .1)\n",
    "\n",
    "\n",
    "\n",
    "# Create rain data\n",
    "\n",
    "drops = np.zeros(n_drops, dtype=[('position', float, 2),\n",
    "                                 ('size',     float, 1),\n",
    "                                 ('growth',   float, 1),\n",
    "                                 ('color',    float, 4),\n",
    "                                 ('true_color', float, 4),\n",
    "                                 ('cumsum', float,  1)])\n",
    "\n",
    "# Initialize the raindrops in random positions and with\n",
    "\n",
    "betas = ss.expon(scale = 5).rvs((n_drops, n)).mean(1, keepdims = 1)\n",
    "drops['position'] = np.hstack([betas, np.zeros((n_drops, 1))])\n",
    "drops['growth'] = 1 #np.random.uniform(50, 200, n_drops)\n",
    "\n",
    "inside = (drops['position'][:,0] > 19) & (drops['position'][:,0] < 21)\n",
    "drops['true_color'][inside] = np.array([1, 0, 0, .5])\n",
    "drops['true_color'][~inside] = np.array([0, 0, 1, .5])\n",
    "drops['cumsum'] = np.cumsum(inside)\n",
    "        \n",
    "\n",
    "# Construct the scatter which we will update during animation\n",
    "# as the raindrops develop.\n",
    "scat = ax.scatter(drops['position'],\n",
    "                  np.zeros_like(drops[\"position\"]), \n",
    "                  s=drops['size'], \n",
    "                  lw=1, \n",
    "                  edgecolors=drops['color'],\n",
    "                  facecolors='none')\n",
    "\n",
    "time_text = ax.text(0.2, 0.1, '', transform=ax.transAxes, fontsize = 30)\n",
    "ax.text(0.01, 0.4, '0', transform=ax.transAxes, fontsize = 20)\n",
    "ax.text(0.46, 0.35, '$\\\\beta = 5$', transform=ax.transAxes, fontsize = 20)\n",
    "#ax.text(0.64, 0.4, 'Each dot ', transform=ax.transAxes, fontsize = 20)\n",
    "\n",
    "red_dots = 0\n",
    "total_dots = 0\n",
    "\n",
    "def update(frame_number):\n",
    "        \n",
    "    current_index = frame_number\n",
    "\n",
    "    # Make all circles bigger.\n",
    "    drops['size'] = 200\n",
    "\n",
    "    # Pick a new position for oldest rain drop, resetting its size,\n",
    "    # color and growth factor.\n",
    "    #drops['position'][current_index] = np.random.uniform(0, 1, 2)\n",
    "    drops['size'][current_index] = 200\n",
    "    drops['color'][current_index] = drops['true_color'][current_index]\n",
    "       \n",
    "    # Update the scatter collection, with the new colors, sizes and positions.\n",
    "    scat.set_edgecolors(drops['color'])\n",
    "    scat.set_sizes(drops['size'])\n",
    "    scat.set_offsets(drops['position'])\n",
    "\n",
    "    red = drops['cumsum'][current_index]\n",
    "    total = current_index + 1\n",
    "    #time_text.set_text(\"$\\\\frac{RedDots}{TotalDots} = \\\\frac{%d}{%d}$ = %5.3f\" % (red, total, red/total))\n",
    "    \n",
    "# Construct the animation, using the update function as the animation\n",
    "# director.\n",
    "animation = FuncAnimation(fig, update, frames = n_drops, blit = False)\n",
    "#plt.show()\n",
    "animation.save(\"betamom_n%d.mp4\" % n, writer='imagemagick')"
   ]
  },
  {
   "cell_type": "code",
   "execution_count": 102,
   "metadata": {
    "collapsed": false,
    "run_control": {
     "frozen": false,
     "read_only": false
    }
   },
   "outputs": [
    {
     "data": {
      "image/png": "[encoded data removed]",
      "text/plain": [
       "<matplotlib.figure.Figure at 0x10d06a320>"
      ]
     },
     "metadata": {},
     "output_type": "display_data"
    }
   ],
   "source": [
    "import seaborn as sns\n",
    "sns.set_style(\"white\")\n",
    "n = 200\n",
    "#betas = ss.expon(scale = 5).rvs((10000, n)).mean(1, keepdims = 1)\n",
    "fig, ax = plt.subplots(1, figsize = (14, 6))\n",
    "ax.scatter(betas, np.zeros_like(betas), s = 200, alpha = .2)\n",
    "ax.set_ylim(-.1, 7)\n",
    "ax.set_xlim(-1, 20)\n",
    "ax.hist(betas, normed = True, bins = 100)\n",
    "x = np.linspace(-1, 12, 1000)\n",
    "px = ss.norm(5, np.sqrt(25/n)).pdf(x)\n",
    "ax.hlines(0, -100, 100)\n",
    "ax.vlines(0, -100, 100)\n",
    "ax.set_xticks([0,2.5, 5, 7.5, 10])\n",
    "ax.set_xticklabels([0,2.5, 5, 7.5, 10], fontsize = 15)\n",
    "ax.plot(x, px, linewidth = 5)\n",
    "ax.set_title(\"Distribution of $\\\\beta_{MOM}$ when $n = %d$\" % n, fontsize= 30)\n",
    "sns.despine()\n",
    "fig.savefig(\"betamom_%d\" % n)"
   ]
  },
  {
   "cell_type": "markdown",
   "metadata": {},
   "source": [
    "$$\\beta_{MOM} = \\frac{X_1 + \\cdots + X_{n}}{n} \\sim^a Normal(E[X_1], \\frac{Var[X_1]}{n})$$"
   ]
  },
  {
   "cell_type": "markdown",
   "metadata": {},
   "source": [
    "$$\\beta_{MOM} = \\frac{X_1 + \\cdots + X_{n}}{n} \\sim^a Normal(\\beta, \\ \\frac{\\beta^2}{n})$$"
   ]
  },
  {
   "cell_type": "markdown",
   "metadata": {},
   "source": [
    "$$\\beta_{MOM} = \\frac{X_1 + \\cdots + X_{n}}{n} \\sim^a Normal(5, \\frac{5^2}{n})$$"
   ]
  },
  {
   "cell_type": "markdown",
   "metadata": {
    "collapsed": true,
    "run_control": {
     "frozen": false,
     "read_only": false
    }
   },
   "source": [
    "---"
   ]
  },
  {
   "cell_type": "code",
   "execution_count": 21,
   "metadata": {
    "collapsed": true
   },
   "outputs": [],
   "source": [
    "import numpy as np\n",
    "import matplotlib.pyplot as plt\n",
    "import seaborn as sns\n",
    "import scipy.stats as ss\n",
    "%matplotlib inline"
   ]
  },
  {
   "cell_type": "code",
   "execution_count": 12,
   "metadata": {
    "collapsed": false
   },
   "outputs": [],
   "source": [
    "p = np.linspace(0, 1, 1000)\n",
    "f = lambda p: p**3 * (1-p)**2 \n",
    "y = f(p)"
   ]
  },
  {
   "cell_type": "code",
   "execution_count": 20,
   "metadata": {
    "collapsed": false
   },
   "outputs": [
    {
     "data": {
      "image/png": "[encoded data removed]",
      "text/plain": [
       "<matplotlib.figure.Figure at 0x11812edd8>"
      ]
     },
     "metadata": {},
     "output_type": "display_data"
    }
   ],
   "source": [
    "fig, ax = plt.subplots(1, figsize = (10, 5))\n",
    "ax.plot(p, y)\n",
    "ax.set_xlabel(\"Value of parameter $p$\", fontsize= 20)\n",
    "ax.set_ylabel(\"Likelihood\", fontsize= 20)\n",
    "ax.set_xticklabels([0,0.2,0.4,0.6,0.8,1.0], fontsize=20)\n",
    "fig.tight_layout()\n",
    "fig.savefig(\"like1\")"
   ]
  },
  {
   "cell_type": "code",
   "execution_count": 27,
   "metadata": {
    "collapsed": false
   },
   "outputs": [
    {
     "data": {
      "text/plain": [
       "array([ 2,  4,  2,  2,  5,  3, 13,  4,  8,  2])"
      ]
     },
     "execution_count": 27,
     "metadata": {},
     "output_type": "execute_result"
    }
   ],
   "source": [
    "x = ss.geom(0.3).rvs(10)\n",
    "x"
   ]
  },
  {
   "cell_type": "code",
   "execution_count": 28,
   "metadata": {
    "collapsed": false
   },
   "outputs": [
    {
     "data": {
      "text/plain": [
       "0.22222222222222221"
      ]
     },
     "execution_count": 28,
     "metadata": {},
     "output_type": "execute_result"
    }
   ],
   "source": [
    "1/np.mean(x)"
   ]
  },
  {
   "cell_type": "code",
   "execution_count": 29,
   "metadata": {
    "collapsed": false
   },
   "outputs": [
    {
     "data": {
      "text/plain": [
       "4.5"
      ]
     },
     "execution_count": 29,
     "metadata": {},
     "output_type": "execute_result"
    }
   ],
   "source": [
    "np.mean(x)"
   ]
  },
  {
   "cell_type": "code",
   "execution_count": null,
   "metadata": {
    "collapsed": true
   },
   "outputs": [],
   "source": []
  }
 ],
 "metadata": {
  "anaconda-cloud": {},
  "kernelspec": {
   "display_name": "Python [default]",
   "language": "python",
   "name": "python3"
  },
  "language_info": {
   "codemirror_mode": {
    "name": "ipython",
    "version": 3
   },
   "file_extension": ".py",
   "mimetype": "text/x-python",
   "name": "python",
   "nbconvert_exporter": "python",
   "pygments_lexer": "ipython3",
   "version": "3.5.2"
  }
 },
 "nbformat": 4,
 "nbformat_minor": 0
}
