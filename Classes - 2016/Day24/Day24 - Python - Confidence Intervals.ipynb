{
 "cells": [
  {
   "cell_type": "markdown",
   "metadata": {},
   "source": [
    "# <center> Day 24 - Python - Confidence Intervals</center>"
   ]
  },
  {
   "cell_type": "markdown",
   "metadata": {},
   "source": [
    "I'll start by importing the necessary modules for you."
   ]
  },
  {
   "cell_type": "code",
   "execution_count": 1,
   "metadata": {
    "collapsed": true,
    "run_control": {
     "frozen": false,
     "read_only": false
    }
   },
   "outputs": [],
   "source": [
    "import numpy as np\n",
    "import scipy.stats as ss\n",
    "import matplotlib.pyplot as plt\n",
    "%matplotlib inline"
   ]
  },
  {
   "cell_type": "markdown",
   "metadata": {},
   "source": [
    "---"
   ]
  },
  {
   "cell_type": "markdown",
   "metadata": {},
   "source": [
    "# Z-test<font color =\"red\">*</font> (Normal test)"
   ]
  },
  {
   "cell_type": "markdown",
   "metadata": {},
   "source": [
    "<font size = 1><font color =\"red\">*</font>Out of all stupid names in statistics, <i>Z-test</i> one is arguably the worst.</font>"
   ]
  },
  {
   "cell_type": "markdown",
   "metadata": {},
   "source": [
    "A **z-test** is just a two-tailed hypothesis test regarding the <b>mean of a Normally-distributed random variable</b> (or approximately Normal, by the CLT), <b>given that we know the variance</b>. I'll explain why the name \"Z-test\" at the end of the lecture.\n",
    "\n",
    "We've already encountered this situation in the lectures and in the homeworks. Let's learn how to do it in Python."
   ]
  },
  {
   "cell_type": "markdown",
   "metadata": {},
   "source": [
    "Suppose that $X_1, \\cdots, X_{10} \\sim Normal(\\mu, 2)$, and our estimate is $\\hat{\\mu} = 1$. \n",
    "\n",
    "$$H_0: \\mu = 0 \\qquad H_1: \\mu \\neq 0$$\n",
    "\n",
    "at the $\\alpha = 0.10$ significance level."
   ]
  },
  {
   "cell_type": "markdown",
   "metadata": {},
   "source": [
    "Let's test by constructing a 90% confidence interval.\n",
    "\n",
    "Begin by writing gives names to variables, for convenience."
   ]
  },
  {
   "cell_type": "code",
   "execution_count": 2,
   "metadata": {
    "collapsed": true,
    "run_control": {
     "frozen": false,
     "read_only": false
    }
   },
   "outputs": [],
   "source": [
    "muhat = 1\n",
    "mu_hyp = 0\n",
    "sigmasq = 2\n",
    "sigma = np.sqrt(2)\n",
    "n = 10\n",
    "alpha = 0.10"
   ]
  },
  {
   "cell_type": "markdown",
   "metadata": {},
   "source": [
    "### Finding c"
   ]
  },
  {
   "cell_type": "markdown",
   "metadata": {},
   "source": [
    "The next step is tricky: we have to find $c$, and to find that we need to find the boundaries of the two rejection regions."
   ]
  },
  {
   "cell_type": "markdown",
   "metadata": {},
   "source": [
    "<img src=\"ci1.png\">"
   ]
  },
  {
   "cell_type": "markdown",
   "metadata": {},
   "source": [
    "<img src=\"ci3.png\">"
   ]
  },
  {
   "cell_type": "markdown",
   "metadata": {},
   "source": [
    "We're looking for numbers $m_1$ and $m_2$ that satisfy"
   ]
  },
  {
   "cell_type": "markdown",
   "metadata": {},
   "source": [
    "$$P(\\hat{\\mu} \\leq m_1) = \\frac{\\alpha}{2} \\qquad P(\\hat{\\mu} \\geq m_2) = \\frac{\\alpha}{2}$$"
   ]
  },
  {
   "cell_type": "markdown",
   "metadata": {},
   "source": [
    "Or, in terms of the CDF of $\\hat{\\mu}$"
   ]
  },
  {
   "cell_type": "markdown",
   "metadata": {},
   "source": [
    "$$F_{\\hat{\\mu}}(m_1) = \\frac{\\alpha}{2} \\qquad F_{\\hat{\\mu}}(m_2) = 1 - \\frac{\\alpha}{2}$$"
   ]
  },
  {
   "cell_type": "markdown",
   "metadata": {},
   "source": [
    "Graphically, $m_1$ and $m_2$ are here:"
   ]
  },
  {
   "cell_type": "markdown",
   "metadata": {},
   "source": [
    "<img src=\"cdf.png\", width = 400>"
   ]
  },
  {
   "cell_type": "markdown",
   "metadata": {},
   "source": [
    "Ok, so how would you find $m_1$, for example? One way would be try out many values of the cdf until you hit $\\alpha/2$"
   ]
  },
  {
   "cell_type": "code",
   "execution_count": 64,
   "metadata": {
    "collapsed": false,
    "run_control": {
     "frozen": false,
     "read_only": false
    }
   },
   "outputs": [
    {
     "data": {
      "text/plain": [
       "0.012673659338734126"
      ]
     },
     "execution_count": 64,
     "metadata": {},
     "output_type": "execute_result"
    }
   ],
   "source": [
    "ss.norm(mu_hyp, np.sqrt(sigmasq/n)).cdf(-1)  # Too low..."
   ]
  },
  {
   "cell_type": "code",
   "execution_count": 65,
   "metadata": {
    "collapsed": false,
    "run_control": {
     "frozen": false,
     "read_only": false
    }
   },
   "outputs": [
    {
     "data": {
      "text/plain": [
       "0.13177623864148635"
      ]
     },
     "execution_count": 65,
     "metadata": {},
     "output_type": "execute_result"
    }
   ],
   "source": [
    "ss.norm(mu_hyp, np.sqrt(sigmasq/n)).cdf(-.5)  # ...Too high..."
   ]
  },
  {
   "cell_type": "code",
   "execution_count": 66,
   "metadata": {
    "collapsed": false,
    "run_control": {
     "frozen": false,
     "read_only": false
    }
   },
   "outputs": [
    {
     "data": {
      "text/plain": [
       "0.05000020861307778"
      ]
     },
     "execution_count": 66,
     "metadata": {},
     "output_type": "execute_result"
    }
   ],
   "source": [
    "ss.norm(mu_hyp, np.sqrt(sigmasq/n)).cdf(-.7356)    # You try it!"
   ]
  },
  {
   "cell_type": "markdown",
   "metadata": {},
   "source": [
    "### **Inverses!**"
   ]
  },
  {
   "cell_type": "markdown",
   "metadata": {},
   "source": [
    "Wouldn't it be great if we had some sort of... inverse function?"
   ]
  },
  {
   "cell_type": "markdown",
   "metadata": {},
   "source": [
    "$$m_1 = F^{-1}_{\\hat{\\mu}}\\left(\\frac{\\alpha}{2}\\right) \n",
    "\\qquad \\qquad m_2 = F^{-1}_{\\hat{\\mu}}\\left(1 - \\frac{\\alpha}{2}\\right)$$"
   ]
  },
  {
   "cell_type": "markdown",
   "metadata": {},
   "source": [
    "This function exists. It is called the **inverse CDF**, or (more commonly) the **quantile function**, or the **percentile function**, or (by Python) the **percent point function**. This is what is looks like:"
   ]
  },
  {
   "cell_type": "markdown",
   "metadata": {},
   "source": [
    "<img src=\"inversecdf.png\" width = 400>"
   ]
  },
  {
   "cell_type": "markdown",
   "metadata": {},
   "source": [
    "The Python usage goes like this:"
   ]
  },
  {
   "cell_type": "code",
   "execution_count": 67,
   "metadata": {
    "collapsed": false,
    "run_control": {
     "frozen": false,
     "read_only": false
    }
   },
   "outputs": [
    {
     "name": "stdout",
     "output_type": "stream",
     "text": [
      "Critical values:  -0.73560090458 0.73560090458\n"
     ]
    }
   ],
   "source": [
    "m1 = ss.norm(mu_hyp, np.sqrt(sigmasq/n)).ppf(alpha/2)        \n",
    "m2 = ss.norm(mu_hyp, np.sqrt(sigmasq/n)).ppf(1 - alpha/2)  \n",
    "print(\"Critical values: \", m1, m2)"
   ]
  },
  {
   "cell_type": "markdown",
   "metadata": {},
   "source": [
    "Now compute $c$"
   ]
  },
  {
   "cell_type": "code",
   "execution_count": 68,
   "metadata": {
    "collapsed": false,
    "run_control": {
     "frozen": false,
     "read_only": false
    }
   },
   "outputs": [
    {
     "name": "stdout",
     "output_type": "stream",
     "text": [
      "c: 0.73560090458\n"
     ]
    }
   ],
   "source": [
    "c = (m2 - m1)/2\n",
    "print(\"c:\", c)"
   ]
  },
  {
   "cell_type": "markdown",
   "metadata": {},
   "source": [
    "And output the confidence interval $[\\hat{\\mu} - c, \\hat{\\mu} + c]$"
   ]
  },
  {
   "cell_type": "code",
   "execution_count": 69,
   "metadata": {
    "collapsed": false
   },
   "outputs": [
    {
     "name": "stdout",
     "output_type": "stream",
     "text": [
      "Confidence Interval:  0.26439909542 1.73560090458\n"
     ]
    }
   ],
   "source": [
    "Lhat = muhat - c\n",
    "Uhat = muhat + c\n",
    "print(\"Confidence Interval: \", Lhat, Uhat)"
   ]
  },
  {
   "cell_type": "markdown",
   "metadata": {},
   "source": [
    "+ Given these thresholds, do we reject the null $H_0: \\mu = 0$?\n",
    "\n",
    "+ Given these thresholds, would we reject the null $H_0: \\mu = 1$?\n",
    "\n",
    "+ What do you think would happen to the value of $c$ if $\\sigma^2 = 20$? \n",
    "\n",
    "+ And what if $n = 1000$?"
   ]
  },
  {
   "cell_type": "markdown",
   "metadata": {},
   "source": [
    "### **But why the name \"Z-test\"?**"
   ]
  },
  {
   "cell_type": "markdown",
   "metadata": {},
   "source": [
    "We've been working with the distribution $Normal(\\mu_{hyp}, \\  \\sigma^2)$ for particular values of $\\mu_{hyp}$ and $\\sigma^2$. \n",
    "\n",
    "Had the values been different, we'd have no problem with that, because we can always use Python to query anything we want to know about it:\n",
    "\n",
    "```python\n",
    "ss.norm(17, 274).cdf(.05)\n",
    "```\n",
    "\n",
    "But what did people do in the *olden days* of pre-Pythonhood? The commonest way to go about this problem is to have *one* table containing values for the $Normal(0,1)$ distribution, and work with the **normalized** $\\hat{\\mu}$. Recall this from Day22."
   ]
  },
  {
   "cell_type": "markdown",
   "metadata": {},
   "source": [
    "$$\\hat{\\mu} \\sim Normal(\\mu, \\frac{\\sigma^2}{n}) \n",
    "\\qquad \\implies \\qquad\n",
    "\\frac{\\hat{\\mu} - \\mu}{\\sqrt{\\frac{\\sigma^2}{n}}} \\sim Normal(0, 1)$$ "
   ]
  },
  {
   "cell_type": "markdown",
   "metadata": {},
   "source": [
    "The normalized statistic used to be called the **z-statistic**, and that's why this test is also known as the **z-test**. And at the end of statistics textbooks you'll often find **z-tables** containing - nothing more than - values of the $Normal(0,1)$ distribution! \n",
    "\n",
    "Don't believe me? See <a href=\"http://www.stat.ufl.edu/~athienit/Tables/Ztable.pdf\">here</a>."
   ]
  },
  {
   "cell_type": "code",
   "execution_count": 372,
   "metadata": {
    "collapsed": false,
    "run_control": {
     "frozen": false,
     "read_only": false
    }
   },
   "outputs": [
    {
     "name": "stdout",
     "output_type": "stream",
     "text": [
      "Confidence interval boundaries:  0.591214350548 3.88092160445\n"
     ]
    }
   ],
   "source": [
    "z_stat = (muhat - mu_hyp)/np.sqrt(sigmasq/n)  # Normalizing the statistic\n",
    "m1 = ss.norm(0, 1).ppf(alpha/2)               # Working with N(0,1)!\n",
    "m2 = ss.norm(0, 1).ppf(1 - alpha/2)           # Working with N(0,1)!\n",
    "c = (m2 - m1)/2                         \n",
    "print(\"Confidence interval boundaries: \", z_stat - c, z_stat + c)"
   ]
  },
  {
   "cell_type": "markdown",
   "metadata": {},
   "source": [
    "### Important! [&#x2620;]"
   ]
  },
  {
   "cell_type": "markdown",
   "metadata": {},
   "source": [
    "For every $\\mu_{hyp}$, we need to compute a new confidence interval and check if $\\mu_{hyp}$ falls in or out of it."
   ]
  },
  {
   "cell_type": "markdown",
   "metadata": {},
   "source": [
    "Try changing the $\\mu_{hyp}$ below, and see if you would or would not reject $H_0$."
   ]
  },
  {
   "cell_type": "code",
   "execution_count": 70,
   "metadata": {
    "collapsed": false,
    "run_control": {
     "frozen": false,
     "read_only": false
    }
   },
   "outputs": [
    {
     "name": "stdout",
     "output_type": "stream",
     "text": [
      "Confidence interval boundaries:  -1.64485362695 1.64485362695\n"
     ]
    }
   ],
   "source": [
    "mu_hyp = 1                                    # New mu_hyp\n",
    "z_stat = (muhat - mu_hyp)/np.sqrt(sigmasq/n)  # Z-statistic using new mu_hyp\n",
    "m1 = ss.norm(0, 1).ppf(alpha/2)               # Working with N(0,1)!\n",
    "m2 = ss.norm(0, 1).ppf(1 - alpha/2)           # Working with N(0,1)!\n",
    "c = (m2 - m1)/2                         \n",
    "print(\"Confidence interval boundaries: \", z_stat - c, z_stat + c) "
   ]
  },
  {
   "cell_type": "markdown",
   "metadata": {},
   "source": [
    "Sadly, the normal was kind of special because the value of $c$ did not change with $\\mu_{hyp}$. \n",
    "\n",
    "For most tests, the opposite be the norm: the value of *c* will change depending on the value of the hypothetical parameter. See below."
   ]
  },
  {
   "cell_type": "markdown",
   "metadata": {},
   "source": [
    "---"
   ]
  },
  {
   "cell_type": "markdown",
   "metadata": {},
   "source": [
    "# Named tests\n",
    "\n",
    "In the literature you'll find a plethora of tests: **Binomial test**, **t-test**, **$\\chi^2$ test**, **F-tests**, and so on. \n",
    "\n",
    "Despite the confusing names, **the only thing that will change is the distribution of the statistic**. That is, a \"t-test\" uses the *Student-t distribution*, a $\\chi^2$ test uses a distribution called $\\chi^2$, and so on. \n",
    "\n",
    "\n",
    "$$X_1, \\cdots, X_n \\sim Normal(\\mu, \\sigma^2) \\  \\implies \\ \\frac{\\hat{\\mu} - \\mu}{\\sqrt{\\frac{\\sigma^2}{n}}} \\sim Normal(0, 1)$$\n",
    "\n",
    "$$X_1, \\cdots, X_n \\sim Bernoulli(p) \\  \\implies \\ n\\hat{p} \\sim Binomial(n, p) $$\n",
    "\n",
    "$$X_1, \\cdots, X_n \\sim Normal(\\mu, \\sigma^2) \\  \\implies\n",
    "\\frac{n}{\\sigma^2}\\hat{\\sigma}^2 \\ \\ \\sim \\ \\ \\chi^2_{n-1} \\qquad $$\n",
    "\n",
    "$$X_1, \\cdots, X_n \\sim Normal(\\mu, \\sigma^2) \\  \\implies \\ \\frac{\\hat{\\mu} - \\mu}{\\sqrt{\\frac{\\hat{\\sigma}^2}{n}}} \\sim t_{n-1} \\qquad \\text{} $$\n",
    "\n",
    "<font size =1>(Note the hat on the sigma!)</font>\n",
    "\n",
    "Really there's only one rule to keep in mind:\n",
    "\n",
    "<br>\n",
    "<center>**Use the right distribution for the right statistics**</center>\n",
    "\n",
    "You'll do some exercises on this in the next homework."
   ]
  }
 ],
 "metadata": {
  "anaconda-cloud": {},
  "kernelspec": {
   "display_name": "Python [default]",
   "language": "python",
   "name": "python3"
  },
  "language_info": {
   "codemirror_mode": {
    "name": "ipython",
    "version": 3
   },
   "file_extension": ".py",
   "mimetype": "text/x-python",
   "name": "python",
   "nbconvert_exporter": "python",
   "pygments_lexer": "ipython3",
   "version": "3.5.2"
  }
 },
 "nbformat": 4,
 "nbformat_minor": 0
}
