{
 "cells": [
  {
   "cell_type": "markdown",
   "metadata": {},
   "source": [
    "# <center> Lesson 8 - Hypothesis Testing </center>"
   ]
  },
  {
   "cell_type": "markdown",
   "metadata": {},
   "source": [
    "All we'll do today is go through one hypothesis testing exercise. Instead of using Monte-Carlo sampling, we'll appeal to the Central Limit Theorem."
   ]
  },
  {
   "cell_type": "markdown",
   "metadata": {},
   "source": [
    "Given $X_1, \\cdots, X_n \\sim Poisson(\\lambda)$, we want to test:\n",
    "\n",
    "$$H_0: \\lambda < 5 \\text{ (null hypothesis)}$$ \n",
    "\n",
    "$$H_1: \\lambda \\geq 5 \\text{ (alternative hypothesis)}$$"
   ]
  },
  {
   "cell_type": "markdown",
   "metadata": {},
   "source": [
    "## Data"
   ]
  },
  {
   "cell_type": "markdown",
   "metadata": {},
   "source": [
    "Here's the data. The sample size is $n = 20$."
   ]
  },
  {
   "cell_type": "code",
   "execution_count": 10,
   "metadata": {
    "collapsed": true
   },
   "outputs": [],
   "source": [
    "from numpy import array\n",
    "x = array([1, 1, 3, 0, 1, 7, 7, 5, 5, 8, 6, 4, 9, 5, 6, 4, 5, 5, 4, 1])"
   ]
  },
  {
   "cell_type": "markdown",
   "metadata": {},
   "source": [
    "## Compute the estimate"
   ]
  },
  {
   "cell_type": "markdown",
   "metadata": {},
   "source": [
    "Write a function `estimate_lambda_hat(x)` that takes "
   ]
  },
  {
   "cell_type": "code",
   "execution_count": 3,
   "metadata": {
    "collapsed": false
   },
   "outputs": [],
   "source": [
    "from numpy import mean\n",
    "def estimate_lambda_hat(x):\n",
    "    return mean(x)"
   ]
  },
  {
   "cell_type": "markdown",
   "metadata": {},
   "source": [
    "## Find p-values using the Central Limit Theorem"
   ]
  },
  {
   "cell_type": "markdown",
   "metadata": {},
   "source": [
    "Let $\\hat{\\Lambda}$ is (random) value of the sample mean.\n",
    "\n",
    "$$\\hat{\\Lambda} = \\frac{1}{n}\\sum_i X_i \\quad \\sim^a \\quad Normal(\\lambda, \\frac{\\lambda}{n})$$"
   ]
  },
  {
   "cell_type": "markdown",
   "metadata": {},
   "source": [
    "Now we'll write a function `p_value(x, lambda_hyp)`, that does the following.\n",
    "\n",
    "+ Computes $\\hat{\\lambda}$ from the data\n",
    "\n",
    "+ Computes the p-value using the cdf of the Normal distribution:\n",
    "\n",
    "$$\\text{p-value = }P(\\hat{\\Lambda} > \\hat{\\lambda}) = 1 - P(\\hat{\\Lambda} \\leq \\hat{\\lambda}) = 1 - F(\\hat{\\lambda})$$\n",
    "\n",
    "where $F$ is the CDF of the normal"
   ]
  },
  {
   "cell_type": "code",
   "execution_count": 4,
   "metadata": {
    "collapsed": true
   },
   "outputs": [],
   "source": [
    "from numpy import sqrt, mean\n",
    "from scipy.stats import norm\n",
    "\n",
    "def p_value(x, lambda_hyp):\n",
    "    lambda_hat = estimate_lambda_hat(x)\n",
    "    m = lambda_hyp\n",
    "    n = len(x)\n",
    "    s = sqrt(lambda_hyp/n)\n",
    "    return 1 - norm(m, s).cdf(lambda_hat)"
   ]
  },
  {
   "cell_type": "code",
   "execution_count": 5,
   "metadata": {
    "collapsed": false
   },
   "outputs": [
    {
     "data": {
      "text/plain": [
       "0.021082465626681479"
      ]
     },
     "execution_count": 5,
     "metadata": {},
     "output_type": "execute_result"
    }
   ],
   "source": [
    "p_value(x, lambda_hyp = 3.5)"
   ]
  },
  {
   "cell_type": "markdown",
   "metadata": {},
   "source": [
    "## Test"
   ]
  },
  {
   "cell_type": "markdown",
   "metadata": {},
   "source": [
    "Write a function `test(x, lambda_hyp, alpha)` that returns the boolean `True` if the data \"accepts\" the Hypothesis and `False` if the data rejects it."
   ]
  },
  {
   "cell_type": "code",
   "execution_count": 6,
   "metadata": {
    "collapsed": false
   },
   "outputs": [],
   "source": [
    "def test(x, lambda_hyp, alpha):\n",
    "    p = p_value(x, lambda_hyp)\n",
    "    return p > alpha"
   ]
  },
  {
   "cell_type": "code",
   "execution_count": 12,
   "metadata": {
    "collapsed": false
   },
   "outputs": [
    {
     "data": {
      "text/plain": [
       "(True, True)"
      ]
     },
     "execution_count": 12,
     "metadata": {},
     "output_type": "execute_result"
    }
   ],
   "source": [
    "test(x, lambda_hyp = 3.4, alpha = .01), test(x, lambda_hyp = 3.8, alpha = .1)"
   ]
  },
  {
   "cell_type": "markdown",
   "metadata": {},
   "source": [
    "## Discuss"
   ]
  },
  {
   "cell_type": "markdown",
   "metadata": {},
   "source": [
    "+ When $\\alpha = 0.01$, what is the lowest value of $\\lambda$ that the data \"accepts\"?\n",
    "\n",
    "+ When $\\alpha = 0.1$, what is the lowest value of $\\lambda$ that the data \"accepts\"?\n",
    "\n",
    "+ What do these values mean in terms of Type 1 and Type 2 error? \n",
    "\n",
    "+ Graphically, how should we understand this?"
   ]
  }
 ],
 "metadata": {
  "anaconda-cloud": {},
  "kernelspec": {
   "display_name": "Python [default]",
   "language": "python",
   "name": "python3"
  },
  "language_info": {
   "codemirror_mode": {
    "name": "ipython",
    "version": 3
   },
   "file_extension": ".py",
   "mimetype": "text/x-python",
   "name": "python",
   "nbconvert_exporter": "python",
   "pygments_lexer": "ipython3",
   "version": "3.5.2"
  }
 },
 "nbformat": 4,
 "nbformat_minor": 0
}
