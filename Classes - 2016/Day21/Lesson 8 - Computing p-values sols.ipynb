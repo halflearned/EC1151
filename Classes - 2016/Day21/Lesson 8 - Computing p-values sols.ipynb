{
 "cells": [
  {
   "cell_type": "code",
   "execution_count": 1,
   "metadata": {
    "collapsed": true
   },
   "outputs": [],
   "source": [
    "%matplotlib inline"
   ]
  },
  {
   "cell_type": "markdown",
   "metadata": {},
   "source": [
    "---"
   ]
  },
  {
   "cell_type": "markdown",
   "metadata": {},
   "source": [
    "### Quick tip on importing libraries\n",
    "\n",
    "You can importing libraries with simpler aliases in Python"
   ]
  },
  {
   "cell_type": "code",
   "execution_count": 149,
   "metadata": {
    "collapsed": true
   },
   "outputs": [],
   "source": [
    "import numpy as np\n",
    "import matplotlib.pyplot as plt\n",
    "import scipy.stats as ss"
   ]
  },
  {
   "cell_type": "markdown",
   "metadata": {},
   "source": [
    "The two-letter abbreviations are called aliases. Now you can do this:"
   ]
  },
  {
   "cell_type": "code",
   "execution_count": 150,
   "metadata": {
    "collapsed": false
   },
   "outputs": [],
   "source": [
    "a = np.array([1,2,3])  # Alias-dot-function_name\n",
    "b = np.mean(a)"
   ]
  },
  {
   "cell_type": "code",
   "execution_count": 151,
   "metadata": {
    "collapsed": false
   },
   "outputs": [
    {
     "data": {
      "text/plain": [
       "array([ 0.96070772,  0.95321602,  0.01415929,  0.30346224,  0.38548015])"
      ]
     },
     "execution_count": 151,
     "metadata": {},
     "output_type": "execute_result"
    }
   ],
   "source": [
    "ss.uniform(0,1).rvs(5) # Alias-dot-function_name"
   ]
  },
  {
   "cell_type": "code",
   "execution_count": 152,
   "metadata": {
    "collapsed": false
   },
   "outputs": [
    {
     "data": {
      "text/plain": [
       "[<matplotlib.lines.Line2D at 0x102b985c0>]"
      ]
     },
     "execution_count": 152,
     "metadata": {},
     "output_type": "execute_result"
    },
    {
     "data": {
      "image/png": "[encoded data removed]",
      "text/plain": [
       "<matplotlib.figure.Figure at 0x10b3ed898>"
      ]
     },
     "metadata": {},
     "output_type": "display_data"
    }
   ],
   "source": [
    "plt.plot([1,2,3], [1, 4, 9])"
   ]
  },
  {
   "cell_type": "markdown",
   "metadata": {},
   "source": [
    "---"
   ]
  },
  {
   "cell_type": "markdown",
   "metadata": {},
   "source": [
    "# <center> Lesson 8 - Three ways to get p-values </center>"
   ]
  },
  {
   "cell_type": "markdown",
   "metadata": {},
   "source": [
    "Given $X_1, \\cdots, X_n \\sim Bernoulli(p)$, we want to test:\n",
    "\n",
    "$$H_0: p = \\frac{1}{2} \\text{ (null hypothesis)}$$ \n",
    "\n",
    "$$H_1: p \\neq \\frac{1}{2} \\text{ (alternative hypothesis)}$$"
   ]
  },
  {
   "cell_type": "markdown",
   "metadata": {},
   "source": [
    "This is called a **two-sided test** or alternatively a **two-tailed test**. The idea will be to reject the null hypothesis if we have enough evidence for poisitive or negative bias. With the one-tailed test we had been using, we could only test if the coin was biased to one side."
   ]
  },
  {
   "cell_type": "markdown",
   "metadata": {},
   "source": [
    "The idea is to test for the likelihood of the event $\\hat{p}$ being very large *or* very small. For example, if our estimate is $\\hat{p} = .75$, we will be interested in\n",
    "\n",
    "$$P(\\hat{p} \\geq .75) + P(\\hat{p} \\leq .25)$$"
   ]
  },
  {
   "cell_type": "markdown",
   "metadata": {},
   "source": [
    "In this class we will be to compute p-values in 3 different ways.\n",
    "\n",
    "+ Computing the *exact distribution* of your estimator\n",
    "\n",
    "+ Using the *central limit theorem* \n",
    "\n",
    "+ Using *monte-carlo simulation*"
   ]
  },
  {
   "cell_type": "markdown",
   "metadata": {},
   "source": [
    "## Data"
   ]
  },
  {
   "cell_type": "markdown",
   "metadata": {},
   "source": [
    "Here's the data. Note the sample size is $n = 20$."
   ]
  },
  {
   "cell_type": "code",
   "execution_count": 154,
   "metadata": {
    "collapsed": true,
    "run_control": {
     "frozen": false,
     "read_only": false
    }
   },
   "outputs": [],
   "source": [
    "x = np.array([1, 1, 0, 1, 1, 0, 0, 0, 0, 0, 1, 0, 1, 0, 1, 1, 1, 1, 1, 1])"
   ]
  },
  {
   "cell_type": "markdown",
   "metadata": {},
   "source": [
    "## Compute the estimate"
   ]
  },
  {
   "cell_type": "markdown",
   "metadata": {},
   "source": [
    "Let's start easy. \n",
    "\n",
    "+ What estimator could you use for $p$ and why?\n",
    "\n",
    "+ What is the exact probability distribution of your estimator?\n",
    "\n",
    "+ Is your estimator approximately normal?\n",
    "\n",
    "+ Compute your estimate below\n"
   ]
  },
  {
   "cell_type": "code",
   "execution_count": 158,
   "metadata": {
    "collapsed": true
   },
   "outputs": [],
   "source": [
    "# Your answer here"
   ]
  },
  {
   "cell_type": "markdown",
   "metadata": {},
   "source": [
    "## Using the exact distribution"
   ]
  },
  {
   "cell_type": "markdown",
   "metadata": {},
   "source": [
    "Each $X_i$ is the outcome of one coin toss, so $X_i \\sim Bernoulli(p)$.\n",
    "\n",
    "+ What is the distribution $S = \\sum_i^n X_i$?\n",
    "\n",
    "+ Use Python to compute $P(S \\leq 5)$ when $n = 20$ and $p = 1/2$."
   ]
  },
  {
   "cell_type": "code",
   "execution_count": 159,
   "metadata": {
    "collapsed": false
   },
   "outputs": [],
   "source": [
    "# Your answer here "
   ]
  },
  {
   "cell_type": "markdown",
   "metadata": {},
   "source": [
    "By the way, how would you compute $P(S < 5)$?"
   ]
  },
  {
   "cell_type": "code",
   "execution_count": 160,
   "metadata": {
    "collapsed": false
   },
   "outputs": [],
   "source": [
    "# You answer here"
   ]
  },
  {
   "cell_type": "markdown",
   "metadata": {},
   "source": [
    "#### Aside: Transformations of probability distributions\n",
    "\n",
    "Now the \"trick\" will be to note that our estimator $\\hat{p} = \\frac{1}{n}\\sum_i X_i$ can also be written as $\\hat{p} = \\frac{1}{n}S$. \n",
    "\n",
    "Now suppose we want to know $P(\\hat{p} \\leq .4)$.\n",
    "\n",
    "\\begin{align}\n",
    "P(\\hat{p} \\leq .4) &= P(\\frac{1}{n}S \\leq .4) \\\\\n",
    "                   &= P(S \\leq .4n) \\\\\n",
    "                   &= F_S(.4n)\n",
    "\\end{align}"
   ]
  },
  {
   "cell_type": "markdown",
   "metadata": {},
   "source": [
    "The other case, $P(\\hat{p} \\geq .6)$, is very similar, except for one small correction factor. See if you can understand why we need it.\n",
    "\n",
    "\\begin{align}\n",
    "P(\\hat{p} \\geq .6) &= P(\\frac{1}{n}S \\geq .6) \\\\\n",
    "                   &= 1 - P(S < .4n) \\\\ \n",
    "                   &= 1 - P(S \\leq .4n - 1)  \\qquad \\text{Subtracting -1}\\\\\n",
    "                   &= 1 - F_S(.4n - 1)\n",
    "\\end{align}"
   ]
  },
  {
   "cell_type": "markdown",
   "metadata": {},
   "source": [
    "+ Use the \"trick\" above to compute the p-value $= P(\\hat{p} \\leq .4) + P(\\hat{p} \\geq .6)$ when the true parameter is $p = \\frac{1}{2}$ and you have $n = 20$ data points."
   ]
  },
  {
   "cell_type": "code",
   "execution_count": 161,
   "metadata": {
    "collapsed": false
   },
   "outputs": [
    {
     "name": "stdout",
     "output_type": "stream",
     "text": [
      "0.503444671631\n"
     ]
    }
   ],
   "source": [
    "p_hyp = 1/2\n",
    "n = 20\n",
    "pvalue1 = ss.binom(n, p_hyp).cdf(.4*n)            # Probability on the lower side\n",
    "pvalue2 = 1 - ss.binom(n, p_hyp).cdf(.6*n - 1)    # Probability on the higher side. Why the -1?\n",
    "pvalue = pvalue1 + pvalue2\n",
    "print(pvalue)"
   ]
  },
  {
   "cell_type": "markdown",
   "metadata": {},
   "source": [
    "## Using the Central Limit Theorem"
   ]
  },
  {
   "cell_type": "markdown",
   "metadata": {},
   "source": [
    "Let $\\hat{p}$ is (random) value of your estimate.\n",
    "\n",
    "Since it's a sample mean (i.e., a scaled sum), it should be roughly normal for large $n$.\n",
    "\n",
    "+ What should go in place of the question marks below?\n",
    "\n",
    "$$\\hat{p} = \\frac{1}{n}\\sum_i X_i \\quad \\sim^a \\quad Normal(<?>, <?>)$$"
   ]
  },
  {
   "cell_type": "markdown",
   "metadata": {},
   "source": [
    "Now let's recompute the pvalue. The idea is the same, except that instead of using the exact distribution we will use the Normal."
   ]
  },
  {
   "cell_type": "code",
   "execution_count": 133,
   "metadata": {
    "collapsed": false,
    "run_control": {
     "frozen": false,
     "read_only": false
    }
   },
   "outputs": [
    {
     "name": "stdout",
     "output_type": "stream",
     "text": [
      "0.371093369523\n"
     ]
    }
   ],
   "source": [
    "n = 20\n",
    "m = p_hyp\n",
    "v = p_hyp*(1 - p_hyp)/n\n",
    "s = np.sqrt(v)\n",
    "\n",
    "pvalue1 = ss.norm(m, s).cdf(.4)             # Probability on the left side\n",
    "pvalue2 = 1 - ss.norm(m, s).cdf(.6)         # Probability on the right side\n",
    "pvalue = pvalue1 + pvalue2\n",
    "print(pvalue)"
   ]
  },
  {
   "cell_type": "markdown",
   "metadata": {},
   "source": [
    "Note the approximation is surprisingly *in*accurate. For small sample sizes, there are classes of <a href=\"https://en.wikipedia.org/wiki/Continuity_correction\">corrections</a> that yield better approximations. \n",
    "\n",
    "However, nowadays computing power is so cheap that it's much faster and easier to just use Monte-Carlo simulations. Let's see how that fares."
   ]
  },
  {
   "cell_type": "markdown",
   "metadata": {},
   "source": [
    "## Using Monte-Carlo Sampling"
   ]
  },
  {
   "cell_type": "markdown",
   "metadata": {},
   "source": [
    "I did the work for you in this one. Make sure you understand the code, though."
   ]
  },
  {
   "cell_type": "code",
   "execution_count": 148,
   "metadata": {
    "collapsed": false
   },
   "outputs": [
    {
     "name": "stdout",
     "output_type": "stream",
     "text": [
      "The p-value is:  0.4984\n"
     ]
    }
   ],
   "source": [
    "n_sims = 10000\n",
    "n = 20\n",
    "x_sim = ss.bernoulli(p_hyp).rvs((n_sims, n))\n",
    "p_sim = x_sim.mean(1)\n",
    "lower = p_sim <= .4\n",
    "upper = p_sim >= .6\n",
    "pvalue = np.mean(lower) + np.mean(upper)\n",
    "print(\"The p-value is: \", pvalue)"
   ]
  }
 ],
 "metadata": {
  "anaconda-cloud": {},
  "kernelspec": {
   "display_name": "Python [default]",
   "language": "python",
   "name": "python3"
  },
  "language_info": {
   "codemirror_mode": {
    "name": "ipython",
    "version": 3
   },
   "file_extension": ".py",
   "mimetype": "text/x-python",
   "name": "python",
   "nbconvert_exporter": "python",
   "pygments_lexer": "ipython3",
   "version": "3.5.2"
  }
 },
 "nbformat": 4,
 "nbformat_minor": 0
}
