{
 "cells": [
  {
   "cell_type": "code",
   "execution_count": 5,
   "metadata": {
    "collapsed": true,
    "run_control": {
     "frozen": false,
     "read_only": false
    }
   },
   "outputs": [],
   "source": [
    "import numpy as np\n",
    "import matplotlib.pyplot as plt\n",
    "import scipy.stats as ss\n",
    "%matplotlib inline"
   ]
  },
  {
   "cell_type": "markdown",
   "metadata": {},
   "source": [
    "# <centeR>Estimating regression coefficients</centeR>"
   ]
  },
  {
   "cell_type": "markdown",
   "metadata": {},
   "source": [
    "We begin today where we left off in Day32. We have random variables $X,Y$, we assume some function form for the conditional expectation $E[Y|X=x]$. Here we assume that the conditional expectation is linear, so that if we decompose $Y$ as we did in the lecture, we get this\n",
    "\n",
    "$$Y = b_0 + b_1X + \\epsilon$$\n",
    "\n",
    "This is a theoretical quantity that we have to estimate. So our task is to estimate the parameters of this function ($b_0, b_1$, here), which we can do by minimizing the empirical squared error.\n"
   ]
  },
  {
   "cell_type": "markdown",
   "metadata": {},
   "source": [
    "\n",
    "\n",
    "#### <centeR>Today's question: When can we accurately estimate the **regression coefficients** $b_0$ and $b_1$?\n",
    "\n",
    "In particular, we'll see that the answer depends on two things (among many others!):\n",
    "\n",
    "+ How good is the quality of our data?\n",
    "\n",
    "+ Do we have all the variables we need?"
   ]
  },
  {
   "cell_type": "markdown",
   "metadata": {},
   "source": [
    "---"
   ]
  },
  {
   "cell_type": "markdown",
   "metadata": {},
   "source": [
    "## Part 1: Good Data, Bad Data"
   ]
  },
  {
   "cell_type": "markdown",
   "metadata": {},
   "source": [
    "I'd like you to have a good intuition for what kind of data is favorable for estimation.\n",
    "\n",
    "The function `generate_data` below takes a number of observations and a variance for the error term and generates some data (duh)."
   ]
  },
  {
   "cell_type": "code",
   "execution_count": 6,
   "metadata": {
    "collapsed": true,
    "run_control": {
     "frozen": false,
     "read_only": false
    }
   },
   "outputs": [],
   "source": [
    "def generate_data(n_obs, sigma_e):\n",
    "    X = ss.uniform(0, 10).rvs(n_obs) # n_obs draws from the Uniform[0, 10] distribution\n",
    "    e = ss.norm(0, sigma_e).rvs(n_obs)  # error term e ~ Normal(0, sigma_e^2)\n",
    "    Y = 2 + 3*X + e\n",
    "    return X, Y"
   ]
  },
  {
   "cell_type": "code",
   "execution_count": 25,
   "metadata": {
    "collapsed": false,
    "run_control": {
     "frozen": false,
     "read_only": false
    }
   },
   "outputs": [],
   "source": [
    "x, y = generate_data(10000, 1)"
   ]
  },
  {
   "cell_type": "markdown",
   "metadata": {},
   "source": [
    "This is how you'd plot a quick scatterplot of $x$-$y$."
   ]
  },
  {
   "cell_type": "code",
   "execution_count": 26,
   "metadata": {
    "collapsed": false,
    "run_control": {
     "frozen": false,
     "read_only": false
    }
   },
   "outputs": [
    {
     "data": {
      "text/plain": [
       "<matplotlib.collections.PathCollection at 0x1188bf2b0>"
      ]
     },
     "execution_count": 26,
     "metadata": {},
     "output_type": "execute_result"
    },
    {
     "data": {
      "image/png": "[encoded data removed]",
      "text/plain": [
       "<matplotlib.figure.Figure at 0x1185c3ba8>"
      ]
     },
     "metadata": {},
     "output_type": "display_data"
    }
   ],
   "source": [
    "fig, ax = plt.subplots(1)  # Creates a new plotting window\n",
    "ax.scatter(x, y)           # Draws the scatterplot"
   ]
  },
  {
   "cell_type": "markdown",
   "metadata": {},
   "source": [
    "Discussion:\n",
    "    \n",
    "+ How does $\\sigma_e$ affect the distribution of Y|X?\n",
    "\n",
    "+ How do you think $n$ and $\\sigma_e$ will affect the distribution of $\\hat{b}_0$ and $\\hat{b}_1$?"
   ]
  },
  {
   "cell_type": "markdown",
   "metadata": {},
   "source": [
    "---"
   ]
  },
  {
   "cell_type": "markdown",
   "metadata": {},
   "source": [
    "### Estimating linear regression coefficients"
   ]
  },
  {
   "cell_type": "markdown",
   "metadata": {},
   "source": [
    "We'll use the library `statsmodels` (it's last new library of the course, I promise!)."
   ]
  },
  {
   "cell_type": "code",
   "execution_count": 31,
   "metadata": {
    "collapsed": true,
    "run_control": {
     "frozen": false,
     "read_only": false
    }
   },
   "outputs": [],
   "source": [
    "import statsmodels.api as sm  "
   ]
  },
  {
   "cell_type": "markdown",
   "metadata": {},
   "source": [
    "Its not very hard to use! First, fit the line"
   ]
  },
  {
   "cell_type": "code",
   "execution_count": 34,
   "metadata": {
    "collapsed": false
   },
   "outputs": [
    {
     "data": {
      "text/plain": [
       "array([ 9.85727279,  2.77870306,  5.00928265, ...,  4.02801252,\n",
       "        8.76673125,  2.48789296])"
      ]
     },
     "execution_count": 34,
     "metadata": {},
     "output_type": "execute_result"
    }
   ],
   "source": [
    "x"
   ]
  },
  {
   "cell_type": "code",
   "execution_count": 33,
   "metadata": {
    "collapsed": false
   },
   "outputs": [
    {
     "data": {
      "text/plain": [
       "array([[ 1.        ,  9.85727279],\n",
       "       [ 1.        ,  2.77870306],\n",
       "       [ 1.        ,  5.00928265],\n",
       "       ..., \n",
       "       [ 1.        ,  4.02801252],\n",
       "       [ 1.        ,  8.76673125],\n",
       "       [ 1.        ,  2.48789296]])"
      ]
     },
     "execution_count": 33,
     "metadata": {},
     "output_type": "execute_result"
    }
   ],
   "source": [
    "xx"
   ]
  },
  {
   "cell_type": "code",
   "execution_count": 35,
   "metadata": {
    "collapsed": false,
    "run_control": {
     "frozen": false,
     "read_only": false
    }
   },
   "outputs": [],
   "source": [
    "xx = sm.add_constant(x)\n",
    "results = sm.OLS(y, xx).fit()"
   ]
  },
  {
   "cell_type": "markdown",
   "metadata": {},
   "source": [
    "The `results` variable contains all the information about the problem: the data, the estimated coefficients, a bunch of test results, auxiliary functions, etc."
   ]
  },
  {
   "cell_type": "markdown",
   "metadata": {},
   "source": [
    "Let's see a summary of results:"
   ]
  },
  {
   "cell_type": "code",
   "execution_count": 30,
   "metadata": {
    "collapsed": false,
    "run_control": {
     "frozen": false,
     "read_only": false
    }
   },
   "outputs": [
    {
     "data": {
      "text/html": [
       "<table class=\"simpletable\">\n",
       "<caption>OLS Regression Results</caption>\n",
       "<tr>\n",
       "  <th>Dep. Variable:</th>            <td>y</td>        <th>  R-squared:         </th> <td>   0.987</td> \n",
       "</tr>\n",
       "<tr>\n",
       "  <th>Model:</th>                   <td>OLS</td>       <th>  Adj. R-squared:    </th> <td>   0.987</td> \n",
       "</tr>\n",
       "<tr>\n",
       "  <th>Method:</th>             <td>Least Squares</td>  <th>  F-statistic:       </th> <td>7.659e+05</td>\n",
       "</tr>\n",
       "<tr>\n",
       "  <th>Date:</th>             <td>Fri, 18 Nov 2016</td> <th>  Prob (F-statistic):</th>  <td>  0.00</td>  \n",
       "</tr>\n",
       "<tr>\n",
       "  <th>Time:</th>                 <td>15:20:21</td>     <th>  Log-Likelihood:    </th> <td> -14119.</td> \n",
       "</tr>\n",
       "<tr>\n",
       "  <th>No. Observations:</th>      <td> 10000</td>      <th>  AIC:               </th> <td>2.824e+04</td>\n",
       "</tr>\n",
       "<tr>\n",
       "  <th>Df Residuals:</th>          <td>  9998</td>      <th>  BIC:               </th> <td>2.826e+04</td>\n",
       "</tr>\n",
       "<tr>\n",
       "  <th>Df Model:</th>              <td>     1</td>      <th>                     </th>     <td> </td>    \n",
       "</tr>\n",
       "<tr>\n",
       "  <th>Covariance Type:</th>      <td>nonrobust</td>    <th>                     </th>     <td> </td>    \n",
       "</tr>\n",
       "</table>\n",
       "<table class=\"simpletable\">\n",
       "<tr>\n",
       "    <td></td>       <th>coef</th>     <th>std err</th>      <th>t</th>      <th>P>|t|</th> <th>[95.0% Conf. Int.]</th> \n",
       "</tr>\n",
       "<tr>\n",
       "  <th>const</th> <td>    1.9993</td> <td>    0.020</td> <td>  101.578</td> <td> 0.000</td> <td>    1.961     2.038</td>\n",
       "</tr>\n",
       "<tr>\n",
       "  <th>x1</th>    <td>    3.0028</td> <td>    0.003</td> <td>  875.186</td> <td> 0.000</td> <td>    2.996     3.010</td>\n",
       "</tr>\n",
       "</table>\n",
       "<table class=\"simpletable\">\n",
       "<tr>\n",
       "  <th>Omnibus:</th>       <td> 2.046</td> <th>  Durbin-Watson:     </th> <td>   1.995</td>\n",
       "</tr>\n",
       "<tr>\n",
       "  <th>Prob(Omnibus):</th> <td> 0.359</td> <th>  Jarque-Bera (JB):  </th> <td>   2.008</td>\n",
       "</tr>\n",
       "<tr>\n",
       "  <th>Skew:</th>          <td>-0.031</td> <th>  Prob(JB):          </th> <td>   0.366</td>\n",
       "</tr>\n",
       "<tr>\n",
       "  <th>Kurtosis:</th>      <td> 3.032</td> <th>  Cond. No.          </th> <td>    11.6</td>\n",
       "</tr>\n",
       "</table>"
      ],
      "text/plain": [
       "<class 'statsmodels.iolib.summary.Summary'>\n",
       "\"\"\"\n",
       "                            OLS Regression Results                            \n",
       "==============================================================================\n",
       "Dep. Variable:                      y   R-squared:                       0.987\n",
       "Model:                            OLS   Adj. R-squared:                  0.987\n",
       "Method:                 Least Squares   F-statistic:                 7.659e+05\n",
       "Date:                Fri, 18 Nov 2016   Prob (F-statistic):               0.00\n",
       "Time:                        15:20:21   Log-Likelihood:                -14119.\n",
       "No. Observations:               10000   AIC:                         2.824e+04\n",
       "Df Residuals:                    9998   BIC:                         2.826e+04\n",
       "Df Model:                           1                                         \n",
       "Covariance Type:            nonrobust                                         \n",
       "==============================================================================\n",
       "                 coef    std err          t      P>|t|      [95.0% Conf. Int.]\n",
       "------------------------------------------------------------------------------\n",
       "const          1.9993      0.020    101.578      0.000         1.961     2.038\n",
       "x1             3.0028      0.003    875.186      0.000         2.996     3.010\n",
       "==============================================================================\n",
       "Omnibus:                        2.046   Durbin-Watson:                   1.995\n",
       "Prob(Omnibus):                  0.359   Jarque-Bera (JB):                2.008\n",
       "Skew:                          -0.031   Prob(JB):                        0.366\n",
       "Kurtosis:                       3.032   Cond. No.                         11.6\n",
       "==============================================================================\n",
       "\n",
       "Warnings:\n",
       "[1] Standard Errors assume that the covariance matrix of the errors is correctly specified.\n",
       "\"\"\""
      ]
     },
     "execution_count": 30,
     "metadata": {},
     "output_type": "execute_result"
    }
   ],
   "source": [
    "results.summary()"
   ]
  },
  {
   "cell_type": "markdown",
   "metadata": {},
   "source": [
    "You'll learn what the items in the top table are about in Econometrics. \n",
    "\n",
    "Today's we'll focus on the middle table. \n",
    "\n",
    "(The bottom table I don't understand either :P)"
   ]
  },
  {
   "cell_type": "markdown",
   "metadata": {},
   "source": [
    "#### Table columns"
   ]
  },
  {
   "cell_type": "markdown",
   "metadata": {},
   "source": [
    "+ **coef**: This column contains the $b_0, b_1$ coefficients. Their true values are $b_0 = 2$ and $b_1 = 3$.\n",
    "\n",
    "+ **std err**: That's the standard deviation of the estimated coefficients $\\hat{b}_0, \\hat{b}_1$.\n",
    "\n",
    "+ **t**: That's the t-statistic associated with $\\hat{b}$, i.e., $\\hat{t} = \\frac{\\hat{b} - b}{\\sqrt{\\frac{\\hat{\\sigma}^2}{n}}}$\n",
    "\n",
    "+ **P>|t|**: this is the p-value associated with the estimated coefficients. By default, the null hypothesis is $H_0: \\hat{b} = 0$.\n",
    "\n",
    "+ **[95.0% Conf. Int.]**: Self-explanatory."
   ]
  },
  {
   "cell_type": "markdown",
   "metadata": {},
   "source": [
    "### Discussion"
   ]
  },
  {
   "cell_type": "markdown",
   "metadata": {},
   "source": [
    "+ Generate data again with different $n$ but same $\\sigma_e$, then keep $n$ the same but increase $\\sigma_e$. \n",
    "    + What happens to the **std err** column?\n",
    "    + What happens to the **p-value** and **[95.0% Conf. Int.]** columns?\n",
    "    \n",
    "\n",
    "+ Why do you think it's convenient to have a default null hypothesis $H_0: \\hat{b} = 0$ for each coefficient?"
   ]
  },
  {
   "cell_type": "markdown",
   "metadata": {},
   "source": [
    "---"
   ]
  },
  {
   "cell_type": "markdown",
   "metadata": {},
   "source": [
    "## Part 2: *Ommited Variable Bias*"
   ]
  },
  {
   "cell_type": "markdown",
   "metadata": {},
   "source": [
    "Ok, now let's generate another data set, but now there will be two **correlated** regressors: `X1` and `X2`."
   ]
  },
  {
   "cell_type": "code",
   "execution_count": 65,
   "metadata": {
    "collapsed": true,
    "run_control": {
     "frozen": false,
     "read_only": false
    }
   },
   "outputs": [],
   "source": [
    "def generate_data_2d(n_obs, sigma_e):\n",
    "    X = ss.multivariate_normal([5, 5], [[2,1],[1,2]]).rvs(n_obs) # X has two columns (representing X1, X2)\n",
    "    e = ss.norm(0, sigma_e).rvs(n_obs)  # error term e ~ Normal(0, sigma_e^2)\n",
    "    Y = 2 + 3*X[:,0] - 6*X[:,1] + e\n",
    "    return X, Y"
   ]
  },
  {
   "cell_type": "code",
   "execution_count": 66,
   "metadata": {
    "collapsed": true,
    "run_control": {
     "frozen": false,
     "read_only": false
    }
   },
   "outputs": [],
   "source": [
    "x, y = generate_data_2d(100000, 1)"
   ]
  },
  {
   "cell_type": "markdown",
   "metadata": {},
   "source": [
    "The only thing to notice is that now `x` is an array with two columns:"
   ]
  },
  {
   "cell_type": "code",
   "execution_count": 67,
   "metadata": {
    "collapsed": false,
    "run_control": {
     "frozen": false,
     "read_only": false
    }
   },
   "outputs": [
    {
     "data": {
      "text/plain": [
       "array([[ 5.93705735,  5.86251603],\n",
       "       [ 6.47176166,  4.7061323 ],\n",
       "       [ 4.22551555,  5.8020791 ],\n",
       "       [ 7.67883596,  6.6248719 ],\n",
       "       [ 5.10721248,  4.58303531]])"
      ]
     },
     "execution_count": 67,
     "metadata": {},
     "output_type": "execute_result"
    }
   ],
   "source": [
    "x[:5, :]  # First 5 rows"
   ]
  },
  {
   "cell_type": "markdown",
   "metadata": {},
   "source": [
    "The regression syntax is the same"
   ]
  },
  {
   "cell_type": "code",
   "execution_count": 68,
   "metadata": {
    "collapsed": false,
    "run_control": {
     "frozen": false,
     "read_only": false
    }
   },
   "outputs": [
    {
     "data": {
      "text/html": [
       "<table class=\"simpletable\">\n",
       "<caption>OLS Regression Results</caption>\n",
       "<tr>\n",
       "  <th>Dep. Variable:</th>            <td>y</td>        <th>  R-squared:         </th>  <td>   0.982</td>  \n",
       "</tr>\n",
       "<tr>\n",
       "  <th>Model:</th>                   <td>OLS</td>       <th>  Adj. R-squared:    </th>  <td>   0.982</td>  \n",
       "</tr>\n",
       "<tr>\n",
       "  <th>Method:</th>             <td>Least Squares</td>  <th>  F-statistic:       </th>  <td>2.714e+06</td> \n",
       "</tr>\n",
       "<tr>\n",
       "  <th>Date:</th>             <td>Fri, 18 Nov 2016</td> <th>  Prob (F-statistic):</th>   <td>  0.00</td>   \n",
       "</tr>\n",
       "<tr>\n",
       "  <th>Time:</th>                 <td>15:37:16</td>     <th>  Log-Likelihood:    </th> <td>-1.4157e+05</td>\n",
       "</tr>\n",
       "<tr>\n",
       "  <th>No. Observations:</th>      <td>100000</td>      <th>  AIC:               </th>  <td>2.831e+05</td> \n",
       "</tr>\n",
       "<tr>\n",
       "  <th>Df Residuals:</th>          <td> 99997</td>      <th>  BIC:               </th>  <td>2.832e+05</td> \n",
       "</tr>\n",
       "<tr>\n",
       "  <th>Df Model:</th>              <td>     2</td>      <th>                     </th>      <td> </td>     \n",
       "</tr>\n",
       "<tr>\n",
       "  <th>Covariance Type:</th>      <td>nonrobust</td>    <th>                     </th>      <td> </td>     \n",
       "</tr>\n",
       "</table>\n",
       "<table class=\"simpletable\">\n",
       "<tr>\n",
       "    <td></td>       <th>coef</th>     <th>std err</th>      <th>t</th>      <th>P>|t|</th> <th>[95.0% Conf. Int.]</th> \n",
       "</tr>\n",
       "<tr>\n",
       "  <th>const</th> <td>    2.0041</td> <td>    0.013</td> <td>  151.614</td> <td> 0.000</td> <td>    1.978     2.030</td>\n",
       "</tr>\n",
       "<tr>\n",
       "  <th>x1</th>    <td>    3.0024</td> <td>    0.003</td> <td> 1165.486</td> <td> 0.000</td> <td>    2.997     3.007</td>\n",
       "</tr>\n",
       "<tr>\n",
       "  <th>x2</th>    <td>   -6.0019</td> <td>    0.003</td> <td>-2329.995</td> <td> 0.000</td> <td>   -6.007    -5.997</td>\n",
       "</tr>\n",
       "</table>\n",
       "<table class=\"simpletable\">\n",
       "<tr>\n",
       "  <th>Omnibus:</th>       <td> 2.294</td> <th>  Durbin-Watson:     </th> <td>   2.011</td>\n",
       "</tr>\n",
       "<tr>\n",
       "  <th>Prob(Omnibus):</th> <td> 0.318</td> <th>  Jarque-Bera (JB):  </th> <td>   2.296</td>\n",
       "</tr>\n",
       "<tr>\n",
       "  <th>Skew:</th>          <td>-0.012</td> <th>  Prob(JB):          </th> <td>   0.317</td>\n",
       "</tr>\n",
       "<tr>\n",
       "  <th>Kurtosis:</th>      <td> 2.998</td> <th>  Cond. No.          </th> <td>    31.1</td>\n",
       "</tr>\n",
       "</table>"
      ],
      "text/plain": [
       "<class 'statsmodels.iolib.summary.Summary'>\n",
       "\"\"\"\n",
       "                            OLS Regression Results                            \n",
       "==============================================================================\n",
       "Dep. Variable:                      y   R-squared:                       0.982\n",
       "Model:                            OLS   Adj. R-squared:                  0.982\n",
       "Method:                 Least Squares   F-statistic:                 2.714e+06\n",
       "Date:                Fri, 18 Nov 2016   Prob (F-statistic):               0.00\n",
       "Time:                        15:37:16   Log-Likelihood:            -1.4157e+05\n",
       "No. Observations:              100000   AIC:                         2.831e+05\n",
       "Df Residuals:                   99997   BIC:                         2.832e+05\n",
       "Df Model:                           2                                         \n",
       "Covariance Type:            nonrobust                                         \n",
       "==============================================================================\n",
       "                 coef    std err          t      P>|t|      [95.0% Conf. Int.]\n",
       "------------------------------------------------------------------------------\n",
       "const          2.0041      0.013    151.614      0.000         1.978     2.030\n",
       "x1             3.0024      0.003   1165.486      0.000         2.997     3.007\n",
       "x2            -6.0019      0.003  -2329.995      0.000        -6.007    -5.997\n",
       "==============================================================================\n",
       "Omnibus:                        2.294   Durbin-Watson:                   2.011\n",
       "Prob(Omnibus):                  0.318   Jarque-Bera (JB):                2.296\n",
       "Skew:                          -0.012   Prob(JB):                        0.317\n",
       "Kurtosis:                       2.998   Cond. No.                         31.1\n",
       "==============================================================================\n",
       "\n",
       "Warnings:\n",
       "[1] Standard Errors assume that the covariance matrix of the errors is correctly specified.\n",
       "\"\"\""
      ]
     },
     "execution_count": 68,
     "metadata": {},
     "output_type": "execute_result"
    }
   ],
   "source": [
    "xx = sm.add_constant(x)\n",
    "results = sm.OLS(y, xx).fit()\n",
    "results.summary()"
   ]
  },
  {
   "cell_type": "markdown",
   "metadata": {},
   "source": [
    "So far, so good? Now *let's break it*. \n",
    "\n",
    "Let's redo the regression, but now we'll \"forget\" to regress on the second regressor. \n",
    "\n",
    "We say that $X_2$ has been **ommitted**."
   ]
  },
  {
   "cell_type": "code",
   "execution_count": 69,
   "metadata": {
    "collapsed": false,
    "run_control": {
     "frozen": false,
     "read_only": false
    }
   },
   "outputs": [
    {
     "data": {
      "text/html": [
       "<table class=\"simpletable\">\n",
       "<caption>OLS Regression Results</caption>\n",
       "<tr>\n",
       "  <th>Dep. Variable:</th>            <td>y</td>        <th>  R-squared:         </th>  <td>   0.000</td>  \n",
       "</tr>\n",
       "<tr>\n",
       "  <th>Model:</th>                   <td>OLS</td>       <th>  Adj. R-squared:    </th>  <td>  -0.000</td>  \n",
       "</tr>\n",
       "<tr>\n",
       "  <th>Method:</th>             <td>Least Squares</td>  <th>  F-statistic:       </th>  <td>  0.7880</td>  \n",
       "</tr>\n",
       "<tr>\n",
       "  <th>Date:</th>             <td>Fri, 18 Nov 2016</td> <th>  Prob (F-statistic):</th>   <td> 0.375</td>   \n",
       "</tr>\n",
       "<tr>\n",
       "  <th>Time:</th>                 <td>15:37:21</td>     <th>  Log-Likelihood:    </th> <td>-3.4220e+05</td>\n",
       "</tr>\n",
       "<tr>\n",
       "  <th>No. Observations:</th>      <td>100000</td>      <th>  AIC:               </th>  <td>6.844e+05</td> \n",
       "</tr>\n",
       "<tr>\n",
       "  <th>Df Residuals:</th>          <td> 99998</td>      <th>  BIC:               </th>  <td>6.844e+05</td> \n",
       "</tr>\n",
       "<tr>\n",
       "  <th>Df Model:</th>              <td>     1</td>      <th>                     </th>      <td> </td>     \n",
       "</tr>\n",
       "<tr>\n",
       "  <th>Covariance Type:</th>      <td>nonrobust</td>    <th>                     </th>      <td> </td>     \n",
       "</tr>\n",
       "</table>\n",
       "<table class=\"simpletable\">\n",
       "<tr>\n",
       "    <td></td>       <th>coef</th>     <th>std err</th>      <th>t</th>      <th>P>|t|</th> <th>[95.0% Conf. Int.]</th> \n",
       "</tr>\n",
       "<tr>\n",
       "  <th>const</th> <td>  -12.9068</td> <td>    0.086</td> <td> -150.077</td> <td> 0.000</td> <td>  -13.075   -12.738</td>\n",
       "</tr>\n",
       "<tr>\n",
       "  <th>x1</th>    <td>   -0.0147</td> <td>    0.017</td> <td>   -0.888</td> <td> 0.375</td> <td>   -0.047     0.018</td>\n",
       "</tr>\n",
       "</table>\n",
       "<table class=\"simpletable\">\n",
       "<tr>\n",
       "  <th>Omnibus:</th>       <td> 4.972</td> <th>  Durbin-Watson:     </th> <td>   1.992</td>\n",
       "</tr>\n",
       "<tr>\n",
       "  <th>Prob(Omnibus):</th> <td> 0.083</td> <th>  Jarque-Bera (JB):  </th> <td>   4.970</td>\n",
       "</tr>\n",
       "<tr>\n",
       "  <th>Skew:</th>          <td>-0.017</td> <th>  Prob(JB):          </th> <td>  0.0833</td>\n",
       "</tr>\n",
       "<tr>\n",
       "  <th>Kurtosis:</th>      <td> 3.001</td> <th>  Cond. No.          </th> <td>    19.7</td>\n",
       "</tr>\n",
       "</table>"
      ],
      "text/plain": [
       "<class 'statsmodels.iolib.summary.Summary'>\n",
       "\"\"\"\n",
       "                            OLS Regression Results                            \n",
       "==============================================================================\n",
       "Dep. Variable:                      y   R-squared:                       0.000\n",
       "Model:                            OLS   Adj. R-squared:                 -0.000\n",
       "Method:                 Least Squares   F-statistic:                    0.7880\n",
       "Date:                Fri, 18 Nov 2016   Prob (F-statistic):              0.375\n",
       "Time:                        15:37:21   Log-Likelihood:            -3.4220e+05\n",
       "No. Observations:              100000   AIC:                         6.844e+05\n",
       "Df Residuals:                   99998   BIC:                         6.844e+05\n",
       "Df Model:                           1                                         \n",
       "Covariance Type:            nonrobust                                         \n",
       "==============================================================================\n",
       "                 coef    std err          t      P>|t|      [95.0% Conf. Int.]\n",
       "------------------------------------------------------------------------------\n",
       "const        -12.9068      0.086   -150.077      0.000       -13.075   -12.738\n",
       "x1            -0.0147      0.017     -0.888      0.375        -0.047     0.018\n",
       "==============================================================================\n",
       "Omnibus:                        4.972   Durbin-Watson:                   1.992\n",
       "Prob(Omnibus):                  0.083   Jarque-Bera (JB):                4.970\n",
       "Skew:                          -0.017   Prob(JB):                       0.0833\n",
       "Kurtosis:                       3.001   Cond. No.                         19.7\n",
       "==============================================================================\n",
       "\n",
       "Warnings:\n",
       "[1] Standard Errors assume that the covariance matrix of the errors is correctly specified.\n",
       "\"\"\""
      ]
     },
     "execution_count": 69,
     "metadata": {},
     "output_type": "execute_result"
    }
   ],
   "source": [
    "xx = sm.add_constant(x[:,0])  # TAKING ONLY THE FIRST COLUMN OF X!\n",
    "results = sm.OLS(y, xx).fit()\n",
    "results.summary()"
   ]
  },
  {
   "cell_type": "markdown",
   "metadata": {},
   "source": [
    "### Discussion\n",
    "\n",
    "+ How do the two coefficients associated with `x1` compare?\n",
    "\n",
    "+ Why is the coefficient on `x1` larger this time? (We say it's **biased**)\n",
    "\n",
    "+ Go back to the `generate_data_2d` function and increase the **magnitude** of coefficient on the second regressor. How do you think this set of results will change?\n",
    "\n",
    "+ Go back to the `generate_data_2d` function and change the **sign** of the coefficient on the second regressor. How do you think this set of results will change?\n",
    "\n",
    "+ What if $X_1$ and $X_2$ were **uncorrelated**?\n",
    "\n",
    "+ How does this all relate to finding **causal effects**?"
   ]
  }
 ],
 "metadata": {
  "anaconda-cloud": {},
  "kernelspec": {
   "display_name": "Python [default]",
   "language": "python",
   "name": "python3"
  },
  "language_info": {
   "codemirror_mode": {
    "name": "ipython",
    "version": 3
   },
   "file_extension": ".py",
   "mimetype": "text/x-python",
   "name": "python",
   "nbconvert_exporter": "python",
   "pygments_lexer": "ipython3",
   "version": "3.5.2"
  }
 },
 "nbformat": 4,
 "nbformat_minor": 0
}
