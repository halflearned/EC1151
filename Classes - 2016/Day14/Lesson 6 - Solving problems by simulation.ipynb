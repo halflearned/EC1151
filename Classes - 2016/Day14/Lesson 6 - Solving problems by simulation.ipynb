{
 "cells": [
  {
   "cell_type": "markdown",
   "metadata": {},
   "source": [
    "# <center> Lesson 6 - Solving problems by simulation</center>"
   ]
  },
  {
   "cell_type": "markdown",
   "metadata": {},
   "source": [
    "<font size = 1>Examples adapted from: MacKay, D. J. (2003). Information theory, inference and learning algorithms. Cambridge university press.</font>"
   ]
  },
  {
   "cell_type": "markdown",
   "metadata": {},
   "source": [
    "## <center>A probabilistic problem"
   ]
  },
  {
   "cell_type": "markdown",
   "metadata": {},
   "source": [
    "### Shuttling to BC during Fall and Spring\n",
    "\n",
    "You arrive at the BC shuttle stop, but your phone's battery died, so you can't check Transloc for the next arrival time. However, you do know that the shuttle comes at regular 10-minute intervals.\n",
    "\n",
    "(Pretend that during most of the schoolyear it arrives exactly on time, 24 hours a day.)"
   ]
  },
  {
   "cell_type": "markdown",
   "metadata": {},
   "source": [
    "####  What is the distribution of your waiting time until next bus?"
   ]
  },
  {
   "cell_type": "markdown",
   "metadata": {},
   "source": [
    "Uniform(0,10)"
   ]
  },
  {
   "cell_type": "markdown",
   "metadata": {},
   "source": [
    "#### What is the average waiting time until the next shuttle arrives? "
   ]
  },
  {
   "cell_type": "markdown",
   "metadata": {},
   "source": [
    "Try to go as far you can by hand, and then use Python to compute an approximate solution to the same problem. Make sure to import all the functions and objects that you need!"
   ]
  },
  {
   "cell_type": "markdown",
   "metadata": {},
   "source": [
    "5 minutes"
   ]
  },
  {
   "cell_type": "code",
   "execution_count": 1,
   "metadata": {
    "collapsed": false,
    "run_control": {
     "frozen": false,
     "read_only": false
    }
   },
   "outputs": [],
   "source": [
    "from scipy.stats import uniform\n",
    "from numpy import mean\n",
    "W = uniform(0, 10).rvs(1000000)"
   ]
  },
  {
   "cell_type": "code",
   "execution_count": 2,
   "metadata": {
    "collapsed": false,
    "run_control": {
     "frozen": false,
     "read_only": false
    }
   },
   "outputs": [
    {
     "data": {
      "text/plain": [
       "4.9981894664217172"
      ]
     },
     "execution_count": 2,
     "metadata": {},
     "output_type": "execute_result"
    }
   ],
   "source": [
    "mean(W)"
   ]
  },
  {
   "cell_type": "markdown",
   "metadata": {},
   "source": [
    "#### What is the probability of waiting for more than 3 minutes? "
   ]
  },
  {
   "cell_type": "markdown",
   "metadata": {},
   "source": [
    "Try to go as far you can by hand, and then let's go to Python for an approximate solution."
   ]
  },
  {
   "cell_type": "markdown",
   "metadata": {},
   "source": [
    "(Answer)"
   ]
  },
  {
   "cell_type": "code",
   "execution_count": 3,
   "metadata": {
    "collapsed": true,
    "run_control": {
     "frozen": false,
     "read_only": false
    }
   },
   "outputs": [],
   "source": [
    "W = uniform(0, 10).rvs(1000000)\n",
    "W3 = W > 3"
   ]
  },
  {
   "cell_type": "code",
   "execution_count": 4,
   "metadata": {
    "collapsed": false,
    "run_control": {
     "frozen": false,
     "read_only": false
    }
   },
   "outputs": [
    {
     "data": {
      "text/plain": [
       "0.69971700000000003"
      ]
     },
     "execution_count": 4,
     "metadata": {},
     "output_type": "execute_result"
    }
   ],
   "source": [
    "mean(W3)"
   ]
  },
  {
   "cell_type": "markdown",
   "metadata": {},
   "source": [
    "#### Now suppose that you have already waited for at least 6 minutes. What is the probability that you will have to wait for 3 more minutes?"
   ]
  },
  {
   "cell_type": "markdown",
   "metadata": {},
   "source": [
    "(Answer)"
   ]
  },
  {
   "cell_type": "code",
   "execution_count": 5,
   "metadata": {
    "collapsed": false,
    "run_control": {
     "frozen": false,
     "read_only": false
    }
   },
   "outputs": [
    {
     "data": {
      "text/plain": [
       "0.25033153269249497"
      ]
     },
     "execution_count": 5,
     "metadata": {},
     "output_type": "execute_result"
    }
   ],
   "source": [
    "W = uniform(0, 10).rvs(1000000)\n",
    "W6 = W > 6\n",
    "W9 = W > 9\n",
    "mean(W9)/mean(W6)"
   ]
  },
  {
   "cell_type": "markdown",
   "metadata": {},
   "source": [
    "### Shuttling to BC during Summer recess"
   ]
  },
  {
   "cell_type": "markdown",
   "metadata": {},
   "source": [
    "In the Summer, the BC shuttle becomes way less reliable. Let's assume that arrival times are $Expon(1/10)$ distributed."
   ]
  },
  {
   "cell_type": "markdown",
   "metadata": {},
   "source": [
    "#### What is the average time between arrivals in the Summer?"
   ]
  },
  {
   "cell_type": "markdown",
   "metadata": {},
   "source": [
    "Try to set up the problem by hand first.\n",
    "\n",
    "(I'll do this one for you. The `expon` object in Python use the `scale` parameter, and `scale` = $\\frac{1}{\\lambda}$)"
   ]
  },
  {
   "cell_type": "code",
   "execution_count": 6,
   "metadata": {
    "collapsed": false,
    "run_control": {
     "frozen": false,
     "read_only": false
    }
   },
   "outputs": [
    {
     "name": "stdout",
     "output_type": "stream",
     "text": [
      "The avg waiting time is: 10.0119322042\n"
     ]
    }
   ],
   "source": [
    "from scipy.stats import expon\n",
    "from numpy import mean\n",
    "\n",
    "wait = expon(scale = 10).rvs(1000000) # Scale = 1/lambda\n",
    "avg_wait = mean(wait)\n",
    "print(\"The avg waiting time is:\", avg_wait)"
   ]
  },
  {
   "cell_type": "markdown",
   "metadata": {},
   "source": [
    "#### What is the probability of waiting 3 minutes or more?"
   ]
  },
  {
   "cell_type": "code",
   "execution_count": 7,
   "metadata": {
    "collapsed": false,
    "run_control": {
     "frozen": false,
     "read_only": false
    }
   },
   "outputs": [
    {
     "name": "stdout",
     "output_type": "stream",
     "text": [
      "0.740702\n"
     ]
    }
   ],
   "source": [
    "wait = expon(scale = 10).rvs(1000000) # Scale = 1/lambda\n",
    "W3 = wait > 3\n",
    "print(mean(W3))"
   ]
  },
  {
   "cell_type": "markdown",
   "metadata": {},
   "source": [
    "#### Now suppose that you have already waited for at least 6 minutes. What is the probability that you will have to wait for 3 more minutes?"
   ]
  },
  {
   "cell_type": "code",
   "execution_count": 8,
   "metadata": {
    "collapsed": false,
    "run_control": {
     "frozen": false,
     "read_only": false
    }
   },
   "outputs": [
    {
     "name": "stdout",
     "output_type": "stream",
     "text": [
      "0.740858766116\n"
     ]
    }
   ],
   "source": [
    "W6 = wait > 6\n",
    "W9 = wait > 9\n",
    "print(mean(W9)/mean(W6))"
   ]
  },
  {
   "cell_type": "markdown",
   "metadata": {},
   "source": [
    "> The curious fact you notice about your answers to this second part is the *memoryless property* of the Exponential. The only distributions with this property are Exponential and Geometric (and note these are the continuous and discrete analogues of each other)."
   ]
  },
  {
   "cell_type": "markdown",
   "metadata": {},
   "source": [
    "**To think:** You complain to a friend about the summer shuttle, but she has no sympathy for you. \n",
    "<br><br>\n",
    "<font face=\"times\">\n",
    " \"Stop whining! The average time between buses is still 10 minutes, and you're equally likely to arrive at any point during the 10-minute average interval. Therefore, your average waiting time is still 5 minutes, just like in the Fall or Spring!\"\n",
    "</font>\n",
    "<br><br>\n",
    "\n",
    "Why is your friend wrong? See the wiki page on <a href=\"https://en.wikipedia.org/wiki/Length_time_bias\">length time bias</a> for another interesting example using cancer screening."
   ]
  },
  {
   "cell_type": "markdown",
   "metadata": {},
   "source": [
    "## <center>A statistical problem"
   ]
  },
  {
   "cell_type": "markdown",
   "metadata": {},
   "source": [
    "I've been giving you the distribution parameters so far, but what if I had given you data instead? \n",
    "\n",
    "I created these data using `expon(scale = <Something>).rvs(20)` and copy-pasting the random numbers."
   ]
  },
  {
   "cell_type": "code",
   "execution_count": 9,
   "metadata": {
    "collapsed": false,
    "run_control": {
     "frozen": false,
     "read_only": false
    }
   },
   "outputs": [],
   "source": [
    "from numpy import array\n",
    "wait1 = array([ 49.84839056,   2.06490943,  33.21949849,  27.6982665 ,\n",
    "                0.58273934,   6.92516707,  25.0482707 ,  18.39516928,\n",
    "                46.17855202,  11.78232803,  69.70748323,   6.77632596,\n",
    "                6.52824425,  30.34647429,  23.74439175,  31.41965695,\n",
    "                4.90039359,   9.87583134,   1.37162145,   1.10330549])"
   ]
  },
  {
   "cell_type": "markdown",
   "metadata": {},
   "source": [
    "#### Estimate the  rate parameter $\\lambda$"
   ]
  },
  {
   "cell_type": "code",
   "execution_count": 10,
   "metadata": {
    "collapsed": false,
    "run_control": {
     "frozen": false,
     "read_only": false
    }
   },
   "outputs": [],
   "source": [
    "rambda = 1/mean(wait1) # You can't use the word lambda in Python. It's reserved for something else."
   ]
  },
  {
   "cell_type": "code",
   "execution_count": 11,
   "metadata": {
    "collapsed": false,
    "run_control": {
     "frozen": false,
     "read_only": false
    }
   },
   "outputs": [
    {
     "data": {
      "text/plain": [
       "0.049077704812775076"
      ]
     },
     "execution_count": 11,
     "metadata": {},
     "output_type": "execute_result"
    }
   ],
   "source": [
    "rambda"
   ]
  },
  {
   "cell_type": "markdown",
   "metadata": {},
   "source": [
    "### To think \n",
    "\n",
    "How much do your estimates change with different data sets coming from the same distribution?"
   ]
  },
  {
   "cell_type": "code",
   "execution_count": 12,
   "metadata": {
    "collapsed": false,
    "run_control": {
     "frozen": false,
     "read_only": false
    }
   },
   "outputs": [],
   "source": [
    "wait1 = expon(scale = 5).rvs(20)\n",
    "wait2 = expon(scale = 5).rvs(20)\n",
    "wait3 = expon(scale = 5).rvs(20)\n",
    "wait4 = expon(scale = 5).rvs(20)\n",
    "wait5 = expon(scale = 5).rvs(20)"
   ]
  },
  {
   "cell_type": "markdown",
   "metadata": {},
   "source": [
    "Estimating the scale parameter for each one of these."
   ]
  },
  {
   "cell_type": "code",
   "execution_count": 13,
   "metadata": {
    "collapsed": false,
    "run_control": {
     "frozen": false,
     "read_only": false
    }
   },
   "outputs": [],
   "source": [
    "scale1 = mean(wait1)\n",
    "scale2 = mean(wait2)\n",
    "scale3 = mean(wait3)\n",
    "scale4 = mean(wait4)\n",
    "scale5 = mean(wait5)"
   ]
  },
  {
   "cell_type": "code",
   "execution_count": 14,
   "metadata": {
    "collapsed": false,
    "run_control": {
     "frozen": false,
     "read_only": false
    }
   },
   "outputs": [
    {
     "name": "stdout",
     "output_type": "stream",
     "text": [
      "5.00192961179 4.01867884467 4.82317689613 3.72273917005 4.84025448711\n"
     ]
    }
   ],
   "source": [
    "print(scale1, scale2, scale3, scale4, scale5)"
   ]
  },
  {
   "cell_type": "markdown",
   "metadata": {},
   "source": [
    "+ What do you notice about these parameters?\n",
    "\n",
    "+ If you hadn't generated the data yourself, how could you distinguish between data generate with `scale = 5` and, for example, `scale = 3` or `scale = 6.5`?"
   ]
  }
 ],
 "metadata": {
  "anaconda-cloud": {},
  "kernelspec": {
   "display_name": "Python [default]",
   "language": "python",
   "name": "python3"
  },
  "language_info": {
   "codemirror_mode": {
    "name": "ipython",
    "version": 3
   },
   "file_extension": ".py",
   "mimetype": "text/x-python",
   "name": "python",
   "nbconvert_exporter": "python",
   "pygments_lexer": "ipython3",
   "version": "3.5.2"
  }
 },
 "nbformat": 4,
 "nbformat_minor": 0
}
