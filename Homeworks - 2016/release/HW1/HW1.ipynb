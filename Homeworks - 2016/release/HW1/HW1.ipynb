{
 "cells": [
  {
   "cell_type": "markdown",
   "metadata": {
    "run_control": {
     "frozen": false,
     "read_only": false
    }
   },
   "source": [
    "<b>Names and BC usernames (up to three students)"
   ]
  },
  {
   "cell_type": "markdown",
   "metadata": {},
   "source": []
  },
  {
   "cell_type": "markdown",
   "metadata": {},
   "source": [
    "# <font face = \"times\"><center>  EC1151 - Homework 1 - Counting - Due Jan 30th"
   ]
  },
  {
   "cell_type": "markdown",
   "metadata": {},
   "source": [
    "<font face=\"times\">\n",
    "# Instructions\n",
    "<br>\n",
    "\n",
    "+ You must fill out this Jupyter notebook and return it by e-mail to baisihad@bc.edu\n",
    "\n",
    "+ Double click on the cells to edit them\n",
    "\n",
    "+ For questions that need mathematical notation, try to use $\\LaTeX$ if you can.\n",
    "\n",
    "+ If you're stuck, try posting a question in the Piazza forum. Active contributors will be rewarded.\n"
   ]
  },
  {
   "cell_type": "markdown",
   "metadata": {},
   "source": [
    "---"
   ]
  },
  {
   "cell_type": "markdown",
   "metadata": {},
   "source": [
    "<font face=\"times\">\n",
    "# <center> Theory (80 points) </center>"
   ]
  },
  {
   "cell_type": "markdown",
   "metadata": {},
   "source": [
    "### <font face = \"Times\">Counting (60 points)\n",
    "\n",
    "<font face = \"Times\">Remember to explain your reasoning, even (or especially!) for the questions of mathematical content."
   ]
  },
  {
   "cell_type": "markdown",
   "metadata": {},
   "source": [
    "<font face = \"Times\">\n",
    "**Q1)** In how many ways can we eat 10 entrees and 10 desserts? (Assuming we always eat the entree first, and the dessert later) "
   ]
  },
  {
   "cell_type": "markdown",
   "metadata": {
    "deletable": false,
    "nbgrader": {
     "checksum": "d149d0b72835793fb92ba0085d19b27e",
     "grade": true,
     "grade_id": "q1",
     "locked": false,
     "points": 10,
     "solution": true
    }
   },
   "source": [
    "You can eat in 128 ways (wrong)."
   ]
  },
  {
   "cell_type": "markdown",
   "metadata": {},
   "source": [
    "<font face = \"Times\">\n",
    "<b>Q2)</b> The number ${n \\choose k} = \\frac{n!}{(n-k)!k!}$ is the number of ways we can choose a subset of $k$ elements out of a set of $n$ elements. Explain in your own words the role of each one of the components of this number: $n!$, $(n-k)!$ and $k!$.\n",
    "\n",
    "(Don't just copy-and-paste it from Wikipedia. I know it's tempting, but don't.)"
   ]
  },
  {
   "cell_type": "markdown",
   "metadata": {
    "deletable": false,
    "nbgrader": {
     "checksum": "f351ea50107ac404f96c2e4bae26ee12",
     "grade": true,
     "grade_id": "q2",
     "locked": false,
     "points": 10,
     "solution": true
    }
   },
   "source": [
    "YOUR ANSWER HERE"
   ]
  },
  {
   "cell_type": "markdown",
   "metadata": {},
   "source": [
    "<font face = \"Times\">\n",
    "<b>Q3)</b> For an activity, a teacher separates twelve students into Teams A, B, and C. In how many ways are there to split a dozen people into these three teams, where each team has four people?"
   ]
  },
  {
   "cell_type": "markdown",
   "metadata": {
    "deletable": false,
    "nbgrader": {
     "checksum": "1c29359cea709669da2cad670b3d86cc",
     "grade": true,
     "grade_id": "q3",
     "locked": false,
     "points": 10,
     "solution": true
    }
   },
   "source": [
    "YOUR ANSWER HERE"
   ]
  },
  {
   "cell_type": "markdown",
   "metadata": {},
   "source": [
    "<font face = \"Times\">\n",
    "<b>Q4)</b> How many paths are there from the point $(0,0)$ to the point $(5, 5)$ in the plane such that each step either consists of going one unit up or one unit to the right? (four such paths are shown below)\n",
    "\n",
    "<img src=\"manhttan.png\" alt=\"If you can't see a figure, it's because the notebook file and the figures are not in the same folder\" width = 300>"
   ]
  },
  {
   "cell_type": "markdown",
   "metadata": {
    "deletable": false,
    "nbgrader": {
     "checksum": "1d283ca9b71eb68e02c8d74f86d26989",
     "grade": true,
     "grade_id": "q4",
     "locked": false,
     "points": 10,
     "solution": true
    }
   },
   "source": [
    "YOUR ANSWER HERE"
   ]
  },
  {
   "cell_type": "markdown",
   "metadata": {},
   "source": [
    "<font face = \"times\">\n",
    "**Q5)** A *palindrome* is a sequence of characters that reads the same way forwards and backwards. Boring examples include \"race car\" and \"taco cat\". For a less boring example see Demetri Martin's \"[Dammit I'm mad](http://fuckyeahdemetrimartin.tumblr.com/post/1382923819/simonfm-dammit-im-mad-a-poem-that-is-a)\" poem. \n",
    "\n",
    "Is a word with 2 letters more likely to be a palindrome than a word with 3 letters in it?"
   ]
  },
  {
   "cell_type": "markdown",
   "metadata": {
    "deletable": false,
    "nbgrader": {
     "checksum": "868f4b5e716518f42246174b45072adb",
     "grade": true,
     "grade_id": "q5",
     "locked": false,
     "points": 10,
     "solution": true
    }
   },
   "source": [
    "YOUR ANSWER HERE"
   ]
  },
  {
   "cell_type": "markdown",
   "metadata": {},
   "source": [
    "<font face = \"times\">\n",
    "**Q6)** A `bit` is a binary digit: it can be 0 or 1. A `byte` is a collection of `8` bits. For example, 10101010 is a `byte`, and so is 00011100. How many distinct bytes can we create out of 8 `bits`?\n",
    "\n",
    "Hint: A `nibble` is a collection of `4` bytes, like 1011 or 1111 or 0001. There are `16` different possible nibbles."
   ]
  },
  {
   "cell_type": "markdown",
   "metadata": {
    "deletable": false,
    "nbgrader": {
     "checksum": "ceee1f7cca08e3e1442116d48443160e",
     "grade": true,
     "grade_id": "q6",
     "locked": false,
     "points": 10,
     "solution": true
    }
   },
   "source": [
    "YOUR ANSWER HERE"
   ]
  },
  {
   "cell_type": "markdown",
   "metadata": {},
   "source": [
    "---"
   ]
  },
  {
   "cell_type": "markdown",
   "metadata": {},
   "source": [
    "<font face=\"times\">\n",
    "### Coin flipping experiment (20 points)"
   ]
  },
  {
   "cell_type": "markdown",
   "metadata": {},
   "source": [
    "<font face = \"times\"><b>Q7)</b> If you toss a coin three times, what is the probability of getting 2 heads and 1 tail (in whichever order)? Explain your reasoning."
   ]
  },
  {
   "cell_type": "markdown",
   "metadata": {
    "deletable": false,
    "nbgrader": {
     "checksum": "146876cfd6c219ef3566f42ab73020e5",
     "grade": true,
     "grade_id": "q7",
     "locked": false,
     "points": 10,
     "solution": true
    }
   },
   "source": [
    "YOUR ANSWER HERE"
   ]
  },
  {
   "cell_type": "markdown",
   "metadata": {},
   "source": [
    "<font face = \"times\">\n",
    "**Q8)** For the next experiment, we'll repeatedly toss three coins. We'll call a *success* if the event of getting \"exactly two heads and one tail\" is true. For example, `HTH` is a *success*, and so is `HHT`; however `TTT` is a failure.\n",
    "\n",
    "<b>a)</b> Repeat the following experiment **10** times.\n",
    "\n",
    "+ Get three coins and toss them. Record if you got a *success* or not.\n",
    "\n",
    "Compute the ratio of *successes* over total experiments. That is, if you had 3 *successes*, you should answer $\\frac{3}{10} = 0.3$. There's no need to write out the whole sequence."
   ]
  },
  {
   "cell_type": "markdown",
   "metadata": {
    "deletable": false,
    "nbgrader": {
     "checksum": "ac2622549df7f001e10f82b3c7775683",
     "grade": true,
     "grade_id": "q8a",
     "locked": false,
     "points": 3,
     "solution": true
    }
   },
   "source": [
    "YOUR ANSWER HERE"
   ]
  },
  {
   "cell_type": "markdown",
   "metadata": {},
   "source": [
    "<font face = \"times\">\n",
    "<b>b)</b> Perform the previous experiment an additional 15 times. Compute the ratio of *successes* over total experiments. What is the current ratio of successes over the 25 repetitions?"
   ]
  },
  {
   "cell_type": "markdown",
   "metadata": {
    "deletable": false,
    "nbgrader": {
     "checksum": "2ffdba91d05561a6a4bd6d9c1f41b7ed",
     "grade": true,
     "grade_id": "q8b",
     "locked": false,
     "points": 3,
     "solution": true
    }
   },
   "source": [
    "YOUR ANSWER HERE"
   ]
  },
  {
   "cell_type": "markdown",
   "metadata": {},
   "source": [
    "<font face = \"times\">\n",
    "\n",
    "<b>c)</b> Perform the previous experiment an additional 25 times (or more!).\n",
    "Compute the ratio of *successes* over total experiments. What is the ratio of successes over total repetitions (now at least 50)?"
   ]
  },
  {
   "cell_type": "markdown",
   "metadata": {
    "deletable": false,
    "nbgrader": {
     "checksum": "606ccde709dc34fd2eb1e0754296ff5e",
     "grade": true,
     "grade_id": "q8c",
     "locked": false,
     "points": 2,
     "solution": true
    }
   },
   "source": [
    "YOUR ANSWER HERE"
   ]
  },
  {
   "cell_type": "markdown",
   "metadata": {},
   "source": [
    "<font face = \"times\">**Q9)** [Open-Ended: Any answer is okay, as long as not blank] \n",
    "\n",
    "If you continued repeating your experiment trillions of times, what is the approximate ratio of \"successes / total repetitions\" that you would have gotten?"
   ]
  },
  {
   "cell_type": "markdown",
   "metadata": {
    "deletable": false,
    "nbgrader": {
     "checksum": "2d54843f4b798e10e0262806bfe0ad47",
     "grade": true,
     "grade_id": "q9",
     "locked": false,
     "points": 2,
     "solution": true
    }
   },
   "source": [
    "YOUR ANSWER HERE"
   ]
  },
  {
   "cell_type": "markdown",
   "metadata": {},
   "source": [
    "---"
   ]
  },
  {
   "cell_type": "markdown",
   "metadata": {},
   "source": [
    "<font face=\"times\">\n",
    "# <center> Programming (20 points) </center>"
   ]
  },
  {
   "cell_type": "markdown",
   "metadata": {
    "nbgrader": {
     "grade": false,
     "locked": false,
     "solution": false
    }
   },
   "source": [
    "<font face=\"times\">\n",
    "<b>Q10) [Markdown]</b> Write some text in the cell below. Include at least one word in italics and word in boldface."
   ]
  },
  {
   "cell_type": "markdown",
   "metadata": {
    "deletable": false,
    "nbgrader": {
     "checksum": "38a921886efbf95f588d21217005b7d5",
     "grade": true,
     "grade_id": "q10",
     "locked": false,
     "points": 6,
     "solution": true
    }
   },
   "source": [
    "YOUR ANSWER HERE"
   ]
  },
  {
   "cell_type": "markdown",
   "metadata": {},
   "source": [
    "<font face=\"times\">\n",
    "<b>Q11) [$ \\LaTeX $]</b> In the cell below, write the Pythagorean Theorem. Make sure to enclose the equation in single or double dollar signs.\n",
    "\n",
    "<img src=\"pyt.png\", width = 120, alt = \"If you can't see this, the file pyt.png is not in the same folder as this notebook.\">\n",
    "\n",
    "Hint: $a^2, b^2, c^2$ "
   ]
  },
  {
   "cell_type": "markdown",
   "metadata": {
    "deletable": false,
    "nbgrader": {
     "checksum": "3b5b85a6f9e8d103d86ed5a4c53ee589",
     "grade": true,
     "grade_id": "q11",
     "locked": false,
     "points": 6,
     "solution": true
    }
   },
   "source": [
    "YOUR ANSWER HERE"
   ]
  },
  {
   "cell_type": "markdown",
   "metadata": {},
   "source": [
    "<font face=\"times\">\n",
    "<b>Q12) [Python]</b> First, erase whatever is in the cell below. Then, carefuly copy the Python code in the cell below by hand, and finally run it. Some output should appear below the cell.\n",
    "\n",
    "```python\n",
    "a = 2\n",
    "b = 3\n",
    "c = a + b\n",
    "print(\"The value of c is\", c)\n",
    "```"
   ]
  },
  {
   "cell_type": "code",
   "execution_count": null,
   "metadata": {
    "collapsed": true,
    "deletable": false,
    "nbgrader": {
     "checksum": "b5c697116c2c9a8fd65ce7cebc2ebd8e",
     "grade": true,
     "grade_id": "q12",
     "locked": false,
     "points": 8,
     "solution": true
    },
    "run_control": {
     "frozen": false,
     "read_only": false
    }
   },
   "outputs": [],
   "source": [
    "# YOUR CODE HERE\n",
    "raise NotImplementedError()"
   ]
  }
 ],
 "metadata": {
  "anaconda-cloud": {},
  "kernelspec": {
   "display_name": "Python [conda root]",
   "language": "python",
   "name": "conda-root-py"
  },
  "language_info": {
   "codemirror_mode": {
    "name": "ipython",
    "version": 3
   },
   "file_extension": ".py",
   "mimetype": "text/x-python",
   "name": "python",
   "nbconvert_exporter": "python",
   "pygments_lexer": "ipython3",
   "version": "3.5.2"
  }
 },
 "nbformat": 4,
 "nbformat_minor": 0
}
