{
 "cells": [
  {
   "cell_type": "markdown",
   "metadata": {},
   "source": [
    "**Student names and BC usernames**"
   ]
  },
  {
   "cell_type": "markdown",
   "metadata": {},
   "source": []
  },
  {
   "cell_type": "markdown",
   "metadata": {},
   "source": [
    "---"
   ]
  },
  {
   "cell_type": "markdown",
   "metadata": {},
   "source": [
    "# <font face = \"times\"><center> Homework 5 - Discrete Random Variables - Due Feb 27th</font> "
   ]
  },
  {
   "cell_type": "markdown",
   "metadata": {},
   "source": [
    "<font face=\"times\">\n",
    "# Instructions\n",
    "<br>\n",
    "\n",
    "+ You must fill out this Jupyter notebook and return it by e-mail to baisihad@bc.edu\n",
    "\n",
    "+ Double click on the cells to edit them\n",
    "\n",
    "+ For questions that need mathematical notation, try to use $\\LaTeX$ if you can.\n",
    "\n",
    "+ Sometimes, below a question that requires an answer there will be a cell with several `assert` statements. If you can run that cell without generating error, your answer has been validated and you are guaranteed the points.\n",
    "\n",
    "+ If you're stuck, try posting a question in the Piazza forum. Active contributors will be rewarded.\n",
    "\n"
   ]
  },
  {
   "cell_type": "markdown",
   "metadata": {},
   "source": [
    "\n",
    "---"
   ]
  },
  {
   "cell_type": "markdown",
   "metadata": {},
   "source": [
    "<font face=\"times\">\n",
    "# Theory (60 points)"
   ]
  },
  {
   "cell_type": "markdown",
   "metadata": {},
   "source": [
    "<font color=\"green\">To answer some of the questions in this HW, you'll need to use the Binomial probability tables in the file Tables.pdf</font>"
   ]
  },
  {
   "cell_type": "markdown",
   "metadata": {},
   "source": [
    "<font face=\"times\">\n",
    "\n",
    "**Q1)** If $X \\sim Binomial(n, p)$, then its probability mass function is:\n",
    "\n",
    "$$p_X(k) = P(X =k) = {n \\choose k} p^k (1-p)^{n-k}$$\n",
    "\n",
    "Explain what is $n$, $k$, and $p$, and discuss the role of the terms ${n \\choose k}$ and  $p^{k}(1-p)^{n-k}$ as intuitively as you can.\n",
    "\n",
    "<b>Hint</b> Try computing the pmf for $n = 1,2,3...$ and check if you see a pattern."
   ]
  },
  {
   "cell_type": "markdown",
   "metadata": {
    "deletable": false,
    "nbgrader": {
     "checksum": "1acd7374982af25756ca6375497ca028",
     "grade": true,
     "grade_id": "q1",
     "locked": false,
     "points": 5,
     "solution": true
    }
   },
   "source": [
    "YOUR ANSWER HERE"
   ]
  },
  {
   "cell_type": "markdown",
   "metadata": {},
   "source": [
    "---"
   ]
  },
  {
   "cell_type": "markdown",
   "metadata": {},
   "source": [
    "<font face=\"times\">\n",
    "<b>Q2)</b> Having decided that your true passion is theater and arts, you decide to drop out of BC and move to Brooklyn. There, in order to sustain your life as a young performer, you find a job at a coffee shop.\n",
    "<br><br>\n",
    "Your hipster boss wants to keep the business small, local and unique - like everything else in the area -, so access to the coffee shop is restricted to members only. At the moment, only 6 people are deemed hip enough to enter the coffee shop. In a day, each one of these clients shows up independently of each other with probability $p = .4$. "
   ]
  },
  {
   "cell_type": "markdown",
   "metadata": {},
   "source": [
    "<font face=\"times\">\n",
    "a) Explain why we can model the arrival of each customer as $Bernoulli(p)$, and what is the appropriate value of $p$."
   ]
  },
  {
   "cell_type": "markdown",
   "metadata": {
    "deletable": false,
    "nbgrader": {
     "checksum": "09832d0ffcdd6d1174930ee7b2d08021",
     "grade": true,
     "grade_id": "q2a",
     "locked": false,
     "points": 2,
     "solution": true
    }
   },
   "source": [
    "YOUR ANSWER HERE"
   ]
  },
  {
   "cell_type": "markdown",
   "metadata": {},
   "source": [
    "<font face=\"times\">\n",
    "b) Explain why we can model the number of customers as $Binomial(n,p)$, and state the appropriate value of $n$ and $p$."
   ]
  },
  {
   "cell_type": "markdown",
   "metadata": {
    "deletable": false,
    "nbgrader": {
     "checksum": "298e1e37f32aa4b479a4e0be22c3e427",
     "grade": true,
     "grade_id": "q2b",
     "locked": false,
     "points": 2,
     "solution": true
    }
   },
   "source": [
    "YOUR ANSWER HERE"
   ]
  },
  {
   "cell_type": "markdown",
   "metadata": {},
   "source": [
    "<font face=\"times\">\n",
    "c) Use the Binomial tables to figure out what is the probability that exactly five customers will come to the shop today."
   ]
  },
  {
   "cell_type": "markdown",
   "metadata": {
    "deletable": false,
    "nbgrader": {
     "checksum": "65c58b3b10f66bcd611578656f0ee54c",
     "grade": true,
     "grade_id": "q2c",
     "locked": false,
     "points": 3,
     "solution": true
    }
   },
   "source": [
    "YOUR ANSWER HERE"
   ]
  },
  {
   "cell_type": "markdown",
   "metadata": {},
   "source": [
    "<font face=\"times\">\n",
    "d) Explain you would have gotten to the same answer without using the table."
   ]
  },
  {
   "cell_type": "markdown",
   "metadata": {
    "deletable": false,
    "nbgrader": {
     "checksum": "9de74fc28a1fe983208c21f2f9f8c3b3",
     "grade": true,
     "grade_id": "q2d",
     "locked": false,
     "points": 3,
     "solution": true
    }
   },
   "source": [
    "YOUR ANSWER HERE"
   ]
  },
  {
   "cell_type": "markdown",
   "metadata": {},
   "source": [
    "<font face=\"times\">\n",
    "e) What is the probability that at most three customers will come to the shop today? (Explain your reasoning)"
   ]
  },
  {
   "cell_type": "markdown",
   "metadata": {
    "deletable": false,
    "nbgrader": {
     "checksum": "3f8036d86b577f6e875021c26d74e499",
     "grade": true,
     "grade_id": "q2e",
     "locked": false,
     "points": 5,
     "solution": true
    }
   },
   "source": [
    "YOUR ANSWER HERE"
   ]
  },
  {
   "cell_type": "markdown",
   "metadata": {},
   "source": [
    "<font face=\"times\">\n",
    "\n",
    "f) The coffee shop is becoming very popular, so now $7$ customers are allowed in the club. Moreover, now each of them has a $0.9$ probability of coming to the store on a given day. In this new setup, what is the probability that today the coffee shop will receive at least four customers?"
   ]
  },
  {
   "cell_type": "markdown",
   "metadata": {
    "deletable": false,
    "nbgrader": {
     "checksum": "448eded7c7f146ba44f42723891e5da4",
     "grade": true,
     "grade_id": "q2f",
     "locked": false,
     "points": 5,
     "solution": true
    }
   },
   "source": [
    "YOUR ANSWER HERE"
   ]
  },
  {
   "cell_type": "markdown",
   "metadata": {},
   "source": [
    "---"
   ]
  },
  {
   "cell_type": "markdown",
   "metadata": {},
   "source": [
    "<font face=\"times\">\n",
    "**Q3)** A couple decides to keep having children until they have a boy. Assume they never have twins, that the gender of one child is independent of the next child, and that the couple can keep producing children indefinitely. \n",
    "\n",
    "a) What is the sample space of this experiment?"
   ]
  },
  {
   "cell_type": "markdown",
   "metadata": {
    "deletable": false,
    "nbgrader": {
     "checksum": "0f4c8ad3fddb3374765edf72ff92e20f",
     "grade": true,
     "grade_id": "q3a",
     "locked": false,
     "points": 5,
     "solution": true
    }
   },
   "source": [
    "YOUR ANSWER HERE"
   ]
  },
  {
   "cell_type": "markdown",
   "metadata": {},
   "source": [
    "<font face=\"times\">\n",
    "b) Find out the probability that the first boy will be the couple's first, or second-born."
   ]
  },
  {
   "cell_type": "markdown",
   "metadata": {
    "deletable": false,
    "nbgrader": {
     "checksum": "dcb0ef5c7082d4c9c8236afea0b444fb",
     "grade": true,
     "grade_id": "q3b",
     "locked": false,
     "points": 5,
     "solution": true
    }
   },
   "source": [
    "YOUR ANSWER HERE"
   ]
  },
  {
   "cell_type": "markdown",
   "metadata": {},
   "source": [
    "<font face=\"times\">\n",
    "c) Find out the probability that the first boy will be the fourth-born or later."
   ]
  },
  {
   "cell_type": "markdown",
   "metadata": {
    "deletable": false,
    "nbgrader": {
     "checksum": "7b9720c571163b602a183f5f2a3c3d31",
     "grade": true,
     "grade_id": "q3c",
     "locked": false,
     "points": 5,
     "solution": true
    }
   },
   "source": [
    "YOUR ANSWER HERE"
   ]
  },
  {
   "cell_type": "markdown",
   "metadata": {},
   "source": [
    "<font face=\"times\">\n",
    "\n",
    "d) Which probability distribution best models this experiment? What is its PMF? Give its name and explain the role of its parameters."
   ]
  },
  {
   "cell_type": "markdown",
   "metadata": {
    "deletable": false,
    "nbgrader": {
     "checksum": "c1ae97601bdf76c5eee9c0b631dc6a2e",
     "grade": true,
     "grade_id": "q4c",
     "locked": false,
     "points": 5,
     "solution": true
    }
   },
   "source": [
    "YOUR ANSWER HERE"
   ]
  },
  {
   "cell_type": "markdown",
   "metadata": {},
   "source": [
    "---"
   ]
  },
  {
   "cell_type": "markdown",
   "metadata": {},
   "source": [
    "<font face=\"times\">\n",
    "<b>Q4)</b> An airline *overbooks* a flight (i.e., they sell more tickets for the flight than there are seats on the plane, betting that some of the people will not show up). The (tiny) plane has 15 seats, and they sell 20 tickets. Assume each person will show up to the flight with probability $0.8$. Use the table below to answer the question.\n",
    "\n",
    "<br>\n",
    "\n",
    "Compute the probability of an overbooking conflict (i.e., that there will be more passengers than seats)."
   ]
  },
  {
   "cell_type": "markdown",
   "metadata": {
    "deletable": false,
    "nbgrader": {
     "checksum": "1d283ca9b71eb68e02c8d74f86d26989",
     "grade": true,
     "grade_id": "q4",
     "locked": false,
     "points": 10,
     "solution": true
    }
   },
   "source": [
    "YOUR ANSWER HERE"
   ]
  },
  {
   "cell_type": "markdown",
   "metadata": {},
   "source": [
    "---"
   ]
  },
  {
   "cell_type": "markdown",
   "metadata": {},
   "source": [
    "<font face=\"times\">\n",
    "<b>Q5)</b> Loosely based on <a href=\"https://en.wikipedia.org/wiki/Lady_tasting_tea\">Lady Tasting Tea</a>.\n",
    "\n",
    "A lady claims to be able to tell if milk was added to her cup before or after her tea. A skeptical statistician decides to run some experiments to try to figure out how confident we can be about her telling the truth."
   ]
  },
  {
   "cell_type": "markdown",
   "metadata": {},
   "source": [
    "<font face=\"times\">\n",
    "a) For this part, suppose that the lady does *not* have the ability to taste the difference, and she's randomly guessing one way or the other.\n",
    "\n",
    "The lady is given 10 cups of tea. In five of the cups, milk was added before pouring the tea; in the remaining five, milk was added later. She gets it right 8 out of 10 times.\n",
    "\n",
    "What was the probability of that happening?"
   ]
  },
  {
   "cell_type": "markdown",
   "metadata": {
    "deletable": false,
    "nbgrader": {
     "checksum": "312569e804375da38e9ed9eaa22e8053",
     "grade": true,
     "grade_id": "q5a",
     "locked": false,
     "points": 5,
     "solution": true
    }
   },
   "source": [
    "YOUR ANSWER HERE"
   ]
  },
  {
   "cell_type": "markdown",
   "metadata": {},
   "source": [
    "<font face=\"times\">\n",
    "b) [Open-ended] Do you believe that the lady has the ability to taste the difference? If not: would you have believed if she had gotten it right 10 out of 10 times? If not: how many trials would be necessary (and often would she have to get right) for you to be satisfied?"
   ]
  },
  {
   "cell_type": "markdown",
   "metadata": {
    "deletable": false,
    "nbgrader": {
     "checksum": "f2e0b042c0ab98c874745ffe197b5310",
     "grade": true,
     "grade_id": "q5b",
     "locked": false,
     "points": 5,
     "solution": true
    }
   },
   "source": [
    "YOUR ANSWER HERE"
   ]
  },
  {
   "cell_type": "markdown",
   "metadata": {},
   "source": [
    "---"
   ]
  },
  {
   "cell_type": "markdown",
   "metadata": {},
   "source": [
    "<font face=\"times\">\n",
    "# Programming Practice"
   ]
  },
  {
   "cell_type": "markdown",
   "metadata": {},
   "source": [
    "<font face=\"times\">\n",
    "\n",
    "<b>Q6)</b> Explain in English what each line of the code below does.\n",
    "\n",
    "```python\n",
    "weekdays = [\"Monday\", \"Tuesday\", \"Wednesday\", \"Thursday\", \"Friday\"]\n",
    "for day in weekdays:\n",
    "  if day == \"Wednesday\":\n",
    "    print(\"Hump day!\")\n",
    "  elif day == \"Friday\":\n",
    "    print(\"TGIF!\")\n",
    "  else:\n",
    "    print(\"Just a normal day.\")\n",
    "```"
   ]
  },
  {
   "cell_type": "markdown",
   "metadata": {
    "deletable": false,
    "nbgrader": {
     "checksum": "4212bce8f348cb27b4fc84801b1964e3",
     "grade": true,
     "grade_id": "q6",
     "locked": false,
     "points": 5,
     "solution": true
    }
   },
   "source": [
    "YOUR ANSWER HERE"
   ]
  },
  {
   "cell_type": "markdown",
   "metadata": {},
   "source": [
    "---"
   ]
  },
  {
   "cell_type": "markdown",
   "metadata": {},
   "source": [
    "<font face=\"times\">\n",
    "<b>Q7)</b> Write a program that loops over this list of integers\n",
    "\n",
    "```python\n",
    "xs = [14, 2, 51, 27, 30, 300, 1]\n",
    "```\n",
    "and prints out:\n",
    "\n",
    "+ BIG if the number is strictly higher than 30,\n",
    "+ SMALL otherwise.\n",
    "\n",
    "The output should be\n",
    "\n",
    "```python\n",
    "SMALL\n",
    "SMALL\n",
    "BIG\n",
    "SMALL\n",
    "SMALL\n",
    "BIG\n",
    "SMALL\n",
    "```\n"
   ]
  },
  {
   "cell_type": "markdown",
   "metadata": {
    "deletable": false,
    "nbgrader": {
     "checksum": "ffeb609915703fd921ac5cd4d97e02ac",
     "grade": true,
     "grade_id": "q7",
     "locked": false,
     "points": 5,
     "solution": true
    }
   },
   "source": [
    "YOUR ANSWER HERE"
   ]
  },
  {
   "cell_type": "markdown",
   "metadata": {},
   "source": [
    "---"
   ]
  },
  {
   "cell_type": "markdown",
   "metadata": {},
   "source": [
    "<font face=\"times\">\n",
    "<b>Q8)</b> (For this part read <a href=\"http://openbookproject.net/thinkcs/python/english3e/conditionals.html\">the textbook</a> if you need to).\n",
    "\n",
    "You can combine boolean expressions using the **logical operators** `and`, `or` and `not`. For example, if you want your code to run only if, say, `x > 10` and `x < 20`, then you could write, quite literally,\n",
    "\n",
    "```python\n",
    "if x > 10 and x < 20:\n",
    "    print(\"x has a moderate size\")\n",
    "else:\n",
    "    print(\"x is too small or to big\")\n",
    "```\n",
    "\n",
    "Explain in English what do the following snippets of code do.\n",
    "\n",
    "<b>Hint</b> A number $n$ is said to be \"divisible by $m$\" if, when we divide $n$ by $m$, we get a remainder of zero. For example, 7 is only divisible by 1 and 7, while 12 is divisible by 1, 2, 3, 4, 6 and 12.\n",
    "\n",
    "\n",
    "a) Snippet 1 (printing out)\n",
    "\n",
    "```python\n",
    "xs = [0,1,2,3,4,5,6,7,8,9,10]\n",
    "for x in xs:\n",
    "    if x % 2 == 0 or x % 3 == 0:\n",
    "        print(x)\n",
    "```"
   ]
  },
  {
   "cell_type": "markdown",
   "metadata": {
    "deletable": false,
    "nbgrader": {
     "checksum": "ba2438ad27e938e39794dcce6502f032",
     "grade": true,
     "grade_id": "q8a",
     "locked": false,
     "points": 5,
     "solution": true
    }
   },
   "source": [
    "YOUR ANSWER HERE"
   ]
  },
  {
   "cell_type": "markdown",
   "metadata": {},
   "source": [
    "b) Snippet 2 (making lists):\n",
    "\n",
    "```python\n",
    "xs = []                \n",
    "for x in range(10):\n",
    "    if x % 2 == 0 and x % 3 == 0:\n",
    "        xs = xs + [x]   \n",
    "print(xs)\n",
    "```"
   ]
  },
  {
   "cell_type": "markdown",
   "metadata": {
    "deletable": false,
    "nbgrader": {
     "checksum": "fb88bec2588782b0de0702bf9c2ecc33",
     "grade": true,
     "grade_id": "q8b",
     "locked": false,
     "points": 5,
     "solution": true
    }
   },
   "source": [
    "YOUR ANSWER HERE"
   ]
  },
  {
   "cell_type": "markdown",
   "metadata": {},
   "source": [
    "c) Snippet 3 (summing up):\n",
    "\n",
    "```python\n",
    "s = 0\n",
    "for x in range(10):\n",
    "    if not x % 3 == 0:\n",
    "        s = s + x\n",
    "print(s)\n",
    "```"
   ]
  },
  {
   "cell_type": "markdown",
   "metadata": {
    "deletable": false,
    "nbgrader": {
     "checksum": "6a0031cedf687e931dd8def477986ef6",
     "grade": true,
     "grade_id": "q8c",
     "locked": false,
     "points": 5,
     "solution": true
    }
   },
   "source": [
    "YOUR ANSWER HERE"
   ]
  },
  {
   "cell_type": "markdown",
   "metadata": {},
   "source": [
    "---"
   ]
  },
  {
   "cell_type": "markdown",
   "metadata": {},
   "source": [
    "<font face=\"times\">\n",
    "<b>Q9)</b> Write a program that prints out numbers for 0 to 100 under if the following conditions are satisfied.\n",
    "\n",
    "+ The number is divisible by 3; and\n",
    "\n",
    "+ The number is not divisible by 5\n",
    "<br>\n",
    "\n",
    "The first few numbers are:\n",
    "\n",
    "```python\n",
    "3\n",
    "6\n",
    "9\n",
    "12\n",
    "18\n",
    "21\n",
    "24\n",
    "27\n",
    "33\n",
    "```\n",
    "\n",
    "[Optional] Following the example in Q8 Snippet 2, create a `list` of such numbers instead of just printing them out."
   ]
  },
  {
   "cell_type": "code",
   "execution_count": null,
   "metadata": {
    "collapsed": true,
    "deletable": false,
    "nbgrader": {
     "checksum": "b6ea08b0da9c6b88b5b99989779a3962",
     "grade": true,
     "grade_id": "q9",
     "locked": false,
     "points": 10,
     "solution": true
    }
   },
   "outputs": [],
   "source": [
    "# YOUR CODE HERE\n",
    "raise NotImplementedError()"
   ]
  }
 ],
 "metadata": {
  "anaconda-cloud": {},
  "kernelspec": {
   "display_name": "Python [default]",
   "language": "python",
   "name": "python3"
  },
  "language_info": {
   "codemirror_mode": {
    "name": "ipython",
    "version": 3
   },
   "file_extension": ".py",
   "mimetype": "text/x-python",
   "name": "python",
   "nbconvert_exporter": "python",
   "pygments_lexer": "ipython3",
   "version": "3.5.2"
  }
 },
 "nbformat": 4,
 "nbformat_minor": 0
}
