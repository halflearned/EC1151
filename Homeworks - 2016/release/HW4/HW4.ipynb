{
 "cells": [
  {
   "cell_type": "markdown",
   "metadata": {
    "run_control": {
     "frozen": false,
     "read_only": false
    }
   },
   "source": [
    "**Student name and BC username**"
   ]
  },
  {
   "cell_type": "markdown",
   "metadata": {},
   "source": [
    "NAME HERE"
   ]
  },
  {
   "cell_type": "markdown",
   "metadata": {},
   "source": [
    "BC USERNAME HERE"
   ]
  },
  {
   "cell_type": "markdown",
   "metadata": {},
   "source": [
    "**Collaborators names and BC usernames (max 2 collaborators)**"
   ]
  },
  {
   "cell_type": "markdown",
   "metadata": {},
   "source": [
    "+ NAME 1 \n",
    "\n",
    "+ NAME 2"
   ]
  },
  {
   "cell_type": "markdown",
   "metadata": {},
   "source": [
    "# <font face = \"times\"><center>  EC1151 - Homework 4 - Bayes Theorem - Due Feb 20th"
   ]
  },
  {
   "cell_type": "markdown",
   "metadata": {},
   "source": [
    "<font face=\"times\">\n",
    "# Instructions\n",
    "<br>\n",
    "\n",
    "+ You must fill out this Jupyter notebook and return it by e-mail to baisihad@bc.edu\n",
    "\n",
    "+ Double click on the cells to edit them\n",
    "\n",
    "+ For questions that need mathematical notation, try to use $\\LaTeX$ if you can.\n",
    "\n",
    "+ If you're stuck, try posting a question in the Piazza forum. Active contributors will be rewarded."
   ]
  },
  {
   "cell_type": "markdown",
   "metadata": {},
   "source": [
    "# <font face = \"times\">Theory (80 points)"
   ]
  },
  {
   "cell_type": "markdown",
   "metadata": {},
   "source": [
    "<font face=\"times\">\n",
    "<b>Q1)</b> Redo the Zombie Cooties problem we solved in class, but now with these parameters:\n",
    "\n",
    "+ Prevalence of disease: $1$ in $500$ people\n",
    "+ Probability of positive test when infected: $0.95$\n",
    "+ Probability of positive test when not infected: $0.05$\n",
    "\n",
    "<br>\n",
    "What is the probability of being infected given a positive test result?\n",
    "\n",
    "<b>Note</b> If you understood everything in the Bayes theorem module, you should be able to solve this problem using a tree, using a Venn diagram and also by just manipulating formulas."
   ]
  },
  {
   "cell_type": "markdown",
   "metadata": {
    "deletable": false,
    "nbgrader": {
     "checksum": "d149d0b72835793fb92ba0085d19b27e",
     "grade": true,
     "grade_id": "q1",
     "locked": false,
     "points": 10,
     "solution": true
    }
   },
   "source": [
    "YOUR ANSWER HERE"
   ]
  },
  {
   "cell_type": "markdown",
   "metadata": {},
   "source": [
    "<font face=\"times\">\n",
    "\n",
    "<b>Q2)</b> Many spam filters look at expressions that commonly appear in spam. Suppose that 80% of email in your inbox is spam. In 10% of spam, the expression \"extra cash\" appears. However, the expression \"extra cash\" also appears in 1% of non-spam mail. \n",
    "\n",
    "A new email has just arrived, and it does contain the expression \"extra cash\". \n",
    "\n",
    "<ol type=\"a\">\n",
    "\n",
    "<li> What is $P(\\text{spam})$?\n",
    "\n",
    "<li>What is $P(\\text{\"extra cash\"} \\cap \\text{spam})$?\n",
    "\n",
    "<li> What is $P($\"extra cash\" | spam)?\n",
    "\n",
    "<li> What is $P($spam $\\ |\\ $\"extra cash\")?\n",
    "\n",
    "</ol>"
   ]
  },
  {
   "cell_type": "markdown",
   "metadata": {
    "deletable": false,
    "nbgrader": {
     "checksum": "f351ea50107ac404f96c2e4bae26ee12",
     "grade": true,
     "grade_id": "q2",
     "locked": false,
     "points": 10,
     "solution": true
    }
   },
   "source": [
    "YOUR ANSWER HERE"
   ]
  },
  {
   "cell_type": "markdown",
   "metadata": {},
   "source": [
    "<font face=\"times\">\n",
    "<b>Q3)</b> Same setup as HW3Q5, but now the question is inverted.\n",
    "\n",
    "Suppose that a bag contains 20 coins: 10 are fair, and 10 are double-headed.  A coin is chosen at random from the bag, tossed, and it lands Heads. \n",
    "\n",
    "What is the probability that it was a fair coin?\n",
    "\n",
    "<b>Hint</b> What are the relevant events? In terms of these events, what are you looking for? It might also help to draw a Venn diagram, or a tree. Once you're done, relate all numbers you found to the formulas we learned in class."
   ]
  },
  {
   "cell_type": "markdown",
   "metadata": {
    "deletable": false,
    "nbgrader": {
     "checksum": "1c29359cea709669da2cad670b3d86cc",
     "grade": true,
     "grade_id": "q3",
     "locked": false,
     "points": 10,
     "solution": true
    }
   },
   "source": [
    "YOUR ANSWER HERE"
   ]
  },
  {
   "cell_type": "markdown",
   "metadata": {},
   "source": [
    "<font face=\"times\">\n",
    "\n",
    "<b>Q4)</b> Men who smoke are 26 times more likely to develop lung cancer than men who don't smoke. In the US, 21.6% of men smoke. What is the probability that a man in the US is a smoker, given that he develops lung cancer?\n",
    "\n",
    "<b>Hint</b> Always start with events\n",
    "\n",
    "$A$: Person develops cancer\n",
    "\n",
    "$B$: Person smokes\n",
    "\n",
    "Then the setup above can be translated as $P(A|B) = 26\\cdot P(A|B^c)$."
   ]
  },
  {
   "cell_type": "markdown",
   "metadata": {
    "deletable": false,
    "nbgrader": {
     "checksum": "1d283ca9b71eb68e02c8d74f86d26989",
     "grade": true,
     "grade_id": "q4",
     "locked": false,
     "points": 10,
     "solution": true
    }
   },
   "source": [
    "YOUR ANSWER HERE"
   ]
  },
  {
   "cell_type": "markdown",
   "metadata": {},
   "source": [
    "<font face=\"times\">\n",
    "**Q5)** Three companies manufacture cell phones: $A$, $B$ and $C$. Due do increasing competitiveness, all three companies have released defective cell phones that explode with certain positive probability. One in every 100 phones manufactured by $A$ explodes, and one in every 1000 phones manufactured by $B$ explodes, but only one in every million $C$ phones explodes. The market share of each company is the same, so $P(A) = P(B) = P(C) = \\frac{1}{3}$.\n",
    "\n",
    "Your friend tell you her phone just exploded. What are the probabilities that the phone was manufactured by $A$, $B$ and $C$? (Your answer should be three numbers)"
   ]
  },
  {
   "cell_type": "markdown",
   "metadata": {
    "deletable": false,
    "nbgrader": {
     "checksum": "eff19771316dd60d1cb4fff405f0ef86",
     "grade": true,
     "grade_id": "q5",
     "locked": false,
     "points": 15,
     "solution": true
    }
   },
   "source": [
    "YOUR ANSWER HERE"
   ]
  },
  {
   "cell_type": "markdown",
   "metadata": {},
   "source": [
    "<font face=\"times\">\n",
    "**Q6)** Alice is trying to communicate with Bob by sending a message encoded in binary. However, the communication system is slightly defective. Suppose that in Alice's message 0s and 1s happen with equal probability. \n",
    "\n",
    "Whenever Alice tries to send a 0, there's a 5% chance that Bob actually receives a 1. \n",
    "\n",
    "Whenever Alice tries to send a 1, there's a 10% chance that Bob actually receives a 0.\n",
    "\n",
    "Suppose Bob receives a 1. What is the probability that Alice really sent a 1?"
   ]
  },
  {
   "cell_type": "markdown",
   "metadata": {
    "deletable": false,
    "nbgrader": {
     "checksum": "ceee1f7cca08e3e1442116d48443160e",
     "grade": true,
     "grade_id": "q6",
     "locked": false,
     "points": 10,
     "solution": true
    }
   },
   "source": [
    "YOUR ANSWER HERE"
   ]
  },
  {
   "cell_type": "markdown",
   "metadata": {},
   "source": [
    "<font face=\"times\">\n",
    "<b>Q7)</b> A crime is committed by one of two suspects, $A$ and $B$. Initially, there is equal evidence against both of them. In further investigation at the crime scene, it is found that the guilty party had a blood type found in 10% of the population. Suspect A does match this blood type, whereas the blood type of Suspect B is unknown.\n",
    "\n",
    "a) Given this new information, what is the probability that A is the guilty party?\n",
    "\n",
    "b) Given this new information, what is the probability that B’s blood type matches\n",
    "that found at the crime scene?"
   ]
  },
  {
   "cell_type": "markdown",
   "metadata": {
    "deletable": false,
    "nbgrader": {
     "checksum": "6e29ca7a25e62f12d2b86b6b8ed44a20",
     "grade": true,
     "grade_id": "q7",
     "locked": false,
     "points": 15,
     "solution": true
    }
   },
   "source": [
    "YOUR ANSWER HERE"
   ]
  },
  {
   "cell_type": "markdown",
   "metadata": {},
   "source": [
    "<hr>"
   ]
  },
  {
   "cell_type": "markdown",
   "metadata": {},
   "source": [
    "<font face=\"times\">\n",
    "# Programming practice: more `list`s and `for loop`s (20 points)\n"
   ]
  },
  {
   "cell_type": "markdown",
   "metadata": {},
   "source": [
    "<font face=\"times\">\n",
    "<b>Q8)</b> Create a list with the names of the 12 months. Then use a `for` loop to print out\n",
    "\n",
    "```\n",
    "My favorite month is January\n",
    "My favorite month is February\n",
    "My favorite month is March\n",
    "My favorite month is April\n",
    "My favorite month is May\n",
    "My favorite month is June\n",
    "My favorite month is July\n",
    "My favorite month is August\n",
    "My favorite month is September\n",
    "My favorite month is October\n",
    "My favorite month is November\n",
    "My favorite month is December\n",
    "```"
   ]
  },
  {
   "cell_type": "code",
   "execution_count": null,
   "metadata": {
    "collapsed": false,
    "deletable": false,
    "nbgrader": {
     "checksum": "ba55cda6ca1118faa13d0d8a20d08063",
     "grade": true,
     "grade_id": "q8",
     "locked": false,
     "points": 5,
     "solution": true
    }
   },
   "outputs": [],
   "source": [
    "# YOUR CODE HERE\n",
    "raise NotImplementedError()"
   ]
  },
  {
   "cell_type": "markdown",
   "metadata": {},
   "source": [
    "<font face=\"times\">\n",
    "<b>Q9)</b> [Open-ended] What does each line in the code below do? What is the expected output? Explain in English.\n",
    "\n",
    "```\n",
    "total = 0\n",
    "for x in range(1, 11):\n",
    "    total = total + x\n",
    "    print(\"Total: \" + str(total))\n",
    "```"
   ]
  },
  {
   "cell_type": "markdown",
   "metadata": {
    "deletable": false,
    "nbgrader": {
     "checksum": "c4f972ddd36260ebacf6f33f524bfc0e",
     "grade": true,
     "grade_id": "q9",
     "locked": false,
     "points": 5,
     "solution": true
    }
   },
   "source": [
    "YOUR ANSWER HERE"
   ]
  },
  {
   "cell_type": "markdown",
   "metadata": {},
   "source": [
    "<font face=\"times\">\n",
    "<b>Q10)</b> Modify the code above to sucessively prints out factorials (i.e., cumulative products) instead of cumulative sums. \n",
    "\n",
    "The expected output is this.\n",
    "\n",
    "```\n",
    "Factorial: 1\n",
    "Factorial: 2\n",
    "Factorial: 6\n",
    "Factorial: 24\n",
    "Factorial: 120\n",
    "Factorial: 720\n",
    "Factorial: 5040\n",
    "Factorial: 40320\n",
    "Factorial: 362880\n",
    "```\n",
    "\n",
    "By the way, remember that `range` function start at zero by default, so range(5) is the same as `[0,1,2,3,4]`. \n",
    "\n",
    "If what you want is `[1,2,3,4]`, then use `range(1,5)`."
   ]
  },
  {
   "cell_type": "code",
   "execution_count": null,
   "metadata": {
    "collapsed": true,
    "deletable": false,
    "nbgrader": {
     "checksum": "63c312a4d2ee6a8aca63368f258fb906",
     "grade": true,
     "grade_id": "q10",
     "locked": false,
     "points": 10,
     "solution": true
    }
   },
   "outputs": [],
   "source": [
    "# YOUR CODE HERE\n",
    "raise NotImplementedError()"
   ]
  }
 ],
 "metadata": {
  "anaconda-cloud": {},
  "kernelspec": {
   "display_name": "Python [default]",
   "language": "python",
   "name": "python3"
  },
  "language_info": {
   "codemirror_mode": {
    "name": "ipython",
    "version": 3
   },
   "file_extension": ".py",
   "mimetype": "text/x-python",
   "name": "python",
   "nbconvert_exporter": "python",
   "pygments_lexer": "ipython3",
   "version": "3.5.2"
  }
 },
 "nbformat": 4,
 "nbformat_minor": 0
}
