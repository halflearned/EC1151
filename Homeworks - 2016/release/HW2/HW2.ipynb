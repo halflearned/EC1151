{
 "cells": [
  {
   "cell_type": "markdown",
   "metadata": {
    "run_control": {
     "frozen": false,
     "read_only": false
    }
   },
   "source": [
    "**Student names and BC usernames**"
   ]
  },
  {
   "cell_type": "markdown",
   "metadata": {},
   "source": [
    "NAMES AND USERNAMES HERE"
   ]
  },
  {
   "cell_type": "markdown",
   "metadata": {},
   "source": [
    "# <font face = \"times\"><center>  EC1151 - Homework 2 - Modern Probability - Due Feb 6th"
   ]
  },
  {
   "cell_type": "markdown",
   "metadata": {},
   "source": [
    "<font face=\"times\">\n",
    "# Instructions\n",
    "<br>\n",
    "\n",
    "+ You must fill out this Jupyter notebook and return it by e-mail to baisihad@bc.edu\n",
    "\n",
    "+ Double click on the cells to edit them\n",
    "\n",
    "+ For questions that need mathematical notation, try to use $\\LaTeX$ if you can.\n",
    "\n",
    "+ Sometimes, below a question that requires an answer there will be a cell with several `assert` statements. If you can run that cell without generating error, your answer has been validated and you are guaranteed the points.\n",
    "\n",
    "+ If you're stuck, try posting a question in the Piazza forum. Active contributors will be rewarded."
   ]
  },
  {
   "cell_type": "markdown",
   "metadata": {},
   "source": [
    "# <font face = \"times\">Theory (60 points)"
   ]
  },
  {
   "cell_type": "markdown",
   "metadata": {},
   "source": [
    "<font face=\"times\">\n",
    "\n",
    "<b>Q1)</b> Using set notation, describe the shaded areas in the Venn diagrams. \n",
    "\n",
    "<img src=\"venns.png\", width = 500> \n",
    "\n",
    "<b>Example answer</b> (a) is $B \\cup C$\n",
    "\n",
    "[If you want to use \\LaTeX: $\\cup$ is \"\\cup\", \"$\\cap$\" is \"\\cap\", $\\emptyset$ is \\emptyset. Remember to enclose \\LaTeX in dollar signs.]"
   ]
  },
  {
   "cell_type": "markdown",
   "metadata": {
    "deletable": false,
    "nbgrader": {
     "checksum": "d149d0b72835793fb92ba0085d19b27e",
     "grade": true,
     "grade_id": "q1",
     "locked": false,
     "points": 10,
     "solution": true
    }
   },
   "source": [
    "YOUR ANSWER HERE"
   ]
  },
  {
   "cell_type": "markdown",
   "metadata": {},
   "source": [
    "<font face=\"times\">\n",
    "<b>Q2)</b> For this question, let $S=\\{a,b,c,d,e\\}$  be the sample space, and let $A = \\{b,d\\}$ and $B = \\{a,b,c\\}$ be events in it. In terms of $a,b,c,d,e$, what are:\n",
    "\n",
    "EXAMPLE:  \n",
    "\n",
    "ANSWER: \n",
    "\n",
    "<ol type=\"a\">\n",
    "<li> $A^{c}$\n",
    "<li> $A\\backslash B$\n",
    "<li> $S^c$\n",
    "<li> $\\emptyset^c$\n",
    "<li> $A \\cup A^c$\n",
    "<li> $S \\cap A$\n",
    "</ol>\n",
    "\n",
    "<b>Example answer</b> 1. $A^c = S \\backslash A = \\{a,c,e\\}$"
   ]
  },
  {
   "cell_type": "markdown",
   "metadata": {
    "deletable": false,
    "nbgrader": {
     "checksum": "d35c04585ce8d39116592ab707f85272",
     "grade": true,
     "grade_id": "q2",
     "locked": false,
     "points": 20,
     "solution": true
    }
   },
   "source": [
    "YOUR ANSWER HERE"
   ]
  },
  {
   "cell_type": "markdown",
   "metadata": {},
   "source": [
    "<font face=\"times\">\n",
    "<b>Q3)</b> We roll two dice, a white and a black one, and wish compute the probability of certain events. \n",
    "\n",
    "--- \n",
    "PRO TIP: Although this example is easy enough that you can just look at the picture and figure out the answer, try to make your argument as formal as possible, by defining the relevant events and stating with properties of the probability function you are using.<br><br>\n",
    "\n",
    "EXAMPLE QUESTION: <i>\"At least one <font size=5>&#9861;</font>\"</i><br>\n",
    "\n",
    "EXAMPLE ANSWER: <i>\n",
    "\n",
    "Relevant events are: \n",
    "<ul>\n",
    "<li>A: White die rolls <font size=5>&#9861;</font>\n",
    "<li>B: Black die rolls <font size=5>&#9861;</font>\n",
    "</ul><br>\n",
    "We're looking for the 'probability of $A$ OR $B$', that is, $P(A\\cup B)$. \n",
    "\n",
    "Using the Addition Rule,\n",
    "\n",
    "$$P(A \\cup B) = P(A) + P(B) - P(A \\cap B)$$\n",
    "\n",
    "Computing each of separately, we get\n",
    "\n",
    "$P(A) = \\frac{1}{6}$\n",
    "\n",
    "$P(B) = \\frac{1}{6}$\n",
    "\n",
    "$P(A\\cap B) = \\frac{1}{36}$\n",
    "\n",
    "Therefore, the answer is $P(A \\cup B) = \\frac{11}{36}$.</i>\n",
    "\n",
    "----\n",
    "\n",
    "I know this looks pedantic right now, but these skills will be useful for problems whose solutions you can't immediately visualize."
   ]
  },
  {
   "cell_type": "markdown",
   "metadata": {},
   "source": [
    "<font face=\"times\"><b>a)</b> \"No die rolls a <font size=5>&#9861;</font>\""
   ]
  },
  {
   "cell_type": "markdown",
   "metadata": {
    "deletable": false,
    "nbgrader": {
     "checksum": "238e4f0cb4fcd74c8d6d2e0a01a3aa55",
     "grade": true,
     "grade_id": "q3a",
     "locked": false,
     "points": 4,
     "solution": true
    }
   },
   "source": [
    "YOUR ANSWER HERE"
   ]
  },
  {
   "cell_type": "markdown",
   "metadata": {},
   "source": [
    "<font face=\"times\"><b>b)</b> \"The pips sum to $4$\""
   ]
  },
  {
   "cell_type": "markdown",
   "metadata": {
    "collapsed": true,
    "deletable": false,
    "nbgrader": {
     "checksum": "6c6fec6f828b890abe9711cdaaff2fb2",
     "grade": true,
     "grade_id": "q3b",
     "locked": false,
     "points": 4,
     "solution": true
    },
    "run_control": {
     "frozen": false,
     "read_only": false
    }
   },
   "source": [
    "YOUR ANSWER HERE"
   ]
  },
  {
   "cell_type": "markdown",
   "metadata": {},
   "source": [
    "<font face=\"times\"><b>c)</b> \"The sum of the pips is 7\" AND \"At least one die is <font size=5>&#9860;</font>\""
   ]
  },
  {
   "cell_type": "markdown",
   "metadata": {
    "deletable": false,
    "nbgrader": {
     "checksum": "5e1724b042d304feaadf8018ae200467",
     "grade": true,
     "grade_id": "q3c",
     "locked": false,
     "points": 4,
     "solution": true
    }
   },
   "source": [
    "YOUR ANSWER HERE"
   ]
  },
  {
   "cell_type": "markdown",
   "metadata": {},
   "source": [
    "<font face=\"times\"><b>d)</b> At least one die is a <font size=5>&#9860;</font> but no die is <font size=5>&#9858;</font>."
   ]
  },
  {
   "cell_type": "code",
   "execution_count": 34,
   "metadata": {
    "collapsed": false
   },
   "outputs": [
    {
     "name": "stdout",
     "output_type": "stream",
     "text": [
      "[('&#9856;', '&#9860;'), ('&#9857;', '&#9860;'), ('&#9858;', '&#9860;'), ('&#9859;', '&#9860;'), ('&#9860;', '&#9856;'), ('&#9860;', '&#9857;'), ('&#9860;', '&#9858;'), ('&#9860;', '&#9859;'), ('&#9860;', '&#9860;'), ('&#9860;', '&#9861;'), ('&#9861;', '&#9860;')]\n"
     ]
    },
    {
     "data": {
      "text/plain": [
       "(None, 11)"
      ]
     },
     "execution_count": 34,
     "metadata": {},
     "output_type": "execute_result"
    }
   ],
   "source": [
    "from itertools import product\n",
    "D = [\"&#98\" + str(i) + \";\" for i in range(56, 62)]\n",
    "P = list(product(D, D))\n",
    "Q = [(x,y) for x,y in P if (x == \"&#9860;\") or (y == \"&#9860;\")] #and ((x != \"&#9858\") and (y != \"&#9858\") )]\n",
    "print(Q), len(Q)"
   ]
  },
  {
   "cell_type": "code",
   "execution_count": 41,
   "metadata": {
    "collapsed": false
   },
   "outputs": [
    {
     "name": "stdout",
     "output_type": "stream",
     "text": [
      "[('&#9856;', '&#9856;'), ('&#9856;', '&#9857;'), ('&#9856;', '&#9859;'), ('&#9856;', '&#9860;'), ('&#9856;', '&#9861;'), ('&#9857;', '&#9856;'), ('&#9857;', '&#9857;'), ('&#9857;', '&#9859;'), ('&#9857;', '&#9860;'), ('&#9857;', '&#9861;'), ('&#9859;', '&#9856;'), ('&#9859;', '&#9857;'), ('&#9859;', '&#9859;'), ('&#9859;', '&#9860;'), ('&#9859;', '&#9861;'), ('&#9860;', '&#9856;'), ('&#9860;', '&#9857;'), ('&#9860;', '&#9859;'), ('&#9860;', '&#9860;'), ('&#9860;', '&#9861;'), ('&#9861;', '&#9856;'), ('&#9861;', '&#9857;'), ('&#9861;', '&#9859;'), ('&#9861;', '&#9860;'), ('&#9861;', '&#9861;')]\n"
     ]
    }
   ],
   "source": [
    "Q2 = [(x,y) for x,y in P if (x != \"&#9858;\") and (y != \"&#9858;\")] \n",
    "print(Q2)"
   ]
  },
  {
   "cell_type": "code",
   "execution_count": 44,
   "metadata": {
    "collapsed": false
   },
   "outputs": [
    {
     "name": "stdout",
     "output_type": "stream",
     "text": [
      "[('&#9856;', '&#9860;'), ('&#9857;', '&#9860;'), ('&#9859;', '&#9860;'), ('&#9860;', '&#9856;'), ('&#9860;', '&#9857;'), ('&#9860;', '&#9859;'), ('&#9860;', '&#9860;'), ('&#9860;', '&#9861;'), ('&#9861;', '&#9860;')]\n"
     ]
    }
   ],
   "source": [
    "print([p for p in Q if p in Q2])"
   ]
  },
  {
   "cell_type": "code",
   "execution_count": 45,
   "metadata": {
    "collapsed": false
   },
   "outputs": [
    {
     "data": {
      "text/plain": [
       "9"
      ]
     },
     "execution_count": 45,
     "metadata": {},
     "output_type": "execute_result"
    }
   ],
   "source": [
    "len([('&#9856;', '&#9860;'), ('&#9857;', '&#9860;'), ('&#9859;', '&#9860;'), ('&#9860;', '&#9856;'), ('&#9860;', '&#9857;'), ('&#9860;', '&#9859;'), ('&#9860;', '&#9860;'), ('&#9860;', '&#9861;'), ('&#9861;', '&#9860;')])"
   ]
  },
  {
   "cell_type": "code",
   "execution_count": 46,
   "metadata": {
    "collapsed": false
   },
   "outputs": [
    {
     "data": {
      "text/plain": [
       "0.25"
      ]
     },
     "execution_count": 46,
     "metadata": {},
     "output_type": "execute_result"
    }
   ],
   "source": [
    "9/36"
   ]
  },
  {
   "cell_type": "markdown",
   "metadata": {
    "deletable": false,
    "nbgrader": {
     "checksum": "9eac9058276eb889a02e85b30d126f82",
     "grade": true,
     "grade_id": "q3d",
     "locked": false,
     "points": 4,
     "solution": true
    }
   },
   "source": [
    "YOUR ANSWER HERE"
   ]
  },
  {
   "cell_type": "markdown",
   "metadata": {},
   "source": [
    "<font face=\"times\">\n",
    "<b>Q4)</b> Using the properties of the probability function <i>prove</i>* this inequality:\n",
    "<font size=3>\n",
    "$$P(A \\cap B) \\geq P(A) + P(B) - 1$$\n",
    "</font>\n",
    "\n",
    "*By <i>prove</i>, I mean this. \"Using only what you know about the properties of the probability function, explain why this inequality must be true for <i>every</i> event $A$ and $B$\". Note that showing for one specific example is not enough. \n",
    "(Still don't know what to do? We can talk about it during the OH!)\n",
    "\n",
    "Hint: Start with the Addition Rule."
   ]
  },
  {
   "cell_type": "markdown",
   "metadata": {
    "deletable": false,
    "nbgrader": {
     "checksum": "0f6c605a699286fdc584d123ac28878f",
     "grade": true,
     "grade_id": "q4",
     "locked": false,
     "points": 14,
     "solution": true
    }
   },
   "source": [
    "YOUR ANSWER HERE"
   ]
  },
  {
   "cell_type": "markdown",
   "metadata": {},
   "source": [
    "----"
   ]
  },
  {
   "cell_type": "markdown",
   "metadata": {},
   "source": [
    "<font face=\"times\">\n",
    "# Programming Practice [40 points]"
   ]
  },
  {
   "cell_type": "markdown",
   "metadata": {},
   "source": [
    "<font face=\"times\">\n",
    "<b>Q5)</b> For each one of the expressions below, figure out the value and type of the variable in question. If the expression evaluates to an error, explain the error.\n",
    "\n",
    "```\n",
    "a = 5\n",
    "b = 5.0\n",
    "c = a + b\n",
    "d = 'Stats'\n",
    "e = \"I_love_\" * a\n",
    "f = \"Cake\" + b\n",
    "g = e + d\n",
    "h = b + float(\"5.0\")\n",
    "```\n",
    "\n",
    "<b>Example answer</b> `a` has value 5, and type `int`."
   ]
  },
  {
   "cell_type": "markdown",
   "metadata": {
    "deletable": false,
    "nbgrader": {
     "checksum": "331c06381ce3bacd5d53a06c9dd84b3b",
     "grade": true,
     "grade_id": "q5",
     "locked": false,
     "points": 5,
     "solution": true
    }
   },
   "source": [
    "YOUR ANSWER HERE"
   ]
  },
  {
   "cell_type": "markdown",
   "metadata": {},
   "source": [
    "<font face=\"times\">\n",
    "<b>Q6)</b> The snippet of code below has an error. Find it and then fix it.\n",
    "\n",
    "```python\n",
    "n = input(\"Please tell me your favorite number.\")\n",
    "msg1 = \"Got it. Your favorite number is \" + n\n",
    "print(msg1)\n",
    "msg2 = \"The square of your favorite number is \" + n**2\n",
    "print(msg2)\n",
    "```"
   ]
  },
  {
   "cell_type": "code",
   "execution_count": 48,
   "metadata": {
    "collapsed": false,
    "deletable": false,
    "nbgrader": {
     "checksum": "4cbc9273027aac027a2e5b37ae5968f8",
     "grade": true,
     "grade_id": "q6",
     "locked": false,
     "points": 10,
     "solution": true
    },
    "run_control": {
     "frozen": false,
     "read_only": false
    }
   },
   "outputs": [
    {
     "name": "stdout",
     "output_type": "stream",
     "text": [
      "Please tell me your favorite number.10\n",
      "Got it. Your favorite number is 10\n",
      "The square of your favorite number is 100.0\n"
     ]
    }
   ],
   "source": [
    "n = input(\"Please tell me your favorite number.\")\n",
    "msg1 = \"Got it. Your favorite number is \" + n\n",
    "print(msg1)\n",
    "msg2 = \"The square of your favorite number is \" + str(float(n)**2)\n",
    "print(msg2)"
   ]
  },
  {
   "cell_type": "code",
   "execution_count": 50,
   "metadata": {
    "collapsed": false
   },
   "outputs": [
    {
     "name": "stdout",
     "output_type": "stream",
     "text": [
      "Please tell me your favorite number.10\n",
      "Got it. Your favorite number is 10\n",
      "The square of your favorite number is 100.0\n"
     ]
    }
   ],
   "source": [
    "n = input(\"Please tell me your favorite number.\")\n",
    "msg1 = \"Got it. Your favorite number is \" + n_text\n",
    "print(msg1)\n",
    "n = float(n)  \n",
    "nsq = n ** 2\n",
    "nsq = str(nsq)\n",
    "msg2 = \"The square of your favorite number is \" + nsq\n",
    "print(msg2)"
   ]
  },
  {
   "cell_type": "markdown",
   "metadata": {},
   "source": [
    "<font face=\"times\">\n",
    "<b>Q7)</b>  The formula for computing the final amount if one is earning compound interest is given on Wikipedia as\n",
    "<font size=5>\n",
    "$$A = P\\cdot \\left(1 + \\frac{r}{n} \\right)^{nt}$$\n",
    "</font>\n",
    "where\n",
    "\n",
    "+ $P$ is the principal amount (initial investment)\n",
    "+ $r$ annual nominal interest rate\n",
    "+ $n$ number of times compounded in a year\n",
    "+ $t$ number of years\n",
    "\n",
    "Write a Python program that assigns the principal amount of \\$10000 to variable P, assign to n the value 12, and assign to r the interest rate of 8%. Then have the program prompt the user for the number of years t that the money will be compounded for. Calculate and print the final amount after t years."
   ]
  },
  {
   "cell_type": "markdown",
   "metadata": {
    "deletable": false,
    "nbgrader": {
     "checksum": "146876cfd6c219ef3566f42ab73020e5",
     "grade": true,
     "grade_id": "q7",
     "locked": false,
     "points": 10,
     "solution": true
    }
   },
   "source": [
    "YOUR ANSWER HERE"
   ]
  },
  {
   "cell_type": "markdown",
   "metadata": {},
   "source": [
    "<font face=\"times\">\n",
    "**Q8)** You look at the clock and it is exactly 2pm. You set an alarm to go off in 51 hours. Use Python to know at what time of the day the alarm will go off."
   ]
  },
  {
   "cell_type": "code",
   "execution_count": null,
   "metadata": {
    "collapsed": false,
    "deletable": false,
    "nbgrader": {
     "checksum": "ba55cda6ca1118faa13d0d8a20d08063",
     "grade": true,
     "grade_id": "q8",
     "locked": false,
     "points": 5,
     "solution": true
    },
    "run_control": {
     "frozen": false,
     "read_only": false
    }
   },
   "outputs": [],
   "source": [
    "# YOUR CODE HERE\n",
    "raise NotImplementedError()"
   ]
  },
  {
   "cell_type": "markdown",
   "metadata": {},
   "source": [
    "<font face=\"times\">\n",
    "**Q9)** Write a Python program to solve the general version of the above problem. Ask the user for the time now (in hours), and ask for the number of hours to wait. Your program should output what the time will be on the clock when the alarm goes off."
   ]
  },
  {
   "cell_type": "code",
   "execution_count": 51,
   "metadata": {
    "collapsed": false,
    "deletable": false,
    "nbgrader": {
     "checksum": "b6ea08b0da9c6b88b5b99989779a3962",
     "grade": true,
     "grade_id": "q9",
     "locked": false,
     "points": 10,
     "solution": true
    },
    "run_control": {
     "frozen": false,
     "read_only": false
    }
   },
   "outputs": [
    {
     "name": "stdout",
     "output_type": "stream",
     "text": [
      "Tell me the current hours (0-23): 14\n",
      "How many hours from now will the alarm go off?51\n",
      "The time will be 17\n"
     ]
    }
   ],
   "source": [
    "current_time = int(input(\"Tell me the current hours (0-23): \"))\n",
    "alarm_hours = int(input(\"How many hours from now will the alarm go off?\"))\n",
    "total_time = current_time + alarm_hours\n",
    "clock_time = total_time % 24\n",
    "print(\"The time will be \" + str(clock_time))"
   ]
  },
  {
   "cell_type": "code",
   "execution_count": 52,
   "metadata": {
    "collapsed": false
   },
   "outputs": [
    {
     "data": {
      "text/plain": [
       "65"
      ]
     },
     "execution_count": 52,
     "metadata": {},
     "output_type": "execute_result"
    }
   ],
   "source": [
    "14 + 51"
   ]
  },
  {
   "cell_type": "code",
   "execution_count": null,
   "metadata": {
    "collapsed": true
   },
   "outputs": [],
   "source": []
  }
 ],
 "metadata": {
  "anaconda-cloud": {},
  "kernelspec": {
   "display_name": "Python [default]",
   "language": "python",
   "name": "python3"
  },
  "language_info": {
   "codemirror_mode": {
    "name": "ipython",
    "version": 3
   },
   "file_extension": ".py",
   "mimetype": "text/x-python",
   "name": "python",
   "nbconvert_exporter": "python",
   "pygments_lexer": "ipython3",
   "version": "3.5.2"
  }
 },
 "nbformat": 4,
 "nbformat_minor": 0
}
