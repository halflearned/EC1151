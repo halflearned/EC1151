{
 "cells": [
  {
   "cell_type": "markdown",
   "metadata": {
    "run_control": {
     "frozen": false,
     "read_only": false
    }
   },
   "source": [
    "**Student names and BC usernames**"
   ]
  },
  {
   "cell_type": "markdown",
   "metadata": {},
   "source": [
    "NAMES AND USERNAMES HERE"
   ]
  },
  {
   "cell_type": "markdown",
   "metadata": {},
   "source": [
    "# <font face = \"times\"><center>  EC1151 - Homework 2 - Frequentist Probability"
   ]
  },
  {
   "cell_type": "markdown",
   "metadata": {},
   "source": [
    "<font face=\"times\">\n",
    "# Instructions\n",
    "<br>\n",
    "\n",
    "+ You must fill out this Jupyter notebook and return it by e-mail to baisihad@bc.edu\n",
    "\n",
    "+ Double click on the cells to edit them\n",
    "\n",
    "+ For questions that need mathematical notation, try to use $\\LaTeX$ if you can.\n",
    "\n",
    "+ Sometimes, below a question that requires an answer there will be a cell with several `assert` statements. If you can run that cell without generating error, your answer has been validated and you are guaranteed the points.\n",
    "\n",
    "+ If you're stuck, try posting a question in the Piazza forum. Active contributors will be rewarded."
   ]
  },
  {
   "cell_type": "markdown",
   "metadata": {},
   "source": [
    "# <font face = \"times\">Theory (60 points)"
   ]
  },
  {
   "cell_type": "markdown",
   "metadata": {},
   "source": [
    "<font face=\"times\">\n",
    "\n",
    "<b>Q1)</b> Using set notation, describe the shaded areas in the Venn diagrams. \n",
    "\n",
    "<img src=\"venns.png\", width = 500> \n",
    "\n",
    "<b>Example answer</b> (a) is $B \\cup C$\n",
    "\n",
    "[If you want to use \\LaTeX: $\\cup$ is \"\\cup\", \"$\\cap$\" is \"\\cap\", $\\emptyset$ is \\emptyset. Remember to enclose \\LaTeX in dollar signs.]"
   ]
  },
  {
   "cell_type": "markdown",
   "metadata": {
    "nbgrader": {
     "grade": true,
     "grade_id": "q1",
     "locked": false,
     "points": 10,
     "solution": true
    }
   },
   "source": []
  },
  {
   "cell_type": "markdown",
   "metadata": {},
   "source": [
    "<font face=\"times\">\n",
    "<b>Q2)</b> For this question, let $S=\\{a,b,c,d,e\\}$  be the sample space, and let $A = \\{b,d\\}$ and $B = \\{a,b,c\\}$ be events in it. In terms of $a,b,c,d,e$, what are:\n",
    "\n",
    "EXAMPLE:  \n",
    "\n",
    "ANSWER: \n",
    "\n",
    "<ol type=\"a\">\n",
    "<li> $A^{c}$\n",
    "<li> $A\\backslash B$\n",
    "<li> $S^c$\n",
    "<li> $\\emptyset^c$\n",
    "<li> $A \\cup A^c$\n",
    "<li> $S \\cap A$\n",
    "</ol>\n",
    "\n",
    "<b>Example answer</b> 1. $A^c = S \\backslash A = \\{a,c,e\\}$"
   ]
  },
  {
   "cell_type": "markdown",
   "metadata": {
    "nbgrader": {
     "grade": true,
     "grade_id": "q2",
     "locked": false,
     "points": 20,
     "solution": true
    }
   },
   "source": []
  },
  {
   "cell_type": "markdown",
   "metadata": {},
   "source": [
    "<font face=\"times\">\n",
    "<b>Q3)</b> We roll two dice, a white and a black one, and wish compute the probability of certain events. \n",
    "\n",
    "--- \n",
    "PRO TIP: Although this example is easy enough that you can just look at the picture and figure out the answer, try to make your argument as formal as possible, by defining the relevant events and stating with properties of the probability function you are using.<br><br>\n",
    "\n",
    "EXAMPLE QUESTION: <i>\"At least one <font size=5>&#9861;</font>\"</i><br>\n",
    "\n",
    "EXAMPLE ANSWER: <i>\n",
    "\n",
    "Relevant events are: \n",
    "<ul>\n",
    "<li>A: White die rolls <font size=5>&#9861;</font>\n",
    "<li>B: Black die rolls <font size=5>&#9861;</font>\n",
    "</ul><br>\n",
    "We're looking for the 'probability of $A$ OR $B$', that is, $P(A\\cup B)$. \n",
    "\n",
    "Using the Addition Rule,\n",
    "\n",
    "$$P(A \\cup B) = P(A) + P(B) - P(A \\cap B)$$\n",
    "\n",
    "Computing each of separately, we get\n",
    "\n",
    "$P(A) = \\frac{1}{6}$\n",
    "\n",
    "$P(B) = \\frac{1}{6}$\n",
    "\n",
    "$P(A\\cap B) = \\frac{1}{36}$\n",
    "\n",
    "Therefore, the answer is $P(A \\cup B) = \\frac{11}{36}$.</i>\n",
    "\n",
    "----\n",
    "\n",
    "I know this looks pedantic right now, but these skills will be useful for problems whose solutions you can't immediately visualize."
   ]
  },
  {
   "cell_type": "markdown",
   "metadata": {},
   "source": [
    "<font face=\"times\"><b>a)</b> \"No die rolls a <font size=5>&#9861;</font>\""
   ]
  },
  {
   "cell_type": "markdown",
   "metadata": {
    "nbgrader": {
     "grade": true,
     "grade_id": "q3a",
     "locked": false,
     "points": 4,
     "solution": true
    }
   },
   "source": []
  },
  {
   "cell_type": "markdown",
   "metadata": {},
   "source": [
    "<font face=\"times\"><b>b)</b> \"The pips sum to $4$\""
   ]
  },
  {
   "cell_type": "markdown",
   "metadata": {
    "collapsed": true,
    "nbgrader": {
     "grade": true,
     "grade_id": "q3b",
     "locked": false,
     "points": 4,
     "solution": true
    },
    "run_control": {
     "frozen": false,
     "read_only": false
    }
   },
   "source": []
  },
  {
   "cell_type": "markdown",
   "metadata": {},
   "source": [
    "<font face=\"times\"><b>c)</b> \"The sum of the pips is 7\" AND \"At least one die is <font size=5>&#9860;</font>\""
   ]
  },
  {
   "cell_type": "markdown",
   "metadata": {
    "nbgrader": {
     "grade": true,
     "grade_id": "q3c",
     "locked": false,
     "points": 4,
     "solution": true
    }
   },
   "source": []
  },
  {
   "cell_type": "markdown",
   "metadata": {},
   "source": [
    "<font face=\"times\"><b>d)</b> At least one die is a <font size=5>&#9860;</font> but no die is <font size=5>&#9858;</font>."
   ]
  },
  {
   "cell_type": "markdown",
   "metadata": {
    "nbgrader": {
     "grade": true,
     "grade_id": "q3d",
     "locked": false,
     "points": 4,
     "solution": true
    }
   },
   "source": []
  },
  {
   "cell_type": "markdown",
   "metadata": {},
   "source": [
    "<font face=\"times\">\n",
    "<b>Q4)</b> Using the properties of the probability function <i>prove</i>* this inequality:\n",
    "<font size=3>\n",
    "$$P(A \\cap B) \\geq P(A) + P(B) - 1$$\n",
    "</font>\n",
    "\n",
    "*By <i>prove</i>, I mean this. \"Using only what you know about the properties of the probability function, explain why this inequality must be true for <i>every</i> event $A$ and $B$\". Note that showing for one specific example is not enough. \n",
    "(Still don't know what to do? We can talk about it during the OH!)\n",
    "\n",
    "Hint: Start with the Addition Rule."
   ]
  },
  {
   "cell_type": "markdown",
   "metadata": {
    "nbgrader": {
     "grade": true,
     "grade_id": "q4",
     "locked": false,
     "points": 14,
     "solution": true
    }
   },
   "source": []
  },
  {
   "cell_type": "markdown",
   "metadata": {},
   "source": [
    "----"
   ]
  },
  {
   "cell_type": "markdown",
   "metadata": {},
   "source": [
    "<font face=\"times\">\n",
    "# Programming Practice [40 points]"
   ]
  },
  {
   "cell_type": "markdown",
   "metadata": {},
   "source": [
    "<font face=\"times\">\n",
    "<b>Q5)</b> For each one of the expressions below, figure out the value and type of the variable in question. If the expression evaluates to an error, explain the error.\n",
    "\n",
    "```\n",
    "a = 5\n",
    "b = 5.0\n",
    "c = a + b\n",
    "d = 'Stats'\n",
    "e = \"I_love_\" * a\n",
    "f = \"Cake\" + b\n",
    "g = e + d\n",
    "h = b + float(\"5.0\")\n",
    "```\n",
    "\n",
    "<b>Example answer</b> `a` has value 5, and type `int`."
   ]
  },
  {
   "cell_type": "markdown",
   "metadata": {
    "nbgrader": {
     "grade": true,
     "grade_id": "q5",
     "locked": false,
     "points": 5,
     "solution": true
    }
   },
   "source": []
  },
  {
   "cell_type": "markdown",
   "metadata": {},
   "source": [
    "<font face=\"times\">\n",
    "<b>Q6)</b> The snippet of code below has an error. Find it and then fix it.\n",
    "\n",
    "```python\n",
    "n = input(\"Please tell me your favorite number.\")\n",
    "msg1 = \"Got it. Your favorite number is \" + n\n",
    "print(msg1)\n",
    "msg2 = \"The square of your favorite number is \" + n**2\n",
    "print(msg2)\n",
    "```"
   ]
  },
  {
   "cell_type": "code",
   "execution_count": null,
   "metadata": {
    "collapsed": true,
    "nbgrader": {
     "grade": true,
     "grade_id": "q6",
     "locked": false,
     "points": 10,
     "solution": true
    },
    "run_control": {
     "frozen": false,
     "read_only": false
    }
   },
   "outputs": [],
   "source": []
  },
  {
   "cell_type": "markdown",
   "metadata": {},
   "source": [
    "<font face=\"times\">\n",
    "<b>Q7)</b>  The formula for computing the final amount if one is earning compound interest is given on Wikipedia as\n",
    "<font size=5>\n",
    "$$A = P\\cdot \\left(1 + \\frac{r}{n} \\right)^{nt}$$\n",
    "</font>\n",
    "where\n",
    "\n",
    "+ $P$ is the principal amount (initial investment)\n",
    "+ $r$ annual nominal interest rate\n",
    "+ $n$ number of times compounded in a year\n",
    "+ $t$ number of years\n",
    "\n",
    "Write a Python program that assigns the principal amount of \\$10000 to variable P, assign to n the value 12, and assign to r the interest rate of 8%. Then have the program prompt the user for the number of years t that the money will be compounded for. Calculate and print the final amount after t years."
   ]
  },
  {
   "cell_type": "markdown",
   "metadata": {
    "nbgrader": {
     "grade": true,
     "grade_id": "q7",
     "locked": false,
     "points": 10,
     "solution": true
    }
   },
   "source": []
  },
  {
   "cell_type": "markdown",
   "metadata": {},
   "source": [
    "<font face=\"times\">\n",
    "**Q8)** You look at the clock and it is exactly 2pm. You set an alarm to go off in 51 hours. Use Python to know at what time of the day the alarm will go off."
   ]
  },
  {
   "cell_type": "code",
   "execution_count": null,
   "metadata": {
    "collapsed": false,
    "nbgrader": {
     "grade": true,
     "grade_id": "q8",
     "locked": false,
     "points": 5,
     "solution": true
    },
    "run_control": {
     "frozen": false,
     "read_only": false
    }
   },
   "outputs": [],
   "source": []
  },
  {
   "cell_type": "markdown",
   "metadata": {},
   "source": [
    "<font face=\"times\">\n",
    "**Q9)** Write a Python program to solve the general version of the above problem. Ask the user for the time now (in hours), and ask for the number of hours to wait. Your program should output what the time will be on the clock when the alarm goes off."
   ]
  },
  {
   "cell_type": "code",
   "execution_count": null,
   "metadata": {
    "collapsed": true,
    "nbgrader": {
     "grade": true,
     "grade_id": "q9",
     "locked": false,
     "points": 10,
     "solution": true
    },
    "run_control": {
     "frozen": false,
     "read_only": false
    }
   },
   "outputs": [],
   "source": []
  }
 ],
 "metadata": {
  "anaconda-cloud": {},
  "celltoolbar": "Create Assignment",
  "kernelspec": {
   "display_name": "Python [default]",
   "language": "python",
   "name": "python3"
  },
  "language_info": {
   "codemirror_mode": {
    "name": "ipython",
    "version": 3
   },
   "file_extension": ".py",
   "mimetype": "text/x-python",
   "name": "python",
   "nbconvert_exporter": "python",
   "pygments_lexer": "ipython3",
   "version": "3.5.2"
  }
 },
 "nbformat": 4,
 "nbformat_minor": 0
}
