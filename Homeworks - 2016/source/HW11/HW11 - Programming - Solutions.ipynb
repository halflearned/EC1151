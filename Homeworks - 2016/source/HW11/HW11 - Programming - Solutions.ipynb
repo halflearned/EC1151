{
 "cells": [
  {
   "cell_type": "markdown",
   "metadata": {},
   "source": [
    "<b>Student names</b>"
   ]
  },
  {
   "cell_type": "markdown",
   "metadata": {},
   "source": [
    "<font color=\"orange\">Don't forget to write your names here</font>"
   ]
  },
  {
   "cell_type": "markdown",
   "metadata": {
    "run_control": {
     "frozen": false,
     "read_only": false
    }
   },
   "source": [
    "# <center> HW11 - Programming - Due April 26th, Wed"
   ]
  },
  {
   "cell_type": "markdown",
   "metadata": {},
   "source": [
    "I'll import everything for you, this time :)"
   ]
  },
  {
   "cell_type": "code",
   "execution_count": 1,
   "metadata": {
    "collapsed": true,
    "run_control": {
     "frozen": false,
     "read_only": false
    }
   },
   "outputs": [],
   "source": [
    "import numpy as np\n",
    "import scipy.stats as ss\n",
    "import matplotlib.pyplot as plt\n",
    "%matplotlib inline"
   ]
  },
  {
   "cell_type": "markdown",
   "metadata": {},
   "source": [
    "## Our $\\mu_{MOM}$ and the t-distribution\n",
    "\n",
    "<font size=1>This question is sponsored by <a href=\"https://en.wikipedia.org/wiki/William_Sealy_Gosset\">Guinness</a> 🍺</font>"
   ]
  },
  {
   "cell_type": "markdown",
   "metadata": {},
   "source": [
    "Suppose that you have some data $X_1,\\cdots,X_n \\sim Normal(\\mu, \\sigma^2)$ where both $\\mu$ and $\\sigma^2$ are unknown constant we must estimate. (By the way, lots of things in the real world are roughly Normal, so this scenario happens A LOT!). \n",
    "\n",
    "<br>\n",
    "You collect the following data:\n",
    "\n",
    "$$3.31 \\quad 0.3 \\quad   2.13 \\quad  -0.29 \\quad   5.82 \\quad   6.64 \\quad   4.47 \\quad   3.13 \\quad   5.38 \\quad   5.11$$\n",
    "<br>\n",
    "\n",
    "Now, using the MOM procedure as you did in the theory part of this homework, you figure out that \n",
    "\n",
    "$$\\mu_{MOM} = 3.6 \\qquad \\sigma^2_{MOM} = 4.89$$\n",
    "\n",
    "<br>\n",
    "Okay, next suppose that you must perform the following hypothesis test.\n",
    "\n",
    "$$H_{0}: \\mu = 2 \\qquad H_{1}: \\mu > 2$$\n",
    "\n",
    "<br>\n",
    "To figure this one out, you must first derive the distribution of $\\mu_{MOM}$. But since that's just an average, finding out the distribution is a piece of cake:\n",
    "\n",
    "$$\\mu_{MOM} = \\frac{X_1 + \\cdots + X_n}{n} \\sim Normal\\left(\\mu, \\frac{\\sigma^2}{n}\\right)$$\n",
    "\n",
    "<br>\n",
    "Great. All we have to do now is to use this distribution to compute the *p-value*, i.e., $P(\\mu_{MOM} > 3.6)$, right? We assume that $H_0$ is true, so that $\\mu = 2$...\n",
    "\n",
    "$$\\mu_{MOM} = \\frac{X_1 + \\cdots + X_n}{n} \\sim Normal\\left(2, \\frac{\\sigma^2?}{n}\\right)$$\n",
    "\n",
    "<br>\n",
    "But wait a moment: what's $\\sigma^2$? \n",
    "\n",
    "<br>\n",
    "It's definitely *not* $4.89$, because that's just our *guess*, and not the actual true value. The null hypothesis doesn't assume anything $\\sigma^2$ either. \n",
    "\n",
    "\n",
    "<br>\n",
    "You think: *Hm, yeah, but maybe we can just plug in $\\sigma^2_{MOM}$? Who's going to know?....*😈\n",
    "\n",
    "<br>\n",
    "As it turns out, this is **not** something you can get away with, but the correct procedure is not that hard. William Gosset figure it out for us in the early 1900s. As it turns out, even though the following object is standard Normal\n",
    "\n",
    "$$\\frac{\\mu_{MOM} - \\mu}{\\sqrt{\\frac{\\sigma^2}{n}}} \\sim Normal(0, 1)$$\n",
    "\n",
    "when we plug in our guess $\\sigma_{MOM}$ instead of the unknown $\\sigma$, we get something that has the **t-distribution with n-1 degrees of freedom**\n",
    "\n",
    "$$\\frac{\\mu_{MOM} - \\mu}{\\sqrt{\\frac{\\sigma_{MOM}^2}{n}}} \\sim t_{n-1}$$"
   ]
  },
  {
   "cell_type": "markdown",
   "metadata": {},
   "source": [
    "---"
   ]
  },
  {
   "cell_type": "markdown",
   "metadata": {},
   "source": [
    "The purpose of this exercise is to get you acquainted with the $t$ distribution. The code below computes two objects.\n",
    "\n",
    "$$Z_1 = \\frac{\\mu_{MOM} - \\mu}{\\sqrt{\\frac{\\sigma_{MOM}^2}{n}}} \\qquad \\qquad Z_2 = \\frac{\\mu_{MOM} - \\mu}{\\sqrt{\\frac{\\sigma^2}{n}}}$$\n",
    "\n",
    "and plots their histogram.\n"
   ]
  },
  {
   "cell_type": "code",
   "execution_count": 2,
   "metadata": {
    "collapsed": false,
    "run_control": {
     "frozen": false,
     "read_only": false
    }
   },
   "outputs": [],
   "source": [
    "n_sims = 1000\n",
    "n = 3      # Try small and large values of n!\n",
    "\n",
    "mu = 3     # We're assuming this is the true, unknown mean    \n",
    "sigma = 2  # We're assuming this is the true, unknown (but constant!) variance \n",
    "\n",
    "zs1 = []\n",
    "zs2 = []\n",
    "\n",
    "for i in range(n_sims):\n",
    "    xs = ss.norm(mu, sigma).rvs(n)\n",
    "    mu_mom = np.mean(xs)\n",
    "    sigma_mom = np.std(xs)\n",
    "    z1 = (mu_mom - mu)/np.sqrt(sigma_mom/n)   # Using sigma_mom\n",
    "    z2 = (mu_mom - mu)/np.sqrt(sigma/n)       # Using the true sigma\n",
    "    zs1 = zs1 + [z1]\n",
    "    zs2 = zs2 + [z2]"
   ]
  },
  {
   "cell_type": "code",
   "execution_count": 3,
   "metadata": {
    "collapsed": false,
    "run_control": {
     "frozen": false,
     "read_only": false
    }
   },
   "outputs": [
    {
     "data": {
      "image/png": "[encoded data removed]",
      "text/plain": [
       "<matplotlib.figure.Figure at 0x1076fbb38>"
      ]
     },
     "metadata": {},
     "output_type": "display_data"
    }
   ],
   "source": [
    "fig, ax = plt.subplots(1, figsize = (8, 6))\n",
    "ax.hist(zs1, bins = 40, color = \"blue\", alpha = 0.3, label = \"$Z_1$ (Student-t)\", normed = True);\n",
    "ax.hist(zs2, bins = 40, color = \"green\", alpha = 0.3, label = \"$Z_2$ (Normal)\", normed = True);\n",
    "ax.set_title(\"Normal vs. Student-t\", fontsize = 20);\n",
    "ax.legend(fontsize = 20);"
   ]
  },
  {
   "cell_type": "markdown",
   "metadata": {},
   "source": [
    "1) Change the code above and investigate how the two distributions differ when $n$ is low (2-5) versus when it is high (say 50-100). In particular, answer the following:\n",
    "\n",
    "+ Which distribution is more spread out, and which one is more concentrated near the mean?\n",
    "\n",
    "+ What happens to the distributions as $n$ increases?"
   ]
  },
  {
   "cell_type": "markdown",
   "metadata": {
    "collapsed": true,
    "run_control": {
     "frozen": false,
     "read_only": false
    }
   },
   "source": [
    "<font color=\"blue\">\n",
    "\n",
    "The $t$ distribution is *always* more spread out than the stanard normal. \n",
    "\n",
    "<bR><br>\n",
    "\n",
    "Intuitively, it captures the extra uncertainty that arises because we have to estimate the variance as well as the mean.\n",
    "\n",
    "<br><br>\n",
    "However, as $n$ increases, the tails of the $t_{n-1}$ distribution get thinner and the whole distribution, overall, converges to the standard Normal.\n",
    "\n",
    "</font>"
   ]
  },
  {
   "cell_type": "markdown",
   "metadata": {},
   "source": [
    "2) Compute the p-values associated with the test above in two different ways: first using `scipy.stats.t(df = n-1)` and then \"incorrectly\" using `scipy.stats.norm(0,1)`. Which one p-value is larger? Is that always going to be the case?"
   ]
  },
  {
   "cell_type": "markdown",
   "metadata": {},
   "source": [
    "<font color=\"blue\">\n",
    "\n",
    "Assuming that $H_0$ is true, so $\\mu = 2$.\n",
    "<br><br>\n",
    "\n",
    "$pvalue = P(\\mu_{MOM} > 3.6)$<br><br>\n",
    "\n",
    "$\\qquad \\ \\ = 1 - P(\\mu_{MOM} \\leq 3.6)$ <br><br>\n",
    "\n",
    "$\\qquad \\ \\ = P\\left(\\frac{\\mu_{MOM} - 2}{\\sqrt{\\frac{4.89}{10}}} \\leq \\frac{3.6 - 2}{\\sqrt{\\frac{4.89}{10}}} \\right)$<br>\n",
    "\n",
    "<br><br>\n",
    "\n",
    "Now we're ready to go to Python.\n",
    "</font>\n"
   ]
  },
  {
   "cell_type": "code",
   "execution_count": 10,
   "metadata": {
    "collapsed": false
   },
   "outputs": [
    {
     "name": "stdout",
     "output_type": "stream",
     "text": [
      "p-value using the Normal(0,1) distribution: \t0.0110672982601\n",
      "p-value using the t_[n-1] distribution: \t0.0239636360038\n"
     ]
    }
   ],
   "source": [
    "# Assuming \"incorrectly\" that 4.89 is the true variance\n",
    "n = 10\n",
    "dist = ss.norm(0, 1)\n",
    "pvalue1 = 1 - dist.cdf((3.6 - 2)/np.sqrt(4.89/10))\n",
    "print(\"p-value using the Normal(0,1) distribution: \\t\" + str(pvalue1))\n",
    "\n",
    "n = 10\n",
    "dist = ss.t(df = n-1)\n",
    "pvalue2 = 1 - dist.cdf((3.6 - 2)/np.sqrt(4.89/10))\n",
    "print(\"p-value using the t_[n-1] distribution: \\t\" + str(pvalue2))"
   ]
  },
  {
   "cell_type": "markdown",
   "metadata": {},
   "source": [
    "<font color=\"blue\">\n",
    "We see that the p-value that uses the $t$ distribution is larger. This will always be the case, because the $t$ distribution has fatter tails.\n",
    "\n",
    "<br><br>\n",
    "\n",
    "The upshot is that we're less likely to reject the null hypothesis, and therefore more conservative.\n",
    "</font>"
   ]
  }
 ],
 "metadata": {
  "anaconda-cloud": {},
  "kernelspec": {
   "display_name": "Python [default]",
   "language": "python",
   "name": "python3"
  },
  "language_info": {
   "codemirror_mode": {
    "name": "ipython",
    "version": 3
   },
   "file_extension": ".py",
   "mimetype": "text/x-python",
   "name": "python",
   "nbconvert_exporter": "python",
   "pygments_lexer": "ipython3",
   "version": "3.5.2"
  }
 },
 "nbformat": 4,
 "nbformat_minor": 0
}
