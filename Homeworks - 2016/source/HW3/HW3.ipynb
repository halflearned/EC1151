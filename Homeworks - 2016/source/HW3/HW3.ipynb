{
 "cells": [
  {
   "cell_type": "markdown",
   "metadata": {
    "run_control": {
     "frozen": false,
     "read_only": false
    }
   },
   "source": [
    "**Student names and BC usernames [Up to 3 students]**"
   ]
  },
  {
   "cell_type": "markdown",
   "metadata": {},
   "source": []
  },
  {
   "cell_type": "markdown",
   "metadata": {},
   "source": [
    "# <font face = \"times\"><center>  EC1151 - Homework 3 - Conditional Probability - Due Feb 13th"
   ]
  },
  {
   "cell_type": "markdown",
   "metadata": {},
   "source": [
    "<font face=\"times\">\n",
    "# Instructions\n",
    "<br>\n",
    "\n",
    "+ You must fill out this Jupyter notebook and return it by e-mail to baisihad@bc.edu\n",
    "\n",
    "+ Double click on the cells to edit them\n",
    "\n",
    "+ For questions that need mathematical notation, try to use $\\LaTeX$ if you can.\n",
    "\n",
    "+ Sometimes, below a question that requires an answer there will be a cell with several `assert` statements. If you can run that cell without generating error, your answer has been validated and you are guaranteed the points.\n",
    "\n",
    "+ If you're stuck, try posting a question in the Piazza forum. Active contributors will be rewarded."
   ]
  },
  {
   "cell_type": "markdown",
   "metadata": {},
   "source": [
    "# <font face = \"times\">Theory (65 points)"
   ]
  },
  {
   "cell_type": "markdown",
   "metadata": {},
   "source": [
    "<font face=\"times\">\n",
    "### Conditional probability"
   ]
  },
  {
   "cell_type": "markdown",
   "metadata": {},
   "source": [
    "<font face=\"times\">\n",
    "<b>Q1)</b> Suppose that $A$ and $B$ are events with $P(A) = \\frac{1}{2}$, $P(B) = \\frac{1}{3}$ and $P(A \\cap B) = \\frac{1}{5}$. Using the conditional probability formula, find:\n",
    "\n",
    "+ a) $P(A|B)$ <br>\n",
    "\n",
    "+ b) $P(B|A)$\n",
    "\n",
    "+ c) $P(A^c | B)$\n",
    "\n",
    "+ d) $P(B^c | A)$\n",
    "\n",
    "+ e) $P(A^c | B^c)$"
   ]
  },
  {
   "cell_type": "markdown",
   "metadata": {
    "nbgrader": {
     "grade": true,
     "grade_id": "q1",
     "locked": false,
     "points": 5,
     "solution": true
    }
   },
   "source": []
  },
  {
   "cell_type": "markdown",
   "metadata": {},
   "source": [
    "<font face=\"times\">\n",
    "<b>Q2)</b> Consider the experiment that consists of rolling two fair dice colored black and white.\n",
    "\n",
    "For each of the following pairs of events $(A,B)$, find the probability of each event and the conditional probability of each event given the other: $P(A), P(B), P(A|B)$ and $P(B|A)$. Also, answer whether the events are dependent or independent.\n",
    "\n",
    "<br>\n",
    "<ol type=\"a\">\n",
    "<li> $A$ white die is <font size=5>&#9856;</font>, $B$: sum is $5$\n",
    "\n",
    "<li> $A$ white die is <font size=5>&#9858;</font>, $B$: black is <font size=5>&#9858;</font>\n",
    "<li> $A$ sum is $7$, $B$: white die is <font size=5>&#9858;</font> (Note I said <i>white</i> die, not <i>one of the dice</i>!)\n",
    "<li> $A$: of the two rolls, the smallest one is <font size=5>&#9857;</font>, $B:$ black die is <font size=5>&#9860;</font>\n",
    "<li> $A$: of the two rolls, the smallest one is <i>at least</i> <font size=5>&#9857;</font>, $B:$ black die is <font size=5>&#9860;</font>\n",
    "</ol>\n",
    "\n",
    "\n",
    "&#9861;"
   ]
  },
  {
   "cell_type": "markdown",
   "metadata": {
    "nbgrader": {
     "grade": true,
     "grade_id": "q2",
     "locked": false,
     "points": 10,
     "solution": true
    }
   },
   "source": []
  },
  {
   "cell_type": "markdown",
   "metadata": {},
   "source": [
    "<font face=\"times\">\n",
    "<b>Q3)</b> A company has 400 employees: 250 are women and 150 are men. Of the 250 female employees, 60 are classified as managers, while 40 of the 150 male employees are managers. Suppose that an employee is chosen at random.\n",
    "\n",
    "If you learn that the chosen employee is a manager, does that make the employee more or less likely to be a man, or are gender and rank independent? Try to answer this being as rigorous as you can: define the relevant events, and try to use the definition of conditional probability."
   ]
  },
  {
   "cell_type": "markdown",
   "metadata": {
    "nbgrader": {
     "grade": true,
     "grade_id": "q3",
     "locked": false,
     "points": 5,
     "solution": true
    }
   },
   "source": []
  },
  {
   "cell_type": "markdown",
   "metadata": {},
   "source": [
    "<font face=\"times\">\n",
    "<b>Q4)</b> Consider the following probability table, similar to the one we have seen in class. Let $A,B,C,D$ denote events of getting such grade, and $High$, $Low$ the events of having such level of IQ.\n",
    "\n",
    "<img src=\"cpt.png\", width = 200>\n",
    "\n",
    "+ a) What is $P(A)$? \n",
    "\n",
    "+ b) What are $P(High)$ and $P(Low)$?\n",
    "\n",
    "+ c) What is $P(High \\cap B)$?\n",
    "\n",
    "+ d) What is $P(High \\ | \\ B)$?\n",
    "\n",
    "+ e) What is $P(B \\ | \\ High)$?\n",
    "\n"
   ]
  },
  {
   "cell_type": "markdown",
   "metadata": {
    "nbgrader": {
     "grade": true,
     "grade_id": "q4",
     "locked": false,
     "points": 5,
     "solution": true
    }
   },
   "source": []
  },
  {
   "cell_type": "markdown",
   "metadata": {},
   "source": [
    "<font face=\"times\">\n",
    "<b>Q5)</b> Suppose that a bag contains 20 coins: 10 are fair, and 10 are double-headed.  A coin is chosen at random from the bag and tossed. Find the probability that the coin is heads.\n",
    "\n",
    "<b>Hint</b> There are three relevant events here. $A$: the coin is fair; $B$: the coin is double-headed; and $C$: the coin lands Heads. In terms of these events, what are you looking for? It might also help to draw a Venn diagram, or a tree."
   ]
  },
  {
   "cell_type": "markdown",
   "metadata": {
    "nbgrader": {
     "grade": true,
     "grade_id": "q5",
     "locked": false,
     "points": 10,
     "solution": true
    }
   },
   "source": []
  },
  {
   "cell_type": "markdown",
   "metadata": {},
   "source": [
    "<font face=\"times\">\n",
    "<b>Q6)</b> Two balls are randomly drawn (without replacing them back) from a bag containing\n",
    "10 red and 5 blue balls. \n",
    "\n",
    "What is the probability that\n",
    "\n",
    "+ Both balls are red?\n",
    "\n",
    "+ The first ball is red and the second blue?\n",
    "\n",
    "+ One ball is red and the other blue, regardless of the order we drew them?\n"
   ]
  },
  {
   "cell_type": "markdown",
   "metadata": {
    "nbgrader": {
     "grade": true,
     "grade_id": "q6",
     "locked": false,
     "points": 10,
     "solution": true
    }
   },
   "source": []
  },
  {
   "cell_type": "markdown",
   "metadata": {},
   "source": [
    "<font face=\"times\">\n",
    "<b>Q7)</b> [This question and its variations are famous for coming up in job interviews. Take your time, and try to solve it using conditional probability]\n",
    "\n",
    "My $n$ friends came to my party and gave me their coats as they arrived. When it was time to leave, my friends lined up to get their coats back, but as we were all very drunk, I could only handed them back *some* coat, at random, without checking if it was really theirs.\n",
    "\n",
    "<br>\n",
    "Let $X_1$ be the event that the first guest in line correctly got their own coat, and similarly let $X_2, \\cdots, X_k, \\cdots, X_n$ be the event that the $k^{th}$ guest in line got their own coat.\n",
    "<br><br>\n",
    "\n",
    "Answer the following:\n",
    "\n",
    "a) What is $P(X_1)$? (Explain in words what this is referring to, and then compute a number)\n",
    "\n",
    "b) What is $P(X_2 | X_1)$? (Explain in words what this is referring to, and then compute a number)\n",
    "\n",
    "c) Are $X_1$ and $X_2$ independent events? \n",
    "\n",
    "d) What is $P(X_2)$? \n",
    "\n",
    "e) In general, what is $P(X_k)$ for a given $k$?"
   ]
  },
  {
   "cell_type": "markdown",
   "metadata": {
    "nbgrader": {
     "grade": true,
     "grade_id": "q7",
     "locked": false,
     "points": 10,
     "solution": true
    }
   },
   "source": []
  },
  {
   "cell_type": "markdown",
   "metadata": {},
   "source": [
    "<font face=\"times\">\n",
    "<b>Q8)</b>  [Another classic from job interviews]\n",
    "\n",
    "A deck contains forty cards, of which ten are red, ten blue, ten green and ten purple. \n",
    "\n",
    "If you pick four cards at random (without replacing them back to the deck) what is the probability that they will all be of different colors?\n",
    "\n",
    "<b>Some Hints</b>\n",
    "\n",
    "1. Let $B,G,P,R$ be the event of picking *one* card of that color ($B$ for blue, $G$ for green, etc).\n",
    "\n",
    "2. Just like you can decompose the probability of two events as $P(A\\cap B) = P(A|B) \\cdot P(B)$, you can also decompose the probability of many events as \n",
    "\n",
    "$$P(A \\cap B \\cap C \\cap D) = P(A |  B \\cap C \\cap D)\\cdot P(B |C \\cap D) \\cdot P(C|D) \\cdot P(D)$$\n",
    "\n"
   ]
  },
  {
   "cell_type": "markdown",
   "metadata": {
    "nbgrader": {
     "grade": true,
     "grade_id": "q8",
     "locked": false,
     "points": 10,
     "solution": true
    }
   },
   "source": [
    "---"
   ]
  },
  {
   "cell_type": "markdown",
   "metadata": {
    "collapsed": true,
    "run_control": {
     "frozen": false,
     "read_only": false
    }
   },
   "source": [
    "<font face=\"times\">\n",
    "# Programming Practice 3: Lists and loops"
   ]
  },
  {
   "cell_type": "markdown",
   "metadata": {
    "collapsed": true,
    "run_control": {
     "frozen": false,
     "read_only": false
    }
   },
   "source": [
    "<font face=\"times\">\n",
    "<b>Q9)</b> Create the following list:\n",
    "\n",
    "```python\n",
    "xs = [\"word\", 1, [3.14, 2017]]\n",
    "```\n",
    "\n",
    "Then write code that will:\n",
    "\n",
    "+ Extract the first item (the string) and store in a variable `s`.\n",
    "\n",
    "+ Extract the second item (the `int`) and store in a variable `i`.\n",
    "\n",
    "+ Extract the second element of the nested list and store it in a variable `x`."
   ]
  },
  {
   "cell_type": "code",
   "execution_count": null,
   "metadata": {
    "collapsed": true,
    "nbgrader": {
     "grade": true,
     "grade_id": "q9",
     "locked": false,
     "points": 5,
     "solution": true
    },
    "run_control": {
     "frozen": false,
     "read_only": false
    }
   },
   "outputs": [],
   "source": []
  },
  {
   "cell_type": "markdown",
   "metadata": {},
   "source": [
    "<font face=\"times\">\n",
    "<b>Q10)</b> Write code that `print`s all odd numbers from 7 to 21 (inclusive)."
   ]
  },
  {
   "cell_type": "code",
   "execution_count": null,
   "metadata": {
    "collapsed": true,
    "nbgrader": {
     "grade": true,
     "grade_id": "q10",
     "locked": false,
     "points": 10,
     "solution": true
    },
    "run_control": {
     "frozen": false,
     "read_only": false
    }
   },
   "outputs": [],
   "source": []
  },
  {
   "cell_type": "markdown",
   "metadata": {},
   "source": [
    "<font face=\"times\">\n",
    "<b>Q11)</b> Using a `for` loop where appropriate, write code that produces this letter. (<a href=\"https://en.wikipedia.org/wiki/ASCII_art\">ASCII art</a>)\n",
    "\n",
    "```\n",
    " *                                                                      \n",
    " *                                                                      \n",
    " *                                                                      \n",
    " *                                                                      \n",
    " *                                                                      \n",
    " *                                                                      \n",
    " *****\n",
    "```"
   ]
  },
  {
   "cell_type": "code",
   "execution_count": null,
   "metadata": {
    "collapsed": true,
    "nbgrader": {
     "grade": true,
     "grade_id": "q11",
     "locked": false,
     "points": 10,
     "solution": true
    },
    "run_control": {
     "frozen": false,
     "read_only": false
    }
   },
   "outputs": [],
   "source": []
  },
  {
   "cell_type": "markdown",
   "metadata": {},
   "source": [
    "<font face=\"times\">\n",
    "<b>Q12)</b> Create the list\n",
    "\n",
    "```python\n",
    "xs = [\"a\", \"b\", \"c\", \"d\", \"e\", \"f\", \"g\", \"h\", \"i\", \"j\"]\n",
    "```\n",
    "\n",
    "and then `slice` with `:` it to produce three new lists, namely:\n",
    "\n",
    "+ `xs1` containing `[\"c\", \"d\", \"e\", \"f\"]`\n",
    "+ `xs2` containing `[\"a\", \"b\", \"c\", \"d\"]`\n",
    "+ `xs3` containing `[\"e\", \"f\", \"g\", \"h\", \"i\", \"j\"]`\n",
    "\n"
   ]
  },
  {
   "cell_type": "code",
   "execution_count": null,
   "metadata": {
    "collapsed": true,
    "nbgrader": {
     "grade": true,
     "grade_id": "q12",
     "locked": false,
     "points": 10,
     "solution": true
    },
    "run_control": {
     "frozen": false,
     "read_only": false
    }
   },
   "outputs": [],
   "source": []
  }
 ],
 "metadata": {
  "anaconda-cloud": {},
  "celltoolbar": "Create Assignment",
  "kernelspec": {
   "display_name": "Python [default]",
   "language": "python",
   "name": "python3"
  },
  "language_info": {
   "codemirror_mode": {
    "name": "ipython",
    "version": 3
   },
   "file_extension": ".py",
   "mimetype": "text/x-python",
   "name": "python",
   "nbconvert_exporter": "python",
   "pygments_lexer": "ipython3",
   "version": "3.5.2"
  }
 },
 "nbformat": 4,
 "nbformat_minor": 0
}
