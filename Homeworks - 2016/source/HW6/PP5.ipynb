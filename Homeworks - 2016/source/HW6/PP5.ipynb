{
 "cells": [
  {
   "cell_type": "markdown",
   "metadata": {},
   "source": [
    "**Student names and BC usernames**"
   ]
  },
  {
   "cell_type": "markdown",
   "metadata": {},
   "source": []
  },
  {
   "cell_type": "markdown",
   "metadata": {
    "run_control": {
     "frozen": false,
     "read_only": false
    }
   },
   "source": [
    "# <font face = \"times\"><center> Programming Practice 5 - Due March 13 with HW6</font> "
   ]
  },
  {
   "cell_type": "markdown",
   "metadata": {},
   "source": [
    "<font face=\"times\">\n",
    "# Instructions\n",
    "<br>\n",
    "\n",
    "+ You must fill out this Jupyter notebook and e-mail it to baisihad@bc.edu by midnight of the due date.\n",
    "\n",
    "+ For questions that need mathematical notation, try to use $\\LaTeX$ if you can.\n",
    "\n",
    "+ If you're stuck, try posting a question in the Piazza forum. Active contributors will be rewarded.\n",
    "\n"
   ]
  },
  {
   "cell_type": "markdown",
   "metadata": {},
   "source": [
    "<b>Q0) Importing packages</b>"
   ]
  },
  {
   "cell_type": "markdown",
   "metadata": {},
   "source": [
    "In the lines below, import the package `numpy` using alias `np`. We'll need it for the next questions.\n",
    "\n",
    "(Remember: you only need to import packages *once*)"
   ]
  },
  {
   "cell_type": "code",
   "execution_count": null,
   "metadata": {
    "collapsed": true,
    "run_control": {
     "frozen": false,
     "read_only": false
    }
   },
   "outputs": [],
   "source": []
  },
  {
   "cell_type": "markdown",
   "metadata": {},
   "source": [
    "<b>Q1) Cubing function</b> \n",
    "\n",
    "Write a function `cube` that takes an input and raises it to the third power.\n",
    "\n",
    "It should work like this\n",
    "```python\n",
    "y1 = cube(3)   # y1 is 27\n",
    "y2 = cube(-3)   # y2 is -27\n",
    "y3 = cube(0)   # y3 is 0\n",
    "```"
   ]
  },
  {
   "cell_type": "code",
   "execution_count": null,
   "metadata": {
    "collapsed": true,
    "run_control": {
     "frozen": false,
     "read_only": false
    }
   },
   "outputs": [],
   "source": []
  },
  {
   "cell_type": "markdown",
   "metadata": {},
   "source": [
    "<b>Q2) Cube cosine </b> \n",
    "\n",
    "Write a function `cube_cos` that:\n",
    "\n",
    "+  raises its input to the third power\n",
    "\n",
    "+ takes its cosine\n",
    "\n",
    "+ outputs it\n",
    "\n",
    "It should work like this\n",
    "```python\n",
    "y1 = cube_cos(3)   # y1 is -0.29213880873383619\n",
    "y2 = cube_cos(0)   # y2 is 1\n",
    "y3 = cube_cos(10)   # y3 is 0.56237907629070294\n",
    "```"
   ]
  },
  {
   "cell_type": "code",
   "execution_count": null,
   "metadata": {
    "collapsed": false,
    "run_control": {
     "frozen": false,
     "read_only": false
    }
   },
   "outputs": [],
   "source": []
  },
  {
   "cell_type": "markdown",
   "metadata": {},
   "source": [
    "<b>Q3) Even</b>\n",
    "\n",
    "Write a function `is_even` that takes an integer as input, and outputs a boolean value that is `True` is the input was even, and `False` otherwise.\n",
    "\n",
    "It should work like this\n",
    "\n",
    "```python\n",
    "y1 = is_even(2)   # y1 is True\n",
    "y2 = is_even(0)   # y2 is True\n",
    "y3 = is_even(1)   # y3 is False\n",
    "y4 = is_even(-1)   # y4 is False (We'll allow for negative integers as well)\n",
    "```"
   ]
  },
  {
   "cell_type": "code",
   "execution_count": null,
   "metadata": {
    "collapsed": true,
    "run_control": {
     "frozen": false,
     "read_only": false
    }
   },
   "outputs": [],
   "source": []
  },
  {
   "cell_type": "markdown",
   "metadata": {},
   "source": [
    "<b>Q4) Summup</b>\n",
    "\n",
    "Write a function called `summup` that takes a positive integer `n` and outputs the sum ups all integers from 1 up to `n`, including `n` itself.\n",
    "\n",
    "For practice, try to do it using a `for loop` like HW4Q9.\n",
    "\n",
    "It should work like this\n",
    "\n",
    "```python\n",
    "y0 = summup(0)   # y0 is 0\n",
    "y1 = summup(1)   # y1 is 1\n",
    "y2 = summup(2)   # y2 is 3\n",
    "y3 = summup(3)   # y3 is 6\n",
    "y4 = summup(4)   # y4 is 10\n",
    "y5 = summup(5)   # y5 is 15\n",
    "y6 = summup(6)   # y6 is 21\n",
    "y7 = summup(7)   # y7 is 28\n",
    "y8 = summup(8)   # y8 is 36\n",
    "y9 = summup(9)   # y9 is 45\n",
    "```"
   ]
  },
  {
   "cell_type": "code",
   "execution_count": null,
   "metadata": {
    "collapsed": true,
    "run_control": {
     "frozen": false,
     "read_only": false
    }
   },
   "outputs": [],
   "source": []
  }
 ],
 "metadata": {
  "anaconda-cloud": {},
  "kernelspec": {
   "display_name": "Python [default]",
   "language": "python",
   "name": "python3"
  },
  "language_info": {
   "codemirror_mode": {
    "name": "ipython",
    "version": 3
   },
   "file_extension": ".py",
   "mimetype": "text/x-python",
   "name": "python",
   "nbconvert_exporter": "python",
   "pygments_lexer": "ipython3",
   "version": "3.5.2"
  }
 },
 "nbformat": 4,
 "nbformat_minor": 0
}
