{
 "cells": [
  {
   "cell_type": "markdown",
   "metadata": {
    "run_control": {
     "frozen": false,
     "read_only": false
    }
   },
   "source": [
    "# HW9 Programming - Solutions"
   ]
  },
  {
   "cell_type": "markdown",
   "metadata": {},
   "source": [
    "Remark: We've completed parts 1 and 2 of Q1 in class on Wed, April 5th, as part of Programming Practice 7."
   ]
  },
  {
   "cell_type": "markdown",
   "metadata": {},
   "source": [
    "### Q0 Importing libraries"
   ]
  },
  {
   "cell_type": "markdown",
   "metadata": {},
   "source": [
    "As usual, today you'll need `scipy.stats` and `numpy`. Start by importing these two libraries with aliases `ss` and `np`, respectively."
   ]
  },
  {
   "cell_type": "code",
   "execution_count": 2,
   "metadata": {
    "collapsed": true,
    "run_control": {
     "frozen": false,
     "read_only": false
    }
   },
   "outputs": [],
   "source": [
    "import scipy.stats as ss\n",
    "import numpy as np"
   ]
  },
  {
   "cell_type": "markdown",
   "metadata": {},
   "source": [
    "### Q1 Dropping Bombs - Via Simulations"
   ]
  },
  {
   "cell_type": "markdown",
   "metadata": {},
   "source": [
    "In the previous homework, you found exact the solutions to the Dropping Bombs problem. This time, I'd like to solve the problems again, but using **simulations** instead."
   ]
  },
  {
   "cell_type": "markdown",
   "metadata": {},
   "source": [
    "<b>1)</b> An airplane is supposed to depart from its origin, fly East on a straight line, and then drop a bomb at a certain target located 20 miles away. However, the accuracy of the bomber is not perfect, so the position of the bomb attack can be represented by the random variable $X \\sim Normal(20, 1)$ -- that is, a Normally distributed rv with mean $20$ and *variance* $1$.\n",
    "\n",
    "Find out the probability that the bomb lands within 1km from its target, i.e., $P(19 \\leq X \\leq 21)$."
   ]
  },
  {
   "cell_type": "markdown",
   "metadata": {},
   "source": [
    "<b>Hint</b> To solve this via simulation, you must translate the following \"pseudo-code\" into Python."
   ]
  },
  {
   "cell_type": "markdown",
   "metadata": {},
   "source": [
    "Create a variable `total_drops` and assign a large number to it.\n",
    "\n",
    "Create a variable `total_hits` and assign to it the value 0.\n",
    "\n",
    "Initialize the distribution `scipy.normal.norm` with mean `20` and standard deviation `1`.\n",
    "\n",
    "Repeat the following `total_drops` times:\n",
    "\n",
    "> Draw a bomb position from Normal(20, 1) and store it in a variable `x`\n",
    "\n",
    "> If `x` is larger than 19 and smaller than 21, then:\n",
    "\n",
    "> > Increase `total_hits` by `1`\n",
    "\n",
    "Compute `avg = total_hits/total_drops`"
   ]
  },
  {
   "cell_type": "markdown",
   "metadata": {},
   "source": [
    "<b>Remark</b> There are slightly different ways of doing the same thing (in class, we did something just a little different, for example). As long as you get to the correct answer in the end, any method is acceptable. The variable names can also be changed to whatever you find easiest to reason about."
   ]
  },
  {
   "cell_type": "code",
   "execution_count": 3,
   "metadata": {
    "collapsed": true,
    "run_control": {
     "frozen": false,
     "read_only": false
    }
   },
   "outputs": [],
   "source": [
    "total_drops = 1000\n",
    "total_hits = 0\n",
    "dist = ss.norm(20,1)\n",
    "\n",
    "for i in range(total_drops):\n",
    "\n",
    "    x = dist.rvs(1)\n",
    "\n",
    "    if 19 < x < 21:          # x > 19 and x < 21  <-- also acceptable (and preferred, according to some.)\n",
    "        total_hits +=1       # Hey, what does this do? Learn this trick.\n",
    "\n",
    "avg = total_hits/total_drops"
   ]
  },
  {
   "cell_type": "markdown",
   "metadata": {},
   "source": [
    "<b>2)</b> Let $D$ be the a random variable representing the *squared distance* from the target, i.e., $D = (X - 20)^2$. Find out $P(D \\leq 2)$."
   ]
  },
  {
   "cell_type": "markdown",
   "metadata": {},
   "source": [
    "<b>Hint</b> To solve this via simulation, you must translate the following \"pseudo-code\" into Python.\n",
    "\n",
    "Create a variable `total_drops` and assign a large number to it.\n",
    "\n",
    "Create a variable `successes` and assign to it the value 0.\n",
    "\n",
    "Initialize the distribution `scipy.normal.norm` with mean `20` and standard deviation `1`.\n",
    "\n",
    "Repeat the following `total_drops` times:\n",
    "\n",
    "> Draw a bomb position from Normal(20, 1) and store it in a variable `x`\n",
    "\n",
    "> If `(x - 20)**2` is smaller than 2, then:\n",
    "\n",
    "> > Increase `successes` by `1`\n",
    "\n",
    "Compute `avg = successes/total_drops`"
   ]
  },
  {
   "cell_type": "code",
   "execution_count": 4,
   "metadata": {
    "collapsed": true,
    "run_control": {
     "frozen": false,
     "read_only": false
    }
   },
   "outputs": [],
   "source": [
    "total_drops = 1000\n",
    "successes = 0\n",
    "dist = ss.norm(20,1)\n",
    "\n",
    "for i in range(total_drops):\n",
    "\n",
    "    x = dist.rvs(1)\n",
    "    \n",
    "    if (x-20)**2 < 2:\n",
    "        \n",
    "        successes += 1 \n",
    "\n",
    "avg = successes/total_drops"
   ]
  },
  {
   "cell_type": "markdown",
   "metadata": {},
   "source": [
    "<b>3)</b>  Now let's make the problem just slightly more realistic by putting the target on a two-dimensional plane. This time, the target is at coordinate $(20,20)$, and both the $X$ and $Y$ coordinates are Normally distributed: $X, Y \\sim Normal(20, 2)$ and they are *independent*. \n",
    "\n",
    "Find out the probability that that bomb lands inside a box of side 2km by 2km, centered at the target , like below.\n"
   ]
  },
  {
   "cell_type": "markdown",
   "metadata": {},
   "source": [
    "<b>Hint</b> To solve this via simulation, you must translate the following \"pseudo-code\" into Python.\n",
    "\n",
    "Create a variable `total_drops` and assign a large number to it.\n",
    "\n",
    "Create a variable `successes` and assign to it the value 0.\n",
    "\n",
    "Initialize the distribution `scipy.normal.norm` with mean `20` and standard deviation `1`.\n",
    "\n",
    "Repeat the following `total_drops` times:\n",
    "\n",
    "> Draw a bomb position from Normal(20, 1) and store it in a variable `x` (this is our first coordinate)\n",
    "\n",
    "> Draw another bomb position from Normal(20, 1) and store it in a variable `y` (this is our second coordinate)\n",
    "\n",
    "\n",
    "> If 19 < x < 21 and 19 < y < 21:\n",
    "\n",
    "> > Increase `successes` by `1`\n",
    "\n",
    "Compute `avg = successes/total_drops`"
   ]
  },
  {
   "cell_type": "code",
   "execution_count": 8,
   "metadata": {
    "collapsed": true,
    "run_control": {
     "frozen": false,
     "read_only": false
    }
   },
   "outputs": [],
   "source": [
    "total_drops = 1000\n",
    "successes = 0\n",
    "dist = ss.norm(20,1)\n",
    "\n",
    "for i in range(total_drops):\n",
    "    x = dist.rvs(1)\n",
    "    y = dist.rvs(1)\n",
    "    if 19 < x < 21 and 19 < y < 21:\n",
    "        successes += 1\n",
    "\n",
    "avg = successes/total_drops"
   ]
  }
 ],
 "metadata": {
  "anaconda-cloud": {},
  "kernelspec": {
   "display_name": "Python [default]",
   "language": "python",
   "name": "python3"
  },
  "language_info": {
   "codemirror_mode": {
    "name": "ipython",
    "version": 3
   },
   "file_extension": ".py",
   "mimetype": "text/x-python",
   "name": "python",
   "nbconvert_exporter": "python",
   "pygments_lexer": "ipython3",
   "version": "3.5.2"
  }
 },
 "nbformat": 4,
 "nbformat_minor": 0
}
